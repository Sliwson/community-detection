{
 "cells": [
  {
   "cell_type": "code",
   "execution_count": null,
   "metadata": {},
   "outputs": [],
   "source": [
    "%run visualisation.ipynb\n",
    "%run read_graph.ipynb\n",
    "%run common.ipynb\n",
    "\n",
    "def assign_random_communities(graph, max_idx, max_count):\n",
    "    for v in graph.vs:\n",
    "        count = random.randint(0, max_count)\n",
    "        v[\"communities\"] = []\n",
    "        for i in range(count):\n",
    "            v[\"communities\"].append(random.randint(0, max_idx))\n",
    "    "
   ]
  },
  {
   "cell_type": "markdown",
   "metadata": {},
   "source": [
    "## NBA sample"
   ]
  },
  {
   "cell_type": "code",
   "execution_count": null,
   "metadata": {},
   "outputs": [],
   "source": [
    "g = read_nba_full(\"../Data/Basketball/Players.csv\",\n",
    "                  \"../Data/Basketball/Edges.csv\",\n",
    "                  True, True)\n",
    "\n",
    "assign_random_communities(g, 10, 3)\n",
    "    \n",
    "plot_bfs(g, 0, 2, \"nba_bfs_2.svg\", 1)\n",
    "\n",
    "subgraph = get_bfs(g, 0, 2)\n",
    "plot_full(subgraph, 'nba_bfs_2_test.svg', 1)"
   ]
  },
  {
   "cell_type": "markdown",
   "metadata": {},
   "source": [
    "## Filmweb sample"
   ]
  },
  {
   "cell_type": "code",
   "execution_count": null,
   "metadata": {},
   "outputs": [],
   "source": [
    "g = read_filmweb_full(\"../Data/Filmweb/allActors.csv\",\n",
    "                      \"../Data/Filmweb/allActorsRelation.csv\",\n",
    "                      True, True, False)\n",
    "\n",
    "assign_random_communities(g, 10, 3)\n",
    "\n",
    "plot_bfs(g, 0, 2, \"filmweb_bfs_2.svg\", 2)"
   ]
  },
  {
   "cell_type": "markdown",
   "metadata": {},
   "source": [
    "## Github sample"
   ]
  },
  {
   "cell_type": "code",
   "execution_count": null,
   "metadata": {},
   "outputs": [],
   "source": [
    "g = read_github_full(\"../Data/Github/nodes_wzab.csv\", \"../Data/Github/edges_wzab.csv\", True)\n",
    "assign_random_communities(g, 10, 3)\n",
    "\n",
    "plot_bfs(g, 0, 5, \"github_wzab.svg\", 2)"
   ]
  }
 ],
 "metadata": {
  "kernelspec": {
   "display_name": "Python 3",
   "language": "python",
   "name": "python3"
  },
  "language_info": {
   "codemirror_mode": {
    "name": "ipython",
    "version": 3
   },
   "file_extension": ".py",
   "mimetype": "text/x-python",
   "name": "python",
   "nbconvert_exporter": "python",
   "pygments_lexer": "ipython3",
   "version": "3.6.9"
  }
 },
 "nbformat": 4,
 "nbformat_minor": 2
}
