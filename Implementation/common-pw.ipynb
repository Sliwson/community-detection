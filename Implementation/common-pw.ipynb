{
 "cells": [
  {
   "cell_type": "code",
   "execution_count": null,
   "metadata": {},
   "outputs": [],
   "source": [
    "%run Louvain/Louvain_algorithm.ipynb\n",
    "%run visualisation.ipynb\n",
    "%run read_graph.ipynb"
   ]
  },
  {
   "cell_type": "code",
   "execution_count": null,
   "metadata": {},
   "outputs": [],
   "source": [
    "def find_overlapping_communities(g,ov,n):\n",
    "    original_table = louvain_algorithm(g) \n",
    "    original_table = rearrange_communties(original_table)\n",
    "    for v in g.vs:\n",
    "            v[\"communities\"] = []\n",
    "            v[\"communities\"].append(original_table[v.index]+1)\n",
    "    plot_full(g, \"fulloriginal.svg\")\n",
    "    community_count = len(set(original_table))\n",
    "    belonging_table = [[0]*community_count for i in range(g.vcount())]\n",
    "    update_community_matrix(g,belonging_table,original_table)\n",
    "\n",
    "    for x in range(n):\n",
    "        new_table = louvain_algorithm(g)\n",
    "        new_table = assign_communities(original_table,new_table)\n",
    "        update_community_matrix(g,belonging_table,new_table)\n",
    "    divide_into_communities(g,ov,belonging_table)\n",
    "\n",
    "    plot_full(g, \"full.svg\")\n",
    "    return belonging_table"
   ]
  },
  {
   "cell_type": "code",
   "execution_count": null,
   "metadata": {},
   "outputs": [],
   "source": [
    "def nicosia_modularity(g,belonging_table):\n",
    "    m = get_weight_sum(g)\n",
    "    length = len(belonging_table[0])\n",
    "    table = [[0 for x in range(g.vcount())] for y in range(length)] \n",
    "    for i in range(length):\n",
    "        for j in range(g.vcount()):\n",
    "            table[i][j]= calculate_beta(g,belonging_table,j,i)\n",
    "\n",
    "    summ=0\n",
    "    for k in range(length):\n",
    "        for i in range(g.vcount()):\n",
    "            ki_out = get_weighted_degree_out(g,i)\n",
    "            for j in range(g.vcount()):\n",
    "                kj_in =  get_weighted_degree_in(g,j)\n",
    "\n",
    "                summ+= g[i,j]*belonging_function(belonging_table[i][k],belonging_table[j][k]) - table[k][i]*table[k][j]*ki_out*kj_in/m\n",
    "    summ = summ/m\n",
    "\n",
    "    return summ"
   ]
  },
  {
   "cell_type": "code",
   "execution_count": null,
   "metadata": {},
   "outputs": [],
   "source": [
    "def calculate_beta(g,table,v,k):\n",
    "    vsum=0\n",
    "    for x in range(g.vcount()):\n",
    "        vsum += belonging_function(table[x][k],table[v][k])\n",
    "    return vsum/g.vcount()"
   ]
  },
  {
   "cell_type": "code",
   "execution_count": null,
   "metadata": {},
   "outputs": [],
   "source": [
    "def belonging_function(coef1,coef2):\n",
    "    return 1/( (1+math.exp(-x_func(coef1)))*(1+math.exp(-x_func(coef2))) )"
   ]
  },
  {
   "cell_type": "code",
   "execution_count": null,
   "metadata": {},
   "outputs": [],
   "source": [
    "print(belonging_function(1,1))"
   ]
  },
  {
   "cell_type": "code",
   "execution_count": null,
   "metadata": {},
   "outputs": [],
   "source": [
    "def x_func(x):\n",
    "    return 2*x -1"
   ]
  },
  {
   "cell_type": "code",
   "execution_count": null,
   "metadata": {},
   "outputs": [],
   "source": [
    "g = Graph()\n",
    "g.add_vertices(10)\n",
    "g.add_edges([(0,4), (0,3),(0,2),(0,1),(1,3),(1,2),(1,5),(2,3),(2,4),(3,5),(4,5),(4,6),(4,8),(5,7),(5,9),(6,7),(6,8),(6,9),(7,8),(7,9),(8,9)])\n",
    "g.es[\"weight\"] = [1,1,1,1,1,1,1,1,1,1,1,1,1,1,1,1,1,1,1,1,1]"
   ]
  },
  {
   "cell_type": "code",
   "execution_count": null,
   "metadata": {},
   "outputs": [],
   "source": [
    "g = Graph()\n",
    "g.add_vertices(16)\n",
    "g.add_edges([(0,2), (0,3),(0,5),(1,2),(1,4),(1,7),(2,4),(2,5),(3,7),(4,10),(5,7),(5,11),(6,7),(6,11),(8,9),(8,11),(8,15),(8,14),(9,14),(9,12),(10,11),(10,12),(10,13),(10,14),(11,13)])\n",
    "g.es[\"weight\"] = [1,1,1,1,1,1,1,1,1,1,1,1,1,1,1,1,1,1,1,1,1,1,1,1,1]"
   ]
  },
  {
   "cell_type": "code",
   "execution_count": null,
   "metadata": {},
   "outputs": [],
   "source": [
    "g = Graph()\n",
    "g.add_vertices(10)\n",
    "g.add_edges([(0,1), (1,2),(2,3),(3,4),(4,5),(5,6),(6,7),(7,8),(8,9)])\n",
    "g.es[\"weight\"] = [1,1,1,1,1,1,1,1,1,1]\n"
   ]
  },
  {
   "cell_type": "code",
   "execution_count": null,
   "metadata": {},
   "outputs": [],
   "source": [
    "g=Graph()\n",
    "g.add_vertices(39)\n",
    "g.add_edges([(0,1),(3,4),(6,7),(8,9),(9,10),(10,11),(10,12),(11,12),(10,13),(13,14),(14,15),(15,16),(14,17),(14,18),(14,19),(19,20),(20,21),(21,22),(22,23),(22,24),(23,24),(24,25),(25,26),(24,26),(24,27),(27,28),(28,29),(29,18),(28,30),(30,31),(31,32),(31,22),(31,33),(33,34),(34,35)])\n",
    "g.es[\"weight\"] = [3,1,1,1,1,1,1,1,1,1,1,1,1,1,1,1,1,1,1,1,1,1,1,1,1,1,1,1,1,1,1,1,1,1,1]\n"
   ]
  },
  {
   "cell_type": "code",
   "execution_count": null,
   "metadata": {},
   "outputs": [],
   "source": [
    "g = read_nba_full(\"../Data/Basketball/Players.csv\",\n",
    "                  \"../Data/Basketball/Edges.csv\",\n",
    "                  True, True)"
   ]
  },
  {
   "cell_type": "code",
   "execution_count": null,
   "metadata": {},
   "outputs": [],
   "source": [
    "all11_20 = [4524, 4418, 4778, 112, 3876, 1223, 2591, 3892, 614, 2889, 25, 4147, 3726, 1717, 1085, 2065, 2513, 955, 3311, 2542, 2938, 2004, 2177, 1517, 401, 2009, 3201, 266, 1620, 4393, 4396, 3719, 921, 1149, 1475, 4227, 44, 4278, 3159, 1038, 1113, 1929, 3429, 4432, 1125, 863, 1588, 2586,4198,115,2925,1459,2235,1794,415,1460,564,4168,2384,1142,3134,1849,2145,1945,3283,3669,1446,718,1031,1898,2577,2492,3502,620,3079,3672,1995,3383,4609,4090,65,2930,1504]\n",
    "all15_20 = [4524, 4418, 4778, 112, 3876, 1223, 2591, 3892, 614, 2889, 25, 4147, 3726, 1717, 1085, 2065, 2513, 955, 3311, 2542, 2938, 2004, 2177, 1517, 401, 2009, 3201, 266, 1620, 4393, 4396, 3719, 921, 1149, 1475, 4227, 44, 4278, 3159, 1038, 1113, 1929, 3429, 4432, 1125, 863, 1588, 2586,4198,115,2925,1459,2235,1794,415,1460,564,4168,2384,1142]\n",
    "all19_20 = [4524, 4418, 4778, 112, 3876, 1223, 2591, 3892, 614, 2889, 25, 4147, 3726, 1717, 1085, 2065, 2513, 955, 3311, 2542, 2938, 2004, 2177, 1517, 401, 2009, 3201, 266, 1620, 4393, 4396, 3719, 921, 1149, 1475, 4227, 44, 4278, 3159]"
   ]
  },
  {
   "cell_type": "code",
   "execution_count": null,
   "metadata": {},
   "outputs": [],
   "source": [
    "AllTimeScorer250 = [1,2651,2065,564,2238,3159,716,3219,2653,1788,3202,3611,4588,1142,3383,1776,115,1446,689,1230,2920,4528,1259,65,2013,208,3278,938,4396,259,1149,1120,3325,341,1611,288,1460,3369,3623,1717,1479,3576,2145,4524,715,2069,4078,2323,44,3622,994,3283,904,875,2454,2131,1526,4186,1211,3394,4181,4412,4197,2743,3311,1945,3502,31,3778,234,2803,1242,3564,336,1391,3039,1957,3030,4585,1953,2156,2674,354,4242,2310,2964,3079,2811,1315,3884,4636,2650,415,4493,1870,865,461,4601,4037,124,921,4041,1137,4737,2670,1038,2906,129,3985,1948,1465,1729,4427,4090,4350,2666,4321,335,3793,1686,3073,1931,4409,696,3425,1383,1501,2534,2126,930,2223,1715,211,2288,3347,1117,3803,4343,6,2940,2086,1188,1217,329,1640,2011,3568,4583,3869,1797,2542,1941,3715,1780,3384,4100,4244,4640,4553,2080,3020,3628,4344,2201,4620,1009,2594,1504,4525,525,409,16,1733,2585,2155,3356,2925,4609,2433,4079,906,4732,2785,1995,867,1620,957,1657,3993,1076,4260,2591,1031,3217,1739,3673,2637,2148,2577,4418,142,3031,1563,3970,2586,2048,408,1500,784,4253,3999,1475,4229,4531,4567,3182,2157,3119,691,4776,1498,2031,916,3850,4352,342,2673,955,3117,2036,2300,675,611,3167,2703,1621,3717,2659,2598,1583,817,1595,1331,2792,1459,730,1806,3536,4289,2571]"
   ]
  },
  {
   "cell_type": "code",
   "execution_count": null,
   "metadata": {},
   "outputs": [],
   "source": [
    "graph = g.subgraph(AllTimeScorer250)"
   ]
  },
  {
   "cell_type": "code",
   "execution_count": null,
   "metadata": {},
   "outputs": [],
   "source": [
    "comtable = louvain_algorithm(graph)"
   ]
  },
  {
   "cell_type": "code",
   "execution_count": null,
   "metadata": {
    "tags": [
     "outputPrepend",
     "outputPrepend",
     "outputPrepend"
    ]
   },
   "outputs": [],
   "source": [
    "belongingtable = find_overlapping_communities(g,4,5)"
   ]
  },
  {
   "cell_type": "code",
   "execution_count": null,
   "metadata": {
    "tags": [
     "outputPrepend"
    ]
   },
   "outputs": [],
   "source": [
    "print(belongingtable)"
   ]
  },
  {
   "cell_type": "code",
   "execution_count": null,
   "metadata": {},
   "outputs": [],
   "source": [
    "length = len(belongingtable[0])\n",
    "print(length)\n",
    "table = [[0 for x in range(graph.vcount())] for y in range(length)] \n",
    "for i in range(length):\n",
    "    for j in range(graph.vcount()):\n",
    "        table[i][j]= calculate_beta(graph,belongingtable,j,i)"
   ]
  },
  {
   "cell_type": "code",
   "execution_count": null,
   "metadata": {
    "tags": [
     "outputPrepend"
    ]
   },
   "outputs": [],
   "source": [
    "belonging_tab = [[0] for y in range(g.vcount())]\n",
    "for y in range(g.vcount()):\n",
    "    belonging_tab[y][0]=1"
   ]
  },
  {
   "cell_type": "code",
   "execution_count": null,
   "metadata": {},
   "outputs": [],
   "source": [
    "print(nicosia_modularity(graph,belongingtable))"
   ]
  },
  {
   "cell_type": "code",
   "execution_count": null,
   "metadata": {},
   "outputs": [],
   "source": []
  }
 ],
 "metadata": {
  "language_info": {
   "codemirror_mode": {
    "name": "ipython",
    "version": 3
   },
   "file_extension": ".py",
   "mimetype": "text/x-python",
   "name": "python",
   "nbconvert_exporter": "python",
   "pygments_lexer": "ipython3",
   "version": "3.8.2-final"
  },
  "orig_nbformat": 2,
  "kernelspec": {
   "name": "python38232bit647c978e5bed4d39a404941b1039b502",
   "display_name": "Python 3.8.2 32-bit"
  }
 },
 "nbformat": 4,
 "nbformat_minor": 2
}