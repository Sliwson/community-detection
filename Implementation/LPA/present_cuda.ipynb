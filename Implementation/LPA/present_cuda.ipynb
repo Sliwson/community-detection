{
 "cells": [
  {
   "cell_type": "code",
   "execution_count": null,
   "metadata": {},
   "outputs": [],
   "source": [
    "import pixiedust\n",
    "import numpy\n",
    "import statistics as st\n",
    "\n",
    "%run ../visualisation.ipynb\n",
    "%run ../read_graph.ipynb\n",
    "\n",
    "g = read_nba_full(\"../../Data/Basketball/Players.csv\",\n",
    "                  \"../../Data/Basketball/Edges.csv\",\n",
    "                  True, True)"
   ]
  },
  {
   "cell_type": "code",
   "execution_count": null,
   "metadata": {},
   "outputs": [],
   "source": [
    "def read_communities(path):\n",
    "    print(\"Reading file \" + path + \", begin...\")\n",
    "    collection = []\n",
    "    with open(path, mode = 'r', encoding = \"utf8\") as csv_file:\n",
    "        csv_reader = csv.reader(csv_file, delimiter = ';')\n",
    "        for row in csv_reader:\n",
    "            collection.append(row)\n",
    "    \n",
    "    print(\"Data lines read: \" + str(len(collection)))\n",
    "    return collection"
   ]
  },
  {
   "cell_type": "code",
   "execution_count": null,
   "metadata": {},
   "outputs": [],
   "source": [
    "path = \"../../Data/CudaLPA/Communities.csv\"\n",
    "com = read_communities(path)\n",
    "\n",
    "idx = 0\n",
    "for v in g.vs:\n",
    "    v[\"communities\"] = [int(com[idx][0])]\n",
    "    idx += 1\n",
    "\n",
    "\n",
    "plot_full(g, \"cuda.svg\", 1)"
   ]
  }
 ],
 "metadata": {
  "kernelspec": {
   "display_name": "Python 3",
   "language": "python",
   "name": "python3"
  },
  "language_info": {
   "codemirror_mode": {
    "name": "ipython",
    "version": 3
   },
   "file_extension": ".py",
   "mimetype": "text/x-python",
   "name": "python",
   "nbconvert_exporter": "python",
   "pygments_lexer": "ipython3",
   "version": "3.7.6"
  }
 },
 "nbformat": 4,
 "nbformat_minor": 4
}
