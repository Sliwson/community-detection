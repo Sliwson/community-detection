{
 "cells": [
  {
   "cell_type": "code",
   "execution_count": 20,
   "metadata": {},
   "outputs": [],
   "source": [
    "import pixiedust\n",
    "import numpy"
   ]
  },
  {
   "cell_type": "code",
   "execution_count": 9,
   "metadata": {},
   "outputs": [
    {
     "name": "stdout",
     "output_type": "stream",
     "text": [
      "Reading full NBA graph, begin...\n",
      "Reading file ../../Data/Basketball/Players.csv, begin...\n",
      "Data lines read: 4800\n",
      "Reading file ../../Data/Basketball/Edges.csv, begin...\n",
      "Data lines read: 146369\n",
      "Reading NBA vertices, begin...\n",
      "Vertices read: 4800\n",
      "Reading NBA edges, begin...\n",
      "Weights loaded correctly\n",
      "Edges read: 146369\n",
      "Loading succesfull\n"
     ]
    }
   ],
   "source": [
    "%run ../visualisation.ipynb\n",
    "%run ../read_graph.ipynb\n",
    "\n",
    "g = read_nba_full(\"../../Data/Basketball/Players.csv\",\n",
    "                  \"../../Data/Basketball/Edges.csv\",\n",
    "                  True, True)\n",
    "\n",
    "all11_20 = [4524, 4418, 4778, 112, 3876, 1223, 2591, 3892, 614, 2889, 25, 4147, 3726, 1717, 1085, 2065, 2513, 955, 3311, 2542, 2938, 2004, 2177, 1517, 401, 2009, 3201, 266, 1620, 4393, 4396, 3719, 921, 1149, 1475, 4227, 44, 4278, 3159, 1038, 1113, 1929, 3429, 4432, 1125, 863, 1588, 2586,4198,115,2925,1459,2235,1794,415,1460,564,4168,2384,1142,3134,1849,2145,1945,3283,3669,1446,718,1031,1898,2577,2492,3502,620,3079,3672,1995,3383,4609,4090,65,2930,1504]\n",
    "nba11_20 = g.subgraph(all11_20)\n",
    "\n",
    "all15_20 = [4524, 4418, 4778, 112, 3876, 1223, 2591, 3892, 614, 2889, 25, 4147, 3726, 1717, 1085, 2065, 2513, 955, 3311, 2542, 2938, 2004, 2177, 1517, 401, 2009, 3201, 266, 1620, 4393, 4396, 3719, 921, 1149, 1475, 4227, 44, 4278, 3159, 1038, 1113, 1929, 3429, 4432, 1125, 863, 1588, 2586,4198,115,2925,1459,2235,1794,415,1460,564,4168,2384,1142]\n",
    "nba15_20 = g.subgraph(all15_20)\n",
    "\n",
    "all19_20 = [4524, 4418, 4778, 112, 3876, 1223, 2591, 3892, 614, 2889, 25, 4147, 3726, 1717, 1085, 2065, 2513, 955, 3311, 2542, 2938, 2004, 2177, 1517, 401, 2009, 3201, 266, 1620, 4393, 4396, 3719, 921, 1149, 1475, 4227, 44, 4278, 3159]\n",
    "nba19_20 = g.subgraph(all19_20)"
   ]
  },
  {
   "cell_type": "code",
   "execution_count": 10,
   "metadata": {},
   "outputs": [],
   "source": [
    "def build_lpa(graph, output):\n",
    "    result = graph.community_label_propagation()\n",
    "    resultArray = result.membership\n",
    "    i = 0\n",
    "    for v in graph.vs:\n",
    "        v[\"communities\"] = [resultArray[i]]\n",
    "        i += 1\n",
    "\n",
    "    plot_full(graph, output, 1)"
   ]
  },
  {
   "cell_type": "code",
   "execution_count": 11,
   "metadata": {},
   "outputs": [
    {
     "name": "stdout",
     "output_type": "stream",
     "text": [
      "Plotting graph with 83 vertices and 315 edges, begin...\n",
      "Plotting sucessful\n",
      "Plotting graph with 60 vertices and 133 edges, begin...\n",
      "Plotting sucessful\n",
      "Plotting graph with 39 vertices and 38 edges, begin...\n",
      "Plotting sucessful\n"
     ]
    }
   ],
   "source": [
    "build_lpa(nba11_20, \"all_stars_1120.svg\")\n",
    "build_lpa(nba15_20, \"all_stars_1520.svg\")\n",
    "build_lpa(nba19_20, \"all_stars_1920.svg\")"
   ]
  },
  {
   "cell_type": "code",
   "execution_count": 12,
   "metadata": {
    "pixiedust": {
     "displayParams": {}
    }
   },
   "outputs": [],
   "source": [
    "def my_basic_lpa(graph, output):\n",
    "    print(\"Basic lpa, begin...\")\n",
    "    counters = []\n",
    "    vertices_count = len(graph.vs)\n",
    "    \n",
    "    i = 0\n",
    "    for v in graph.vs:\n",
    "        v[\"communities\"] = [i]\n",
    "        i += 1\n",
    "        counters.append(0)\n",
    "    \n",
    "    convergence = False\n",
    "    iteration = 0\n",
    "    while convergence == False and iteration < 20:\n",
    "        iteration += 1\n",
    "        convergence = True\n",
    "        \n",
    "        for idx in range(vertices_count):\n",
    "            counters[idx] = 0\n",
    "            \n",
    "        for v in graph.vs:\n",
    "            com = v[\"communities\"][0]\n",
    "            counters[com] += 1\n",
    "            \n",
    "        unique = sum(1 if counter > 0 else 0 for counter in counters)\n",
    "        print(\"Iteration \" + str(iteration) + \",communities \" + str(unique))\n",
    "\n",
    "        for v in graph.vs:\n",
    "            current_community = v[\"communities\"][0]   \n",
    "            \n",
    "            #clear counters\n",
    "            for idx in range(vertices_count):\n",
    "                counters[idx] = 0\n",
    "            \n",
    "            for e in v.all_edges():     \n",
    "                if v == e.target_vertex and v == e.source_vertex:\n",
    "                    print(\"Warn - out vertex equals current vertex\")\n",
    "                elif v != e.target_vertex:\n",
    "                    com = e.target_vertex[\"communities\"][0]\n",
    "                    counters[com] += 1\n",
    "                elif v != e.source_vertex:\n",
    "                    com = e.source_vertex[\"communities\"][0]\n",
    "                    counters[com] += 1\n",
    "                    \n",
    "            if sum(counters) != v.degree():\n",
    "                print(\"Warn: sum = \" + str(sum(counters)) + \" degree = \" + str(v.degree()))\n",
    "                \n",
    "            max_value = max(counters)\n",
    "            max_indices = []\n",
    "            \n",
    "            for k in range(vertices_count):\n",
    "                if (counters[k] == max_value):\n",
    "                    max_indices.append(k)\n",
    "            \n",
    "            winner_idx = max_indices[random.randrange(len(max_indices))]\n",
    "        \n",
    "            if current_community in max_indices:\n",
    "                winner_idx = current_community\n",
    "                \n",
    "            if winner_idx != current_community:\n",
    "                convergence = False\n",
    "                \n",
    "            v[\"communities\"] = [winner_idx]\n",
    "            \n",
    "    plot_full(graph, output, 1.5)"
   ]
  },
  {
   "cell_type": "code",
   "execution_count": 30,
   "metadata": {},
   "outputs": [
    {
     "ename": "SyntaxError",
     "evalue": "invalid syntax (<ipython-input-30-59354edde725>, line 55)",
     "output_type": "error",
     "traceback": [
      "\u001b[1;36m  File \u001b[1;32m\"<ipython-input-30-59354edde725>\"\u001b[1;36m, line \u001b[1;32m55\u001b[0m\n\u001b[1;33m    idx++\u001b[0m\n\u001b[1;37m         ^\u001b[0m\n\u001b[1;31mSyntaxError\u001b[0m\u001b[1;31m:\u001b[0m invalid syntax\n"
     ]
    }
   ],
   "source": [
    "def my_basic_lpa_overlapping(graph, max_communities, output):\n",
    "    print(\"Basic lpa with overlapping communities, begin...\")\n",
    "    counters = []\n",
    "    vertices_count = len(graph.vs)\n",
    "    \n",
    "    i = 0\n",
    "    for v in graph.vs:\n",
    "        v[\"communities\"] = [i]\n",
    "        i += 1\n",
    "        counters.append(0)\n",
    "    \n",
    "    convergence = False\n",
    "    iteration = 0\n",
    "    while convergence == False and iteration < 20:\n",
    "        iteration += 1\n",
    "        convergence = True\n",
    "        \n",
    "        for idx in range(vertices_count):\n",
    "            counters[idx] = 0\n",
    "            \n",
    "        for v in graph.vs:\n",
    "            for com in v [\"communities\"]:\n",
    "                counters[com] += 1\n",
    "            \n",
    "        unique = sum(1 if counter > 0 else 0 for counter in counters)\n",
    "        print(\"Iteration \" + str(iteration) + \",communities \" + str(unique))\n",
    "\n",
    "        for v in graph.vs:\n",
    "            current_communities = v[\"communities\"]   \n",
    "            \n",
    "            #clear counters\n",
    "            for idx in range(vertices_count):\n",
    "                counters[idx] = 0\n",
    "            \n",
    "            for e in v.all_edges():     \n",
    "                if v == e.target_vertex and v == e.source_vertex:\n",
    "                    print(\"Warn - out vertex equals current vertex\")\n",
    "                elif v != e.target_vertex:\n",
    "                    for com in e.target_vertex[\"communities\"]:\n",
    "                        counters[com] += 1\n",
    "                elif v != e.source_vertex:\n",
    "                    for com in e.target_vertex[\"communities\"]:\n",
    "                        counters[com] += 1\n",
    "                    \n",
    "            if sum(counters) != v.degree():\n",
    "                print(\"Warn: sum = \" + str(sum(counters)) + \" degree = \" + str(v.degree()))\n",
    "                \n",
    "            max_value = max(counters)\n",
    "            sorted_counters = numpy.argsort(counters)[::-1]\n",
    "            new_communities = []\n",
    "            \n",
    "            idx = 0\n",
    "            while counters[sorted_counters[idx]] / max_value > 1 / max_communities:\n",
    "                new_communities.append(sorted_counters[idx])     \n",
    "                idx += 1\n",
    "               \n",
    "            if len(list(set(new_communities) - set(current_communities))) > 0:\n",
    "                convergence = False\n",
    "                \n",
    "            v[\"communities\"] = new_communities\n",
    "            \n",
    "    plot_full(graph, output, 1.5)"
   ]
  },
  {
   "cell_type": "code",
   "execution_count": 29,
   "metadata": {
    "pixiedust": {
     "displayParams": {}
    }
   },
   "outputs": [
    {
     "name": "stdout",
     "output_type": "stream",
     "text": [
      "Iteration 1,communities 83\n",
      "Iteration 2,communities 21\n",
      "Iteration 3,communities 10\n",
      "Iteration 4,communities 5\n",
      "Iteration 5,communities 5\n",
      "Iteration 6,communities 3\n",
      "Plotting graph with 83 vertices and 315 edges, begin...\n",
      "Plotting sucessful\n",
      "Iteration 1,communities 60\n",
      "Iteration 2,communities 17\n",
      "Iteration 3,communities 12\n",
      "Iteration 4,communities 9\n",
      "Plotting graph with 60 vertices and 133 edges, begin...\n",
      "Plotting sucessful\n",
      "Iteration 1,communities 39\n",
      "Iteration 2,communities 16\n",
      "Plotting graph with 39 vertices and 38 edges, begin...\n",
      "Plotting sucessful\n",
      "Basic lpa with overlapping communities, begin...\n",
      "Iteration 1,communities 83\n"
     ]
    },
    {
     "ename": "KeyboardInterrupt",
     "evalue": "",
     "output_type": "error",
     "traceback": [
      "\u001b[1;31m---------------------------------------------------------------------------\u001b[0m",
      "\u001b[1;31mKeyboardInterrupt\u001b[0m                         Traceback (most recent call last)",
      "\u001b[1;32m<ipython-input-29-638aa93aba3b>\u001b[0m in \u001b[0;36m<module>\u001b[1;34m\u001b[0m\n\u001b[0;32m      2\u001b[0m \u001b[0mmy_basic_lpa\u001b[0m\u001b[1;33m(\u001b[0m\u001b[0mnba15_20\u001b[0m\u001b[1;33m,\u001b[0m \u001b[1;34m\"all_stars_my_1520.svg\"\u001b[0m\u001b[1;33m)\u001b[0m\u001b[1;33m\u001b[0m\u001b[1;33m\u001b[0m\u001b[0m\n\u001b[0;32m      3\u001b[0m \u001b[0mmy_basic_lpa\u001b[0m\u001b[1;33m(\u001b[0m\u001b[0mnba19_20\u001b[0m\u001b[1;33m,\u001b[0m \u001b[1;34m\"all_stars_my_1920.svg\"\u001b[0m\u001b[1;33m)\u001b[0m\u001b[1;33m\u001b[0m\u001b[1;33m\u001b[0m\u001b[0m\n\u001b[1;32m----> 4\u001b[1;33m \u001b[0mmy_basic_lpa_overlapping\u001b[0m\u001b[1;33m(\u001b[0m\u001b[0mnba11_20\u001b[0m\u001b[1;33m,\u001b[0m \u001b[1;36m4\u001b[0m\u001b[1;33m,\u001b[0m \u001b[1;34m\"all_stars_myo4_1120.svg\"\u001b[0m\u001b[1;33m)\u001b[0m\u001b[1;33m\u001b[0m\u001b[1;33m\u001b[0m\u001b[0m\n\u001b[0m\u001b[0;32m      5\u001b[0m \u001b[0mmy_basic_lpa_overlapping\u001b[0m\u001b[1;33m(\u001b[0m\u001b[0mnba15_20\u001b[0m\u001b[1;33m,\u001b[0m \u001b[1;36m4\u001b[0m\u001b[1;33m,\u001b[0m \u001b[1;34m\"all_stars_myo4_1520.svg\"\u001b[0m\u001b[1;33m)\u001b[0m\u001b[1;33m\u001b[0m\u001b[1;33m\u001b[0m\u001b[0m\n\u001b[0;32m      6\u001b[0m \u001b[0mmy_basic_lpa_overlapping\u001b[0m\u001b[1;33m(\u001b[0m\u001b[0mnba19_20\u001b[0m\u001b[1;33m,\u001b[0m \u001b[1;36m4\u001b[0m\u001b[1;33m,\u001b[0m \u001b[1;34m\"all_stars_myo4_1920.svg\"\u001b[0m\u001b[1;33m)\u001b[0m\u001b[1;33m\u001b[0m\u001b[1;33m\u001b[0m\u001b[0m\n",
      "\u001b[1;32m<ipython-input-28-32151780d822>\u001b[0m in \u001b[0;36mmy_basic_lpa_overlapping\u001b[1;34m(graph, max_communities, output)\u001b[0m\n\u001b[0;32m     51\u001b[0m \u001b[1;33m\u001b[0m\u001b[0m\n\u001b[0;32m     52\u001b[0m             \u001b[0midx\u001b[0m \u001b[1;33m=\u001b[0m \u001b[1;36m0\u001b[0m\u001b[1;33m\u001b[0m\u001b[1;33m\u001b[0m\u001b[0m\n\u001b[1;32m---> 53\u001b[1;33m             \u001b[1;32mwhile\u001b[0m \u001b[0mcounters\u001b[0m\u001b[1;33m[\u001b[0m\u001b[0msorted_counters\u001b[0m\u001b[1;33m[\u001b[0m\u001b[0midx\u001b[0m\u001b[1;33m]\u001b[0m\u001b[1;33m]\u001b[0m \u001b[1;33m/\u001b[0m \u001b[0mmax_value\u001b[0m \u001b[1;33m>\u001b[0m \u001b[1;36m1\u001b[0m \u001b[1;33m/\u001b[0m \u001b[0mmax_communities\u001b[0m\u001b[1;33m:\u001b[0m\u001b[1;33m\u001b[0m\u001b[1;33m\u001b[0m\u001b[0m\n\u001b[0m\u001b[0;32m     54\u001b[0m                 \u001b[0mnew_communities\u001b[0m\u001b[1;33m.\u001b[0m\u001b[0mappend\u001b[0m\u001b[1;33m(\u001b[0m\u001b[0msorted_counters\u001b[0m\u001b[1;33m[\u001b[0m\u001b[0midx\u001b[0m\u001b[1;33m]\u001b[0m\u001b[1;33m)\u001b[0m\u001b[1;33m\u001b[0m\u001b[1;33m\u001b[0m\u001b[0m\n\u001b[0;32m     55\u001b[0m \u001b[1;33m\u001b[0m\u001b[0m\n",
      "\u001b[1;31mKeyboardInterrupt\u001b[0m: "
     ]
    }
   ],
   "source": [
    "my_basic_lpa(nba11_20, \"all_stars_my_1120.svg\")\n",
    "my_basic_lpa(nba15_20, \"all_stars_my_1520.svg\")\n",
    "my_basic_lpa(nba19_20, \"all_stars_my_1920.svg\")\n",
    "my_basic_lpa_overlapping(nba11_20, 4, \"all_stars_myo4_1120.svg\")\n",
    "my_basic_lpa_overlapping(nba15_20, 4, \"all_stars_myo4_1520.svg\")\n",
    "my_basic_lpa_overlapping(nba19_20, 4, \"all_stars_myo4_1920.svg\")"
   ]
  },
  {
   "cell_type": "code",
   "execution_count": 14,
   "metadata": {},
   "outputs": [
    {
     "data": {
      "text/plain": [
       "0.5"
      ]
     },
     "execution_count": 14,
     "metadata": {},
     "output_type": "execute_result"
    }
   ],
   "source": []
  },
  {
   "cell_type": "code",
   "execution_count": null,
   "metadata": {},
   "outputs": [],
   "source": []
  }
 ],
 "metadata": {
  "kernelspec": {
   "display_name": "Python 3",
   "language": "python",
   "name": "python3"
  },
  "language_info": {
   "codemirror_mode": {
    "name": "ipython",
    "version": 3
   },
   "file_extension": ".py",
   "mimetype": "text/x-python",
   "name": "python",
   "nbconvert_exporter": "python",
   "pygments_lexer": "ipython3",
   "version": "3.7.6"
  }
 },
 "nbformat": 4,
 "nbformat_minor": 4
}
