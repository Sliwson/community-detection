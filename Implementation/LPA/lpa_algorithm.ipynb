{
 "cells": [
  {
   "cell_type": "code",
   "execution_count": null,
   "metadata": {},
   "outputs": [],
   "source": [
    "import pixiedust\n",
    "import numpy\n",
    "import statistics as st"
   ]
  },
  {
   "cell_type": "code",
   "execution_count": null,
   "metadata": {},
   "outputs": [],
   "source": [
    "%cd ..\n",
    "%run visualisation.ipynb\n",
    "%run common.ipynb"
   ]
  },
  {
   "cell_type": "code",
   "execution_count": null,
   "metadata": {
    "scrolled": true
   },
   "outputs": [],
   "source": [
    "vertices_path = \"../Data/Basketball/Players.csv\"\n",
    "edges_path = \"../Data/Basketball/Edges.csv\"\n",
    "\n",
    "nba11_20 = read_all_star_sample(vertices_path, edges_path, 10, True, True, True)\n",
    "nba15_20 = read_all_star_sample(vertices_path, edges_path, 6, True, True, True)\n",
    "nba19_20 = read_all_star_sample(vertices_path, edges_path, 2, True, True, True)"
   ]
  },
  {
   "cell_type": "code",
   "execution_count": null,
   "metadata": {},
   "outputs": [],
   "source": [
    "def build_lpa(graph, output):\n",
    "    result = graph.community_label_propagation()\n",
    "    resultArray = result.membership\n",
    "    i = 0\n",
    "    for v in graph.vs:\n",
    "        v[\"communities\"] = [resultArray[i]]\n",
    "        i += 1\n",
    "\n",
    "    plot_full(graph, output, 1)"
   ]
  },
  {
   "cell_type": "code",
   "execution_count": null,
   "metadata": {},
   "outputs": [],
   "source": [
    "build_lpa(nba11_20, \"all_stars_1120.svg\")\n",
    "build_lpa(nba15_20, \"all_stars_1520.svg\")\n",
    "build_lpa(nba19_20, \"all_stars_1920.svg\")"
   ]
  },
  {
   "cell_type": "code",
   "execution_count": null,
   "metadata": {},
   "outputs": [],
   "source": [
    "def get_date_modification_index(vertex, max_indices):\n",
    "    if len(max_indices) <= 1:\n",
    "        return max_indices[0]\n",
    "    \n",
    "    dates = []\n",
    "    for i in max_indices:\n",
    "        dates.append([])\n",
    "        \n",
    "    for e in vertex.all_edges():\n",
    "        com = 0\n",
    "        if vertex == e.target_vertex and vertex == e.source_vertex:\n",
    "            print(\"Warn - out vertex equals current vertex\")\n",
    "        elif vertex != e.target_vertex:\n",
    "            com = e.target_vertex[\"communities\"][0]\n",
    "        elif vertex != e.source_vertex:\n",
    "            com = e.source_vertex[\"communities\"][0]\n",
    "            \n",
    "        if com in max_indices:\n",
    "            dates[max_indices.index(com)].append(e[\"weight\"])\n",
    "            \n",
    "    for idx, l in enumerate(dates):\n",
    "        if len(l) > 1:\n",
    "            dates[idx] = st.stdev(l)\n",
    "        else:\n",
    "            dates[idx] = 1\n",
    "        \n",
    "    min_index = dates.index(min(dates))\n",
    "    return max_indices[min_index]    "
   ]
  },
  {
   "cell_type": "code",
   "execution_count": null,
   "metadata": {},
   "outputs": [],
   "source": [
    "def get_mutual_modification_index(vertex, max_indices):\n",
    "    if len(max_indices) <= 1:\n",
    "        return max_indices[0]\n",
    "    \n",
    "    mutual = []\n",
    "        \n",
    "    for e in vertex.all_edges():\n",
    "        com = 0\n",
    "        if vertex == e.target_vertex and vertex == e.source_vertex:\n",
    "            print(\"Warn - out vertex equals current vertex\")\n",
    "        elif vertex != e.target_vertex:\n",
    "            com = e.target_vertex[\"communities\"][0]\n",
    "        elif vertex != e.source_vertex:\n",
    "            com = e.source_vertex[\"communities\"][0]\n",
    "            \n",
    "        if com in max_indices:\n",
    "            mutual[max_indices.index(com)] += e[\"friends\"]\n",
    "        \n",
    "    max_index = mutual.index(max(mutual))\n",
    "    return max_indices[max_index]"
   ]
  },
  {
   "cell_type": "code",
   "execution_count": null,
   "metadata": {
    "pixiedust": {
     "displayParams": {}
    }
   },
   "outputs": [],
   "source": [
    "def my_basic_lpa(graph, max_iterations, date_modification, mutual_modification, output):\n",
    "    print(\"Basic lpa, begin...\")\n",
    "    counters = []\n",
    "    vertices_count = len(graph.vs)\n",
    "    \n",
    "    i = 0\n",
    "    for v in graph.vs:\n",
    "        v[\"communities\"] = [i]\n",
    "        i += 1\n",
    "        counters.append(0)\n",
    "    \n",
    "    convergence = False\n",
    "    iteration = 0\n",
    "    while convergence == False and iteration < max_iterations:\n",
    "        iteration += 1\n",
    "        convergence = True\n",
    "        \n",
    "        for idx in range(vertices_count):\n",
    "            counters[idx] = 0\n",
    "            \n",
    "        for v in graph.vs:\n",
    "            com = v[\"communities\"][0]\n",
    "            counters[com] += 1\n",
    "            \n",
    "        unique = sum(1 if counter > 0 else 0 for counter in counters)\n",
    "        print(\"Iteration \" + str(iteration) + \",communities \" + str(unique))\n",
    "\n",
    "        for v in graph.vs:\n",
    "            current_community = v[\"communities\"][0]   \n",
    "            \n",
    "            #clear counters\n",
    "            for idx in range(vertices_count):\n",
    "                counters[idx] = 0\n",
    "            \n",
    "            for e in v.all_edges():     \n",
    "                if v == e.target_vertex and v == e.source_vertex:\n",
    "                    print(\"Warn - out vertex equals current vertex\")\n",
    "                elif v != e.target_vertex:\n",
    "                    com = e.target_vertex[\"communities\"][0]\n",
    "                    counters[com] += 1\n",
    "                elif v != e.source_vertex:\n",
    "                    com = e.source_vertex[\"communities\"][0]\n",
    "                    counters[com] += 1\n",
    "                    \n",
    "            if sum(counters) != v.degree():\n",
    "                print(\"Warn: sum = \" + str(sum(counters)) + \" degree = \" + str(v.degree()))\n",
    "                \n",
    "            max_value = max(counters)\n",
    "            max_indices = []\n",
    "            \n",
    "            for k in range(vertices_count):\n",
    "                if (counters[k] == max_value):\n",
    "                    max_indices.append(k)\n",
    "            \n",
    "            winner_idx = max_indices[random.randrange(len(max_indices))]\n",
    "            if date_modification:\n",
    "                winner_idx = get_date_modification_index(v, max_indices)\n",
    "            if mutual_modification:\n",
    "                winner_idx = get_mutual_modification_index(v, max_indices)\n",
    "        \n",
    "            if current_community in max_indices:\n",
    "                winner_idx = current_community\n",
    "                \n",
    "            if winner_idx != current_community:\n",
    "                convergence = False\n",
    "                \n",
    "            v[\"communities\"] = [winner_idx]\n",
    "            \n",
    "    plot_full(graph, output, 1.5)"
   ]
  },
  {
   "cell_type": "code",
   "execution_count": null,
   "metadata": {
    "pixiedust": {
     "displayParams": {}
    }
   },
   "outputs": [],
   "source": [
    "my_basic_lpa(nba11_20, 10, False, True, \"all_stars_my_1120.svg\")\n",
    "my_basic_lpa(nba15_20, 10, False, True, \"all_stars_my_1520.svg\")\n",
    "my_basic_lpa(nba19_20, 10, False, True, \"all_stars_my_1920.svg\")"
   ]
  },
  {
   "cell_type": "code",
   "execution_count": null,
   "metadata": {},
   "outputs": [],
   "source": [
    "def my_basic_lpa_overlapping(graph, max_communities, max_iterations, output):\n",
    "    print(\"Basic lpa with overlapping communities, begin...\")\n",
    "    counters = []\n",
    "    vertices_count = len(graph.vs)\n",
    "    \n",
    "    i = 0\n",
    "    for v in graph.vs:\n",
    "        v[\"communities\"] = [(i, 1)]\n",
    "        i += 1\n",
    "        counters.append(0)\n",
    "    \n",
    "    convergence = False\n",
    "    iteration = 0\n",
    "    while convergence == False and iteration < max_iterations:\n",
    "        iteration += 1\n",
    "        convergence = True\n",
    "        \n",
    "        for idx in range(vertices_count):\n",
    "            counters[idx] = 0\n",
    "            \n",
    "        for v in graph.vs:\n",
    "            for com, weight in v[\"communities\"]:\n",
    "                counters[com] += weight\n",
    "            \n",
    "        unique = sum(1 if counter > 0 else 0 for counter in counters)\n",
    "        print(\"Iteration \" + str(iteration) + \",communities \" + str(unique))\n",
    "\n",
    "        for v in graph.vs:\n",
    "            current_communities = v[\"communities\"]   \n",
    "            \n",
    "            #clear counters\n",
    "            for idx in range(vertices_count):\n",
    "                counters[idx] = 0\n",
    "            \n",
    "            for e in v.all_edges():     \n",
    "                if v == e.target_vertex and v == e.source_vertex:\n",
    "                    print(\"Warn - out vertex equals current vertex\")\n",
    "                elif v != e.target_vertex:\n",
    "                    for com, weight in e.target_vertex[\"communities\"]:\n",
    "                        counters[com] += weight\n",
    "                elif v != e.source_vertex:\n",
    "                    for com, weight in e.target_vertex[\"communities\"]:\n",
    "                        counters[com] += weight\n",
    "                \n",
    "            max_value = max(counters)\n",
    "            sorted_counters = numpy.argsort(counters)[::-1]\n",
    "            new_communities = []\n",
    "            \n",
    "            idx = 0\n",
    "            \n",
    "            if max_value == 0:\n",
    "                continue\n",
    "                \n",
    "            normalize_factor = sum(counters)\n",
    "            while counters[sorted_counters[idx]] / normalize_factor >= 1 / max_communities:\n",
    "                new_communities.append((sorted_counters[idx], counters[sorted_counters[idx]] / max_value))\n",
    "                idx += 1\n",
    "            \n",
    "            if idx == 0:\n",
    "                new_communities = current_communities\n",
    "               \n",
    "            if len(list(set(new_communities) - set(current_communities))) > 0:\n",
    "                convergence = False\n",
    "                \n",
    "            weight_sum = sum(w for com, w in new_communities)\n",
    "            for i in range(len(new_communities)):\n",
    "                new_communities[i] = (new_communities[i][0], new_communities[i][1] / weight_sum)\n",
    "                \n",
    "            v[\"communities\"] = new_communities\n",
    "            \n",
    "    \n",
    "    for v in graph.vs:\n",
    "        print(str(v[\"communities\"]))\n",
    "        normalized = []\n",
    "        for com, _ in v[\"communities\"]:\n",
    "            normalized.append(com)\n",
    "        v[\"communities\"] = normalized\n",
    "        \n",
    "    plot_full(graph, output, 1.5)"
   ]
  },
  {
   "cell_type": "code",
   "execution_count": null,
   "metadata": {
    "pixiedust": {
     "displayParams": {}
    }
   },
   "outputs": [],
   "source": [
    "my_basic_lpa_overlapping(nba19_20, 4, 10, \"all_stars_myo4_1920.svg\")\n",
    "my_basic_lpa_overlapping(nba11_20, 4, 10, \"all_stars_myo4_1120.svg\")\n",
    "my_basic_lpa_overlapping(nba15_20, 4, 10, \"all_stars_myo4_1520.svg\")"
   ]
  },
  {
   "cell_type": "code",
   "execution_count": null,
   "metadata": {},
   "outputs": [],
   "source": []
  },
  {
   "cell_type": "code",
   "execution_count": null,
   "metadata": {},
   "outputs": [],
   "source": []
  }
 ],
 "metadata": {
  "kernelspec": {
   "display_name": "Python 3",
   "language": "python",
   "name": "python3"
  },
  "language_info": {
   "codemirror_mode": {
    "name": "ipython",
    "version": 3
   },
   "file_extension": ".py",
   "mimetype": "text/x-python",
   "name": "python",
   "nbconvert_exporter": "python",
   "pygments_lexer": "ipython3",
   "version": "3.7.6"
  }
 },
 "nbformat": 4,
 "nbformat_minor": 4
}
