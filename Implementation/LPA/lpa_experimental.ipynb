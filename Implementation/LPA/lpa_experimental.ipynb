{
 "cells": [
  {
   "cell_type": "code",
   "execution_count": null,
   "metadata": {},
   "outputs": [],
   "source": [
    "%run lpa_algorithm.ipynb"
   ]
  },
  {
   "cell_type": "code",
   "execution_count": null,
   "metadata": {},
   "outputs": [],
   "source": [
    "samples = get_benchmark_sample(100000)\n",
    "def get_sample(idx):\n",
    "    graph = samples[idx].copy()\n",
    "    del(graph.vs['name'])\n",
    "    return graph"
   ]
  },
  {
   "cell_type": "code",
   "execution_count": null,
   "metadata": {},
   "outputs": [],
   "source": [
    "def louvain_wrapper(g):\n",
    "    my_basic_lpa(g, 3, False, False)\n",
    "    normalize_labels(g)\n",
    "    return_array = [0] * g.vcount()\n",
    "    idx = 0\n",
    "    for v in g.vs:\n",
    "        return_array[idx] = v['communities'][0]\n",
    "        idx += 1\n",
    "        \n",
    "    return return_array"
   ]
  },
  {
   "cell_type": "code",
   "execution_count": null,
   "metadata": {},
   "outputs": [],
   "source": [
    "graph = get_sample(8)\n",
    "find_overlapping_communities(graph, 4, 5, louvain_wrapper)\n",
    "plot_full(graph, 'ms-louvain-lpa-3.svg')"
   ]
  },
  {
   "cell_type": "code",
   "execution_count": null,
   "metadata": {},
   "outputs": [],
   "source": [
    "def ocdlce_lpa(g):\n",
    "    get_local_communities(g)\n",
    "    normalize_labels(g)\n",
    "    max_label = get_max_label(g) + 1\n",
    "    for v in g.vs:\n",
    "        if len(v['communities']) > 0:\n",
    "            v['communities'][0] = (v['communities'][0], 1)\n",
    "        else:\n",
    "            v['communities'] = [(max_label, 0)]\n",
    "            max_label += 1\n",
    "            \n",
    "    my_basic_lpa_overlapping(g, 32, 10, init_graph = False)"
   ]
  },
  {
   "cell_type": "code",
   "execution_count": null,
   "metadata": {},
   "outputs": [],
   "source": [
    "graph = get_sample(4)\n",
    "ocdlce_lpa(graph)\n",
    "plot_full(graph, 'ms-ocdlce-lpa-1.svg')"
   ]
  },
  {
   "cell_type": "code",
   "execution_count": null,
   "metadata": {},
   "outputs": [],
   "source": []
  }
 ],
 "metadata": {
  "kernelspec": {
   "display_name": "Python 3",
   "language": "python",
   "name": "python3"
  },
  "language_info": {
   "codemirror_mode": {
    "name": "ipython",
    "version": 3
   },
   "file_extension": ".py",
   "mimetype": "text/x-python",
   "name": "python",
   "nbconvert_exporter": "python",
   "pygments_lexer": "ipython3",
   "version": "3.7.6"
  }
 },
 "nbformat": 4,
 "nbformat_minor": 4
}
