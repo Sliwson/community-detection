{
 "cells": [
  {
   "cell_type": "code",
   "execution_count": null,
   "metadata": {},
   "outputs": [],
   "source": [
    "%run lpa_algorithm.ipynb"
   ]
  },
  {
   "cell_type": "code",
   "execution_count": null,
   "metadata": {},
   "outputs": [],
   "source": [
    "samples = get_benchmark_sample(100000)\n",
    "def get_sample(idx):\n",
    "    graph = samples[idx].copy()\n",
    "    del(graph.vs['name'])\n",
    "    return graph"
   ]
  },
  {
   "cell_type": "code",
   "execution_count": null,
   "metadata": {},
   "outputs": [],
   "source": [
    "def louvain_wrapper(g):\n",
    "    my_basic_lpa(g, 5, False, False)\n",
    "    normalize_labels(g)\n",
    "    max_label = get_max_label(g)\n",
    "    \n",
    "    for v in g.vs:\n",
    "        tmp = v['communities'][0]\n",
    "        v['communities'] = [0] * (max_label + 1)\n",
    "        v['communities'][tmp] = 1\n",
    "        \n",
    "    print(str(g.vs['communities']))\n",
    "    return g.vs['communities']"
   ]
  },
  {
   "cell_type": "code",
   "execution_count": null,
   "metadata": {},
   "outputs": [],
   "source": [
    "find_overlapping_communities(get_sample(0), 4, 10, louvain_wrapper)"
   ]
  },
  {
   "cell_type": "code",
   "execution_count": null,
   "metadata": {},
   "outputs": [],
   "source": [
    "def ocdlce_lpa(g):\n",
    "    get_local_communities(g)\n",
    "    normalize_labels(g)\n",
    "    max_label = get_max_label(g) + 1\n",
    "    for v in g.vs:\n",
    "        if len(v['communities']) > 0:\n",
    "            v['communities'][0] = (v['communities'][0], 1)\n",
    "        else:\n",
    "            v['communities'][0] = (max_label, 0)\n",
    "            max_label += 1\n",
    "            \n",
    "    my_basic_lpa_overlapping(g, 32, 10, init_graph = False)"
   ]
  },
  {
   "cell_type": "code",
   "execution_count": null,
   "metadata": {},
   "outputs": [],
   "source": [
    "ocdlce_lpa(get_sample(0))"
   ]
  }
 ],
 "metadata": {
  "kernelspec": {
   "display_name": "Python 3",
   "language": "python",
   "name": "python3"
  },
  "language_info": {
   "codemirror_mode": {
    "name": "ipython",
    "version": 3
   },
   "file_extension": ".py",
   "mimetype": "text/x-python",
   "name": "python",
   "nbconvert_exporter": "python",
   "pygments_lexer": "ipython3",
   "version": "3.7.6"
  }
 },
 "nbformat": 4,
 "nbformat_minor": 4
}
