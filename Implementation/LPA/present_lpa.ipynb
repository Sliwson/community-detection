{
 "cells": [
  {
   "cell_type": "code",
   "execution_count": null,
   "metadata": {},
   "outputs": [],
   "source": [
    "%run lpa_algorithm.ipynb"
   ]
  },
  {
   "cell_type": "code",
   "execution_count": null,
   "metadata": {},
   "outputs": [],
   "source": [
    "samples = get_benchmark_sample(100000)"
   ]
  },
  {
   "cell_type": "code",
   "execution_count": null,
   "metadata": {},
   "outputs": [],
   "source": [
    "nba_v_path = \"../Data/Basketball/Players.csv\"\n",
    "nba_e_path = \"../Data/Basketball/Edges.csv\"\n",
    "\n",
    "full_nba = read_nba_full(nba_v_path, nba_e_path, False, True, True)"
   ]
  },
  {
   "cell_type": "code",
   "execution_count": null,
   "metadata": {},
   "outputs": [],
   "source": [
    "def get_sample(idx):\n",
    "    graph = samples[idx].copy()\n",
    "    del(graph.vs['name'])\n",
    "    return graph\n",
    "\n",
    "result = build_lpa(get_sample(0))\n",
    "plot_full(result, 'ms-build-lpa-0.svg')\n",
    "\n",
    "result = build_lpa(get_sample(2))\n",
    "plot_full(result, 'ms-build-lpa-1.svg')\n",
    "\n",
    "result = build_lpa(get_sample(4))\n",
    "plot_full(result, 'ms-build-lpa-2.svg')\n",
    "\n",
    "result = build_lpa(full_nba)\n",
    "plot_full(result, 'ms-build-nba.svg')"
   ]
  },
  {
   "cell_type": "code",
   "execution_count": null,
   "metadata": {},
   "outputs": [],
   "source": [
    "result = get_sample(0)\n",
    "my_basic_lpa(result, 6, False, False)\n",
    "plot_full(result, 'ms-lpa-0.svg')\n",
    "\n",
    "result = get_sample(4)\n",
    "my_basic_lpa(result, 6, False, False)\n",
    "plot_full(result, 'ms-lpa-2.svg')\n",
    "\n",
    "my_basic_lpa(full_nba, 6, False, False)\n",
    "plot_full(full_nba, 'ms-nba.svg')"
   ]
  },
  {
   "cell_type": "code",
   "execution_count": null,
   "metadata": {},
   "outputs": [],
   "source": [
    "result = get_sample(0)\n",
    "my_basic_lpa(result, 6, True, False)\n",
    "plot_full(result, 'ms-lpa-m1-0.svg')\n",
    "\n",
    "result = get_sample(4)\n",
    "my_basic_lpa(result, 6, True, False)\n",
    "plot_full(result, 'ms-lpa-m1-2.svg')\n",
    "\n",
    "my_basic_lpa(full_nba, 6, True, False)\n",
    "plot_full(full_nba, 'ms-m1-nba.svg')"
   ]
  },
  {
   "cell_type": "code",
   "execution_count": null,
   "metadata": {},
   "outputs": [],
   "source": []
  }
 ],
 "metadata": {
  "kernelspec": {
   "display_name": "Python 3",
   "language": "python",
   "name": "python3"
  },
  "language_info": {
   "codemirror_mode": {
    "name": "ipython",
    "version": 3
   },
   "file_extension": ".py",
   "mimetype": "text/x-python",
   "name": "python",
   "nbconvert_exporter": "python",
   "pygments_lexer": "ipython3",
   "version": "3.7.6"
  }
 },
 "nbformat": 4,
 "nbformat_minor": 4
}
