{
 "cells": [
  {
   "cell_type": "code",
   "execution_count": 3,
   "metadata": {},
   "outputs": [],
   "source": [
    "%run visualisation.ipynb\n",
    "%run read_filmweb_graph.ipynb"
   ]
  },
  {
   "cell_type": "code",
   "execution_count": null,
   "metadata": {},
   "outputs": [],
   "source": [
    "g = igraph.Graph()\n",
    "readVertices(\"/home/irek/community-detection/Scrapers/FilmwebScraper/data/allActors.csv\",g,False)\n",
    "readEdges(\"/home/irek/community-detection/Scrapers/FilmwebScraper/data/allActorsRelation.csv\",g,True,False)\n",
    "\n",
    "communitiesCount = 10\n",
    "\n",
    "for v in g.vs:\n",
    "    count = random.randint(1, 4)\n",
    "    v[\"communities\"] = []\n",
    "    for i in range(count):\n",
    "        v[\"communities\"].append(random.randint(0, communitiesCount))\n",
    "    \n",
    "plot_full(g, \"full.svg\")"
   ]
  },
  {
   "cell_type": "code",
   "execution_count": null,
   "metadata": {},
   "outputs": [],
   "source": []
  }
 ],
 "metadata": {
  "kernelspec": {
   "display_name": "Python 3",
   "language": "python",
   "name": "python3"
  },
  "language_info": {
   "codemirror_mode": {
    "name": "ipython",
    "version": 3
   },
   "file_extension": ".py",
   "mimetype": "text/x-python",
   "name": "python",
   "nbconvert_exporter": "python",
   "pygments_lexer": "ipython3",
   "version": "3.7.6"
  }
 },
 "nbformat": 4,
 "nbformat_minor": 2
}
