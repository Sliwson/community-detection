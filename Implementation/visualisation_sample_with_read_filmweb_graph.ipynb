{
 "cells": [
  {
   "cell_type": "code",
   "execution_count": 41,
   "metadata": {},
   "outputs": [],
   "source": [
    "%run visualisation.ipynb\n",
    "%run read_filmweb_graph.ipynb"
   ]
  },
  {
   "cell_type": "code",
   "execution_count": 42,
   "metadata": {},
   "outputs": [],
   "source": [
    "g = igraph.Graph()\n",
    "readVertices(\"allActors.csv\",g,False)\n",
    "readEdges(\"allActorsRelation.csv\",g,True,False)\n",
    "\n",
    "communitiesCount = 10\n",
    "\n",
    "for v in g.vs:\n",
    "    count = random.randint(1, 4)\n",
    "    v[\"communities\"] = []\n",
    "    for i in range(count):\n",
    "        v[\"communities\"].append(random.randint(0, communitiesCount))\n",
    "    \n",
    "plot_full(g, \"full.svg\")"
   ]
  }
 ],
 "metadata": {
  "language_info": {
   "codemirror_mode": {
    "name": "ipython",
    "version": 3
   },
   "file_extension": ".py",
   "mimetype": "text/x-python",
   "name": "python",
   "nbconvert_exporter": "python",
   "pygments_lexer": "ipython3",
   "version": "3.8.2-final"
  },
  "orig_nbformat": 2,
  "kernelspec": {
   "name": "python38232bit647c978e5bed4d39a404941b1039b502",
   "display_name": "Python 3.8.2 32-bit"
  }
 },
 "nbformat": 4,
 "nbformat_minor": 2
}