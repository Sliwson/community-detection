{
 "cells": [
  {
   "cell_type": "code",
   "execution_count": 86,
   "metadata": {},
   "outputs": [],
   "source": [
    "%run visualisation.ipynb"
   ]
  },
  {
   "cell_type": "code",
   "execution_count": 92,
   "metadata": {},
   "outputs": [],
   "source": [
    "#sample\n",
    "g = Graph.GRG(1000, 0.1)\n",
    "communitiesCount = 10\n",
    "\n",
    "for v in g.vs:\n",
    "    count = random.randint(0, 4)\n",
    "    v[\"communities\"] = []\n",
    "    for i in range(count):\n",
    "        v[\"communities\"].append(random.randint(0, communitiesCount))\n",
    "    \n",
    "    #v[\"name\"] = \"pies\"\n",
    "    \n",
    "plot_full(g, \"full.svg\")\n",
    "plot_bfs(g, 0, 3, \"bfs.svg\", 1.5)"
   ]
  },
  {
   "cell_type": "code",
   "execution_count": null,
   "metadata": {},
   "outputs": [],
   "source": []
  }
 ],
 "metadata": {
  "kernelspec": {
   "display_name": "Python 3",
   "language": "python",
   "name": "python3"
  },
  "language_info": {
   "codemirror_mode": {
    "name": "ipython",
    "version": 3
   },
   "file_extension": ".py",
   "mimetype": "text/x-python",
   "name": "python",
   "nbconvert_exporter": "python",
   "pygments_lexer": "ipython3",
   "version": "3.7.6"
  }
 },
 "nbformat": 4,
 "nbformat_minor": 4
}
