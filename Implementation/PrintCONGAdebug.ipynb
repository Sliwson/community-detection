{
 "cells": [
  {
   "cell_type": "code",
   "execution_count": 297,
   "metadata": {},
   "outputs": [],
   "source": [
    "%run visualisation.ipynb\n",
    "%run read_NBAPlayers_graph.ipynb\n",
    "%run GirvanNewmanAlgorithms.ipynb\n",
    "%run CONGAYearAlgorithm.ipynb"
   ]
  },
  {
   "cell_type": "code",
   "execution_count": 2,
   "metadata": {},
   "outputs": [],
   "source": [
    "g = igraph.Graph()\n",
    "readVertices(\"/home/irek/community-detection/Scrapers/BasketballReferenceScraper/data/Players.csv\",g,True)\n",
    "readEdges(\"/home/irek/community-detection/Scrapers/BasketballReferenceScraper/data/Edges.csv\",g, True)"
   ]
  },
  {
   "cell_type": "code",
   "execution_count": 123,
   "metadata": {},
   "outputs": [
    {
     "name": "stdout",
     "output_type": "stream",
     "text": [
      "37\n",
      "39\n"
     ]
    }
   ],
   "source": [
    "AllStars1920 = [4524, 4418, 4778, 112, 3876, 1223, 2591, 3892, 614, 2889, 25, 4147, 3726, 1717, 1085, 2065, 2513, 955, 3311, 2542, 2938, 2004, 2177, 1517, 401, 2009, 3201, 266, 1620, 4393, 4396, 3719, 921, 1149, 1475, 4227, 44, 4278, 3159]\n",
    "Overlap = [-1 for i in range(0, 10*len(AllStars1920))]\n",
    "result = []\n",
    "AllStars1920Graph = g.subgraph(AllStars1920)\n",
    "print(AllStars1920Graph.ecount())\n",
    "print(AllStars1920Graph.vcount())"
   ]
  },
  {
   "cell_type": "code",
   "execution_count": 124,
   "metadata": {},
   "outputs": [
    {
     "name": "stdout",
     "output_type": "stream",
     "text": [
      "[[(37, 37), (12, 23), (31, 36), (25, 39)], [(17, 17), (8, 24), (16, 17)], [(35, 35), (1, 19), (6, 27), (15, 27)], [(27, 27), (8, 24), (11, 39)], [(5, 5), (1, 19), (6, 9), (8, 24)], [(41, 41), (5, 41), (33, 42)], [(14, 26)], [(11, 19)], [(6, 42)], [(0, 43), (0, 44)], [(1, 19), (16, 17), (16, 31)], [(5, 33), (25, 34), (11, 39), (25, 39), (15, 40)], [(6, 9)], [(13, 26), (25, 28), (28, 39), (13, 44)], [(1, 20), (2, 22), (8, 24), (9, 14), (9, 37), (10, 30), (12, 23), (14, 37), (15, 27), (17, 35), (19, 21), (19, 29), (21, 29), (31, 36), (7, 40), (5, 41), (33, 42), (10, 43), (30, 43)]]\n",
      "[-1, -1, -1, -1, -1, -1, -1, -1, -1, -1, -1, -1, -1, -1, -1, -1, -1, -1, -1, -1, -1, -1, -1, -1, -1, -1, -1, -1, -1, -1, -1, -1, -1, -1, -1, -1, -1, -1, -1, 37, 17, 35, 27, 5, 41, -1, -1, -1, -1, -1, -1, -1, -1, -1, -1, -1, -1, -1, -1, -1, -1, -1, -1, -1, -1, -1, -1, -1, -1, -1, -1, -1, -1, -1, -1, -1, -1, -1, -1, -1, -1, -1, -1, -1, -1, -1, -1, -1, -1, -1, -1, -1, -1, -1, -1, -1, -1, -1, -1, -1, -1, -1, -1, -1, -1, -1, -1, -1, -1, -1, -1, -1, -1, -1, -1, -1, -1, -1, -1, -1, -1, -1, -1, -1, -1, -1, -1, -1, -1, -1, -1, -1, -1, -1, -1, -1, -1, -1, -1, -1, -1, -1, -1, -1, -1, -1, -1, -1, -1, -1, -1, -1, -1, -1, -1, -1, -1, -1, -1, -1, -1, -1, -1, -1, -1, -1, -1, -1, -1, -1, -1, -1, -1, -1, -1, -1, -1, -1, -1, -1, -1, -1, -1, -1, -1, -1, -1, -1, -1, -1, -1, -1, -1, -1, -1, -1, -1, -1, -1, -1, -1, -1, -1, -1, -1, -1, -1, -1, -1, -1, -1, -1, -1, -1, -1, -1, -1, -1, -1, -1, -1, -1, -1, -1, -1, -1, -1, -1, -1, -1, -1, -1, -1, -1, -1, -1, -1, -1, -1, -1, -1, -1, -1, -1, -1, -1, -1, -1, -1, -1, -1, -1, -1, -1, -1, -1, -1, -1, -1, -1, -1, -1, -1, -1, -1, -1, -1, -1, -1, -1, -1, -1, -1, -1, -1, -1, -1, -1, -1, -1, -1, -1, -1, -1, -1, -1, -1, -1, -1, -1, -1, -1, -1, -1, -1, -1, -1, -1, -1, -1, -1, -1, -1, -1, -1, -1, -1, -1, -1, -1, -1, -1, -1, -1, -1, -1, -1, -1, -1, -1, -1, -1, -1, -1, -1, -1, -1, -1, -1, -1, -1, -1, -1, -1, -1, -1, -1, -1, -1, -1, -1, -1, -1, -1, -1, -1, -1, -1, -1, -1, -1, -1, -1, -1, -1, -1, -1, -1, -1, -1, -1, -1, -1, -1, -1, -1, -1, -1, -1, -1, -1, -1, -1, -1, -1, -1, -1, -1, -1, -1, -1, -1, -1, -1, -1, -1, -1, -1, -1, -1]\n"
     ]
    }
   ],
   "source": [
    "CONGAYearAlgorithm(AllStars1920Graph, result, Overlap)\n",
    "print(result)\n",
    "print(Overlap)"
   ]
  },
  {
   "cell_type": "code",
   "execution_count": 125,
   "metadata": {},
   "outputs": [
    {
     "name": "stdout",
     "output_type": "stream",
     "text": [
      "0\n",
      "45\n",
      "0\n",
      "39\n"
     ]
    }
   ],
   "source": [
    "resultGraph = AllStars1920Graph.copy()\n",
    "print(resultGraph.ecount())\n",
    "print(resultGraph.vcount())\n",
    "toPrint = g.subgraph(AllStars1920)\n",
    "while toPrint.ecount() > 0:\n",
    "    for edge in toPrint.es:\n",
    "        toPrint.delete_edges(edge)\n",
    "print(toPrint.ecount())\n",
    "print(toPrint.vcount())"
   ]
  },
  {
   "cell_type": "code",
   "execution_count": 274,
   "metadata": {},
   "outputs": [],
   "source": [
    "index = 15"
   ]
  },
  {
   "cell_type": "code",
   "execution_count": 275,
   "metadata": {},
   "outputs": [
    {
     "name": "stdout",
     "output_type": "stream",
     "text": [
      "[(37, 37), (11, 37), (25, 37), (28, 37)]\n"
     ]
    }
   ],
   "source": [
    "x = result[len(result)-index]\n",
    "print(x)"
   ]
  },
  {
   "cell_type": "code",
   "execution_count": 276,
   "metadata": {},
   "outputs": [
    {
     "name": "stdout",
     "output_type": "stream",
     "text": [
      "40\n",
      "37\n",
      "34\n"
     ]
    }
   ],
   "source": [
    "print(resultGraph.vcount())\n",
    "print(resultGraph.ecount())\n",
    "resultGraph.delete_vertices(resultGraph.vcount()-1)\n",
    "#for edge in resultGraph.es:\n",
    "    #print(edge.source, edge.target)\n",
    "print(resultGraph.ecount())"
   ]
  },
  {
   "cell_type": "code",
   "execution_count": 277,
   "metadata": {},
   "outputs": [
    {
     "name": "stdout",
     "output_type": "stream",
     "text": [
      "(11, 37)\n",
      "(25, 37)\n",
      "(28, 37)\n"
     ]
    }
   ],
   "source": [
    "for edge in x:\n",
    "    if(edge[0]==edge[1]):\n",
    "        continue\n",
    "    print(edge)\n",
    "    resultGraph.add_edges([edge])"
   ]
  },
  {
   "cell_type": "code",
   "execution_count": 195,
   "metadata": {},
   "outputs": [
    {
     "name": "stdout",
     "output_type": "stream",
     "text": [
      "44\n",
      "1 20\n",
      "2 22\n",
      "8 24\n",
      "9 14\n",
      "9 37\n",
      "10 30\n",
      "12 23\n",
      "14 37\n",
      "15 27\n",
      "17 35\n",
      "19 21\n",
      "19 29\n",
      "21 29\n",
      "31 36\n",
      "7 40\n",
      "5 41\n",
      "33 42\n",
      "10 43\n",
      "30 43\n",
      "13 26\n",
      "25 28\n",
      "28 39\n",
      "6 9\n",
      "5 33\n",
      "25 34\n",
      "11 39\n",
      "25 39\n",
      "15 40\n",
      "1 19\n",
      "16 17\n",
      "16 31\n",
      "0 43\n",
      "6 42\n",
      "11 19\n",
      "14 26\n",
      "5 41\n",
      "33 42\n"
     ]
    }
   ],
   "source": [
    "#resultGraph.delete_vertices(resultGraph.vcount()-1)\n",
    "print(resultGraph.vcount())\n",
    "for edge in resultGraph.es:\n",
    "    print(edge.source, edge.target)"
   ]
  },
  {
   "cell_type": "code",
   "execution_count": 278,
   "metadata": {},
   "outputs": [
    {
     "name": "stdout",
     "output_type": "stream",
     "text": [
      "[[0, 1, 5, 6, 7, 9, 10, 11, 13, 14, 15, 16, 17, 19, 20, 21, 25, 26, 27, 28, 29, 30, 31, 33, 34, 35, 36, 37], [2, 22], [3], [4], [8, 24], [12, 23], [18], [32], [38]]\n"
     ]
    }
   ],
   "source": [
    "comp = [[] for i in range(0, len(resultGraph.components()))]\n",
    "counter = 0\n",
    "for component in resultGraph.components():\n",
    "    if(len(component)==1 and component[0] >= 39):\n",
    "        print(component[0])\n",
    "        continue\n",
    "    toAdd = []\n",
    "    for vertex in component:\n",
    "        if(vertex<39): #Change\n",
    "            toAdd.append(vertex)\n",
    "        else:\n",
    "            while(Overlap[vertex]!=-1):\n",
    "                vertex=Overlap[vertex]\n",
    "            toAdd.append(vertex)\n",
    "    comp[counter] = toAdd\n",
    "    counter+=1\n",
    "print(comp)"
   ]
  },
  {
   "cell_type": "code",
   "execution_count": 237,
   "metadata": {},
   "outputs": [
    {
     "name": "stdout",
     "output_type": "stream",
     "text": [
      "39\n",
      "39\n"
     ]
    }
   ],
   "source": [
    "for edge in x:\n",
    "    source = edge[0]\n",
    "    target = edge[1]\n",
    "    if(source == target):\n",
    "        continue\n",
    "    if(source>=39): #Change\n",
    "        while(Overlap[source]!=-1):\n",
    "            source=Overlap[source]\n",
    "    if(target>=39):\n",
    "        while(Overlap[target]!=-1):\n",
    "            target=Overlap[target]\n",
    "    toPrint.add_edges([(source,target)])\n",
    "print(toPrint.vcount())\n",
    "print(toPrint.ecount())"
   ]
  },
  {
   "cell_type": "code",
   "execution_count": 279,
   "metadata": {},
   "outputs": [
    {
     "name": "stdout",
     "output_type": "stream",
     "text": [
      "[0]\n",
      "[0]\n",
      "[0]\n",
      "[0]\n",
      "[0]\n",
      "[0]\n",
      "[0]\n",
      "[0]\n",
      "[0]\n",
      "[0]\n",
      "[0]\n",
      "[0]\n",
      "[0]\n",
      "[0]\n",
      "[0]\n",
      "[0]\n",
      "[0]\n",
      "[0]\n",
      "[0]\n",
      "[0]\n",
      "[0]\n",
      "[0]\n",
      "[0]\n",
      "[0]\n",
      "[0]\n",
      "[0]\n",
      "[0]\n",
      "[0]\n",
      "[1]\n",
      "[1]\n",
      "[2]\n",
      "[3]\n",
      "[4]\n",
      "[4]\n",
      "[5]\n",
      "[5]\n",
      "[6]\n",
      "[7]\n",
      "[8]\n",
      "39\n"
     ]
    }
   ],
   "source": [
    "counter = 0\n",
    "for vertex in toPrint.vs:\n",
    "    vertex[\"communities\"] = []\n",
    "for c in comp:\n",
    "    for vertex in c:\n",
    "        toPrint.vs[vertex][\"communities\"].append(counter)\n",
    "        print(toPrint.vs[vertex][\"communities\"])\n",
    "    counter+=1\n",
    "print(toPrint.vcount())\n",
    "plot_full(toPrint, \"Test.svg\")"
   ]
  },
  {
   "cell_type": "code",
   "execution_count": 302,
   "metadata": {},
   "outputs": [],
   "source": [
    "%run PrintCONGA.ipynb"
   ]
  },
  {
   "cell_type": "code",
   "execution_count": 239,
   "metadata": {},
   "outputs": [
    {
     "name": "stdout",
     "output_type": "stream",
     "text": [
      "37\n",
      "39\n"
     ]
    }
   ],
   "source": [
    "AllStars1920 = [4524, 4418, 4778, 112, 3876, 1223, 2591, 3892, 614, 2889, 25, 4147, 3726, 1717, 1085, 2065, 2513, 955, 3311, 2542, 2938, 2004, 2177, 1517, 401, 2009, 3201, 266, 1620, 4393, 4396, 3719, 921, 1149, 1475, 4227, 44, 4278, 3159]\n",
    "Overlap = [-1 for i in range(0, 10*len(AllStars1920))]\n",
    "result = []\n",
    "AllStars1920Graph = g.subgraph(AllStars1920)\n",
    "print(AllStars1920Graph.ecount())\n",
    "print(AllStars1920Graph.vcount())"
   ]
  },
  {
   "cell_type": "code",
   "execution_count": 240,
   "metadata": {},
   "outputs": [
    {
     "name": "stdout",
     "output_type": "stream",
     "text": [
      "[[(37, 37), (11, 37), (25, 37), (28, 37)], [(17, 17), (7, 17), (15, 17)], [(35, 35), (0, 35), (5, 35), (13, 35)], [(27, 27), (6, 27), (27, 33)], [(5, 5), (0, 5), (5, 10), (5, 30)], [(41, 41), (0, 41), (13, 41)], [(14, 26)], [(11, 19)], [(6, 42)], [(0, 43), (0, 44)], [(1, 19), (16, 17), (16, 31)], [(5, 33), (25, 34), (11, 39), (25, 39), (15, 40)], [(6, 9)], [(13, 26), (25, 28), (28, 39), (13, 44)], [(1, 20), (2, 22), (8, 24), (9, 14), (9, 37), (10, 30), (12, 23), (14, 37), (15, 27), (17, 35), (19, 21), (19, 29), (21, 29), (31, 36), (7, 40), (5, 41), (33, 42), (10, 43), (30, 43)]]\n",
      "[-1, -1, -1, -1, -1, -1, -1, -1, -1, -1, -1, -1, -1, -1, -1, -1, -1, -1, -1, -1, -1, -1, -1, -1, -1, -1, -1, -1, -1, -1, -1, -1, -1, -1, -1, -1, -1, -1, -1, 37, 17, 35, 27, 5, 41, -1, -1, -1, -1, -1, -1, -1, -1, -1, -1, -1, -1, -1, -1, -1, -1, -1, -1, -1, -1, -1, -1, -1, -1, -1, -1, -1, -1, -1, -1, -1, -1, -1, -1, -1, -1, -1, -1, -1, -1, -1, -1, -1, -1, -1, -1, -1, -1, -1, -1, -1, -1, -1, -1, -1, -1, -1, -1, -1, -1, -1, -1, -1, -1, -1, -1, -1, -1, -1, -1, -1, -1, -1, -1, -1, -1, -1, -1, -1, -1, -1, -1, -1, -1, -1, -1, -1, -1, -1, -1, -1, -1, -1, -1, -1, -1, -1, -1, -1, -1, -1, -1, -1, -1, -1, -1, -1, -1, -1, -1, -1, -1, -1, -1, -1, -1, -1, -1, -1, -1, -1, -1, -1, -1, -1, -1, -1, -1, -1, -1, -1, -1, -1, -1, -1, -1, -1, -1, -1, -1, -1, -1, -1, -1, -1, -1, -1, -1, -1, -1, -1, -1, -1, -1, -1, -1, -1, -1, -1, -1, -1, -1, -1, -1, -1, -1, -1, -1, -1, -1, -1, -1, -1, -1, -1, -1, -1, -1, -1, -1, -1, -1, -1, -1, -1, -1, -1, -1, -1, -1, -1, -1, -1, -1, -1, -1, -1, -1, -1, -1, -1, -1, -1, -1, -1, -1, -1, -1, -1, -1, -1, -1, -1, -1, -1, -1, -1, -1, -1, -1, -1, -1, -1, -1, -1, -1, -1, -1, -1, -1, -1, -1, -1, -1, -1, -1, -1, -1, -1, -1, -1, -1, -1, -1, -1, -1, -1, -1, -1, -1, -1, -1, -1, -1, -1, -1, -1, -1, -1, -1, -1, -1, -1, -1, -1, -1, -1, -1, -1, -1, -1, -1, -1, -1, -1, -1, -1, -1, -1, -1, -1, -1, -1, -1, -1, -1, -1, -1, -1, -1, -1, -1, -1, -1, -1, -1, -1, -1, -1, -1, -1, -1, -1, -1, -1, -1, -1, -1, -1, -1, -1, -1, -1, -1, -1, -1, -1, -1, -1, -1, -1, -1, -1, -1, -1, -1, -1, -1, -1, -1, -1, -1, -1, -1, -1, -1, -1, -1, -1, -1, -1, -1, -1, -1, -1]\n"
     ]
    }
   ],
   "source": [
    "CONGAYearAlgorithm(AllStars1920Graph, result, Overlap)\n",
    "print(result)\n",
    "print(Overlap)"
   ]
  },
  {
   "cell_type": "code",
   "execution_count": 241,
   "metadata": {},
   "outputs": [
    {
     "name": "stdout",
     "output_type": "stream",
     "text": [
      "0\n",
      "45\n",
      "0\n",
      "39\n"
     ]
    }
   ],
   "source": [
    "resultGraph = AllStars1920Graph.copy()\n",
    "print(resultGraph.ecount())\n",
    "print(resultGraph.vcount())\n",
    "toPrint = g.subgraph(AllStars1920)\n",
    "while toPrint.ecount() > 0:\n",
    "    for edge in toPrint.es:\n",
    "        toPrint.delete_edges(edge)\n",
    "print(toPrint.ecount())\n",
    "print(toPrint.vcount())"
   ]
  },
  {
   "cell_type": "code",
   "execution_count": 242,
   "metadata": {},
   "outputs": [],
   "source": [
    "test = PrintGraph(resultGraph, toPrint, result, Overlap, 10)"
   ]
  },
  {
   "cell_type": "code",
   "execution_count": 243,
   "metadata": {},
   "outputs": [
    {
     "name": "stdout",
     "output_type": "stream",
     "text": [
      "37\n",
      "39\n"
     ]
    }
   ],
   "source": [
    "print(test.ecount())\n",
    "print(test.vcount())"
   ]
  },
  {
   "cell_type": "code",
   "execution_count": 206,
   "metadata": {},
   "outputs": [],
   "source": [
    "plot_full(toPrint, \"Test.svg\")"
   ]
  },
  {
   "cell_type": "code",
   "execution_count": 298,
   "metadata": {},
   "outputs": [
    {
     "name": "stdout",
     "output_type": "stream",
     "text": [
      "60\n",
      "47\n",
      "[[(45, 45), (15, 45), (31, 45), (35, 45)], [(11, 27)], [(23, 23), (8, 23), (21, 23)], [(34, 34), (7, 34), (12, 34), (17, 34), (34, 40)], [(49, 49), (40, 49)], [(18, 42)], [(6, 8)], [(15, 25)], [(12, 49)], [(19, 32)], [(5, 5), (0, 5), (5, 11), (5, 14), (5, 37)], [(42, 42), (0, 42), (5, 42)], [(0, 52)], [(20, 20), (14, 20), (20, 37)], [(11, 42)], [(13, 13), (6, 13), (7, 13), (13, 17)], [(22, 23)], [(12, 18), (12, 28)], [(51, 51), (0, 51), (11, 51)], [(1, 26), (7, 50)], [(31, 41), (15, 47), (31, 47), (21, 48)], [(38, 43)], [(1, 25)], [(1, 9)], [(5, 40), (10, 30), (10, 33), (31, 35), (35, 47), (7, 49), (17, 49), (5, 52)], [(9, 27), (9, 36), (25, 27), (25, 36), (14, 51), (37, 51), (14, 53), (37, 53)], [(0, 11), (2, 28), (3, 44), (6, 7), (6, 17), (7, 17), (13, 19), (13, 45), (14, 37), (16, 29), (18, 32), (19, 45), (20, 22), (20, 38), (21, 34), (22, 38), (23, 42), (27, 36), (8, 48), (6, 54), (7, 54), (17, 54), (0, 55), (11, 55)]]\n",
      "[-1, -1, -1, -1, -1, -1, -1, -1, -1, -1, -1, -1, -1, -1, -1, -1, -1, -1, -1, -1, -1, -1, -1, -1, -1, -1, -1, -1, -1, -1, -1, -1, -1, -1, -1, -1, -1, -1, -1, -1, -1, -1, -1, -1, -1, -1, -1, 45, 23, 34, 49, 5, 42, 20, 13, 51, -1, -1, -1, -1, -1, -1, -1, -1, -1, -1, -1, -1, -1, -1, -1, -1, -1, -1, -1, -1, -1, -1, -1, -1, -1, -1, -1, -1, -1, -1, -1, -1, -1, -1, -1, -1, -1, -1, -1, -1, -1, -1, -1, -1, -1, -1, -1, -1, -1, -1, -1, -1, -1, -1, -1, -1, -1, -1, -1, -1, -1, -1, -1, -1, -1, -1, -1, -1, -1, -1, -1, -1, -1, -1, -1, -1, -1, -1, -1, -1, -1, -1, -1, -1, -1, -1, -1, -1, -1, -1, -1, -1, -1, -1, -1, -1, -1, -1, -1, -1, -1, -1, -1, -1, -1, -1, -1, -1, -1, -1, -1, -1, -1, -1, -1, -1, -1, -1, -1, -1, -1, -1, -1, -1, -1, -1, -1, -1, -1, -1, -1, -1, -1, -1, -1, -1, -1, -1, -1, -1, -1, -1, -1, -1, -1, -1, -1, -1, -1, -1, -1, -1, -1, -1, -1, -1, -1, -1, -1, -1, -1, -1, -1, -1, -1, -1, -1, -1, -1, -1, -1, -1, -1, -1, -1, -1, -1, -1, -1, -1, -1, -1, -1, -1, -1, -1, -1, -1, -1, -1, -1, -1, -1, -1, -1, -1, -1, -1, -1, -1, -1, -1, -1, -1, -1, -1, -1, -1, -1, -1, -1, -1, -1, -1, -1, -1, -1, -1, -1, -1, -1, -1, -1, -1, -1, -1, -1, -1, -1, -1, -1, -1, -1, -1, -1, -1, -1, -1, -1, -1, -1, -1, -1, -1, -1, -1, -1, -1, -1, -1, -1, -1, -1, -1, -1, -1, -1, -1, -1, -1, -1, -1, -1, -1, -1, -1, -1, -1, -1, -1, -1, -1, -1, -1, -1, -1, -1, -1, -1, -1, -1, -1, -1, -1, -1, -1, -1, -1, -1, -1, -1, -1, -1, -1, -1, -1, -1, -1, -1, -1, -1, -1, -1, -1, -1, -1, -1, -1, -1, -1, -1, -1, -1, -1, -1, -1, -1, -1, -1, -1, -1, -1, -1, -1, -1, -1, -1, -1, -1, -1, -1, -1, -1, -1, -1, -1, -1, -1, -1, -1, -1, -1, -1, -1, -1, -1, -1, -1, -1, -1, -1, -1, -1, -1, -1, -1, -1, -1, -1, -1, -1, -1, -1, -1, -1, -1, -1, -1, -1, -1, -1, -1, -1, -1, -1, -1, -1, -1, -1, -1, -1, -1, -1, -1, -1, -1, -1, -1, -1, -1, -1, -1, -1, -1, -1, -1, -1, -1, -1, -1, -1, -1, -1, -1, -1, -1, -1, -1, -1, -1, -1, -1, -1, -1]\n"
     ]
    }
   ],
   "source": [
    "AllStars181920 = [4524, 4418, 4778, 112, 3876, 1223, 2591, 3892, 614, 2889, 25, 4147, 3726, 1717, 1085, 2065, 2513, 955, 3311, 2542, 2938, 2004, 2177, 1517, 401, 2009, 3201, 266, 1620, 4393, 4396, 3719, 921, 1149, 1475, 4227, 44, 4278, 3159, 1038, 1113, 1929, 3429, 4432, 1125, 863, 1588]\n",
    "Overlap = [-1 for i in range(0, 10*len(AllStars181920))]\n",
    "result = []\n",
    "AllStars181920Graph = g.subgraph(AllStars181920)\n",
    "print(AllStars181920Graph.ecount())\n",
    "print(AllStars181920Graph.vcount())\n",
    "CONGAYearAlgorithm(AllStars181920Graph, result, Overlap)\n",
    "print(result)\n",
    "print(Overlap)"
   ]
  },
  {
   "cell_type": "code",
   "execution_count": 303,
   "metadata": {},
   "outputs": [
    {
     "name": "stdout",
     "output_type": "stream",
     "text": [
      "0\n",
      "56\n",
      "0\n",
      "47\n"
     ]
    }
   ],
   "source": [
    "resultGraph = AllStars181920Graph.copy()\n",
    "print(resultGraph.ecount())\n",
    "print(resultGraph.vcount())\n",
    "toPrint = g.subgraph(AllStars181920)\n",
    "while toPrint.ecount() > 0:\n",
    "    for edge in toPrint.es:\n",
    "        toPrint.delete_edges(edge)\n",
    "print(toPrint.ecount())\n",
    "print(toPrint.vcount())\n",
    "\n",
    "test = PrintGraph(resultGraph, toPrint, result, Overlap, len(result),1)"
   ]
  },
  {
   "cell_type": "code",
   "execution_count": null,
   "metadata": {},
   "outputs": [],
   "source": []
  }
 ],
 "metadata": {
  "kernelspec": {
   "display_name": "Python 3",
   "language": "python",
   "name": "python3"
  },
  "language_info": {
   "codemirror_mode": {
    "name": "ipython",
    "version": 3
   },
   "file_extension": ".py",
   "mimetype": "text/x-python",
   "name": "python",
   "nbconvert_exporter": "python",
   "pygments_lexer": "ipython3",
   "version": "3.7.6"
  }
 },
 "nbformat": 4,
 "nbformat_minor": 4
}
