{
 "cells": [
  {
   "cell_type": "code",
   "execution_count": 1,
   "metadata": {},
   "outputs": [],
   "source": [
    "%run visualisation.ipynb\n",
    "%run read_graph.ipynb\n",
    "%run GirvanNewmanAlgorithms.ipynb\n",
    "%run CONGAYearAlgorithm.ipynb"
   ]
  },
  {
   "cell_type": "code",
   "execution_count": 3,
   "metadata": {},
   "outputs": [
    {
     "name": "stdout",
     "output_type": "stream",
     "text": [
      "Reading full NBA graph, begin...\n",
      "Reading file ../Scrapers/BasketballReferenceScraper/data/Players.csv, begin...\n",
      "Data lines read: 4800\n",
      "Reading file ../Scrapers/BasketballReferenceScraper/data/Edges.csv, begin...\n",
      "Data lines read: 146369\n",
      "Reading NBA vertices, begin...\n",
      "Vertices read: 4800\n",
      "Reading NBA edges, begin...\n",
      "Weights loaded correctly\n",
      "Edges read: 146369\n",
      "Loading succesfull\n"
     ]
    }
   ],
   "source": [
    "g = read_nba_full(\"../Scrapers/BasketballReferenceScraper/data/Players.csv\",\n",
    "                  \"../Scrapers/BasketballReferenceScraper/data/Edges.csv\",\n",
    "                  True, True)"
   ]
  },
  {
   "cell_type": "code",
   "execution_count": 4,
   "metadata": {},
   "outputs": [
    {
     "name": "stdout",
     "output_type": "stream",
     "text": [
      "38\n",
      "39\n"
     ]
    }
   ],
   "source": [
    "AllStars1920 = [4524, 4418, 4778, 112, 3876, 1223, 2591, 3892, 614, 2889, 25, 4147, 3726, 1717, 1085, 2065, 2513, 955, 3311, 2542, 2938, 2004, 2177, 1517, 401, 2009, 3201, 266, 1620, 4393, 4396, 3719, 921, 1149, 1475, 4227, 44, 4278, 3159]\n",
    "Overlap = [-1 for i in range(0, 10*len(AllStars1920))]\n",
    "result = []\n",
    "AllStars1920Graph = g.subgraph(AllStars1920)\n",
    "print(AllStars1920Graph.ecount())\n",
    "print(AllStars1920Graph.vcount())"
   ]
  },
  {
   "cell_type": "code",
   "execution_count": 5,
   "metadata": {},
   "outputs": [
    {
     "name": "stdout",
     "output_type": "stream",
     "text": [
      "[[(6, 27)], [(37, 37), (11, 37), (14, 37), (25, 37), (28, 37)], [(39, 39), (14, 39)], [(17, 17), (7, 17), (15, 17), (16, 17)], [(27, 33)], [(11, 19)], [(9, 14)], [(16, 41)], [(5, 5), (0, 5), (5, 10), (5, 30)], [(0, 35)], [(1, 19)], [(5, 35), (14, 26), (25, 34), (11, 39), (25, 39), (15, 41)], [(9, 37), (0, 42)], [(16, 31), (25, 28), (31, 36), (28, 39)], [(1, 20), (2, 22), (5, 33), (6, 9), (6, 32), (8, 24), (9, 32), (10, 30), (12, 23), (13, 26), (15, 27), (17, 35), (19, 21), (19, 29), (21, 29), (14, 40), (7, 41), (10, 42), (30, 42)]]\n",
      "[-1, -1, -1, -1, -1, -1, -1, -1, -1, -1, -1, -1, -1, -1, -1, -1, -1, -1, -1, -1, -1, -1, -1, -1, -1, -1, -1, -1, -1, -1, -1, -1, -1, -1, -1, -1, -1, -1, -1, 37, 39, 17, 5, -1, -1, -1, -1, -1, -1, -1, -1, -1, -1, -1, -1, -1, -1, -1, -1, -1, -1, -1, -1, -1, -1, -1, -1, -1, -1, -1, -1, -1, -1, -1, -1, -1, -1, -1, -1, -1, -1, -1, -1, -1, -1, -1, -1, -1, -1, -1, -1, -1, -1, -1, -1, -1, -1, -1, -1, -1, -1, -1, -1, -1, -1, -1, -1, -1, -1, -1, -1, -1, -1, -1, -1, -1, -1, -1, -1, -1, -1, -1, -1, -1, -1, -1, -1, -1, -1, -1, -1, -1, -1, -1, -1, -1, -1, -1, -1, -1, -1, -1, -1, -1, -1, -1, -1, -1, -1, -1, -1, -1, -1, -1, -1, -1, -1, -1, -1, -1, -1, -1, -1, -1, -1, -1, -1, -1, -1, -1, -1, -1, -1, -1, -1, -1, -1, -1, -1, -1, -1, -1, -1, -1, -1, -1, -1, -1, -1, -1, -1, -1, -1, -1, -1, -1, -1, -1, -1, -1, -1, -1, -1, -1, -1, -1, -1, -1, -1, -1, -1, -1, -1, -1, -1, -1, -1, -1, -1, -1, -1, -1, -1, -1, -1, -1, -1, -1, -1, -1, -1, -1, -1, -1, -1, -1, -1, -1, -1, -1, -1, -1, -1, -1, -1, -1, -1, -1, -1, -1, -1, -1, -1, -1, -1, -1, -1, -1, -1, -1, -1, -1, -1, -1, -1, -1, -1, -1, -1, -1, -1, -1, -1, -1, -1, -1, -1, -1, -1, -1, -1, -1, -1, -1, -1, -1, -1, -1, -1, -1, -1, -1, -1, -1, -1, -1, -1, -1, -1, -1, -1, -1, -1, -1, -1, -1, -1, -1, -1, -1, -1, -1, -1, -1, -1, -1, -1, -1, -1, -1, -1, -1, -1, -1, -1, -1, -1, -1, -1, -1, -1, -1, -1, -1, -1, -1, -1, -1, -1, -1, -1, -1, -1, -1, -1, -1, -1, -1, -1, -1, -1, -1, -1, -1, -1, -1, -1, -1, -1, -1, -1, -1, -1, -1, -1, -1, -1, -1, -1, -1, -1, -1, -1, -1, -1, -1, -1, -1, -1, -1, -1, -1, -1, -1, -1, -1, -1, -1, -1, -1]\n"
     ]
    }
   ],
   "source": [
    "CONGAYearAlgorithm(AllStars1920Graph, result, Overlap)\n",
    "print(result)\n",
    "print(Overlap)"
   ]
  },
  {
   "cell_type": "code",
   "execution_count": 125,
   "metadata": {},
   "outputs": [
    {
     "name": "stdout",
     "output_type": "stream",
     "text": [
      "0\n",
      "45\n",
      "0\n",
      "39\n"
     ]
    }
   ],
   "source": [
    "resultGraph = AllStars1920Graph.copy()\n",
    "print(resultGraph.ecount())\n",
    "print(resultGraph.vcount())\n",
    "toPrint = g.subgraph(AllStars1920)\n",
    "while toPrint.ecount() > 0:\n",
    "    for edge in toPrint.es:\n",
    "        toPrint.delete_edges(edge)\n",
    "print(toPrint.ecount())\n",
    "print(toPrint.vcount())"
   ]
  },
  {
   "cell_type": "code",
   "execution_count": 274,
   "metadata": {},
   "outputs": [],
   "source": [
    "index = 15"
   ]
  },
  {
   "cell_type": "code",
   "execution_count": 275,
   "metadata": {},
   "outputs": [
    {
     "name": "stdout",
     "output_type": "stream",
     "text": [
      "[(37, 37), (11, 37), (25, 37), (28, 37)]\n"
     ]
    }
   ],
   "source": [
    "x = result[len(result)-index]\n",
    "print(x)"
   ]
  },
  {
   "cell_type": "code",
   "execution_count": 276,
   "metadata": {},
   "outputs": [
    {
     "name": "stdout",
     "output_type": "stream",
     "text": [
      "40\n",
      "37\n",
      "34\n"
     ]
    }
   ],
   "source": [
    "print(resultGraph.vcount())\n",
    "print(resultGraph.ecount())\n",
    "resultGraph.delete_vertices(resultGraph.vcount()-1)\n",
    "#for edge in resultGraph.es:\n",
    "    #print(edge.source, edge.target)\n",
    "print(resultGraph.ecount())"
   ]
  },
  {
   "cell_type": "code",
   "execution_count": 277,
   "metadata": {},
   "outputs": [
    {
     "name": "stdout",
     "output_type": "stream",
     "text": [
      "(11, 37)\n",
      "(25, 37)\n",
      "(28, 37)\n"
     ]
    }
   ],
   "source": [
    "for edge in x:\n",
    "    if(edge[0]==edge[1]):\n",
    "        continue\n",
    "    print(edge)\n",
    "    resultGraph.add_edges([edge])"
   ]
  },
  {
   "cell_type": "code",
   "execution_count": 195,
   "metadata": {},
   "outputs": [
    {
     "name": "stdout",
     "output_type": "stream",
     "text": [
      "44\n",
      "1 20\n",
      "2 22\n",
      "8 24\n",
      "9 14\n",
      "9 37\n",
      "10 30\n",
      "12 23\n",
      "14 37\n",
      "15 27\n",
      "17 35\n",
      "19 21\n",
      "19 29\n",
      "21 29\n",
      "31 36\n",
      "7 40\n",
      "5 41\n",
      "33 42\n",
      "10 43\n",
      "30 43\n",
      "13 26\n",
      "25 28\n",
      "28 39\n",
      "6 9\n",
      "5 33\n",
      "25 34\n",
      "11 39\n",
      "25 39\n",
      "15 40\n",
      "1 19\n",
      "16 17\n",
      "16 31\n",
      "0 43\n",
      "6 42\n",
      "11 19\n",
      "14 26\n",
      "5 41\n",
      "33 42\n"
     ]
    }
   ],
   "source": [
    "#resultGraph.delete_vertices(resultGraph.vcount()-1)\n",
    "print(resultGraph.vcount())\n",
    "for edge in resultGraph.es:\n",
    "    print(edge.source, edge.target)"
   ]
  },
  {
   "cell_type": "code",
   "execution_count": 278,
   "metadata": {},
   "outputs": [
    {
     "name": "stdout",
     "output_type": "stream",
     "text": [
      "[[0, 1, 5, 6, 7, 9, 10, 11, 13, 14, 15, 16, 17, 19, 20, 21, 25, 26, 27, 28, 29, 30, 31, 33, 34, 35, 36, 37], [2, 22], [3], [4], [8, 24], [12, 23], [18], [32], [38]]\n"
     ]
    }
   ],
   "source": [
    "comp = [[] for i in range(0, len(resultGraph.components()))]\n",
    "counter = 0\n",
    "for component in resultGraph.components():\n",
    "    if(len(component)==1 and component[0] >= 39):\n",
    "        print(component[0])\n",
    "        continue\n",
    "    toAdd = []\n",
    "    for vertex in component:\n",
    "        if(vertex<39): #Change\n",
    "            toAdd.append(vertex)\n",
    "        else:\n",
    "            while(Overlap[vertex]!=-1):\n",
    "                vertex=Overlap[vertex]\n",
    "            toAdd.append(vertex)\n",
    "    comp[counter] = toAdd\n",
    "    counter+=1\n",
    "print(comp)"
   ]
  },
  {
   "cell_type": "code",
   "execution_count": 237,
   "metadata": {},
   "outputs": [
    {
     "name": "stdout",
     "output_type": "stream",
     "text": [
      "39\n",
      "39\n"
     ]
    }
   ],
   "source": [
    "for edge in x:\n",
    "    source = edge[0]\n",
    "    target = edge[1]\n",
    "    if(source == target):\n",
    "        continue\n",
    "    if(source>=39): #Change\n",
    "        while(Overlap[source]!=-1):\n",
    "            source=Overlap[source]\n",
    "    if(target>=39):\n",
    "        while(Overlap[target]!=-1):\n",
    "            target=Overlap[target]\n",
    "    toPrint.add_edges([(source,target)])\n",
    "print(toPrint.vcount())\n",
    "print(toPrint.ecount())"
   ]
  },
  {
   "cell_type": "code",
   "execution_count": 279,
   "metadata": {},
   "outputs": [
    {
     "name": "stdout",
     "output_type": "stream",
     "text": [
      "[0]\n",
      "[0]\n",
      "[0]\n",
      "[0]\n",
      "[0]\n",
      "[0]\n",
      "[0]\n",
      "[0]\n",
      "[0]\n",
      "[0]\n",
      "[0]\n",
      "[0]\n",
      "[0]\n",
      "[0]\n",
      "[0]\n",
      "[0]\n",
      "[0]\n",
      "[0]\n",
      "[0]\n",
      "[0]\n",
      "[0]\n",
      "[0]\n",
      "[0]\n",
      "[0]\n",
      "[0]\n",
      "[0]\n",
      "[0]\n",
      "[0]\n",
      "[1]\n",
      "[1]\n",
      "[2]\n",
      "[3]\n",
      "[4]\n",
      "[4]\n",
      "[5]\n",
      "[5]\n",
      "[6]\n",
      "[7]\n",
      "[8]\n",
      "39\n"
     ]
    }
   ],
   "source": [
    "counter = 0\n",
    "for vertex in toPrint.vs:\n",
    "    vertex[\"communities\"] = []\n",
    "for c in comp:\n",
    "    for vertex in c:\n",
    "        toPrint.vs[vertex][\"communities\"].append(counter)\n",
    "        print(toPrint.vs[vertex][\"communities\"])\n",
    "    counter+=1\n",
    "print(toPrint.vcount())\n",
    "plot_full(toPrint, \"Test.svg\")"
   ]
  },
  {
   "cell_type": "code",
   "execution_count": 6,
   "metadata": {},
   "outputs": [],
   "source": [
    "%run PrintCONGA.ipynb"
   ]
  },
  {
   "cell_type": "code",
   "execution_count": 12,
   "metadata": {},
   "outputs": [
    {
     "name": "stdout",
     "output_type": "stream",
     "text": [
      "38\n",
      "39\n"
     ]
    }
   ],
   "source": [
    "AllStars1920 = [4524, 4418, 4778, 112, 3876, 1223, 2591, 3892, 614, 2889, 25, 4147, 3726, 1717, 1085, 2065, 2513, 955, 3311, 2542, 2938, 2004, 2177, 1517, 401, 2009, 3201, 266, 1620, 4393, 4396, 3719, 921, 1149, 1475, 4227, 44, 4278, 3159]\n",
    "Overlap = [-1 for i in range(0, 10*len(AllStars1920))]\n",
    "result = []\n",
    "AllStars1920Graph = g.subgraph(AllStars1920)\n",
    "print(AllStars1920Graph.ecount())\n",
    "print(AllStars1920Graph.vcount())"
   ]
  },
  {
   "cell_type": "code",
   "execution_count": 13,
   "metadata": {},
   "outputs": [
    {
     "name": "stdout",
     "output_type": "stream",
     "text": [
      "[[(6, 27)], [(37, 37), (11, 37), (14, 37), (25, 37), (28, 37)], [(39, 39), (14, 39)], [(17, 17), (7, 17), (15, 17), (16, 17)], [(27, 33)], [(11, 19)], [(9, 14)], [(16, 41)], [(5, 5), (0, 5), (5, 10), (5, 30)], [(0, 35)], [(1, 19)], [(5, 35), (14, 26), (25, 34), (11, 39), (25, 39), (15, 41)], [(9, 37), (0, 42)], [(16, 31), (25, 28), (31, 36), (28, 39)], [(1, 20), (2, 22), (5, 33), (6, 9), (6, 32), (8, 24), (9, 32), (10, 30), (12, 23), (13, 26), (15, 27), (17, 35), (19, 21), (19, 29), (21, 29), (14, 40), (7, 41), (10, 42), (30, 42)]]\n",
      "[-1, -1, -1, -1, -1, -1, -1, -1, -1, -1, -1, -1, -1, -1, -1, -1, -1, -1, -1, -1, -1, -1, -1, -1, -1, -1, -1, -1, -1, -1, -1, -1, -1, -1, -1, -1, -1, -1, -1, 37, 39, 17, 5, -1, -1, -1, -1, -1, -1, -1, -1, -1, -1, -1, -1, -1, -1, -1, -1, -1, -1, -1, -1, -1, -1, -1, -1, -1, -1, -1, -1, -1, -1, -1, -1, -1, -1, -1, -1, -1, -1, -1, -1, -1, -1, -1, -1, -1, -1, -1, -1, -1, -1, -1, -1, -1, -1, -1, -1, -1, -1, -1, -1, -1, -1, -1, -1, -1, -1, -1, -1, -1, -1, -1, -1, -1, -1, -1, -1, -1, -1, -1, -1, -1, -1, -1, -1, -1, -1, -1, -1, -1, -1, -1, -1, -1, -1, -1, -1, -1, -1, -1, -1, -1, -1, -1, -1, -1, -1, -1, -1, -1, -1, -1, -1, -1, -1, -1, -1, -1, -1, -1, -1, -1, -1, -1, -1, -1, -1, -1, -1, -1, -1, -1, -1, -1, -1, -1, -1, -1, -1, -1, -1, -1, -1, -1, -1, -1, -1, -1, -1, -1, -1, -1, -1, -1, -1, -1, -1, -1, -1, -1, -1, -1, -1, -1, -1, -1, -1, -1, -1, -1, -1, -1, -1, -1, -1, -1, -1, -1, -1, -1, -1, -1, -1, -1, -1, -1, -1, -1, -1, -1, -1, -1, -1, -1, -1, -1, -1, -1, -1, -1, -1, -1, -1, -1, -1, -1, -1, -1, -1, -1, -1, -1, -1, -1, -1, -1, -1, -1, -1, -1, -1, -1, -1, -1, -1, -1, -1, -1, -1, -1, -1, -1, -1, -1, -1, -1, -1, -1, -1, -1, -1, -1, -1, -1, -1, -1, -1, -1, -1, -1, -1, -1, -1, -1, -1, -1, -1, -1, -1, -1, -1, -1, -1, -1, -1, -1, -1, -1, -1, -1, -1, -1, -1, -1, -1, -1, -1, -1, -1, -1, -1, -1, -1, -1, -1, -1, -1, -1, -1, -1, -1, -1, -1, -1, -1, -1, -1, -1, -1, -1, -1, -1, -1, -1, -1, -1, -1, -1, -1, -1, -1, -1, -1, -1, -1, -1, -1, -1, -1, -1, -1, -1, -1, -1, -1, -1, -1, -1, -1, -1, -1, -1, -1, -1, -1, -1, -1, -1, -1, -1, -1, -1, -1, -1, -1, -1, -1, -1]\n"
     ]
    }
   ],
   "source": [
    "CONGAYearAlgorithm(AllStars1920Graph, result, Overlap)\n",
    "print(result)\n",
    "print(Overlap)"
   ]
  },
  {
   "cell_type": "code",
   "execution_count": 14,
   "metadata": {},
   "outputs": [
    {
     "name": "stdout",
     "output_type": "stream",
     "text": [
      "0\n",
      "43\n",
      "0\n",
      "39\n"
     ]
    }
   ],
   "source": [
    "resultGraph = AllStars1920Graph.copy()\n",
    "print(resultGraph.ecount())\n",
    "print(resultGraph.vcount())\n",
    "toPrint = g.subgraph(AllStars1920)\n",
    "while toPrint.ecount() > 0:\n",
    "    for edge in toPrint.es:\n",
    "        toPrint.delete_edges(edge)\n",
    "print(toPrint.ecount())\n",
    "print(toPrint.vcount())"
   ]
  },
  {
   "cell_type": "code",
   "execution_count": 15,
   "metadata": {},
   "outputs": [
    {
     "name": "stdout",
     "output_type": "stream",
     "text": [
      "Plotting graph with 39 vertices and 19 edges, begin...\n",
      "Plotting sucessful\n",
      "Plotting graph with 39 vertices and 23 edges, begin...\n",
      "Plotting sucessful\n",
      "Plotting graph with 39 vertices and 25 edges, begin...\n",
      "Plotting sucessful\n",
      "Plotting graph with 39 vertices and 31 edges, begin...\n",
      "Plotting sucessful\n",
      "Plotting graph with 39 vertices and 32 edges, begin...\n",
      "Plotting sucessful\n",
      "Plotting graph with 39 vertices and 33 edges, begin...\n",
      "Plotting sucessful\n",
      "Plotting graph with 39 vertices and 33 edges, begin...\n",
      "Plotting sucessful\n",
      "Plotting graph with 39 vertices and 34 edges, begin...\n",
      "Plotting sucessful\n",
      "Plotting graph with 39 vertices and 35 edges, begin...\n",
      "Plotting sucessful\n",
      "Plotting graph with 39 vertices and 36 edges, begin...\n",
      "Plotting sucessful\n",
      "Plotting graph with 39 vertices and 37 edges, begin...\n",
      "Plotting sucessful\n",
      "Plotting graph with 39 vertices and 37 edges, begin...\n",
      "Plotting sucessful\n",
      "Plotting graph with 39 vertices and 37 edges, begin...\n",
      "Plotting sucessful\n",
      "Plotting graph with 39 vertices and 37 edges, begin...\n",
      "Plotting sucessful\n"
     ]
    }
   ],
   "source": [
    "test = PrintGraph(resultGraph, toPrint, result, Overlap, len(result),1)"
   ]
  },
  {
   "cell_type": "code",
   "execution_count": 243,
   "metadata": {},
   "outputs": [
    {
     "name": "stdout",
     "output_type": "stream",
     "text": [
      "37\n",
      "39\n"
     ]
    }
   ],
   "source": [
    "print(test.ecount())\n",
    "print(test.vcount())"
   ]
  },
  {
   "cell_type": "code",
   "execution_count": 206,
   "metadata": {},
   "outputs": [],
   "source": [
    "plot_full(toPrint, \"Test.svg\")"
   ]
  },
  {
   "cell_type": "code",
   "execution_count": 18,
   "metadata": {},
   "outputs": [
    {
     "name": "stdout",
     "output_type": "stream",
     "text": [
      "66\n",
      "48\n",
      "[[(46, 46), (15, 46), (19, 46), (32, 46), (36, 46)], [(11, 28)], [(19, 19), (19, 33), (19, 48)], [(12, 12), (12, 18), (12, 27)], [(27, 50)], [(23, 23), (8, 23), (21, 23), (22, 23)], [(5, 5), (0, 5), (5, 11), (5, 14), (5, 38)], [(22, 22), (20, 22), (22, 39)], [(43, 43), (0, 43), (5, 43), (27, 43)], [(54, 54), (0, 54), (27, 54)], [(22, 51)], [(48, 48), (48, 49)], [(52, 52), (0, 52), (11, 52)], [(35, 35), (7, 35), (17, 35), (35, 41)], [(6, 8)], [(15, 25)], [(41, 58)], [(13, 13), (6, 13), (7, 13), (13, 17), (13, 40)], [(0, 55), (27, 55)], [(11, 43), (23, 43)], [(20, 20), (14, 20), (20, 38)], [(18, 33), (33, 49)], [(1, 26)], [(32, 42), (15, 48), (32, 48), (21, 51)], [(39, 44)], [(7, 58), (17, 58)], [(1, 25)], [(1, 9)], [(2, 29), (5, 41), (10, 31), (10, 34), (12, 29), (13, 19), (13, 46), (22, 27), (23, 27), (32, 36), (36, 48), (5, 54)], [(9, 28), (9, 37), (25, 28), (25, 37), (14, 52), (38, 52), (14, 60), (38, 60)], [(0, 11), (3, 45), (6, 7), (6, 17), (6, 40), (7, 17), (7, 40), (14, 38), (16, 30), (17, 40), (20, 39), (21, 35), (28, 37), (18, 50), (8, 51), (20, 53), (39, 53), (49, 56), (0, 57), (11, 57), (6, 59), (7, 59), (17, 59), (40, 59)]]\n",
      "[-1, -1, -1, -1, -1, -1, -1, -1, -1, -1, -1, -1, -1, -1, -1, -1, -1, -1, -1, -1, -1, -1, -1, -1, -1, -1, -1, -1, -1, -1, -1, -1, -1, -1, -1, -1, -1, -1, -1, -1, -1, -1, -1, -1, -1, -1, -1, -1, 46, 19, 12, 23, 5, 22, 43, 54, 48, 52, 35, 13, 20, -1, -1, -1, -1, -1, -1, -1, -1, -1, -1, -1, -1, -1, -1, -1, -1, -1, -1, -1, -1, -1, -1, -1, -1, -1, -1, -1, -1, -1, -1, -1, -1, -1, -1, -1, -1, -1, -1, -1, -1, -1, -1, -1, -1, -1, -1, -1, -1, -1, -1, -1, -1, -1, -1, -1, -1, -1, -1, -1, -1, -1, -1, -1, -1, -1, -1, -1, -1, -1, -1, -1, -1, -1, -1, -1, -1, -1, -1, -1, -1, -1, -1, -1, -1, -1, -1, -1, -1, -1, -1, -1, -1, -1, -1, -1, -1, -1, -1, -1, -1, -1, -1, -1, -1, -1, -1, -1, -1, -1, -1, -1, -1, -1, -1, -1, -1, -1, -1, -1, -1, -1, -1, -1, -1, -1, -1, -1, -1, -1, -1, -1, -1, -1, -1, -1, -1, -1, -1, -1, -1, -1, -1, -1, -1, -1, -1, -1, -1, -1, -1, -1, -1, -1, -1, -1, -1, -1, -1, -1, -1, -1, -1, -1, -1, -1, -1, -1, -1, -1, -1, -1, -1, -1, -1, -1, -1, -1, -1, -1, -1, -1, -1, -1, -1, -1, -1, -1, -1, -1, -1, -1, -1, -1, -1, -1, -1, -1, -1, -1, -1, -1, -1, -1, -1, -1, -1, -1, -1, -1, -1, -1, -1, -1, -1, -1, -1, -1, -1, -1, -1, -1, -1, -1, -1, -1, -1, -1, -1, -1, -1, -1, -1, -1, -1, -1, -1, -1, -1, -1, -1, -1, -1, -1, -1, -1, -1, -1, -1, -1, -1, -1, -1, -1, -1, -1, -1, -1, -1, -1, -1, -1, -1, -1, -1, -1, -1, -1, -1, -1, -1, -1, -1, -1, -1, -1, -1, -1, -1, -1, -1, -1, -1, -1, -1, -1, -1, -1, -1, -1, -1, -1, -1, -1, -1, -1, -1, -1, -1, -1, -1, -1, -1, -1, -1, -1, -1, -1, -1, -1, -1, -1, -1, -1, -1, -1, -1, -1, -1, -1, -1, -1, -1, -1, -1, -1, -1, -1, -1, -1, -1, -1, -1, -1, -1, -1, -1, -1, -1, -1, -1, -1, -1, -1, -1, -1, -1, -1, -1, -1, -1, -1, -1, -1, -1, -1, -1, -1, -1, -1, -1, -1, -1, -1, -1, -1, -1, -1, -1, -1, -1, -1, -1, -1, -1, -1, -1, -1, -1, -1, -1, -1, -1, -1, -1, -1, -1, -1, -1, -1, -1, -1, -1, -1, -1, -1, -1, -1, -1, -1, -1, -1, -1, -1, -1, -1, -1, -1, -1, -1, -1, -1, -1, -1, -1, -1, -1, -1, -1, -1]\n"
     ]
    }
   ],
   "source": [
    "AllStars181920 = [4524, 4418, 4778, 112, 3876, 1223, 2591, 3892, 614, 2889, 25, 4147, 3726, 1717, 1085, 2065, 2513, 955, 3311, 2542, 2938, 2004, 2177, 1517, 401, 2009, 3201, 266, 1620, 4393, 4396, 3719, 921, 1149, 1475, 4227, 44, 4278, 3159, 1038, 1113, 1929, 3429, 4432, 1125, 863, 1588, 2586]\n",
    "Overlap = [-1 for i in range(0, 10*len(AllStars181920))]\n",
    "result = []\n",
    "AllStars181920Graph = g.subgraph(AllStars181920)\n",
    "print(AllStars181920Graph.ecount())\n",
    "print(AllStars181920Graph.vcount())\n",
    "CONGAYearAlgorithm(AllStars181920Graph, result, Overlap)\n",
    "print(result)\n",
    "print(Overlap)"
   ]
  },
  {
   "cell_type": "code",
   "execution_count": 19,
   "metadata": {},
   "outputs": [
    {
     "name": "stdout",
     "output_type": "stream",
     "text": [
      "0\n",
      "61\n",
      "0\n",
      "48\n",
      "Plotting graph with 48 vertices and 24 edges, begin...\n",
      "Plotting sucessful\n",
      "Plotting graph with 48 vertices and 32 edges, begin...\n",
      "Plotting sucessful\n",
      "Plotting graph with 48 vertices and 44 edges, begin...\n",
      "Plotting sucessful\n",
      "Plotting graph with 48 vertices and 45 edges, begin...\n",
      "Plotting sucessful\n",
      "Plotting graph with 48 vertices and 46 edges, begin...\n",
      "Plotting sucessful\n",
      "Plotting graph with 48 vertices and 48 edges, begin...\n",
      "Plotting sucessful\n",
      "Plotting graph with 48 vertices and 49 edges, begin...\n",
      "Plotting sucessful\n",
      "Plotting graph with 48 vertices and 53 edges, begin...\n",
      "Plotting sucessful\n",
      "Plotting graph with 48 vertices and 54 edges, begin...\n",
      "Plotting sucessful\n",
      "Plotting graph with 48 vertices and 56 edges, begin...\n",
      "Plotting sucessful\n",
      "Plotting graph with 48 vertices and 56 edges, begin...\n",
      "Plotting sucessful\n",
      "Plotting graph with 48 vertices and 58 edges, begin...\n",
      "Plotting sucessful\n",
      "Plotting graph with 48 vertices and 60 edges, begin...\n",
      "Plotting sucessful\n",
      "Plotting graph with 48 vertices and 60 edges, begin...\n",
      "Plotting sucessful\n",
      "Plotting graph with 48 vertices and 61 edges, begin...\n",
      "Plotting sucessful\n",
      "Plotting graph with 48 vertices and 62 edges, begin...\n",
      "Plotting sucessful\n",
      "Plotting graph with 48 vertices and 63 edges, begin...\n",
      "Plotting sucessful\n",
      "Plotting graph with 48 vertices and 63 edges, begin...\n",
      "Plotting sucessful\n",
      "Plotting graph with 48 vertices and 63 edges, begin...\n",
      "Plotting sucessful\n",
      "Plotting graph with 48 vertices and 63 edges, begin...\n",
      "Plotting sucessful\n",
      "Plotting graph with 48 vertices and 64 edges, begin...\n",
      "Plotting sucessful\n",
      "Plotting graph with 48 vertices and 64 edges, begin...\n",
      "Plotting sucessful\n",
      "Plotting graph with 48 vertices and 64 edges, begin...\n",
      "Plotting sucessful\n",
      "Plotting graph with 48 vertices and 64 edges, begin...\n",
      "Plotting sucessful\n",
      "Plotting graph with 48 vertices and 64 edges, begin...\n",
      "Plotting sucessful\n",
      "Plotting graph with 48 vertices and 64 edges, begin...\n",
      "Plotting sucessful\n",
      "Plotting graph with 48 vertices and 65 edges, begin...\n",
      "Plotting sucessful\n",
      "Plotting graph with 48 vertices and 65 edges, begin...\n",
      "Plotting sucessful\n",
      "Plotting graph with 48 vertices and 65 edges, begin...\n",
      "Plotting sucessful\n",
      "Plotting graph with 48 vertices and 66 edges, begin...\n",
      "Plotting sucessful\n"
     ]
    }
   ],
   "source": [
    "resultGraph = AllStars181920Graph.copy()\n",
    "print(resultGraph.ecount())\n",
    "print(resultGraph.vcount())\n",
    "toPrint = g.subgraph(AllStars181920)\n",
    "while toPrint.ecount() > 0:\n",
    "    for edge in toPrint.es:\n",
    "        toPrint.delete_edges(edge)\n",
    "print(toPrint.ecount())\n",
    "print(toPrint.vcount())\n",
    "\n",
    "test = PrintGraph(resultGraph, toPrint, result, Overlap, len(result),1)"
   ]
  },
  {
   "cell_type": "code",
   "execution_count": null,
   "metadata": {},
   "outputs": [],
   "source": []
  }
 ],
 "metadata": {
  "kernelspec": {
   "display_name": "Python 3",
   "language": "python",
   "name": "python3"
  },
  "language_info": {
   "codemirror_mode": {
    "name": "ipython",
    "version": 3
   },
   "file_extension": ".py",
   "mimetype": "text/x-python",
   "name": "python",
   "nbconvert_exporter": "python",
   "pygments_lexer": "ipython3",
   "version": "3.7.6"
  }
 },
 "nbformat": 4,
 "nbformat_minor": 4
}
