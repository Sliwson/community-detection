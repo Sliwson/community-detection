{
 "cells": [
  {
   "cell_type": "code",
   "execution_count": 7,
   "metadata": {},
   "outputs": [
    {
     "output_type": "stream",
     "name": "stdout",
     "text": "c:\\Users\\przem\\OneDrive\\Pulpit\\Graph2\\community-detection\\Implementation\nc:\\Users\\przem\\OneDrive\\Pulpit\\Graph2\\community-detection\\Implementation\\Louvain\nc:\\Users\\przem\\OneDrive\\Pulpit\\Graph2\\community-detection\\Implementation\nc:\\Users\\przem\\OneDrive\\Pulpit\\Graph2\\community-detection\\Implementation\\Louvain\nc:\\Users\\przem\\OneDrive\\Pulpit\\Graph2\\community-detection\\Implementation\nc:\\Users\\przem\\OneDrive\\Pulpit\\Graph2\\community-detection\\Implementation\\FinalPresentation\n"
    }
   ],
   "source": [
    "%cd ..\n",
    "%run common.ipynb\n",
    "%cd Louvain\n",
    "%run Louvain_algorithm.ipynb\n",
    "%cd ..\n",
    "%cd FinalPresentation"
   ]
  },
  {
   "cell_type": "code",
   "execution_count": 8,
   "metadata": {},
   "outputs": [],
   "source": [
    "def louvain_presentation_sample_nonoverlapping(g,person):\n",
    "    ct = louvain_algorithm(g,1)\n",
    "    index = g.vs[\"name\"].index(person)\n",
    "    com = ct[index]\n",
    "    l = []\n",
    "    for x in range(g.vcount()):\n",
    "        if ct[x]==com and x != index:\n",
    "            l.append(g.vs[x][\"name\"])\n",
    "    return l"
   ]
  },
  {
   "cell_type": "code",
   "execution_count": 9,
   "metadata": {},
   "outputs": [],
   "source": [
    "def algorithm(g):\n",
    "    return louvain_algorithm(g,1)\n",
    "\n",
    "def louvain_presentation_sample(g,person):\n",
    "    ct = find_overlapping_communities(g,5,6,algorithm)\n",
    "    index = g.vs[\"name\"].index(person)\n",
    "    com = g.vs[\"communities\"][index]\n",
    "    print(com)\n",
    "    l=[[] for n in range(len(com))]\n",
    "    print(g.vs[\"communities\"])\n",
    "    i=0\n",
    "    for c in com:\n",
    "        for x in range(g.vcount()):\n",
    "            if c in g.vs[\"communities\"][x] and x != index:\n",
    "                l[i].append(g.vs[x][\"name\"])\n",
    "        i=i+1\n",
    "    return l"
   ]
  },
  {
   "cell_type": "code",
   "execution_count": null,
   "metadata": {},
   "outputs": [],
   "source": []
  }
 ],
 "metadata": {
  "language_info": {
   "codemirror_mode": {
    "name": "ipython",
    "version": 3
   },
   "file_extension": ".py",
   "mimetype": "text/x-python",
   "name": "python",
   "nbconvert_exporter": "python",
   "pygments_lexer": "ipython3",
   "version": "3.8.2-final"
  },
  "orig_nbformat": 2,
  "kernelspec": {
   "name": "python38232bit647c978e5bed4d39a404941b1039b502",
   "display_name": "Python 3.8.2 32-bit"
  }
 },
 "nbformat": 4,
 "nbformat_minor": 2
}