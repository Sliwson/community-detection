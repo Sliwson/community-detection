{
 "cells": [
  {
   "cell_type": "code",
   "execution_count": null,
   "metadata": {},
   "outputs": [],
   "source": [
    "%run ./FinalPresentation/initialize.ipynb\n",
    "%run common.ipynb"
   ]
  },
  {
   "cell_type": "code",
   "execution_count": null,
   "metadata": {},
   "outputs": [],
   "source": [
    "nba_vertices_path = \"../Data/Basketball/Players.csv\"\n",
    "nba_edges_path = \"../Data/Basketball/Edges.csv\"\n",
    "filmweb_vertices_path = \"../Data/Filmweb/allActors.csv\"\n",
    "filmweb_edges_path = \"../Data/Filmweb/allActorsRelation.csv\"\n",
    "add_names = True\n",
    "add_common_movies = False\n",
    "add_years = True\n",
    "add_friends = True"
   ]
  },
  {
   "cell_type": "code",
   "execution_count": null,
   "metadata": {},
   "outputs": [],
   "source": [
    "actor_name = \"Tomasz Karolak\"\n",
    "player_name = \"Stephen Curry\"\n",
    "\n",
    "depth = 2"
   ]
  },
  {
   "cell_type": "code",
   "execution_count": null,
   "metadata": {},
   "outputs": [],
   "source": [
    "filmweb_graph = read_filmweb_by_actor(filmweb_vertices_path,filmweb_edges_path,actor_name,depth)\n",
    "nba_graph = read_nba_by_player(nba_vertices_path,nba_edges_path,player_name,depth)"
   ]
  },
  {
   "cell_type": "code",
   "execution_count": null,
   "metadata": {
    "scrolled": false
   },
   "outputs": [],
   "source": [
    "conga_result_nba= CONGA_presentation_sample(nba_graph.copy())"
   ]
  },
  {
   "cell_type": "code",
   "execution_count": null,
   "metadata": {},
   "outputs": [],
   "source": []
  }
 ],
 "metadata": {
  "kernelspec": {
   "display_name": "Python 3",
   "language": "python",
   "name": "python3"
  },
  "language_info": {
   "codemirror_mode": {
    "name": "ipython",
    "version": 3
   },
   "file_extension": ".py",
   "mimetype": "text/x-python",
   "name": "python",
   "nbconvert_exporter": "python",
   "pygments_lexer": "ipython3",
   "version": "3.7.6"
  }
 },
 "nbformat": 4,
 "nbformat_minor": 4
}
