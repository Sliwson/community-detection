{
 "cells": [
  {
   "cell_type": "code",
   "execution_count": null,
   "metadata": {},
   "outputs": [],
   "source": [
    "import igraph \n",
    "import csv\n",
    "import unicodedata\n",
    "import numpy as np"
   ]
  },
  {
   "cell_type": "code",
   "execution_count": null,
   "metadata": {},
   "outputs": [],
   "source": [
    "def read_csv_to_collection(path):\n",
    "    print(\"Reading file \" + path + \", begin...\")\n",
    "    collection = []\n",
    "    with open(path, mode = 'r', encoding = \"utf8\") as csv_file:\n",
    "        csv_reader = csv.reader(csv_file, delimiter = ';')\n",
    "        line_count = 0\n",
    "        for row in csv_reader:\n",
    "            if line_count > 0:\n",
    "                collection.append(row)\n",
    "            line_count += 1\n",
    "    \n",
    "    print(\"Data lines read: \" + str(line_count - 1))\n",
    "    return collection"
   ]
  },
  {
   "cell_type": "code",
   "execution_count": null,
   "metadata": {},
   "outputs": [],
   "source": [
    "def read_nba_vertices(collection, graph, addNames):\n",
    "    print(\"Reading NBA vertices, begin...\")\n",
    "    for row in collection:\n",
    "        string = unicodedata.normalize('NFKD', row[1]).replace(u'ł', 'l').encode('ascii', 'ignore')\n",
    "        if addNames:\n",
    "            graph.add_vertex(name = string.decode('utf-8'))\n",
    "        else:\n",
    "            graph.add_vertex()\n",
    "            \n",
    "    print(\"Vertices read: \" + str(len(g.vs)))"
   ]
  },
  {
   "cell_type": "code",
   "execution_count": null,
   "metadata": {},
   "outputs": [],
   "source": [
    "def read_nba_edges(collection, graph, addYearsAsWeight):\n",
    "    print(\"Reading NBA edges, begin...\")\n",
    "    edges = []\n",
    "    weights = []\n",
    "    for row in collection:\n",
    "        year = row[2][0:4]\n",
    "        edges.append((int(row[1])-1, int(row[0])-1))\n",
    "        if addYearsAsWeight:\n",
    "            weights.append(2020-int(year))\n",
    "            \n",
    "    graph.add_edges(edges)\n",
    "    if len(weights) == len(graph.es):\n",
    "        print(\"Weights loaded correctly\")\n",
    "        graph.es[\"weight\"] = weights\n",
    "        \n",
    "    print(\"Edges read: \" + str(len(graph.es)))"
   ]
  },
  {
   "cell_type": "code",
   "execution_count": null,
   "metadata": {},
   "outputs": [],
   "source": [
    "def get_nba_seasons(collection):\n",
    "    return np.array(collection)[:,2].tolist()"
   ]
  },
  {
   "cell_type": "code",
   "execution_count": null,
   "metadata": {},
   "outputs": [],
   "source": [
    "def get_nba_first_club(path, graph):\n",
    "    return np.array(collection)[:,3].tolist()"
   ]
  },
  {
   "cell_type": "code",
   "execution_count": null,
   "metadata": {},
   "outputs": [],
   "source": [
    "def read_filmweb_vertices(collection, graph):\n",
    "    print(\"Reading Filmweb vertices, begin...\")\n",
    "    for row in collection:\n",
    "        graph.add_vertex(name = row[2])\n",
    "        \n",
    "    print(\"Vertices read: \" + str(len(graph.vs)))\n"
   ]
  },
  {
   "cell_type": "code",
   "execution_count": null,
   "metadata": {},
   "outputs": [],
   "source": [
    "def read_filmweb_edges(collection, graph, addCommonMoviesAsWeight, addYearsKnownAsWeight):\n",
    "    print(\"Reading Filmweb edges, begin...\")\n",
    "    if addCommonMoviesAsWeight and addYearsKnownAsWeight:\n",
    "        print(\"Error: filmweb graph can only have one weight\")\n",
    "    \n",
    "    edges = []\n",
    "    weights = []\n",
    "    for row in collection:\n",
    "        label1 = graph.vs[\"name\"].index(row[0])\n",
    "        label2 = graph.vs[\"name\"].index(row[1])\n",
    "        edges.append((label1, label2))\n",
    "        if addCommonMoviesAsWeight:\n",
    "            weights.append(int(row[3]))\n",
    "        elif addYearsKnownAsWeight:\n",
    "            weights.append(2020-int(row[2]))\n",
    "\n",
    "    graph.add_edges(edges)\n",
    "    if len(weights) == len(graph.es):\n",
    "        print(\"Weights loaded correctly\")\n",
    "        graph.es[\"weight\"] = weights\n",
    "        \n",
    "    print(\"Edges read: \" + str(len(graph.es)))"
   ]
  },
  {
   "cell_type": "code",
   "execution_count": null,
   "metadata": {},
   "outputs": [],
   "source": [
    "def get_filmweb_names(collection):\n",
    "    names=[]\n",
    "    for row in collection:\n",
    "        string = row[0]\n",
    "        string = unicodedata.normalize('NFKD', string).replace(u'ł', 'l').encode('ascii', 'ignore')\n",
    "        names.append(string.decode('utf-8'))\n",
    "    return names\n",
    "    "
   ]
  },
  {
   "cell_type": "code",
   "execution_count": null,
   "metadata": {},
   "outputs": [],
   "source": [
    "def get_filmweb_common_movies_count(collection):\n",
    "    return np.array(collection)[:,3].tolist()"
   ]
  },
  {
   "cell_type": "code",
   "execution_count": null,
   "metadata": {},
   "outputs": [],
   "source": [
    "def get_filmweb_dates(collection):\n",
    "    return np.array(collection)[:,2].tolist()"
   ]
  }
 ],
 "metadata": {
  "kernelspec": {
   "display_name": "Python 3",
   "language": "python",
   "name": "python3"
  },
  "language_info": {
   "codemirror_mode": {
    "name": "ipython",
    "version": 3
   },
   "file_extension": ".py",
   "mimetype": "text/x-python",
   "name": "python",
   "nbconvert_exporter": "python",
   "pygments_lexer": "ipython3",
   "version": "3.7.6"
  }
 },
 "nbformat": 4,
 "nbformat_minor": 2
}
