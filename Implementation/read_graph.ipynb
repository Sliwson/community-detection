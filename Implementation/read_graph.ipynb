{
 "cells": [
  {
   "cell_type": "code",
   "execution_count": null,
   "metadata": {},
   "outputs": [],
   "source": [
    "import igraph \n",
    "import csv\n",
    "import unicodedata\n",
    "import numpy as np"
   ]
  },
  {
   "cell_type": "code",
   "execution_count": 2,
   "metadata": {},
   "outputs": [],
   "source": [
    "def readCSVToIterableCollection(path):\n",
    "    print(\"Reading file \" + path + \", begin...\")\n",
    "    collection = []\n",
    "    with open(path, mode = 'r', encoding = \"utf8\") as csv_file:\n",
    "        csv_reader = csv.reader(csv_file, delimiter = ';')\n",
    "        line_count = 0\n",
    "        for row in csv_reader:\n",
    "            if line_count > 0:\n",
    "                collection.append(row)\n",
    "            line_count += 1\n",
    "    \n",
    "    print(\"Data lines read: \" + str(line_count - 1))\n",
    "    return collection"
   ]
  },
  {
   "cell_type": "code",
   "execution_count": null,
   "metadata": {},
   "outputs": [],
   "source": [
    "def readVertices_NBA(collection, graph, addNames):\n",
    "    print(\"Reading NBA vertices, begin...\")\n",
    "    for row in collection:\n",
    "        string = unicodedata.normalize('NFKD', row[1]).replace(u'ł', 'l').encode('ascii', 'ignore')\n",
    "        if addNames:\n",
    "            graph.add_vertex(name = string.decode('utf-8'))\n",
    "        else:\n",
    "            graph.add_vertex()\n",
    "            \n",
    "    print(\"Vertices read: \" + str(len(g.vs)))"
   ]
  },
  {
   "cell_type": "code",
   "execution_count": 1,
   "metadata": {},
   "outputs": [],
   "source": [
    "def readEdges_NBA(collection, graph, addYearsAsWeight):\n",
    "    print(\"Reading NBA edges, begin...\")\n",
    "    edges = []\n",
    "    weights = []\n",
    "    for row in collection:\n",
    "        year = row[2][0:4]\n",
    "        edges.append((int(row[1])-1, int(row[0])-1))\n",
    "        if addYearsAsWeight:\n",
    "            weights.append(2020-int(year))\n",
    "            \n",
    "    graph.add_edges(edges)\n",
    "    graph.es[\"weight\"] = weights\n",
    "    print(\"Edges read: \" + str(len(graph.es)))"
   ]
  },
  {
   "cell_type": "code",
   "execution_count": null,
   "metadata": {},
   "outputs": [],
   "source": [
    "def getSeasons_NBA(collection):\n",
    "    return np.array(collection)[:,2].tolist()"
   ]
  },
  {
   "cell_type": "code",
   "execution_count": null,
   "metadata": {},
   "outputs": [],
   "source": [
    "def getFirstClub_NBA(path, graph):\n",
    "    return np.array(collection)[:,3].tolist()"
   ]
  },
  {
   "cell_type": "code",
   "execution_count": null,
   "metadata": {},
   "outputs": [],
   "source": [
    "def readVertices_Filmweb(collection, graph):\n",
    "    print(\"Reading Filmweb vertices, begin...\")\n",
    "    for row in collection:\n",
    "        graph.add_vertex(name = row[2])\n",
    "        \n",
    "    print(\"Vertices read: \" + str(len(graph.vs)))\n"
   ]
  },
  {
   "cell_type": "code",
   "execution_count": 1,
   "metadata": {},
   "outputs": [],
   "source": [
    "def readEdges_Filmweb(collection, graph, addCommonMoviesAsWeight, addYearsKnownAsWeight):\n",
    "    for row in collection:\n",
    "        label1 = graph.vs[\"name\"].index(row[0])\n",
    "        label2 = graph.vs[\"name\"].index(row[1])\n",
    "        if addCommonMoviesAsWeight:\n",
    "            edge=graph.add_edge(label1,label2)\n",
    "            edge[\"weight\"]=int(row[3])\n",
    "        elif addYearsKnownAsWeight:\n",
    "            edge=graph.add_edge(label1,label2)\n",
    "            edge[\"weight\"]=2020-int(row[2])\n",
    "        else:\n",
    "            graph.add_edges([(label1,label2)])"
   ]
  },
  {
   "cell_type": "code",
   "execution_count": null,
   "metadata": {},
   "outputs": [],
   "source": [
    "def getNames_Filmweb(collection):\n",
    "    names=[]\n",
    "    for row in collection:\n",
    "        string = row[0]\n",
    "        string = unicodedata.normalize('NFKD', string).replace(u'ł', 'l').encode('ascii', 'ignore')\n",
    "        names.append(string.decode('utf-8'))\n",
    "    return names\n",
    "    "
   ]
  },
  {
   "cell_type": "code",
   "execution_count": null,
   "metadata": {},
   "outputs": [],
   "source": [
    "def getCommonMoviesCount_Filmweb(collection):\n",
    "    return np.array(collection)[:,3].tolist()"
   ]
  },
  {
   "cell_type": "code",
   "execution_count": null,
   "metadata": {},
   "outputs": [],
   "source": [
    "def getDates_Filmweb(collection):\n",
    "    return np.array(collection)[:,2].tolist()"
   ]
  }
 ],
 "metadata": {
  "kernelspec": {
   "display_name": "Python 3",
   "language": "python",
   "name": "python3"
  },
  "language_info": {
   "codemirror_mode": {
    "name": "ipython",
    "version": 3
   },
   "file_extension": ".py",
   "mimetype": "text/x-python",
   "name": "python",
   "nbconvert_exporter": "python",
   "pygments_lexer": "ipython3",
   "version": "3.7.6"
  }
 },
 "nbformat": 4,
 "nbformat_minor": 2
}
