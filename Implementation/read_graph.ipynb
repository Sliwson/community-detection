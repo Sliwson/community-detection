{
 "cells": [
  {
   "cell_type": "code",
   "execution_count": 73,
   "metadata": {},
   "outputs": [],
   "source": [
    "import igraph \n",
    "import csv\n",
    "import unicodedata\n",
    "import numpy as np"
   ]
  },
  {
   "cell_type": "code",
   "execution_count": 74,
   "metadata": {},
   "outputs": [],
   "source": [
    "def read_csv_to_collection(path):\n",
    "    print(\"Reading file \" + path + \", begin...\")\n",
    "    collection = []\n",
    "    with open(path, mode = 'r', encoding = \"utf8\") as csv_file:\n",
    "        csv_reader = csv.reader(csv_file, delimiter = ';')\n",
    "        line_count = 0\n",
    "        for row in csv_reader:\n",
    "            if line_count > 0:\n",
    "                collection.append(row)\n",
    "            line_count += 1\n",
    "    \n",
    "    print(\"Data lines read: \" + str(line_count - 1))\n",
    "    return collection"
   ]
  },
  {
   "cell_type": "markdown",
   "metadata": {},
   "source": [
    "## NBA "
   ]
  },
  {
   "cell_type": "code",
   "execution_count": 75,
   "metadata": {},
   "outputs": [],
   "source": [
    "def read_nba_vertices(collection, graph, add_names):\n",
    "    print(\"Reading NBA vertices, begin...\")\n",
    "    for row in collection:\n",
    "        string = unicodedata.normalize('NFKD', row[1]).replace(u'ł', 'l').encode('ascii', 'ignore')\n",
    "        if add_names:\n",
    "            graph.add_vertex(name = string.decode('utf-8'))\n",
    "        else:\n",
    "            graph.add_vertex()\n",
    "            \n",
    "    print(\"Vertices read: \" + str(len(graph.vs)))"
   ]
  },
  {
   "cell_type": "code",
   "execution_count": 76,
   "metadata": {},
   "outputs": [],
   "source": [
    "def read_nba_edges(collection, graph, add_years, add_friends):\n",
    "    print(\"Reading NBA edges, begin...\")\n",
    "    edges = []\n",
    "    weights = []\n",
    "    friends = []\n",
    "    for row in collection:\n",
    "        year = row[2][0:4]\n",
    "        friend = row[4]\n",
    "        edges.append((int(row[1])-1, int(row[0])-1))\n",
    "        if add_years:\n",
    "            weights.append(2020-int(year))\n",
    "        if add_friends:\n",
    "            friends.append(int(friend))\n",
    "            \n",
    "    graph.add_edges(edges)\n",
    "    if len(weights) == len(graph.es):\n",
    "        print(\"Weights loaded correctly\")\n",
    "        graph.es[\"weight\"] = weights\n",
    "        \n",
    "    if (len(friends) == len(graph.es)):\n",
    "        print(\"Friends loaded correctly\")\n",
    "        graph.es[\"friends\"] = friends\n",
    "        \n",
    "    print(\"Edges read: \" + str(len(graph.es)))"
   ]
  },
  {
   "cell_type": "code",
   "execution_count": 77,
   "metadata": {},
   "outputs": [],
   "source": [
    "def get_nba_seasons(collection):\n",
    "    return np.array(collection)[:,2].tolist()"
   ]
  },
  {
   "cell_type": "code",
   "execution_count": 78,
   "metadata": {},
   "outputs": [],
   "source": [
    "def get_nba_first_club(path, graph):\n",
    "    return np.array(collection)[:,3].tolist()"
   ]
  },
  {
   "cell_type": "code",
   "execution_count": 79,
   "metadata": {},
   "outputs": [],
   "source": [
    "def read_nba_full(vertices_path, edges_path, add_names, add_years, add_friends = False):\n",
    "    print(\"Reading full NBA graph, begin...\")\n",
    "    vertices = read_csv_to_collection(vertices_path)\n",
    "    edges  = read_csv_to_collection(edges_path)\n",
    "    g = igraph.Graph()\n",
    "    read_nba_vertices(vertices, g, add_names)\n",
    "    read_nba_edges(edges, g, add_years, add_friends)\n",
    "    print(\"Loading succesfull\")\n",
    "    return g"
   ]
  },
  {
   "cell_type": "markdown",
   "metadata": {},
   "source": [
    "## Filmweb"
   ]
  },
  {
   "cell_type": "code",
   "execution_count": 80,
   "metadata": {},
   "outputs": [],
   "source": [
    "def get_filmweb_names(collection):\n",
    "    names=[]\n",
    "    for row in collection:\n",
    "        string = unicodedata.normalize('NFKD', row[0]).replace(u'ł', 'l').encode('ascii', 'ignore')\n",
    "        names.append(string.decode('utf-8'))\n",
    "        \n",
    "    return names"
   ]
  },
  {
   "cell_type": "code",
   "execution_count": 81,
   "metadata": {},
   "outputs": [],
   "source": [
    "def read_filmweb_vertices(collection, graph, read_names):\n",
    "    print(\"Reading Filmweb vertices, begin...\")\n",
    "    for row in collection:\n",
    "        graph.add_vertex(id = row[2])\n",
    "        \n",
    "    if read_names:\n",
    "        names = get_filmweb_names(collection)\n",
    "        if len(names) == len(graph.vs):\n",
    "            graph.vs[\"name\"] = names\n",
    "        \n",
    "    print(\"Vertices read: \" + str(len(graph.vs)))\n"
   ]
  },
  {
   "cell_type": "code",
   "execution_count": 82,
   "metadata": {},
   "outputs": [],
   "source": [
    "def read_filmweb_edges(collection, graph, add_common_movies, add_years):\n",
    "    print(\"Reading Filmweb edges, begin...\")\n",
    "    if add_common_movies and add_years:\n",
    "        print(\"Error: filmweb graph can only have one weight\")\n",
    "    \n",
    "    edges = []\n",
    "    weights = []\n",
    "    for row in collection:\n",
    "        label1 = graph.vs[\"id\"].index(row[0])\n",
    "        label2 = graph.vs[\"id\"].index(row[1])\n",
    "        edges.append((label1, label2))\n",
    "        if add_common_movies:\n",
    "            weights.append(int(row[3]))\n",
    "        elif add_years:\n",
    "            weights.append(2020-int(row[2]))\n",
    "\n",
    "    graph.add_edges(edges)\n",
    "    if len(weights) == len(graph.es):\n",
    "        print(\"Weights loaded correctly\")\n",
    "        graph.es[\"weight\"] = weights\n",
    "        \n",
    "    print(\"Edges read: \" + str(len(graph.es)))"
   ]
  },
  {
   "cell_type": "code",
   "execution_count": 83,
   "metadata": {},
   "outputs": [],
   "source": [
    "def get_filmweb_common_movies_count(collection):\n",
    "    return np.array(collection)[:,3].tolist()"
   ]
  },
  {
   "cell_type": "code",
   "execution_count": 84,
   "metadata": {},
   "outputs": [],
   "source": [
    "def get_filmweb_dates(collection):\n",
    "    return np.array(collection)[:,2].tolist()"
   ]
  },
  {
   "cell_type": "code",
   "execution_count": 85,
   "metadata": {},
   "outputs": [],
   "source": [
    "def read_filmweb_full(vertices_path, edges_path, add_names, add_common_movies, add_years):\n",
    "    print(\"Reading full Filmweb graph, begin...\")\n",
    "    vertices = read_csv_to_collection(vertices_path)\n",
    "    edges  = read_csv_to_collection(edges_path)\n",
    "    g = igraph.Graph()\n",
    "    read_filmweb_vertices(vertices, g, add_names)\n",
    "    read_filmweb_edges(edges, g, add_common_movies, add_years)\n",
    "    print(\"Loading succesfull\")\n",
    "    return g"
   ]
  },
  {
   "cell_type": "markdown",
   "metadata": {},
   "source": [
    "## Github"
   ]
  },
  {
   "cell_type": "code",
   "execution_count": 86,
   "metadata": {},
   "outputs": [],
   "source": [
    "def get_github_names(collection):\n",
    "    names=[]\n",
    "    for row in collection:\n",
    "        string = unicodedata.normalize('NFKD', row[0]).replace(u'ł', 'l').encode('ascii', 'ignore')\n",
    "        names.append(string.decode('utf-8'))\n",
    "        \n",
    "    return names"
   ]
  },
  {
   "cell_type": "code",
   "execution_count": 87,
   "metadata": {},
   "outputs": [],
   "source": [
    "def read_github_vertices(collection, graph, read_names):\n",
    "    print(\"Reading Filmweb vertices, begin...\")\n",
    "    for row in collection:\n",
    "        graph.add_vertex(id = row[0])\n",
    "        \n",
    "    if read_names:\n",
    "        names = get_github_names(collection)\n",
    "        if len(names) == len(graph.vs):\n",
    "            graph.vs[\"name\"] = names\n",
    "        \n",
    "    print(\"Vertices read: \" + str(len(graph.vs)))\n"
   ]
  },
  {
   "cell_type": "code",
   "execution_count": 88,
   "metadata": {},
   "outputs": [],
   "source": [
    "def read_github_edges(collection, graph, add_repo_id, add_created_date, add_updated_date, add_pushed_date, add_contributions, add_years):\n",
    "    print(\"Reading Github edges, begin...\")\n",
    "    c = 0\n",
    "    \n",
    "    if add_repo_id:\n",
    "        c+=1\n",
    "        index = 0\n",
    "    if add_created_date:\n",
    "        c+=1\n",
    "        index = 1\n",
    "    if add_updated_date:\n",
    "        c+=1\n",
    "        index = 2\n",
    "    if add_pushed_date:\n",
    "        c+=1\n",
    "        index = 3\n",
    "    if add_contributions:\n",
    "        c+=1\n",
    "        index = 4\n",
    "\n",
    "    if c>1:\n",
    "        print(\"Error: github graph can only have one weight\")\n",
    "    \n",
    "    edges = []\n",
    "    weights = []\n",
    "    for row in collection:\n",
    "        label1 = graph.vs[\"id\"].index(row[5])\n",
    "        label2 = graph.vs[\"id\"].index(row[6])\n",
    "        edges.append((label1, label2))\n",
    "        if c==1:\n",
    "            weights.append(int(row[index]))\n",
    "\n",
    "    graph.add_edges(edges)\n",
    "    if len(weights) == len(graph.es):\n",
    "        print(\"Weights loaded correctly\")\n",
    "        graph.es[\"weight\"] = weights\n",
    "        \n",
    "    print(\"Edges read: \" + str(len(graph.es)))"
   ]
  },
  {
   "cell_type": "code",
   "execution_count": 89,
   "metadata": {},
   "outputs": [],
   "source": [
    "def read_github_full(vertices_path, edges_path, add_names = False, add_repo_id = False, add_created_date = False, add_updated_date = False, add_pushed_date = False, add_contributions = False, add_years = False):\n",
    "    print(\"Reading full Github graph, begin...\")\n",
    "    vertices = read_csv_to_collection(vertices_path)\n",
    "    edges  = read_csv_to_collection(edges_path)\n",
    "    g = igraph.Graph()\n",
    "    read_github_vertices(vertices, g, add_names)\n",
    "    read_github_edges(edges, g, add_repo_id, add_created_date, add_updated_date, add_pushed_date, add_contributions, add_years)\n",
    "    "
   ]
  },
  {
   "cell_type": "code",
   "execution_count": null,
   "metadata": {},
   "outputs": [],
   "source": []
  },
  {
   "cell_type": "code",
   "execution_count": null,
   "metadata": {},
   "outputs": [],
   "source": []
  },
  {
   "cell_type": "code",
   "execution_count": null,
   "metadata": {},
   "outputs": [],
   "source": []
  }
 ],
 "metadata": {
  "kernelspec": {
   "display_name": "Python 3",
   "language": "python",
   "name": "python3"
  },
  "language_info": {
   "codemirror_mode": {
    "name": "ipython",
    "version": 3
   },
   "file_extension": ".py",
   "mimetype": "text/x-python",
   "name": "python",
   "nbconvert_exporter": "python",
   "pygments_lexer": "ipython3",
   "version": "3.6.9"
  }
 },
 "nbformat": 4,
 "nbformat_minor": 2
}
