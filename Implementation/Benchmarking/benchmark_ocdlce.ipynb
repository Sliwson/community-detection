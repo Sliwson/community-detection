{
 "cells": [
  {
   "cell_type": "code",
   "execution_count": 1,
   "metadata": {},
   "outputs": [
    {
     "name": "stdout",
     "output_type": "stream",
     "text": [
      "C:\\Users\\Mateusz\\Documents\\GitHub\\community-detection\\Implementation\\LPA\n",
      "Pixiedust database opened successfully\n"
     ]
    },
    {
     "data": {
      "text/html": [
       "\n",
       "        <div style=\"margin:10px\">\n",
       "            <a href=\"https://github.com/ibm-watson-data-lab/pixiedust\" target=\"_new\">\n",
       "                <img src=\"https://github.com/ibm-watson-data-lab/pixiedust/raw/master/docs/_static/pd_icon32.png\" style=\"float:left;margin-right:10px\"/>\n",
       "            </a>\n",
       "            <span>Pixiedust version 1.1.18</span>\n",
       "        </div>\n",
       "        "
      ],
      "text/plain": [
       "<IPython.core.display.HTML object>"
      ]
     },
     "metadata": {},
     "output_type": "display_data"
    },
    {
     "name": "stdout",
     "output_type": "stream",
     "text": [
      "C:\\Users\\Mateusz\\Documents\\GitHub\\community-detection\\Implementation\n",
      "C:\\Users\\Mateusz\\Documents\\GitHub\\community-detection\\Implementation\\OCDLCE\n",
      "C:\\Users\\Mateusz\\Documents\\GitHub\\community-detection\\Implementation\n",
      "C:\\Users\\Mateusz\\Documents\\GitHub\\community-detection\\Implementation\\CONGA\n"
     ]
    },
    {
     "name": "stderr",
     "output_type": "stream",
     "text": [
      "C:\\Users\\Mateusz\\miniconda3\\lib\\importlib\\_bootstrap.py:219: RuntimeWarning: numpy.ufunc size changed, may indicate binary incompatibility. Expected 192 from C header, got 216 from PyObject\n",
      "  return f(*args, **kwds)\n",
      "C:\\Users\\Mateusz\\miniconda3\\lib\\importlib\\_bootstrap.py:219: RuntimeWarning: numpy.ufunc size changed, may indicate binary incompatibility. Expected 192 from C header, got 216 from PyObject\n",
      "  return f(*args, **kwds)\n"
     ]
    },
    {
     "name": "stdout",
     "output_type": "stream",
     "text": [
      "C:\\Users\\Mateusz\\Documents\\GitHub\\community-detection\\Implementation\n",
      "C:\\Users\\Mateusz\\Documents\\GitHub\\community-detection\\Implementation\\Louvain\n",
      "C:\\Users\\Mateusz\\Documents\\GitHub\\community-detection\\Implementation\n",
      "C:\\Users\\Mateusz\\Documents\\GitHub\\community-detection\\Implementation\\Louvain\n",
      "C:\\Users\\Mateusz\\Documents\\GitHub\\community-detection\\Implementation\n"
     ]
    }
   ],
   "source": [
    "%run initialize.ipynb"
   ]
  },
  {
   "cell_type": "code",
   "execution_count": null,
   "metadata": {},
   "outputs": [
    {
     "name": "stdout",
     "output_type": "stream",
     "text": [
      "Reading samples, begin...\n",
      "Reading full NBA graph, begin...\n",
      "Reading file ../Data/Basketball/Players.csv, begin...\n",
      "Data lines read: 4800\n",
      "Reading file ../Data/Basketball/Edges.csv, begin...\n",
      "Data lines read: 146369\n",
      "Reading NBA vertices, begin...\n",
      "Vertices read: 4800\n",
      "Reading NBA edges, begin...\n",
      "Weights loaded correctly\n",
      "Friends loaded correctly\n",
      "Edges read: 146369\n",
      "Loading succesfull\n",
      "Returned graph has 39 vertices & 38 edges\n",
      "Returned graph has 83 vertices & 315 edges\n",
      "Returned graph has 200 vertices & 1201 edges\n",
      "Returned graph has 300 vertices & 2701 edges\n",
      "Returned graph has 400 vertices & 4584 edges\n",
      "Returned graph has 500 vertices & 7204 edges\n",
      "Reading full NBA graph, begin...\n",
      "Reading file ../Data/Basketball/Players.csv, begin...\n",
      "Data lines read: 4800\n",
      "Reading file ../Data/Basketball/Edges.csv, begin...\n",
      "Data lines read: 146369\n",
      "Reading NBA vertices, begin...\n",
      "Vertices read: 4800\n",
      "Reading NBA edges, begin...\n",
      "Weights loaded correctly\n",
      "Friends loaded correctly\n",
      "Edges read: 146369\n",
      "Loading succesfull\n",
      "Running bfs with 3 depth, 4800 vertices and 146369 edges, begin...\n",
      "Created bfs clone with 370 vertices and 5807 edges\n",
      "Running bfs with 4 depth, 4800 vertices and 146369 edges, begin...\n",
      "Created bfs clone with 1768 vertices and 45868 edges\n",
      "Running bfs with 6 depth, 4800 vertices and 146369 edges, begin...\n",
      "Created bfs clone with 3181 vertices and 89243 edges\n",
      "Reading full Filmweb graph, begin...\n",
      "Reading file ../Data/Filmweb/allActors.csv, begin...\n",
      "Data lines read: 10000\n",
      "Reading file ../Data/Filmweb/allActorsRelation.csv, begin...\n",
      "Data lines read: 190031\n",
      "Reading Filmweb vertices, begin...\n",
      "Vertices read: 10000\n",
      "Reading Filmweb edges, begin...\n",
      "Weights loaded correctly\n",
      "Mutual friends loaded correctly\n",
      "Edges read: 190031\n",
      "Loading succesfull\n",
      "Running bfs with 3 depth, 10000 vertices and 190031 edges, begin...\n",
      "Created bfs clone with 3411 vertices and 146092 edges\n",
      "Returned graph has 3411 vertices & 146092 edges\n",
      "Running bfs with 3 depth, 10000 vertices and 190031 edges, begin...\n",
      "Created bfs clone with 4107 vertices and 174105 edges\n",
      "Returned graph has 4107 vertices & 174105 edges\n",
      "Running bfs with 4 depth, 10000 vertices and 190031 edges, begin...\n"
     ]
    }
   ],
   "source": [
    "perform_full_benchmark_ocdlce(1000000)"
   ]
  }
 ],
 "metadata": {
  "kernelspec": {
   "display_name": "Python 3",
   "language": "python",
   "name": "python3"
  },
  "language_info": {
   "codemirror_mode": {
    "name": "ipython",
    "version": 3
   },
   "file_extension": ".py",
   "mimetype": "text/x-python",
   "name": "python",
   "nbconvert_exporter": "python",
   "pygments_lexer": "ipython3",
   "version": "3.7.6"
  }
 },
 "nbformat": 4,
 "nbformat_minor": 4
}
