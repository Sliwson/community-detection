{
 "cells": [
  {
   "cell_type": "code",
   "execution_count": null,
   "metadata": {},
   "outputs": [],
   "source": [
    "from igraph import *\n",
    "import random"
   ]
  },
  {
   "cell_type": "code",
   "execution_count": null,
   "metadata": {},
   "outputs": [],
   "source": [
    "def getPermutation(graph):\n",
    "    permut = []\n",
    "    for x in range(graph.vcount()):\n",
    "        permut.append(x)\n",
    "    random.shuffle(permut)\n",
    "    random.shuffle(permut)\n",
    "    return permut"
   ]
  },
  {
   "cell_type": "code",
   "execution_count": null,
   "metadata": {},
   "outputs": [],
   "source": [
    "def GetWeightSum(g):\n",
    "    sum = 0\n",
    "    for x in g.es:\n",
    "        sum += x[\"weight\"]\n",
    "    return sum\n",
    "\n",
    "def GetWeightSumInCommunity(g,communityNum):\n",
    "    sum = 0\n",
    "    vertices = g.vs.select(lambda v: v[\"community\"]== communityNum)\n",
    "    for x in vertices:\n",
    "        for y in vertices:\n",
    "            sum+=g[x,y]\n",
    "    return sum\n",
    "\n",
    "def GetWeightOfLinksToKInCommunity(g,k,communityNum):\n",
    "    sum = 0\n",
    "    vertices = g.vs.select(lambda v: v[\"community\"]== communityNum)\n",
    "    for v in vertices:\n",
    "        if k!=v.index:\n",
    "            sum += g[k,v]\n",
    "    return sum\n",
    "\n",
    "def GetWeightOfLinksToCommunity(g,communityNum):\n",
    "    sum = 0\n",
    "    param = 0.75 # interesting stuff\n",
    "    vertices = g.vs.select(lambda v: v[\"community\"]== communityNum)\n",
    "    for v in vertices:\n",
    "        sum += GetWeightedDegree(g,v)\n",
    "    return sum * param\n",
    "\n",
    "def GetWeightedDegree(g,k):\n",
    "    sum = 0\n",
    "    for y in g.neighbors(k):\n",
    "        sum += g[k,y] \n",
    "    return sum"
   ]
  },
  {
   "cell_type": "code",
   "execution_count": null,
   "metadata": {},
   "outputs": [],
   "source": [
    "def GetModularityChange2(g,i,community):\n",
    "    change = 0\n",
    "    value1 = (GetWeightSumInCommunity(g,community) + GetWeightOfLinksToKInCommunity(g,i,community)*2)/(2*WeightSum(g)) - (( (GetWeightOfLinksToCommunity(g,i,community) + GetWeightedDegree(g,i))/(2*GetWeightSum(g)))**2)\n",
    "    value2 = (GetWeightSumInCommunity(g,community))/(2*GetWeightSum(g)) - (GetWeightOfLinksToCommunity(g,i,community)/(2*GetWeightSum(g)))**2 - (GetWeightedDegree(g,i)/(2*GetWeightSum(g)))**2\n",
    "    return value1-value2\n",
    "\n",
    "def GetModularityChange(g,i,community):\n",
    "    change=0\n",
    "    m = GetWeightSum(g)\n",
    "    value1= GetWeightOfLinksToKInCommunity(g,i,community)/m - (GetWeightOfLinksToCommunity(g,community)*GetWeightedDegree(g,i))/(2*(m**2))\n",
    "    return value1\n"
   ]
  },
  {
   "cell_type": "code",
   "execution_count": null,
   "metadata": {},
   "outputs": [],
   "source": [
    "def ChangeCommunity(comtable,comfrom,comto):\n",
    "    i=0\n",
    "    for x in comtable:\n",
    "        if x == comfrom:\n",
    "            comtable[i] = comto\n",
    "        i += 1\n",
    "def GetIndices(comtable,com):\n",
    "    l = []\n",
    "    i = 0\n",
    "    for x in comtable:\n",
    "        if x == com:\n",
    "            l.append(i)\n",
    "        i += 1\n",
    "    return l"
   ]
  },
  {
   "cell_type": "code",
   "execution_count": null,
   "metadata": {},
   "outputs": [],
   "source": [
    "def GetVerticesInCommunity(g,com):\n",
    "    vertices = g.vs.select(lambda v: v[\"community\"]== com)\n",
    "    return [v.index for v in vertices]\n",
    "\n",
    "def GetWeightOfLinksBetweenCommunities(g,com1,com2):\n",
    "    vert1 = GetVerticesInCommunity(g,com1)\n",
    "    vert2 = GetVerticesInCommunity(g,com2)\n",
    "    ret = 0\n",
    "    if(com1 != com2):\n",
    "        for v1 in vert1:\n",
    "            for v2 in vert2:\n",
    "                ret += g[v1,v2]\n",
    "    else:\n",
    "        ret = GetWeightSumInCommunity(g,com1)\n",
    "    return ret"
   ]
  },
  {
   "cell_type": "code",
   "execution_count": null,
   "metadata": {},
   "outputs": [],
   "source": [
    "def MergeCommunities(g):\n",
    "    newgraph = Graph()\n",
    "    for com1 in set(g.vs[\"community\"]):\n",
    "        newgraph.add_vertex(community =com1)\n",
    "    i=0\n",
    "    communities = newgraph.vs[\"community\"]\n",
    "    for com1 in communities:\n",
    "        for com2 in communities[i:]:\n",
    "            weight=GetWeightOfLinksBetweenCommunities(g,com1,com2)\n",
    "            if weight>0:\n",
    "                es = newgraph.add_edge([v[\"community\"] for v in newgraph.vs].index(com1),[v[\"community\"] for v in newgraph.vs].index(com2))\n",
    "                es[\"weight\"]=weight\n",
    "        i+=1\n",
    "        \n",
    "    return newgraph"
   ]
  },
  {
   "cell_type": "code",
   "execution_count": null,
   "metadata": {},
   "outputs": [],
   "source": [
    "def LouvainIteration(g,permut,comtable):\n",
    "    changedtable = comtable.copy()\n",
    "    waschange = False\n",
    "    for x in range(g.vcount()):\n",
    "        prevcom = g.vs[permut[x]][\"community\"]\n",
    "        maxmodchange = 0.0\n",
    "        maxcommunity = -1\n",
    "        communities = {}\n",
    "        for v in g.neighbors(permut[x]):\n",
    "            if  g.vs[v][\"community\"] in communities:\n",
    "                continue\n",
    "            communities[g.vs[v][\"community\"]]=1\n",
    "            g.vs[permut[x]][\"community\"] = g.vs[v][\"community\"]\n",
    "\n",
    "            modchange = GetModularityChange(g,permut[x],g.vs[v][\"community\"])\n",
    "\n",
    "            if(maxmodchange < modchange):\n",
    "                maxmodchange = modchange\n",
    "                maxcommunity = g.vs[v][\"community\"]\n",
    "           \n",
    "        g.vs[permut[x]][\"community\"] = prevcom\n",
    "\n",
    "        if maxcommunity != -1 and maxcommunity != prevcom:\n",
    "            waschange=True\n",
    "            g.vs[permut[x]][\"community\"] = maxcommunity\n",
    "            for i in GetIndices(comtable,prevcom):\n",
    "                changedtable[i] = maxcommunity\n",
    "    comtable[:] = changedtable[:]\n",
    "    return waschange"
   ]
  },
  {
   "cell_type": "code",
   "execution_count": null,
   "metadata": {},
   "outputs": [],
   "source": [
    "def LouvainAlogrithm(g):\n",
    "    graph=g.copy()\n",
    "    for x in range(graph.vcount()):\n",
    "        graph.vs[x][\"community\"]=x\n",
    "    comtable = graph.vs[\"community\"]\n",
    "    permut = getPermutation(graph)\n",
    "    flag=True\n",
    "    while flag:\n",
    "        flag = LouvainIteration(graph,permut,comtable)\n",
    "        graph = MergeCommunities(graph)\n",
    "        permut = getPermutation(graph)\n",
    "\n",
    "    return comtable"
   ]
  },
  {
   "cell_type": "code",
   "execution_count": null,
   "metadata": {},
   "outputs": [],
   "source": [
    "def GetModularity(g):\n",
    "    m = GetWeightSum(g)\n",
    "    sum = 0\n",
    "    for i in range(g.vcount()):\n",
    "        for j in range(g.vcount()):\n",
    "            if(g.vs[i][\"community\"] == g.vs[j][\"community\"]):\n",
    "                sum += (g[i,j]-((GetWeightedDegree(g,i)*GetWeightedDegree(g,j))/(2*m)))\n",
    "    mod = sum /(2*m)\n",
    "    return mod"
   ]
  },
  {
   "cell_type": "code",
   "execution_count": null,
   "metadata": {},
   "outputs": [],
   "source": [
    "def plotsubgraph(g,vertices):\n",
    "    subg = g.subgraph(vertices)\n",
    " \n",
    "    comtable=LouvainAlogrithm(subg)\n",
    "    for v in subg.vs:\n",
    "        v[\"communities\"] = []\n",
    "        v[\"communities\"].append(comtable[v.index])\n",
    "    plot_full(subg, \"full.svg\")\n",
    "    i=0\n",
    "    for v in subg.vs:\n",
    "        v[\"community\"] = comtable[i]\n",
    "        i+=1\n",
    "    print(GetModularity(subg))"
   ]
  },
  {
   "cell_type": "code",
   "execution_count": null,
   "metadata": {},
   "outputs": [],
   "source": [
    "def GetOverlapPercent(indices1, indices2):\n",
    "    common = list(set(indices1).intersection(indices2))\n",
    "    if len(indices1) > len(indices2):\n",
    "        return len(common) / len(indices1)\n",
    "    else:\n",
    "        return len(common) / len(indices2)\n",
    "\n",
    "def AssignCommunities(originaltable, currenttable):\n",
    "    newtable = [0] * len(currenttable)\n",
    "    for x in range(len(currenttable)):\n",
    "        indices = GetIndices(currenttable,x)\n",
    "        if len(indices)==0:\n",
    "            continue\n",
    "        bestfittingcom=-1\n",
    "        bestoverlap=0\n",
    "        for y in range(len(originaltable)):\n",
    "            indices2 = GetIndices(originaltable,y)\n",
    "            if len(indices2)==0:\n",
    "                continue\n",
    "            if GetOverlapPercent(indices,indices2)>bestoverlap:\n",
    "                bestoverlap=GetOverlapPercent(indices,indices2)\n",
    "                bestfittingcom=y\n",
    "        if(bestfittingcom != -1):\n",
    "            indices = GetIndices(currenttable,x)\n",
    "            for i in indices:\n",
    "                newtable[i]=bestfittingcom\n",
    "    return newtable"
   ]
  },
  {
   "cell_type": "code",
   "execution_count": null,
   "metadata": {},
   "outputs": [],
   "source": [
    "def RearrangeCommunties(comtable):  \n",
    "    counter=0\n",
    "    newtable= comtable.copy()\n",
    "    for i in range(len(newtable)):\n",
    "        if i not in newtable:\n",
    "            for n in range(len(newtable))[i+1:]:\n",
    "                if n in newtable:\n",
    "                    indices = GetIndices(newtable,n)\n",
    "                    for x in indices:\n",
    "                        newtable[x]=i\n",
    "                    counter += len(indices)\n",
    "                    break\n",
    "        if(counter == len(comtable)):\n",
    "            break\n",
    "    return newtable"
   ]
  },
  {
   "cell_type": "code",
   "execution_count": null,
   "metadata": {},
   "outputs": [],
   "source": [
    "def UpdateCommunityMatrix(g,belongingtable,comtable):\n",
    "    for x in range(g.vcount()):\n",
    "          for y in g.neighbors(x):\n",
    "              belongingtable[x][comtable[y]]+=1"
   ]
  },
  {
   "cell_type": "code",
   "execution_count": null,
   "metadata": {},
   "outputs": [],
   "source": [
    "def NormalizeBelonging(belongingtable):\n",
    "    for x in range(len(belongingtable)):\n",
    "        tablesum=sum(belongingtable[x])\n",
    "        if tablesum ==0:\n",
    "            continue\n",
    "        for y in range(len(belongingtable[x])):\n",
    "            belongingtable[x][y]=belongingtable[x][y]/tablesum\n",
    "    return belongingtable"
   ]
  },
  {
   "cell_type": "code",
   "execution_count": null,
   "metadata": {},
   "outputs": [],
   "source": [
    "def DivideIntoCommunities(g,ov,belongingtable):\n",
    "    lambd=1/(ov+1)\n",
    "    for x in range(g.vcount()):\n",
    "        g.vs[x][\"communities\"]=[]\n",
    "        if sum(belongingtable[x]) == 0:\n",
    "             g.vs[x][\"communities\"].append(x)\n",
    "             continue\n",
    "        for y in range(len(belongingtable[x])):\n",
    "            if belongingtable[x][y]>= lambd:\n",
    "                g.vs[x][\"communities\"].append(y+1)"
   ]
  }
 ],
 "metadata": {
  "language_info": {
   "codemirror_mode": {
    "name": "ipython",
    "version": 3
   },
   "file_extension": ".py",
   "mimetype": "text/x-python",
   "name": "python",
   "nbconvert_exporter": "python",
   "pygments_lexer": "ipython3",
   "version": "3.8.2-final"
  },
  "orig_nbformat": 2,
  "kernelspec": {
   "name": "python38232bit647c978e5bed4d39a404941b1039b502",
   "display_name": "Python 3.8.2 32-bit"
  }
 },
 "nbformat": 4,
 "nbformat_minor": 2
}