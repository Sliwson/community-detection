{
 "cells": [
  {
   "cell_type": "code",
   "execution_count": 1,
   "metadata": {},
   "outputs": [],
   "source": [
    "%run ../visualisation.ipynb\n",
    "%run ../read_graph.ipynb"
   ]
  },
  {
   "cell_type": "code",
   "execution_count": 2,
   "metadata": {},
   "outputs": [],
   "source": [
    "from igraph import *\n",
    "import random\n"
   ]
  },
  {
   "cell_type": "code",
   "execution_count": 3,
   "metadata": {},
   "outputs": [],
   "source": [
    "def getPermutation(graph):\n",
    "    permut = []\n",
    "    for x in range(graph.vcount()):\n",
    "        permut.append(x)\n",
    "    random.shuffle(permut)\n",
    "    random.shuffle(permut)\n",
    "    return permut"
   ]
  },
  {
   "cell_type": "code",
   "execution_count": 4,
   "metadata": {},
   "outputs": [],
   "source": [
    "def GetWeightSum(g):\n",
    "    sum = 0\n",
    "    for x in g.es:\n",
    "        sum += x[\"weight\"]\n",
    "    return sum\n",
    "\n",
    "def WeightSumInCommunity(g,communityNum):\n",
    "    sum = 0\n",
    "    vertices = g.vs.select(lambda v: v[\"community\"]== communityNum)\n",
    "    for x in vertices:\n",
    "        for y in vertices:\n",
    "            sum+=g[x,y]\n",
    "    return sum\n",
    "\n",
    "def WeightOfLinksToKInCommunity(g,k,communityNum):\n",
    "    sum = 0\n",
    "    vertices = g.vs.select(lambda v: v[\"community\"]== communityNum)\n",
    "    for v in vertices:\n",
    "        if k!=v.index:\n",
    "            sum += g[k,v]\n",
    "    return sum\n",
    "\n",
    "def WeightOfLinksToCommunity(g,communityNum):\n",
    "    sum = 0\n",
    "    param = 0.75 # interesting stuff\n",
    "    vertices = g.vs.select(lambda v: v[\"community\"]== communityNum)\n",
    "    for v in vertices:\n",
    "        sum += GetWeightedDegree(g,v)\n",
    "    return sum * param\n",
    "\n",
    "def GetWeightedDegree(g,k):\n",
    "    sum = 0\n",
    "    for y in g.neighbors(k):\n",
    "        sum += g[k,y] \n",
    "    return sum"
   ]
  },
  {
   "cell_type": "code",
   "execution_count": 5,
   "metadata": {},
   "outputs": [],
   "source": [
    "def GetModularityChange(g,i,community):\n",
    "    change = 0\n",
    "    value1 = (WeightSumInCommunity(g,community)+ WeightOfLinksToKInCommunity(g,i,community)*2)/(2*WeightSum(g))   - (( (WeightOfLinksToCommunity(g,i,community) + GetWeightedDegree(g,i))/(2*WeightSum(g)))**2)\n",
    "    value2 = (WeightSumInCommunity(g,community))/(2*GetWeightSum(g)) - (WeightOfLinksToCommunity(g,i,community)/(2*GetWeightSum(g)))**2 - (GetWeightedDegree(g,i)/(2*WeightSum(g)))**2\n",
    "    return value1-value2\n",
    "\n",
    "def GetModularityChange3(g,i,community):\n",
    "    change=0\n",
    "    m = GetWeightSum(g)\n",
    "    value1= WeightOfLinksToKInCommunity(g,i,community)/m - (WeightOfLinksToCommunity(g,community)*GetWeightedDegree(g,i))/(2*(m**2))\n",
    "    return value1\n",
    "\n",
    "def GetModularityChange2(g,i,community):\n",
    "    prevcom = g.vs[i][\"community\"]\n",
    "    g.vs[i][\"community\"] = community\n",
    "    sum1 = 0\n",
    "    m = GetWeightSum(g)\n",
    "    for i in range(g.vcount()):\n",
    "        for j in range(g.vcount()):\n",
    "            if(g.vs[i][\"community\"] == g.vs[j][\"community\"]):\n",
    "                sum1 += g[i,j]-((GetWeightedDegree(g,i)*GetWeightedDegree(g,j))/(2*m))\n",
    "    g.vs[i][\"community\"] = prevcom\n",
    "    sum2 = 0\n",
    "    for i in range(g.vcount()):\n",
    "        for j in range(g.vcount()):\n",
    "            if(g.vs[i][\"community\"] == g.vs[j][\"community\"]):\n",
    "                sum2 += (g[i,j]-((GetWeightedDegree(g,i)*GetWeightedDegree(g,j))/(2*m)))\n",
    "    mod1 = sum1 /(2*m)\n",
    "    mod2 = sum2 /(2*m)\n",
    "\n",
    "    return mod1-mod2"
   ]
  },
  {
   "cell_type": "code",
   "execution_count": 6,
   "metadata": {},
   "outputs": [],
   "source": [
    "def ChangeCommunity(comtable,comfrom,comto):\n",
    "    i=0\n",
    "    for x in comtable:\n",
    "        if x == comfrom:\n",
    "            comtable[i] = comto\n",
    "        i += 1\n",
    "def GetIndices(comtable,com):\n",
    "    l = []\n",
    "    i = 0\n",
    "    for x in comtable:\n",
    "        if x == com:\n",
    "            l.append(i)\n",
    "        i += 1\n",
    "    return l"
   ]
  },
  {
   "cell_type": "code",
   "execution_count": 7,
   "metadata": {},
   "outputs": [],
   "source": [
    "def GetVerticesInCommunity(g,com):\n",
    "    vertices = g.vs.select(lambda v: v[\"community\"]== com)\n",
    "    return [v.index for v in vertices]\n",
    "\n",
    "def GetWeightOfLinksBetweenCommunities(g,com1,com2):\n",
    "    vert1 = GetVerticesInCommunity(g,com1)\n",
    "    vert2 = GetVerticesInCommunity(g,com2)\n",
    "    ret = 0\n",
    "    if(com1 != com2):\n",
    "        for v1 in vert1:\n",
    "            for v2 in vert2:\n",
    "                ret += g[v1,v2]\n",
    "    else:\n",
    "        ret = WeightSumInCommunity(g,com1)\n",
    "    return ret"
   ]
  },
  {
   "cell_type": "code",
   "execution_count": 8,
   "metadata": {},
   "outputs": [],
   "source": [
    "def MergeCommunities(g):\n",
    "    newgraph = Graph()\n",
    "    for com1 in set(g.vs[\"community\"]):\n",
    "        newgraph.add_vertex(community =com1)\n",
    "    i=0\n",
    "    communities = newgraph.vs[\"community\"]\n",
    "    for com1 in communities:\n",
    "        for com2 in communities[i:]:\n",
    "            weight=GetWeightOfLinksBetweenCommunities(g,com1,com2)\n",
    "            if weight>0:\n",
    "                es = newgraph.add_edge([v[\"community\"] for v in newgraph.vs].index(com1),[v[\"community\"] for v in newgraph.vs].index(com2))\n",
    "                es[\"weight\"]=weight\n",
    "        i+=1\n",
    "    return newgraph"
   ]
  },
  {
   "cell_type": "code",
   "execution_count": 36,
   "metadata": {},
   "outputs": [],
   "source": [
    "def LouvainIteration(g,permut,comtable):\n",
    "    changedtable = comtable.copy()\n",
    "    waschange = False\n",
    "    for x in range(g.vcount()):\n",
    "        prevcom = g.vs[permut[x]][\"community\"]\n",
    "        maxmodchange = 0.0\n",
    "        maxcommunity = -1\n",
    "        for v in g.neighbors(permut[x]):\n",
    "            g.vs[permut[x]][\"community\"] = g.vs[v][\"community\"]\n",
    "\n",
    "            modchange = GetModularityChange3(g,permut[x],g.vs[v][\"community\"])\n",
    "\n",
    "            if(maxmodchange < modchange):\n",
    "                maxmodchange = modchange\n",
    "                maxcommunity = g.vs[v][\"community\"]\n",
    "           \n",
    "        g.vs[permut[x]][\"community\"] = prevcom\n",
    "\n",
    "        if maxcommunity != -1 and maxcommunity != prevcom:\n",
    "            waschange=True\n",
    "            g.vs[permut[x]][\"community\"] = maxcommunity\n",
    "            for i in GetIndices(comtable,prevcom):\n",
    "                changedtable[i] = maxcommunity\n",
    "    comtable[:] = changedtable[:]\n",
    "    return waschange\n"
   ]
  },
  {
   "cell_type": "code",
   "execution_count": 10,
   "metadata": {},
   "outputs": [],
   "source": [
    "def LouvainAlogirthm(g):\n",
    "    graph=g.copy()\n",
    "    comtable = graph.vs[\"community\"]\n",
    "    permut = getPermutation(graph)\n",
    "    flag=True\n",
    "    while flag:\n",
    "        flag = LouvainIteration(graph,permut,comtable)\n",
    "        print(comtable)\n",
    "        print(graph.vs[\"community\"])\n",
    "        graph = MergeCommunities(graph)\n",
    "        print(\"gvcount=\",graph.vcount())\n",
    "        permut = getPermutation(graph)\n",
    "\n",
    "    return comtable"
   ]
  },
  {
   "cell_type": "code",
   "execution_count": 26,
   "metadata": {},
   "outputs": [
    {
     "output_type": "stream",
     "name": "stdout",
     "text": "[0, 1, 2, 3, 4, 5, 6, 7, 8, 9]\n"
    }
   ],
   "source": [
    "g = Graph()\n",
    "g.add_vertices(10)\n",
    "g.add_edges([(0,4), (0,3),(0,2),(0,1),(1,3),(1,2),(1,5),(2,3),(2,4),(3,5),(4,5),(4,6),(4,8),(5,7),(5,9),(6,7),(6,8),(6,9),(7,8),(7,9),(8,9)])\n",
    "g.es[\"weight\"] = [1,1,1,1,1,1,1,1,1,1,1,1,1,1,1,1,1,1,1,1,1]\n",
    "\n",
    "for x in range(g.vcount()):\n",
    "    g.vs[x][\"community\"]=x\n",
    "comtable = g.vs[\"community\"]\n",
    "print(comtable)\n"
   ]
  },
  {
   "cell_type": "code",
   "execution_count": 60,
   "metadata": {},
   "outputs": [
    {
     "output_type": "stream",
     "name": "stdout",
     "text": "[0, 1, 2, 3, 4, 5, 6, 7, 8, 9, 10, 11, 12, 13, 14, 15]\n"
    }
   ],
   "source": [
    "g = Graph()\n",
    "g.add_vertices(16)\n",
    "g.add_edges([(0,2), (0,3),(0,5),(1,2),(1,4),(1,7),(2,4),(2,5),(3,7),(4,10),(5,7),(5,11),(6,7),(6,11),(8,9),(8,11),(8,15),(8,14),(9,14),(9,12),(10,11),(10,12),(10,13),(10,14),(11,13)])\n",
    "g.es[\"weight\"] = [1,1,1,1,1,1,1,1,1,1,1,1,1,1,1,1,1,1,1,1,1,1,1,1,1]\n",
    "\n",
    "for x in range(g.vcount()):\n",
    "    g.vs[x][\"community\"]=x\n",
    "comtable = g.vs[\"community\"]\n",
    "print(comtable)"
   ]
  },
  {
   "cell_type": "code",
   "execution_count": 13,
   "metadata": {},
   "outputs": [],
   "source": [
    "g = Graph()\n",
    "g.add_vertices(10)\n",
    "g.add_edges([(0,1), (1,2),(2,3),(3,4),(4,5),(5,6),(6,7),(7,8),(8,9)])\n",
    "g.es[\"weight\"] = [1,1,1,1,1,1,1,1,1,1]\n",
    "for x in range(g.vcount()):\n",
    "    g.vs[x][\"community\"]=x\n",
    "comtable = g.vs[\"community\"]"
   ]
  },
  {
   "cell_type": "code",
   "execution_count": 65,
   "metadata": {},
   "outputs": [],
   "source": [
    "g=Graph()\n",
    "g.add_vertices(39)\n",
    "g.add_edges([(0,1),(3,4),(6,7),(8,9),(9,10),(10,11),(10,12),(11,12),(10,13),(13,14),(14,15),(15,16),(14,17),(14,18),(14,19),(19,20),(20,21),(21,22),(22,23),(22,24),(23,24),(24,25),(25,26),(24,26),(24,27),(27,28),(28,29),(29,18),(28,30),(30,31),(31,32),(31,22),(31,33),(33,34),(34,35)])\n",
    "g.es[\"weight\"] = [1,1,1,1,1,1,1,1,1,1,1,1,1,1,1,1,1,1,1,1,1,1,1,1,1,1,1,1,1,1,1,1,1,1,1]\n",
    "for x in range(g.vcount()):\n",
    "    g.vs[x][\"community\"]=x\n",
    "comtable = g.vs[\"community\"]"
   ]
  },
  {
   "cell_type": "code",
   "execution_count": 66,
   "metadata": {
    "tags": [
     "outputPrepend",
     "outputPrepend",
     "outputPrepend",
     "outputPrepend",
     "outputPrepend",
     "outputPrepend",
     "outputPrepend",
     "outputPrepend",
     "outputPrepend",
     "outputPrepend",
     "outputPrepend",
     "outputPrepend",
     "outputPrepend",
     "outputPrepend",
     "outputPrepend",
     "outputPrepend",
     "outputPrepend",
     "outputPrepend",
     "outputPrepend",
     "outputPrepend",
     "outputPrepend",
     "outputPrepend",
     "outputPrepend",
     "outputPrepend",
     "outputPrepend"
    ]
   },
   "outputs": [
    {
     "output_type": "stream",
     "name": "stdout",
     "text": "[1, 1, 2, 3, 3, 5, 6, 6, 8, 8, 9, 11, 11, 10, 17, 16, 16, 17, 18, 20, 20, 20, 21, 22, 25, 25, 25, 27, 27, 18, 27, 31, 31, 35, 35, 35, 36, 37, 38]\n[1, 1, 2, 3, 3, 5, 6, 6, 8, 8, 9, 11, 11, 10, 17, 16, 16, 17, 18, 20, 20, 20, 21, 22, 25, 25, 25, 27, 27, 18, 27, 31, 31, 35, 35, 35, 36, 37, 38]\ngvcount= 22\n[1, 1, 2, 3, 3, 5, 6, 6, 9, 9, 9, 9, 9, 17, 17, 17, 17, 17, 17, 20, 20, 20, 22, 22, 25, 25, 25, 27, 27, 17, 27, 22, 22, 35, 35, 35, 36, 37, 38]\n[1, 2, 3, 5, 6, 9, 9, 17, 9, 17, 17, 17, 20, 22, 22, 25, 27, 22, 35, 36, 37, 38]\ngvcount= 15\n[1, 1, 2, 3, 3, 5, 6, 6, 9, 9, 9, 9, 9, 17, 17, 17, 17, 17, 17, 20, 20, 20, 22, 22, 25, 25, 25, 27, 27, 17, 27, 22, 22, 35, 35, 35, 36, 37, 38]\n[1, 2, 3, 35, 5, 6, 36, 37, 9, 38, 17, 20, 22, 25, 27]\ngvcount= 15\n"
    }
   ],
   "source": [
    "comtable=LouvainAlogirthm(g)"
   ]
  },
  {
   "cell_type": "code",
   "execution_count": 67,
   "metadata": {},
   "outputs": [
    {
     "output_type": "stream",
     "name": "stdout",
     "text": "Plotting graph with 39 vertices and 35 edges, begin...\nPlotting sucessful\n"
    }
   ],
   "source": [
    "\n",
    "for v in g.vs:\n",
    "    v[\"communities\"] = []\n",
    "    v[\"communities\"].append(comtable[v.index])\n",
    "plot_full(g, \"full.svg\")\n",
    "\n"
   ]
  },
  {
   "cell_type": "code",
   "execution_count": 63,
   "metadata": {},
   "outputs": [
    {
     "output_type": "stream",
     "name": "stdout",
     "text": "[0, 0, 0, 0, 0, 0, 6, 0, 9, 9, 6, 6, 6, 6, 9, 9]\n"
    }
   ],
   "source": [
    "print(comtable)"
   ]
  },
  {
   "cell_type": "code",
   "execution_count": 18,
   "metadata": {},
   "outputs": [
    {
     "output_type": "error",
     "ename": "NameError",
     "evalue": "name 'WeightSum' is not defined",
     "traceback": [
      "\u001b[1;31m---------------------------------------------------------------------------\u001b[0m",
      "\u001b[1;31mNameError\u001b[0m                                 Traceback (most recent call last)",
      "\u001b[1;32m<ipython-input-18-82ee4ea24eb9>\u001b[0m in \u001b[0;36m<module>\u001b[1;34m\u001b[0m\n\u001b[0;32m      1\u001b[0m \u001b[0msum1\u001b[0m \u001b[1;33m=\u001b[0m \u001b[1;36m0\u001b[0m\u001b[1;33m\u001b[0m\u001b[1;33m\u001b[0m\u001b[0m\n\u001b[1;32m----> 2\u001b[1;33m \u001b[0mm\u001b[0m \u001b[1;33m=\u001b[0m \u001b[0mWeightSum\u001b[0m\u001b[1;33m(\u001b[0m\u001b[0mg\u001b[0m\u001b[1;33m)\u001b[0m\u001b[1;33m\u001b[0m\u001b[1;33m\u001b[0m\u001b[0m\n\u001b[0m\u001b[0;32m      3\u001b[0m \u001b[1;32mfor\u001b[0m \u001b[0mi\u001b[0m \u001b[1;32min\u001b[0m \u001b[0mrange\u001b[0m\u001b[1;33m(\u001b[0m\u001b[0mg\u001b[0m\u001b[1;33m.\u001b[0m\u001b[0mvcount\u001b[0m\u001b[1;33m(\u001b[0m\u001b[1;33m)\u001b[0m\u001b[1;33m)\u001b[0m\u001b[1;33m:\u001b[0m\u001b[1;33m\u001b[0m\u001b[1;33m\u001b[0m\u001b[0m\n\u001b[0;32m      4\u001b[0m     \u001b[1;32mfor\u001b[0m \u001b[0mj\u001b[0m \u001b[1;32min\u001b[0m \u001b[0mrange\u001b[0m\u001b[1;33m(\u001b[0m\u001b[0mg\u001b[0m\u001b[1;33m.\u001b[0m\u001b[0mvcount\u001b[0m\u001b[1;33m(\u001b[0m\u001b[1;33m)\u001b[0m\u001b[1;33m)\u001b[0m\u001b[1;33m:\u001b[0m\u001b[1;33m\u001b[0m\u001b[1;33m\u001b[0m\u001b[0m\n\u001b[0;32m      5\u001b[0m         \u001b[1;32mif\u001b[0m\u001b[1;33m(\u001b[0m\u001b[0mg\u001b[0m\u001b[1;33m.\u001b[0m\u001b[0mvs\u001b[0m\u001b[1;33m[\u001b[0m\u001b[0mi\u001b[0m\u001b[1;33m]\u001b[0m\u001b[1;33m[\u001b[0m\u001b[1;34m\"community\"\u001b[0m\u001b[1;33m]\u001b[0m\u001b[1;33m==\u001b[0m\u001b[0mg\u001b[0m\u001b[1;33m.\u001b[0m\u001b[0mvs\u001b[0m\u001b[1;33m[\u001b[0m\u001b[0mj\u001b[0m\u001b[1;33m]\u001b[0m\u001b[1;33m[\u001b[0m\u001b[1;34m\"community\"\u001b[0m\u001b[1;33m]\u001b[0m\u001b[1;33m)\u001b[0m\u001b[1;33m:\u001b[0m\u001b[1;33m\u001b[0m\u001b[1;33m\u001b[0m\u001b[0m\n",
      "\u001b[1;31mNameError\u001b[0m: name 'WeightSum' is not defined"
     ]
    }
   ],
   "source": [
    "sum1 = 0\n",
    "m = WeightSum(g)\n",
    "for i in range(g.vcount()):\n",
    "    for j in range(g.vcount()):\n",
    "        if(g.vs[i][\"community\"]==g.vs[j][\"community\"]):\n",
    "            sum1 += (g[i,j]-((GetWeightedDegree(g,i)*GetWeightedDegree(g,j))/(2*m)))\n",
    "mod1 = sum1 /(2*m)\n"
   ]
  },
  {
   "cell_type": "code",
   "execution_count": 19,
   "metadata": {},
   "outputs": [
    {
     "output_type": "error",
     "ename": "SyntaxError",
     "evalue": "unexpected EOF while parsing (<ipython-input-19-69fea0e44fd8>, line 1)",
     "traceback": [
      "\u001b[1;36m  File \u001b[1;32m\"<ipython-input-19-69fea0e44fd8>\"\u001b[1;36m, line \u001b[1;32m1\u001b[0m\n\u001b[1;33m    def AssignCommunities():\u001b[0m\n\u001b[1;37m                            ^\u001b[0m\n\u001b[1;31mSyntaxError\u001b[0m\u001b[1;31m:\u001b[0m unexpected EOF while parsing\n"
     ]
    }
   ],
   "source": [
    "def AssignCommunities():\n"
   ]
  },
  {
   "cell_type": "code",
   "execution_count": 20,
   "metadata": {},
   "outputs": [],
   "source": [
    "AllStars11_20 = [4524, 4418, 4778, 112, 3876, 1223, 2591, 3892, 614, 2889, 25, 4147, 3726, 1717, 1085, 2065, 2513, 955, 3311, 2542, 2938, 2004, 2177, 1517, 401, 2009, 3201, 266, 1620, 4393, 4396, 3719, 921, 1149, 1475, 4227, 44, 4278, 3159, 1038, 1113, 1929, 3429, 4432, 1125, 863, 1588, 2586,4198,115,2925,1459,2235,1794,415,1460,564,4168,2384,1142,3134,1849,2145,1945,3283,3669,1446,718,1031,1898,2577,2492,3502,620,3079,3672,1995,3383,4609,4090,65,2930,1504]\n",
    "AllStars15_20 = [4524, 4418, 4778, 112, 3876, 1223, 2591, 3892, 614, 2889, 25, 4147, 3726, 1717, 1085, 2065, 2513, 955, 3311, 2542, 2938, 2004, 2177, 1517, 401, 2009, 3201, 266, 1620, 4393, 4396, 3719, 921, 1149, 1475, 4227, 44, 4278, 3159, 1038, 1113, 1929, 3429, 4432, 1125, 863, 1588, 2586,4198,115,2925,1459,2235,1794,415,1460,564,4168,2384,1142]"
   ]
  },
  {
   "cell_type": "code",
   "execution_count": 21,
   "metadata": {},
   "outputs": [
    {
     "output_type": "error",
     "ename": "NameError",
     "evalue": "name 'readCSVToIterableCollection' is not defined",
     "traceback": [
      "\u001b[1;31m---------------------------------------------------------------------------\u001b[0m",
      "\u001b[1;31mNameError\u001b[0m                                 Traceback (most recent call last)",
      "\u001b[1;32m<ipython-input-21-f1832f0aa66b>\u001b[0m in \u001b[0;36m<module>\u001b[1;34m\u001b[0m\n\u001b[1;32m----> 1\u001b[1;33m \u001b[0mverticesNBA\u001b[0m\u001b[1;33m=\u001b[0m\u001b[0mreadCSVToIterableCollection\u001b[0m\u001b[1;33m(\u001b[0m\u001b[1;34m\"Players.csv\"\u001b[0m\u001b[1;33m)\u001b[0m\u001b[1;33m\u001b[0m\u001b[1;33m\u001b[0m\u001b[0m\n\u001b[0m\u001b[0;32m      2\u001b[0m \u001b[0medgesNBA\u001b[0m\u001b[1;33m=\u001b[0m\u001b[0mreadCSVToIterableCollection\u001b[0m\u001b[1;33m(\u001b[0m\u001b[1;34m\"Edges.csv\"\u001b[0m\u001b[1;33m)\u001b[0m\u001b[1;33m\u001b[0m\u001b[1;33m\u001b[0m\u001b[0m\n",
      "\u001b[1;31mNameError\u001b[0m: name 'readCSVToIterableCollection' is not defined"
     ]
    }
   ],
   "source": [
    "verticesNBA=readCSVToIterableCollection(\"Players.csv\")\n",
    "edgesNBA=readCSVToIterableCollection(\"Edges.csv\")"
   ]
  },
  {
   "cell_type": "code",
   "execution_count": 22,
   "metadata": {},
   "outputs": [
    {
     "output_type": "error",
     "ename": "NameError",
     "evalue": "name 'readVertices_NBA' is not defined",
     "traceback": [
      "\u001b[1;31m---------------------------------------------------------------------------\u001b[0m",
      "\u001b[1;31mNameError\u001b[0m                                 Traceback (most recent call last)",
      "\u001b[1;32m<ipython-input-22-42f509131241>\u001b[0m in \u001b[0;36m<module>\u001b[1;34m\u001b[0m\n\u001b[0;32m      1\u001b[0m \u001b[0mg\u001b[0m \u001b[1;33m=\u001b[0m \u001b[0migraph\u001b[0m\u001b[1;33m.\u001b[0m\u001b[0mGraph\u001b[0m\u001b[1;33m(\u001b[0m\u001b[1;33m)\u001b[0m\u001b[1;33m\u001b[0m\u001b[1;33m\u001b[0m\u001b[0m\n\u001b[0;32m      2\u001b[0m \u001b[1;33m\u001b[0m\u001b[0m\n\u001b[1;32m----> 3\u001b[1;33m \u001b[0mreadVertices_NBA\u001b[0m\u001b[1;33m(\u001b[0m\u001b[0mverticesNBA\u001b[0m\u001b[1;33m,\u001b[0m\u001b[0mg\u001b[0m\u001b[1;33m,\u001b[0m\u001b[1;32mTrue\u001b[0m\u001b[1;33m)\u001b[0m\u001b[1;33m\u001b[0m\u001b[1;33m\u001b[0m\u001b[0m\n\u001b[0m\u001b[0;32m      4\u001b[0m \u001b[0mreadEdges_NBA\u001b[0m\u001b[1;33m(\u001b[0m\u001b[0medgesNBA\u001b[0m\u001b[1;33m,\u001b[0m\u001b[0mg\u001b[0m\u001b[1;33m,\u001b[0m\u001b[1;32mTrue\u001b[0m\u001b[1;33m)\u001b[0m\u001b[1;33m\u001b[0m\u001b[1;33m\u001b[0m\u001b[0m\n",
      "\u001b[1;31mNameError\u001b[0m: name 'readVertices_NBA' is not defined"
     ]
    }
   ],
   "source": [
    "g = igraph.Graph()\n",
    "\n",
    "readVertices_NBA(verticesNBA,g,True)\n",
    "readEdges_NBA(edgesNBA,g,True)"
   ]
  },
  {
   "cell_type": "code",
   "execution_count": 23,
   "metadata": {},
   "outputs": [
    {
     "output_type": "error",
     "ename": "InternalError",
     "evalue": "Error at c:\\projects\\python-igraph\\vendor\\build\\igraph\\igraph-0.8.0-msvc\\src\\iterators.c:764: Cannot create iterator, invalid vertex id, Invalid vertex id",
     "traceback": [
      "\u001b[1;31m---------------------------------------------------------------------------\u001b[0m",
      "\u001b[1;31mInternalError\u001b[0m                             Traceback (most recent call last)",
      "\u001b[1;32m<ipython-input-23-1063b788a642>\u001b[0m in \u001b[0;36m<module>\u001b[1;34m\u001b[0m\n\u001b[1;32m----> 1\u001b[1;33m \u001b[0msubg\u001b[0m \u001b[1;33m=\u001b[0m \u001b[0mg\u001b[0m\u001b[1;33m.\u001b[0m\u001b[0msubgraph\u001b[0m\u001b[1;33m(\u001b[0m\u001b[1;33m[\u001b[0m\u001b[1;36m4524\u001b[0m\u001b[1;33m,\u001b[0m \u001b[1;36m4418\u001b[0m\u001b[1;33m,\u001b[0m \u001b[1;36m4778\u001b[0m\u001b[1;33m,\u001b[0m \u001b[1;36m112\u001b[0m\u001b[1;33m,\u001b[0m \u001b[1;36m3876\u001b[0m\u001b[1;33m,\u001b[0m \u001b[1;36m1223\u001b[0m\u001b[1;33m,\u001b[0m \u001b[1;36m2591\u001b[0m\u001b[1;33m,\u001b[0m \u001b[1;36m3892\u001b[0m\u001b[1;33m,\u001b[0m \u001b[1;36m614\u001b[0m\u001b[1;33m,\u001b[0m \u001b[1;36m2889\u001b[0m\u001b[1;33m,\u001b[0m \u001b[1;36m25\u001b[0m\u001b[1;33m,\u001b[0m \u001b[1;36m4147\u001b[0m\u001b[1;33m,\u001b[0m \u001b[1;36m3726\u001b[0m\u001b[1;33m,\u001b[0m \u001b[1;36m1717\u001b[0m\u001b[1;33m,\u001b[0m \u001b[1;36m1085\u001b[0m\u001b[1;33m,\u001b[0m \u001b[1;36m2065\u001b[0m\u001b[1;33m,\u001b[0m \u001b[1;36m2513\u001b[0m\u001b[1;33m,\u001b[0m \u001b[1;36m955\u001b[0m\u001b[1;33m,\u001b[0m \u001b[1;36m3311\u001b[0m\u001b[1;33m,\u001b[0m \u001b[1;36m2542\u001b[0m\u001b[1;33m,\u001b[0m \u001b[1;36m2938\u001b[0m\u001b[1;33m,\u001b[0m \u001b[1;36m2004\u001b[0m\u001b[1;33m,\u001b[0m \u001b[1;36m2177\u001b[0m\u001b[1;33m,\u001b[0m \u001b[1;36m1517\u001b[0m\u001b[1;33m,\u001b[0m \u001b[1;36m401\u001b[0m\u001b[1;33m,\u001b[0m \u001b[1;36m2009\u001b[0m\u001b[1;33m,\u001b[0m \u001b[1;36m3201\u001b[0m\u001b[1;33m,\u001b[0m \u001b[1;36m266\u001b[0m\u001b[1;33m,\u001b[0m \u001b[1;36m1620\u001b[0m\u001b[1;33m,\u001b[0m \u001b[1;36m4393\u001b[0m\u001b[1;33m,\u001b[0m \u001b[1;36m4396\u001b[0m\u001b[1;33m,\u001b[0m \u001b[1;36m3719\u001b[0m\u001b[1;33m,\u001b[0m \u001b[1;36m921\u001b[0m\u001b[1;33m,\u001b[0m \u001b[1;36m1149\u001b[0m\u001b[1;33m,\u001b[0m \u001b[1;36m1475\u001b[0m\u001b[1;33m,\u001b[0m \u001b[1;36m4227\u001b[0m\u001b[1;33m,\u001b[0m \u001b[1;36m44\u001b[0m\u001b[1;33m,\u001b[0m \u001b[1;36m4278\u001b[0m\u001b[1;33m,\u001b[0m \u001b[1;36m3159\u001b[0m\u001b[1;33m,\u001b[0m \u001b[1;36m1038\u001b[0m\u001b[1;33m,\u001b[0m \u001b[1;36m1113\u001b[0m\u001b[1;33m,\u001b[0m \u001b[1;36m1929\u001b[0m\u001b[1;33m,\u001b[0m \u001b[1;36m3429\u001b[0m\u001b[1;33m,\u001b[0m \u001b[1;36m4432\u001b[0m\u001b[1;33m,\u001b[0m \u001b[1;36m1125\u001b[0m\u001b[1;33m,\u001b[0m \u001b[1;36m863\u001b[0m\u001b[1;33m,\u001b[0m \u001b[1;36m1588\u001b[0m\u001b[1;33m,\u001b[0m \u001b[1;36m2586\u001b[0m\u001b[1;33m,\u001b[0m\u001b[1;36m4198\u001b[0m\u001b[1;33m,\u001b[0m\u001b[1;36m115\u001b[0m\u001b[1;33m,\u001b[0m\u001b[1;36m2925\u001b[0m\u001b[1;33m,\u001b[0m\u001b[1;36m1459\u001b[0m\u001b[1;33m,\u001b[0m\u001b[1;36m2235\u001b[0m\u001b[1;33m,\u001b[0m\u001b[1;36m1794\u001b[0m\u001b[1;33m,\u001b[0m\u001b[1;36m415\u001b[0m\u001b[1;33m,\u001b[0m\u001b[1;36m1460\u001b[0m\u001b[1;33m,\u001b[0m\u001b[1;36m564\u001b[0m\u001b[1;33m,\u001b[0m\u001b[1;36m4168\u001b[0m\u001b[1;33m,\u001b[0m\u001b[1;36m2384\u001b[0m\u001b[1;33m,\u001b[0m\u001b[1;36m1142\u001b[0m\u001b[1;33m,\u001b[0m\u001b[1;36m3134\u001b[0m\u001b[1;33m,\u001b[0m\u001b[1;36m1849\u001b[0m\u001b[1;33m,\u001b[0m\u001b[1;36m2145\u001b[0m\u001b[1;33m,\u001b[0m\u001b[1;36m1945\u001b[0m\u001b[1;33m,\u001b[0m\u001b[1;36m3283\u001b[0m\u001b[1;33m,\u001b[0m\u001b[1;36m3669\u001b[0m\u001b[1;33m,\u001b[0m\u001b[1;36m1446\u001b[0m\u001b[1;33m,\u001b[0m\u001b[1;36m718\u001b[0m\u001b[1;33m,\u001b[0m\u001b[1;36m1031\u001b[0m\u001b[1;33m,\u001b[0m\u001b[1;36m1898\u001b[0m\u001b[1;33m,\u001b[0m\u001b[1;36m2577\u001b[0m\u001b[1;33m,\u001b[0m\u001b[1;36m2492\u001b[0m\u001b[1;33m,\u001b[0m\u001b[1;36m3502\u001b[0m\u001b[1;33m,\u001b[0m\u001b[1;36m620\u001b[0m\u001b[1;33m,\u001b[0m\u001b[1;36m3079\u001b[0m\u001b[1;33m,\u001b[0m\u001b[1;36m3672\u001b[0m\u001b[1;33m,\u001b[0m\u001b[1;36m1995\u001b[0m\u001b[1;33m,\u001b[0m\u001b[1;36m3383\u001b[0m\u001b[1;33m,\u001b[0m\u001b[1;36m4609\u001b[0m\u001b[1;33m,\u001b[0m\u001b[1;36m4090\u001b[0m\u001b[1;33m,\u001b[0m\u001b[1;36m65\u001b[0m\u001b[1;33m,\u001b[0m\u001b[1;36m2930\u001b[0m\u001b[1;33m,\u001b[0m\u001b[1;36m1504\u001b[0m\u001b[1;33m]\u001b[0m\u001b[1;33m)\u001b[0m\u001b[1;33m\u001b[0m\u001b[1;33m\u001b[0m\u001b[0m\n\u001b[0m",
      "\u001b[1;31mInternalError\u001b[0m: Error at c:\\projects\\python-igraph\\vendor\\build\\igraph\\igraph-0.8.0-msvc\\src\\iterators.c:764: Cannot create iterator, invalid vertex id, Invalid vertex id"
     ]
    }
   ],
   "source": [
    "subg = g.subgraph([4524, 4418, 4778, 112, 3876, 1223, 2591, 3892, 614, 2889, 25, 4147, 3726, 1717, 1085, 2065, 2513, 955, 3311, 2542, 2938, 2004, 2177, 1517, 401, 2009, 3201, 266, 1620, 4393, 4396, 3719, 921, 1149, 1475, 4227, 44, 4278, 3159, 1038, 1113, 1929, 3429, 4432, 1125, 863, 1588, 2586,4198,115,2925,1459,2235,1794,415,1460,564,4168,2384,1142,3134,1849,2145,1945,3283,3669,1446,718,1031,1898,2577,2492,3502,620,3079,3672,1995,3383,4609,4090,65,2930,1504])"
   ]
  }
 ],
 "metadata": {
  "language_info": {
   "codemirror_mode": {
    "name": "ipython",
    "version": 3
   },
   "file_extension": ".py",
   "mimetype": "text/x-python",
   "name": "python",
   "nbconvert_exporter": "python",
   "pygments_lexer": "ipython3",
   "version": "3.8.2-final"
  },
  "orig_nbformat": 2,
  "kernelspec": {
   "name": "python38232bit647c978e5bed4d39a404941b1039b502",
   "display_name": "Python 3.8.2 32-bit"
  }
 },
 "nbformat": 4,
 "nbformat_minor": 2
}