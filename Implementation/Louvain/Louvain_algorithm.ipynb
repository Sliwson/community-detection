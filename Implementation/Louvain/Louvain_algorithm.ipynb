{
 "cells": [
  {
   "cell_type": "code",
   "execution_count": null,
   "metadata": {},
   "outputs": [],
   "source": [
    "%run ../visualisation.ipynb\n",
    "%run ../read_graph.ipynb"
   ]
  },
  {
   "cell_type": "code",
   "execution_count": null,
   "metadata": {},
   "outputs": [],
   "source": [
    "from igraph import *\n",
    "import random"
   ]
  },
  {
   "cell_type": "code",
   "execution_count": null,
   "metadata": {},
   "outputs": [],
   "source": [
    "def getPermutation(graph):\n",
    "    permut = []\n",
    "    for x in range(graph.vcount()):\n",
    "        permut.append(x)\n",
    "    random.shuffle(permut)\n",
    "    random.shuffle(permut)\n",
    "    return permut"
   ]
  },
  {
   "cell_type": "code",
   "execution_count": null,
   "metadata": {},
   "outputs": [],
   "source": [
    "def GetWeightSum(g):\n",
    "    sum = 0\n",
    "    for x in g.es:\n",
    "        sum += x[\"weight\"]\n",
    "    return sum\n",
    "\n",
    "def GetWeightSumInCommunity(g,communityNum):\n",
    "    sum = 0\n",
    "    vertices = g.vs.select(lambda v: v[\"community\"]== communityNum)\n",
    "    for x in vertices:\n",
    "        for y in vertices:\n",
    "            sum+=g[x,y]\n",
    "    return sum\n",
    "\n",
    "def GetWeightOfLinksToKInCommunity(g,k,communityNum):\n",
    "    sum = 0\n",
    "    vertices = g.vs.select(lambda v: v[\"community\"]== communityNum)\n",
    "    for v in vertices:\n",
    "        if k!=v.index:\n",
    "            sum += g[k,v]\n",
    "    return sum\n",
    "\n",
    "def GetWeightOfLinksToCommunity(g,communityNum):\n",
    "    sum = 0\n",
    "    param = 0.75 # interesting stuff\n",
    "    vertices = g.vs.select(lambda v: v[\"community\"]== communityNum)\n",
    "    for v in vertices:\n",
    "        sum += GetWeightedDegree(g,v)\n",
    "    return sum * param\n",
    "\n",
    "def GetWeightedDegree(g,k):\n",
    "    sum = 0\n",
    "    for y in g.neighbors(k):\n",
    "        sum += g[k,y] \n",
    "    return sum"
   ]
  },
  {
   "cell_type": "code",
   "execution_count": null,
   "metadata": {},
   "outputs": [],
   "source": [
    "def GetModularityChange2(g,i,community):\n",
    "    change = 0\n",
    "    value1 = (GetWeightSumInCommunity(g,community) + GetWeightOfLinksToKInCommunity(g,i,community)*2)/(2*WeightSum(g)) - (( (GetWeightOfLinksToCommunity(g,i,community) + GetWeightedDegree(g,i))/(2*GetWeightSum(g)))**2)\n",
    "    value2 = (GetWeightSumInCommunity(g,community))/(2*GetWeightSum(g)) - (GetWeightOfLinksToCommunity(g,i,community)/(2*GetWeightSum(g)))**2 - (GetWeightedDegree(g,i)/(2*GetWeightSum(g)))**2\n",
    "    return value1-value2\n",
    "\n",
    "def GetModularityChange(g,i,community):\n",
    "    change=0\n",
    "    m = GetWeightSum(g)\n",
    "    value1= GetWeightOfLinksToKInCommunity(g,i,community)/m - (GetWeightOfLinksToCommunity(g,community)*GetWeightedDegree(g,i))/(2*(m**2))\n",
    "    return value1\n"
   ]
  },
  {
   "cell_type": "code",
   "execution_count": null,
   "metadata": {},
   "outputs": [],
   "source": [
    "def ChangeCommunity(comtable,comfrom,comto):\n",
    "    i=0\n",
    "    for x in comtable:\n",
    "        if x == comfrom:\n",
    "            comtable[i] = comto\n",
    "        i += 1\n",
    "def GetIndices(comtable,com):\n",
    "    l = []\n",
    "    i = 0\n",
    "    for x in comtable:\n",
    "        if x == com:\n",
    "            l.append(i)\n",
    "        i += 1\n",
    "    return l"
   ]
  },
  {
   "cell_type": "code",
   "execution_count": null,
   "metadata": {},
   "outputs": [],
   "source": [
    "def GetVerticesInCommunity(g,com):\n",
    "    vertices = g.vs.select(lambda v: v[\"community\"]== com)\n",
    "    return [v.index for v in vertices]\n",
    "\n",
    "def GetWeightOfLinksBetweenCommunities(g,com1,com2):\n",
    "    vert1 = GetVerticesInCommunity(g,com1)\n",
    "    vert2 = GetVerticesInCommunity(g,com2)\n",
    "    ret = 0\n",
    "    if(com1 != com2):\n",
    "        for v1 in vert1:\n",
    "            for v2 in vert2:\n",
    "                ret += g[v1,v2]\n",
    "    else:\n",
    "        ret = GetWeightSumInCommunity(g,com1)\n",
    "    return ret"
   ]
  },
  {
   "cell_type": "code",
   "execution_count": null,
   "metadata": {},
   "outputs": [],
   "source": [
    "def MergeCommunities(g):\n",
    "    newgraph = Graph()\n",
    "    for com1 in set(g.vs[\"community\"]):\n",
    "        newgraph.add_vertex(community =com1)\n",
    "    i=0\n",
    "    communities = newgraph.vs[\"community\"]\n",
    "    for com1 in communities:\n",
    "        for com2 in communities[i:]:\n",
    "            weight=GetWeightOfLinksBetweenCommunities(g,com1,com2)\n",
    "            if weight>0:\n",
    "                es = newgraph.add_edge([v[\"community\"] for v in newgraph.vs].index(com1),[v[\"community\"] for v in newgraph.vs].index(com2))\n",
    "                es[\"weight\"]=weight\n",
    "        i+=1\n",
    "        \n",
    "    return newgraph"
   ]
  },
  {
   "cell_type": "code",
   "execution_count": null,
   "metadata": {},
   "outputs": [],
   "source": [
    "def LouvainIteration(g,permut,comtable):\n",
    "    changedtable = comtable.copy()\n",
    "    waschange = False\n",
    "    for x in range(g.vcount()):\n",
    "        prevcom = g.vs[permut[x]][\"community\"]\n",
    "        maxmodchange = 0.0\n",
    "        maxcommunity = -1\n",
    "        for v in g.neighbors(permut[x]):\n",
    "            g.vs[permut[x]][\"community\"] = g.vs[v][\"community\"]\n",
    "\n",
    "            modchange = GetModularityChange(g,permut[x],g.vs[v][\"community\"])\n",
    "\n",
    "            if(maxmodchange < modchange):\n",
    "                maxmodchange = modchange\n",
    "                maxcommunity = g.vs[v][\"community\"]\n",
    "           \n",
    "        g.vs[permut[x]][\"community\"] = prevcom\n",
    "\n",
    "        if maxcommunity != -1 and maxcommunity != prevcom:\n",
    "            waschange=True\n",
    "            g.vs[permut[x]][\"community\"] = maxcommunity\n",
    "            for i in GetIndices(comtable,prevcom):\n",
    "                changedtable[i] = maxcommunity\n",
    "    comtable[:] = changedtable[:]\n",
    "    return waschange"
   ]
  },
  {
   "cell_type": "code",
   "execution_count": null,
   "metadata": {},
   "outputs": [],
   "source": [
    "def LouvainAlogrithm(g):\n",
    "    graph=g.copy()\n",
    "    for x in range(graph.vcount()):\n",
    "        graph.vs[x][\"community\"]=x\n",
    "    comtable = graph.vs[\"community\"]\n",
    "    permut = getPermutation(graph)\n",
    "    flag=True\n",
    "    while flag:\n",
    "        flag = LouvainIteration(graph,permut,comtable)\n",
    "        graph = MergeCommunities(graph)\n",
    "        permut = getPermutation(graph)\n",
    "\n",
    "    return comtable"
   ]
  },
  {
   "cell_type": "code",
   "execution_count": null,
   "metadata": {},
   "outputs": [],
   "source": [
    "def GetModularity(g):\n",
    "    m = GetWeightSum(g)\n",
    "    sum = 0\n",
    "    for i in range(g.vcount()):\n",
    "        for j in range(g.vcount()):\n",
    "            if(g.vs[i][\"community\"] == g.vs[j][\"community\"]):\n",
    "                sum += (g[i,j]-((GetWeightedDegree(g,i)*GetWeightedDegree(g,j))/(2*m)))\n",
    "    mod = sum /(2*m)\n",
    "    return mod"
   ]
  },
  {
   "cell_type": "code",
   "execution_count": null,
   "metadata": {},
   "outputs": [],
   "source": [
    "g = Graph()\n",
    "g.add_vertices(10)\n",
    "g.add_edges([(0,4), (0,3),(0,2),(0,1),(1,3),(1,2),(1,5),(2,3),(2,4),(3,5),(4,5),(4,6),(4,8),(5,7),(5,9),(6,7),(6,8),(6,9),(7,8),(7,9),(8,9)])\n",
    "g.es[\"weight\"] = [1,1,1,1,1,1,1,1,1,1,1,1,1,1,1,1,1,1,1,1,1]\n",
    "\n",
    "comtable=LouvainAlogrithm(g)\n",
    "\n",
    "for v in g.vs:\n",
    "    v[\"communities\"] = []\n",
    "    v[\"communities\"].append(comtable[v.index])\n",
    "plot_full(g, \"full.svg\")"
   ]
  },
  {
   "cell_type": "code",
   "execution_count": null,
   "metadata": {},
   "outputs": [],
   "source": [
    "g = Graph()\n",
    "g.add_vertices(16)\n",
    "g.add_edges([(0,2), (0,3),(0,5),(1,2),(1,4),(1,7),(2,4),(2,5),(3,7),(4,10),(5,7),(5,11),(6,7),(6,11),(8,9),(8,11),(8,15),(8,14),(9,14),(9,12),(10,11),(10,12),(10,13),(10,14),(11,13)])\n",
    "g.es[\"weight\"] = [1,1,1,1,1,1,1,1,1,1,1,1,1,1,1,1,1,1,1,1,1,1,1,1,1]\n",
    "\n",
    "comtable=LouvainAlogrithm(g)\n",
    "\n",
    "for v in g.vs:\n",
    "    v[\"communities\"] = []\n",
    "    v[\"communities\"].append(comtable[v.index])\n",
    "plot_full(g, \"full.svg\")"
   ]
  },
  {
   "cell_type": "code",
   "execution_count": null,
   "metadata": {},
   "outputs": [],
   "source": [
    "g = Graph()\n",
    "g.add_vertices(10)\n",
    "g.add_edges([(0,1), (1,2),(2,3),(3,4),(4,5),(5,6),(6,7),(7,8),(8,9)])\n",
    "g.es[\"weight\"] = [1,1,1,1,1,1,1,1,1,1]\n",
    "\n",
    "comtable=LouvainAlogrithm(g)\n",
    "\n",
    "for v in g.vs:\n",
    "    v[\"communities\"] = []\n",
    "    v[\"communities\"].append(comtable[v.index])\n",
    "plot_full(g, \"full.svg\")"
   ]
  },
  {
   "cell_type": "code",
   "execution_count": null,
   "metadata": {},
   "outputs": [],
   "source": [
    "g=Graph()\n",
    "g.add_vertices(39)\n",
    "g.add_edges([(0,1),(3,4),(6,7),(8,9),(9,10),(10,11),(10,12),(11,12),(10,13),(13,14),(14,15),(15,16),(14,17),(14,18),(14,19),(19,20),(20,21),(21,22),(22,23),(22,24),(23,24),(24,25),(25,26),(24,26),(24,27),(27,28),(28,29),(29,18),(28,30),(30,31),(31,32),(31,22),(31,33),(33,34),(34,35)])\n",
    "g.es[\"weight\"] = [1,1,1,1,1,1,1,1,1,1,1,1,1,1,1,1,1,1,1,1,1,1,1,1,1,1,1,1,1,1,1,1,1,1,1]\n",
    "\n",
    "comtable=LouvainAlogrithm(g)\n",
    "\n",
    "for v in g.vs:\n",
    "    v[\"communities\"] = []\n",
    "    v[\"communities\"].append(comtable[v.index])\n",
    "plot_full(g, \"full.svg\")"
   ]
  },
  {
   "cell_type": "code",
   "execution_count": null,
   "metadata": {
    "tags": [
     "outputPrepend",
     "outputPrepend",
     "outputPrepend",
     "outputPrepend",
     "outputPrepend",
     "outputPrepend",
     "outputPrepend",
     "outputPrepend",
     "outputPrepend",
     "outputPrepend",
     "outputPrepend",
     "outputPrepend",
     "outputPrepend",
     "outputPrepend",
     "outputPrepend",
     "outputPrepend",
     "outputPrepend",
     "outputPrepend",
     "outputPrepend",
     "outputPrepend",
     "outputPrepend",
     "outputPrepend",
     "outputPrepend",
     "outputPrepend",
     "outputPrepend"
    ]
   },
   "outputs": [],
   "source": [
    "comtable=LouvainAlogrithm(g)"
   ]
  },
  {
   "cell_type": "code",
   "execution_count": null,
   "metadata": {},
   "outputs": [],
   "source": [
    "for v in g.vs:\n",
    "    v[\"communities\"] = []\n",
    "    v[\"communities\"].append(comtable[v.index])\n",
    "plot_full(g, \"full.svg\")"
   ]
  },
  {
   "cell_type": "code",
   "execution_count": null,
   "metadata": {},
   "outputs": [],
   "source": [
    "print(comtable)"
   ]
  },
  {
   "cell_type": "code",
   "execution_count": null,
   "metadata": {},
   "outputs": [],
   "source": [
    "g = read_nba_full(\"../../Data/Basketball/Players.csv\",\n",
    "                  \"../../Data/Basketball/Edges.csv\",\n",
    "                  True, True)"
   ]
  },
  {
   "cell_type": "code",
   "execution_count": null,
   "metadata": {},
   "outputs": [],
   "source": [
    "all11_20 = [4524, 4418, 4778, 112, 3876, 1223, 2591, 3892, 614, 2889, 25, 4147, 3726, 1717, 1085, 2065, 2513, 955, 3311, 2542, 2938, 2004, 2177, 1517, 401, 2009, 3201, 266, 1620, 4393, 4396, 3719, 921, 1149, 1475, 4227, 44, 4278, 3159, 1038, 1113, 1929, 3429, 4432, 1125, 863, 1588, 2586,4198,115,2925,1459,2235,1794,415,1460,564,4168,2384,1142,3134,1849,2145,1945,3283,3669,1446,718,1031,1898,2577,2492,3502,620,3079,3672,1995,3383,4609,4090,65,2930,1504]\n",
    "all15_20 = [4524, 4418, 4778, 112, 3876, 1223, 2591, 3892, 614, 2889, 25, 4147, 3726, 1717, 1085, 2065, 2513, 955, 3311, 2542, 2938, 2004, 2177, 1517, 401, 2009, 3201, 266, 1620, 4393, 4396, 3719, 921, 1149, 1475, 4227, 44, 4278, 3159, 1038, 1113, 1929, 3429, 4432, 1125, 863, 1588, 2586,4198,115,2925,1459,2235,1794,415,1460,564,4168,2384,1142]\n",
    "all19_20 = [4524, 4418, 4778, 112, 3876, 1223, 2591, 3892, 614, 2889, 25, 4147, 3726, 1717, 1085, 2065, 2513, 955, 3311, 2542, 2938, 2004, 2177, 1517, 401, 2009, 3201, 266, 1620, 4393, 4396, 3719, 921, 1149, 1475, 4227, 44, 4278, 3159]"
   ]
  },
  {
   "cell_type": "code",
   "execution_count": null,
   "metadata": {},
   "outputs": [],
   "source": [
    "def plotsubgraph(g,vertices):\n",
    "    subg = g.subgraph(vertices)\n",
    " \n",
    "    comtable=LouvainAlogrithm(subg)\n",
    "    for v in subg.vs:\n",
    "        v[\"communities\"] = []\n",
    "        v[\"communities\"].append(comtable[v.index])\n",
    "    plot_full(subg, \"full.svg\")\n",
    "    i=0\n",
    "    for v in subg.vs:\n",
    "        v[\"community\"] = comtable[i]\n",
    "        i+=1\n",
    "    print(GetModularity(subg))"
   ]
  },
  {
   "cell_type": "code",
   "execution_count": null,
   "metadata": {},
   "outputs": [],
   "source": [
    "plotsubgraph(g,all11_20)"
   ]
  },
  {
   "cell_type": "code",
   "execution_count": null,
   "metadata": {},
   "outputs": [],
   "source": [
    "plotsubgraph(g,all15_20)"
   ]
  },
  {
   "cell_type": "code",
   "execution_count": null,
   "metadata": {},
   "outputs": [],
   "source": [
    "plotsubgraph(g,all19_20)"
   ]
  },
  {
   "cell_type": "code",
   "execution_count": null,
   "metadata": {},
   "outputs": [],
   "source": [
    "q = g.community_multilevel()\n",
    "p=g.modularity(q)"
   ]
  },
  {
   "cell_type": "code",
   "execution_count": null,
   "metadata": {},
   "outputs": [],
   "source": [
    "def GetOverlapPercent(indices1, indices2):\n",
    "    common = indices1 and indices2\n",
    "    \n",
    "def AssignCommunities(originaltable, currenttable):\n",
    "    newtable = [0] * len(originaltable)\n",
    "    for x in range(len(currenttable)):\n",
    "        indices = GetIndices(currenttable)\n",
    "        if len(indices)==0:\n",
    "            continue\n",
    "        for x in range(len(originaltable)):\n",
    "            indices2 = GetIndices(currenttable)\n",
    "            if len(indices2)==0:\n",
    "                continue"
   ]
  }
 ],
 "metadata": {
  "language_info": {
   "codemirror_mode": {
    "name": "ipython",
    "version": 3
   },
   "file_extension": ".py",
   "mimetype": "text/x-python",
   "name": "python",
   "nbconvert_exporter": "python",
   "pygments_lexer": "ipython3",
   "version": "3.8.2-final"
  },
  "orig_nbformat": 2,
  "kernelspec": {
   "name": "python38232bit647c978e5bed4d39a404941b1039b502",
   "display_name": "Python 3.8.2 32-bit"
  }
 },
 "nbformat": 4,
 "nbformat_minor": 2
}