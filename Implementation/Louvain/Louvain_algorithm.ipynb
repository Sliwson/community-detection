{
 "cells": [
  {
   "cell_type": "code",
   "execution_count": null,
   "metadata": {},
   "outputs": [],
   "source": [
    "%cd ..\n",
    "%run common.ipynb\n",
    "%cd Louvain"
   ]
  },
  {
   "cell_type": "code",
   "execution_count": null,
   "metadata": {},
   "outputs": [],
   "source": [
    "from igraph import *\n",
    "import random"
   ]
  },
  {
   "cell_type": "code",
   "execution_count": null,
   "metadata": {},
   "outputs": [],
   "source": [
    "def get_permutation(graph):\n",
    "    permut = []\n",
    "    for x in range(graph.vcount()):\n",
    "        permut.append(x)\n",
    "    random.shuffle(permut)\n",
    "    random.shuffle(permut)\n",
    "    return permut"
   ]
  },
  {
   "cell_type": "code",
   "execution_count": null,
   "metadata": {},
   "outputs": [],
   "source": [
    "def get_weight_sum(g):\n",
    "    return sum(g.es[\"weight\"])\n",
    "\n",
    "def get_weight_sum_in_community(g,community_num):\n",
    "    sum = 0\n",
    "    vertices = g.vs.select(lambda v: v[\"community\"]== community_num)\n",
    "    for x in vertices:\n",
    "        for y in vertices:\n",
    "            sum+=g[x,y]\n",
    "    return sum\n",
    "\n",
    "def get_weight_of_links_to_k_in_community(g,k,community_num):\n",
    "    sum = 0\n",
    "    vertices = g.vs.select(lambda v: v[\"community\"]== community_num)\n",
    "    for v in vertices:\n",
    "        if k!=v.index:\n",
    "            sum += g[k,v]\n",
    "    return sum\n",
    "\n",
    "def get_weight_of_links_to_community(g,community_num,param):\n",
    "    sum = 0\n",
    "    vertices = g.vs.select(lambda v: v[\"community\"]== community_num)\n",
    "    for v in vertices:\n",
    "        sum += get_weighted_degree(g,v)\n",
    "    return sum * param\n",
    "\n",
    "def get_weighted_degree(g,k):\n",
    "    sum = 0\n",
    "    for y in g.neighbors(k):\n",
    "        sum += g[k,y] \n",
    "    return sum"
   ]
  },
  {
   "cell_type": "code",
   "execution_count": null,
   "metadata": {},
   "outputs": [],
   "source": [
    "def get_weighted_degree_in(g,k):\n",
    "    sum = 0\n",
    "    for y in g.neighbors(k):\n",
    "        sum += g[y,k] \n",
    "    return sum\n",
    "\n",
    "def get_weighted_degree_out(g,k):\n",
    "    sum = 0\n",
    "    for y in g.neighbors(k):\n",
    "        sum += g[k,y] \n",
    "    return sum"
   ]
  },
  {
   "cell_type": "code",
   "execution_count": null,
   "metadata": {},
   "outputs": [],
   "source": [
    "def get_modularity_change2(g,i,community,param):    \n",
    "    value1 = (get_weight_sum_in_community(g,community) + get_weight_of_links_to_k_in_community(g,i,community)*2)/(2*weight_sum(g)) - (((get_weight_of_links_to_community(g,i,community,param) + get_weighted_degree(g,i))/(2*get_weight_sum(g)))**2)\n",
    "    value2 = (get_weight_sum_in_community(g,community))/(2*get_weight_sum(g)) - (get_weight_of_links_to_community(g,i,community,param)/(2*get_weight_sum(g)))**2 - (get_weighted_degree(g,i)/(2*get_weight_sum(g)))**2\n",
    "    return value1-value2\n",
    "\n",
    "def get_modularity_change(g,i,community,degr,m,wol):\n",
    "    value1= get_weight_of_links_to_k_in_community(g,i,community)/m - (wol*degr)/(2*(m**2))\n",
    "    return value1\n"
   ]
  },
  {
   "cell_type": "code",
   "execution_count": null,
   "metadata": {},
   "outputs": [],
   "source": [
    "def change_community(com_table,com_from,com_to):\n",
    "    i=0\n",
    "    for x in com_table:\n",
    "        if x == com_from:\n",
    "            com_table[i] = com_to\n",
    "        i += 1\n"
   ]
  },
  {
   "cell_type": "code",
   "execution_count": null,
   "metadata": {},
   "outputs": [],
   "source": [
    "def get_vertices_in_community(g,com):\n",
    "    vertices = g.vs.select(lambda v: v[\"community\"]== com)\n",
    "    return [v.index for v in vertices]\n",
    "\n",
    "def get_weight_of_links_between_communities(g,com1,com2):\n",
    "    vert1 = get_vertices_in_community(g,com1)\n",
    "    vert2 = get_vertices_in_community(g,com2)\n",
    "    ret = 0\n",
    "    if(com1 != com2):\n",
    "        for v1 in vert1:\n",
    "            for v2 in vert2:\n",
    "                ret += g[v1,v2]\n",
    "    else:\n",
    "        ret = get_weight_sum_in_community(g,com1)\n",
    "    return ret"
   ]
  },
  {
   "cell_type": "code",
   "execution_count": null,
   "metadata": {},
   "outputs": [],
   "source": [
    "def merge_communities(g):\n",
    "    newgraph = Graph()\n",
    "    for com1 in set(g.vs[\"community\"]):\n",
    "        newgraph.add_vertex(community =com1)\n",
    "    i=0\n",
    "    communities = newgraph.vs[\"community\"]\n",
    "    for com1 in communities:\n",
    "        for com2 in communities[i:]:\n",
    "            weight=get_weight_of_links_between_communities(g,com1,com2)\n",
    "            if weight>0:\n",
    "                es = newgraph.add_edge([v[\"community\"] for v in newgraph.vs].index(com1),[v[\"community\"] for v in newgraph.vs].index(com2))\n",
    "                es[\"weight\"]=weight\n",
    "        i+=1\n",
    "        \n",
    "    return newgraph"
   ]
  },
  {
   "cell_type": "code",
   "execution_count": null,
   "metadata": {},
   "outputs": [],
   "source": [
    "def louvain_iteration(g,permut,com_table,etot,param=1):\n",
    "    changed_table = com_table.copy()\n",
    "    was_change = False\n",
    "    m=get_weight_sum(g)\n",
    "    for x in range(g.vcount()):\n",
    "        degr = get_weighted_degree(g,permut[x])\n",
    "        prev_com = g.vs[permut[x]][\"community\"]\n",
    "        max_mod_change = 0.0\n",
    "        max_community = -1\n",
    "        communities = {}\n",
    "        for v in g.neighbors(permut[x]):\n",
    "            if  g.vs[v][\"community\"] in communities:\n",
    "                continue\n",
    "            communities[g.vs[v][\"community\"]]=1\n",
    "            g.vs[permut[x]][\"community\"] = g.vs[v][\"community\"]\n",
    "\n",
    "            mod_change = get_modularity_change(g,permut[x],g.vs[v][\"community\"],degr,m,etot[g.vs[v][\"community\"]]+degr)\n",
    "\n",
    "            if(max_mod_change < mod_change):\n",
    "                max_mod_change = mod_change\n",
    "                max_community = g.vs[v][\"community\"]\n",
    "           \n",
    "        g.vs[permut[x]][\"community\"] = prev_com\n",
    "\n",
    "        if max_community != -1 and max_community != prev_com:\n",
    "            was_change=True\n",
    "            g.vs[permut[x]][\"community\"] = max_community\n",
    "            etot[prev_com]-=param*get_weighted_degree(g,permut[x])\n",
    "            etot[max_community]+=param*get_weighted_degree(g,permut[x])\n",
    "            for i in get_indices(com_table,prev_com):\n",
    "                changed_table[i] = max_community\n",
    "                \n",
    "    com_table[:] = changed_table[:]\n",
    "    return was_change"
   ]
  },
  {
   "cell_type": "code",
   "execution_count": null,
   "metadata": {},
   "outputs": [],
   "source": [
    "def louvain_algorithm(g,param):\n",
    "    graph=g.copy()\n",
    "    for x in range(graph.vcount()):\n",
    "        graph.vs[x][\"community\"]=x\n",
    "    etot = [get_weight_of_links_to_community(graph,com,param) for com in range(graph.vcount())]\n",
    "    com_table = graph.vs[\"community\"]\n",
    "    permut = get_permutation(graph)\n",
    "    flag=True\n",
    "    while flag:\n",
    "        flag = louvain_iteration(graph,permut,com_table,etot,param)\n",
    "        graph = merge_communities(graph)\n",
    "        permut = get_permutation(graph)\n",
    "\n",
    "    return com_table"
   ]
  },
  {
   "cell_type": "code",
   "execution_count": null,
   "metadata": {},
   "outputs": [],
   "source": [
    "def get_modularity(g):\n",
    "    m = get_weight_sum(g)\n",
    "    sum = 0\n",
    "    for i in range(g.vcount()):\n",
    "        for j in range(g.vcount()):\n",
    "            if(g.vs[i][\"community\"] == g.vs[j][\"community\"]):\n",
    "                sum += (g[i,j]-((get_weighted_degree(g,i)*get_weighted_degree(g,j))/(2*m)))\n",
    "    mod = sum /(2*m)\n",
    "    return mod"
   ]
  },
  {
   "cell_type": "code",
   "execution_count": null,
   "metadata": {},
   "outputs": [],
   "source": [
    "def plot_subgraph(g,vertices):\n",
    "    subg = g.subgraph(vertices)\n",
    " \n",
    "    com_table=louvain_algorithm(subg)\n",
    "    for v in subg.vs:\n",
    "        v[\"communities\"] = []\n",
    "        v[\"communities\"].append(com_table[v.index])\n",
    "    plot_full(subg, \"full.svg\")\n",
    "    i=0\n",
    "    for v in subg.vs:\n",
    "        v[\"community\"] = com_table[i]\n",
    "        i+=1\n",
    "    print(get_modularity(subg))"
   ]
  },
  {
   "cell_type": "code",
   "execution_count": 1,
   "metadata": {},
   "outputs": [],
   "source": [
    "def louvain_igraph_wrapper(graph):\n",
    "    p = graph.community_multilevel()\n",
    "    q=graph.modularity(p)\n",
    "\n",
    "def louvain_algorithm_wrapper(graph):\n",
    "    louvain_algorithm(graph,1)\n",
    "\n",
    "def louvain_algorithm_wrapper_promote_bigger(graph):\n",
    "    louvain_algorithm(graph,0.75)\n",
    "\n",
    "def louvain_algorithm_wrapper_promote_smaller(graph):\n",
    "    louvain_algorithm(graph,1.25)\n",
    "\n",
    "def algorithm(graph):\n",
    "    return louvain_algorithm(graph,0.9)\n",
    "\n",
    "def find_overlapping_communities_wrapper(graph):\n",
    "    find_overlapping_communities(graph,4,5,algorithm)\n"
   ]
  },
  {
   "cell_type": "code",
   "execution_count": null,
   "metadata": {},
   "outputs": [],
   "source": [
    "def perform_full_benchmark_louvain(max_vertices):\n",
    "    perform_default_benchmark(louvain_igraph_wrapper,'louvain_igraph_benchmark.txt',max_vertices)\n",
    "    perform_default_benchmark(louvain_algorithm_wrapper,'louvain_algorithm_benchmark.txt',max_vertices)\n",
    "    perform_default_benchmark(louvain_algorithm_wrapper_promote_bigger,'louvain_algorithm_benchmark_promote_bigger.txt',max_vertices)\n",
    "    perform_default_benchmark(louvain_algorithm_wrapper_promote_smaller,'louvain_algorithm_benchmark_promote_smaller.txt',max_vertices)\n",
    "    perform_default_benchmark(find_overlapping_communities_wrapper,'find_overlapping_louvain_algorithm_benchmark.txt',max_vertices)"
   ]
  }
 ],
 "metadata": {
  "kernelspec": {
   "display_name": "Python 3.8.2 32-bit",
   "language": "python",
   "name": "python38232bit647c978e5bed4d39a404941b1039b502"
  },
  "language_info": {
   "codemirror_mode": {
    "name": "ipython",
    "version": 3
   },
   "file_extension": ".py",
   "mimetype": "text/x-python",
   "name": "python",
   "nbconvert_exporter": "python",
   "pygments_lexer": "ipython3",
   "version": "3.7.6"
  }
 },
 "nbformat": 4,
 "nbformat_minor": 2
}
