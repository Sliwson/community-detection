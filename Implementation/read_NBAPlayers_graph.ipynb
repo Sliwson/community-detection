{
 "cells": [
  {
   "cell_type": "code",
   "execution_count": 6,
   "metadata": {},
   "outputs": [],
   "source": [
    "import igraph \n",
    "import csv\n",
    "import unicodedata"
   ]
  },
  {
   "cell_type": "code",
   "execution_count": 7,
   "metadata": {},
   "outputs": [],
   "source": [
    "def readVertices(path, graph, addNames):\n",
    "    names = []\n",
    "    with open(path, mode='r', encoding=\"utf8\") as csv_file:\n",
    "        csv_reader = csv.reader(csv_file, delimiter=';')\n",
    "        line_count = 0\n",
    "        for row in csv_reader:\n",
    "            if line_count>0:\n",
    "                graph.add_vertices(row[0])\n",
    "                string=row[1]\n",
    "                string=unicodedata.normalize('NFKD', string).replace(u'ł', 'l').encode('ascii', 'ignore')\n",
    "                names.append(string.decode('utf-8'))\n",
    "            line_count+=1\n",
    "    if addNames:\n",
    "        graph.vs[\"name\"]=names\n",
    "    "
   ]
  },
  {
   "cell_type": "code",
   "execution_count": 8,
   "metadata": {},
   "outputs": [],
   "source": [
    "def readEdges(path, graph,addYearsAsWeight):\n",
    "    years=[]\n",
    "    with open(path, mode='r', encoding=\"utf8\") as csv_file:\n",
    "        csv_reader = csv.reader(csv_file, delimiter=';')\n",
    "        line_count = 0\n",
    "        for row in csv_reader:\n",
    "            if line_count>0:\n",
    "                try:\n",
    "                    graph.add_edges([(int(row[1])-1, int(row[0])-1)])\n",
    "                    year = row[2][0:4]\n",
    "                    years.append(2020-int(year))\n",
    "                except:\n",
    "                    {}\n",
    "            line_count+=1\n",
    "    if addYearsAsWeight:\n",
    "        graph.es[\"weight\"]=years"
   ]
  },
  {
   "cell_type": "code",
   "execution_count": 9,
   "metadata": {},
   "outputs": [],
   "source": [
    "def getSeasons(path, graph):\n",
    "    seasosn=[]\n",
    "    with open(path, mode='r', encoding=\"utf8\") as csv_file:\n",
    "        csv_reader = csv.reader(csv_file, delimiter=';')\n",
    "        line_count = 0\n",
    "        for row in csv_reader:\n",
    "            if line_count>0:\n",
    "                seasons.add(row[2])\n",
    "            line_count+=1\n",
    "    return seasons"
   ]
  },
  {
   "cell_type": "code",
   "execution_count": 10,
   "metadata": {},
   "outputs": [],
   "source": [
    "def getFirstClub(path, graph):\n",
    "    firstClub=[]\n",
    "    with open(path, mode='r', encoding=\"utf8\") as csv_file:\n",
    "        csv_reader = csv.reader(csv_file, delimiter=';')\n",
    "        line_count = 0\n",
    "        for row in csv_reader:\n",
    "            if line_count>0:\n",
    "                firstClub.add(row[3])\n",
    "            line_count+=1\n",
    "    return firstClub"
   ]
  }
 ],
 "metadata": {
  "language_info": {
   "codemirror_mode": {
    "name": "ipython",
    "version": 3
   },
   "file_extension": ".py",
   "mimetype": "text/x-python",
   "name": "python",
   "nbconvert_exporter": "python",
   "pygments_lexer": "ipython3",
   "version": "3.8.2-final"
  },
  "orig_nbformat": 2,
  "kernelspec": {
   "name": "python38232bit647c978e5bed4d39a404941b1039b502",
   "display_name": "Python 3.8.2 32-bit"
  }
 },
 "nbformat": 4,
 "nbformat_minor": 2
}