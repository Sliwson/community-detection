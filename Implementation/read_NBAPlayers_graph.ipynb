{
 "cells": [
  {
   "cell_type": "code",
   "execution_count": 6,
   "metadata": {},
   "outputs": [],
   "source": [
    "import igraph \n",
    "import csv\n",
    "import unicodedata"
   ]
  },
  {
   "cell_type": "code",
   "execution_count": 3,
   "metadata": {},
   "outputs": [],
   "source": [
    "def readVertices_NBA(collection, graph, addNames):\n",
    "    for row in collection:\n",
    "        string=row[1]\n",
    "        string=unicodedata.normalize('NFKD', string).replace(u'ł', 'l').encode('ascii', 'ignore')\n",
    "        if addNames:\n",
    "            graph.add_vertex(name =  string.decode('utf-8'))\n",
    "        else:\n",
    "            graph.add_vertex()"
   ]
  },
  {
   "cell_type": "code",
   "execution_count": 2,
   "metadata": {},
   "outputs": [],
   "source": [
    "def readEdges_NBA(collection, graph, addYearsAsWeight):\n",
    "    for row in collection\n",
    "        try:\n",
    "            year = row[2][0:4]\n",
    "            if addYearsAsWeight:\n",
    "                graph.add_edges([(int(row[1])-1, int(row[0])-1,2020-int(year))])\n",
    "            else:\n",
    "            graph.add_edges([(int(row[1])-1, int(row[0])-1)])\n",
    "        except:\n",
    "            {}"
   ]
  },
  {
   "cell_type": "code",
   "execution_count": 4,
   "metadata": {},
   "outputs": [],
   "source": [
    "def getSeasons(collection):\n",
    "    return np.array(collection)[:,2].tolist()"
   ]
  },
  {
   "cell_type": "code",
   "execution_count": 6,
   "metadata": {},
   "outputs": [],
   "source": [
    "def getFirstClub(path, graph):\n",
    "    return np.array(collection)[:,3].tolist()"
   ]
  },
  {
   "cell_type": "code",
   "execution_count": null,
   "metadata": {},
   "outputs": [],
   "source": [
    "def getDates(collection):\n",
    "    return np.array(collection)[:,2].tolist()"
   ]
  },
  {
   "cell_type": "code",
   "execution_count": null,
   "metadata": {},
   "outputs": [],
   "source": []
  },
  {
   "cell_type": "code",
   "execution_count": null,
   "metadata": {},
   "outputs": [],
   "source": []
  }
 ],
 "metadata": {
  "language_info": {
   "codemirror_mode": {
    "name": "ipython",
    "version": 3
   },
   "file_extension": ".py",
   "mimetype": "text/x-python",
   "name": "python",
   "nbconvert_exporter": "python",
   "pygments_lexer": "ipython3",
   "version": "3.8.2-final"
  },
  "orig_nbformat": 2,
  "kernelspec": {
   "name": "python38232bit647c978e5bed4d39a404941b1039b502",
   "display_name": "Python 3.8.2 32-bit"
  }
 },
 "nbformat": 4,
 "nbformat_minor": 2
}