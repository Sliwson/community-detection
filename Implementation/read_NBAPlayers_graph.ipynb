{
 "cells": [
  {
   "cell_type": "code",
   "execution_count": null,
   "metadata": {},
   "outputs": [],
   "source": [
    "import igraph \n",
    "import csv\n",
    "import unicodedata"
   ]
  },
  {
   "cell_type": "code",
   "execution_count": 1,
   "metadata": {},
   "outputs": [],
   "source": [
    "def readVertices(path, graph, addNames):\n",
    "    names = []\n",
    "    with open(path, mode='r', encoding=\"utf8\") as csv_file:\n",
    "        csv_reader = csv.reader(csv_file, delimiter=';')\n",
    "        line_count = 0\n",
    "        for row in csv_reader:\n",
    "            if line_count>0:\n",
    "                graph.add_vertices(row[0])\n",
    "                string=row[1]\n",
    "                string=unicodedata.normalize('NFKD', string).replace(u'ł', 'l').encode('ascii', 'ignore')\n",
    "                names.append(string.decode('utf-8'))\n",
    "            line_count+=1\n",
    "    if addNames:\n",
    "        graph.vs[\"name\"]=names\n",
    "    "
   ]
  },
  {
   "cell_type": "code",
   "execution_count": 2,
   "metadata": {},
   "outputs": [],
   "source": [
    "def readEdges(path, graph):\n",
    "    with open(path, mode='r', encoding=\"utf8\") as csv_file:\n",
    "        csv_reader = csv.reader(csv_file, delimiter=';')\n",
    "        line_count = 0\n",
    "        for row in csv_reader:\n",
    "            if line_count>0:\n",
    "                try:\n",
    "                    graph.add_edges([(int(row[0]), int(row[1]))])\n",
    "                except:\n",
    "                    {}\n",
    "            line_count+=1"
   ]
  },
  {
   "cell_type": "code",
   "execution_count": 3,
   "metadata": {},
   "outputs": [],
   "source": [
    "def getSeasons(path, graph):\n",
    "    seasosn=[]\n",
    "    with open(path, mode='r', encoding=\"utf8\") as csv_file:\n",
    "        csv_reader = csv.reader(csv_file, delimiter=';')\n",
    "        line_count = 0\n",
    "        for row in csv_reader:\n",
    "            if line_count>0:\n",
    "                seasons.add(row[2])\n",
    "            line_count+=1\n",
    "    return seasons"
   ]
  },
  {
   "cell_type": "code",
   "execution_count": null,
   "metadata": {},
   "outputs": [],
   "source": [
    "def getFirstClub(path, graph):\n",
    "    firstClub=[]\n",
    "    with open(path, mode='r', encoding=\"utf8\") as csv_file:\n",
    "        csv_reader = csv.reader(csv_file, delimiter=';')\n",
    "        line_count = 0\n",
    "        for row in csv_reader:\n",
    "            if line_count>0:\n",
    "                seasons.add(row[3])\n",
    "            line_count+=1\n",
    "    return firstClub"
   ]
  }
 ],
 "metadata": {
  "kernelspec": {
   "display_name": "Python 3",
   "language": "python",
   "name": "python3"
  },
  "language_info": {
   "codemirror_mode": {
    "name": "ipython",
    "version": 3
   },
   "file_extension": ".py",
   "mimetype": "text/x-python",
   "name": "python",
   "nbconvert_exporter": "python",
   "pygments_lexer": "ipython3",
   "version": "3.7.6"
  }
 },
 "nbformat": 4,
 "nbformat_minor": 2
}
