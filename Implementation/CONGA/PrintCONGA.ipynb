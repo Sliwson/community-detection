{
 "cells": [
  {
   "cell_type": "code",
   "execution_count": null,
   "metadata": {},
   "outputs": [],
   "source": [
    "import igraph \n",
    "import csv\n",
    "import unicodedata"
   ]
  },
  {
   "cell_type": "code",
   "execution_count": null,
   "metadata": {},
   "outputs": [],
   "source": [
    "def PrintGraph(resultGraph, toPrint,result, Overlap, iteration, printEvery):\n",
    "    index = 1\n",
    "    while index<=iteration:\n",
    "        x = result[len(result)-index]\n",
    "        #print(x)\n",
    "        \n",
    "        for edge in x:\n",
    "            if(edge[0]==edge[1]):\n",
    "                continue\n",
    "            #print(edge)\n",
    "            resultGraph.add_edges([edge])\n",
    "            \n",
    "        comp = [[] for i in range(0, len(resultGraph.components()))]\n",
    "        counter = 0\n",
    "        for component in resultGraph.components():\n",
    "            if(len(component)==1 and component[0] >= toPrint.vcount()):\n",
    "                #print(component[0])\n",
    "                continue\n",
    "            toAdd = []\n",
    "            for vertex in component:\n",
    "                if(vertex<toPrint.vcount()):\n",
    "                    toAdd.append(vertex)\n",
    "                else:\n",
    "                    while(Overlap[vertex]!=-1):\n",
    "                        vertex=Overlap[vertex]\n",
    "                    toAdd.append(vertex)\n",
    "            comp[counter] = toAdd\n",
    "            counter+=1\n",
    "        #print(comp)\n",
    "        \n",
    "        for edge in x:\n",
    "            source = edge[0]\n",
    "            target = edge[1]\n",
    "            if(source == target):\n",
    "                continue\n",
    "            if(source>=toPrint.vcount()): #Change\n",
    "                while(Overlap[source]!=-1):\n",
    "                    source=Overlap[source]\n",
    "            if(target>=toPrint.vcount()):\n",
    "                while(Overlap[target]!=-1):\n",
    "                    target=Overlap[target]\n",
    "            toPrint.add_edges([(source,target)])\n",
    "        #print(toPrint.vcount())\n",
    "        #print(toPrint.ecount())\n",
    "        \n",
    "        toPrint.simplify(multiple=True, loops=True, combine_edges=None)\n",
    "        \n",
    "        counter = 0\n",
    "        for vertex in toPrint.vs:\n",
    "            vertex[\"communities\"] = []\n",
    "        for c in comp:\n",
    "            for vertex in c:\n",
    "                if counter not in toPrint.vs[vertex][\"communities\"]:\n",
    "                    toPrint.vs[vertex][\"communities\"].append(counter)\n",
    "                    #print(toPrint.vs[vertex][\"communities\"])\n",
    "            counter+=1\n",
    "        if printEvery == 1 or index == iteration:\n",
    "            plot_full(toPrint, str(index)+\"Iteration.svg\")\n",
    "        \n",
    "        \n",
    "        index+=1\n",
    "    return toPrint"
   ]
  },
  {
   "cell_type": "code",
   "execution_count": null,
   "metadata": {},
   "outputs": [],
   "source": []
  }
 ],
 "metadata": {
  "kernelspec": {
   "display_name": "Python 3",
   "language": "python",
   "name": "python3"
  },
  "language_info": {
   "codemirror_mode": {
    "name": "ipython",
    "version": 3
   },
   "file_extension": ".py",
   "mimetype": "text/x-python",
   "name": "python",
   "nbconvert_exporter": "python",
   "pygments_lexer": "ipython3",
   "version": "3.7.6"
  }
 },
 "nbformat": 4,
 "nbformat_minor": 4
}
