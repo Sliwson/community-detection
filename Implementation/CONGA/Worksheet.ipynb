{
 "cells": [
  {
   "cell_type": "code",
   "execution_count": null,
   "metadata": {},
   "outputs": [],
   "source": [
    "%run visualisation.ipynb\n",
    "%run read_NBAPlayers_graph.ipynb\n",
    "%run GirvanNewmanAlgorithms.ipynb"
   ]
  },
  {
   "cell_type": "code",
   "execution_count": null,
   "metadata": {},
   "outputs": [],
   "source": [
    "g = igraph.Graph()\n",
    "readVertices(\"/home/irek/community-detection/Scrapers/BasketballReferenceScraper/data/Players.csv\",g,True)\n",
    "readEdges(\"/home/irek/community-detection/Scrapers/BasketballReferenceScraper/data/Edges.csv\",g, True)"
   ]
  },
  {
   "cell_type": "code",
   "execution_count": null,
   "metadata": {},
   "outputs": [],
   "source": [
    "AllStars1920 = [4524, 4418, 4778, 112, 3876, 1223, 2591, 3892, 614, 2889, 25, 4147, 3726, 1717, 1085, 2065, 2513, 955, 3311, 2542, 2938, 2004, 2177, 1517, 401, 2009, 3201, 266, 1620, 4393, 4396, 3719, 921, 1149, 1475, 4227, 44, 4278, 3159]\n",
    "Overlap = [[-1] for i in range(0, 10*len(AllStars1920))]"
   ]
  },
  {
   "cell_type": "code",
   "execution_count": null,
   "metadata": {},
   "outputs": [],
   "source": [
    "for player in AllStars1920:\n",
    "    print(g.vs[player].attributes())"
   ]
  },
  {
   "cell_type": "code",
   "execution_count": null,
   "metadata": {},
   "outputs": [],
   "source": [
    "AllStars1920Graph = g.subgraph(AllStars1920)\n",
    "print(AllStars1920Graph.ecount())\n",
    "print(AllStars1920Graph.vcount())\n",
    "for vertex in AllStars1920Graph.vs:\n",
    "    vertex[\"communities\"] = [0]\n",
    "plot(AllStars1920Graph, \"AllStars1920.svg\")"
   ]
  },
  {
   "cell_type": "code",
   "execution_count": null,
   "metadata": {},
   "outputs": [],
   "source": [
    "for player in AllStars1920Graph.vs:\n",
    "    print(player)\n",
    "for edge in AllStars1920Graph.es:\n",
    "    print(edge.tuple)\n",
    "    print(edge.attributes())\n",
    "    print(' ')"
   ]
  },
  {
   "cell_type": "code",
   "execution_count": null,
   "metadata": {},
   "outputs": [],
   "source": [
    "edge_betweenness = AllStars1920Graph.edge_betweenness(directed=False, cutoff=None, weights=None)\n",
    "max_eb = max(edge_betweenness)\n",
    "print(max_eb)\n",
    "vertex_betweenness = AllStars1920Graph.betweenness(vertices=None, directed=False, cutoff=None, weights=None, nobigint=True)\n",
    "max_vb = max(vertex_betweenness)\n",
    "print(max_vb)"
   ]
  },
  {
   "cell_type": "code",
   "execution_count": null,
   "metadata": {},
   "outputs": [],
   "source": [
    "edgesToDelete = [AllStars1920Graph.es[idx].tuple for idx, eb in enumerate(edge_betweenness) if (eb == max_eb and eb == max_eb)]\n",
    "print(edgesToDelete)\n",
    "result.append(edgesToDelete)\n",
    "print(result)\n",
    "AllStars1920Graph.delete_edges(edgesToDelete)"
   ]
  },
  {
   "cell_type": "code",
   "execution_count": null,
   "metadata": {},
   "outputs": [],
   "source": [
    "vertexToCopy = vertex_betweenness.index(max_vb);\n",
    "print(vertexToCopy)\n",
    "incident = AllStars1920Graph.incident(vertexToCopy, mode=ALL)\n",
    "print(incident)\n",
    "AllStars1920Graph.add_vertices(1)\n",
    "Overlap[AllStars1920Graph.vcount()-1].append(vertexToCopy)\n",
    "print(Overlap)"
   ]
  },
  {
   "cell_type": "code",
   "execution_count": null,
   "metadata": {},
   "outputs": [],
   "source": [
    "sum = 0\n",
    "for edge in incident:\n",
    "    print(AllStars1920Graph.es[edge]['weight'])\n",
    "    sum += AllStars1920Graph.es[edge]['weight']\n",
    "\n",
    "average = sum/len(incident)\n",
    "print(sum)\n",
    "print(average)\n",
    "edges_to_delete = []\n",
    "new_vertex_counter = AllStars1920Graph.vcount()-1\n",
    "for edge in incident:\n",
    "    weight = AllStars1920Graph.es[edge]['weight']\n",
    "    if(weight<average):\n",
    "        edges_to_delete.append(edge)\n",
    "        source = AllStars1920Graph.es[edge].source\n",
    "        target = AllStars1920Graph.es[edge].target\n",
    "        print([source, target])\n",
    "        if(target == vertexToCopy):\n",
    "            print([(source, new_vertex_counter)])\n",
    "            AllStars1920Graph.add_edges([(source, new_vertex_counter)])\n",
    "            AllStars1920Graph.es[AllStars1920Graph.ecount()-1][\"weight\"]=weight\n",
    "        else:\n",
    "            print([(new_vertex_counter, target)])\n",
    "            AllStars1920Graph.add_edges([(new_vertex_counter, target)])\n",
    "            AllStars1920Graph.es[AllStars1920Graph.ecount()-1][\"weight\"]=weight"
   ]
  },
  {
   "cell_type": "code",
   "execution_count": null,
   "metadata": {},
   "outputs": [],
   "source": [
    "AllStars1920Graph.delete_edges(edges_to_delete)\n",
    "result.append(vertexToCopy)\n",
    "incident2 = AllStars1920Graph.incident(vertexToCopy, mode=ALL)\n",
    "print(incident2)\n",
    "print(result)"
   ]
  },
  {
   "cell_type": "code",
   "execution_count": null,
   "metadata": {},
   "outputs": [],
   "source": [
    "#print(result)\n",
    "for x in reversed(result):\n",
    "    #try:\n",
    "        length = len(x)\n",
    "        print(length)\n",
    "        for edge in x:\n",
    "            print(edge)\n",
    "            resultGraph.add_edges([edge])\n",
    "            print(\"ABCD\")\n",
    "        break\n",
    "    #except:\n",
    "        #print(\"STOP\")"
   ]
  },
  {
   "cell_type": "code",
   "execution_count": null,
   "metadata": {},
   "outputs": [],
   "source": [
    "#resultGraph = AllStars1920Graph.copy()\n",
    "#resultGraph.delete_edges(resultGraph.es)\n",
    "print(resultGraph.ecount())\n",
    "print(resultGraph.vcount())"
   ]
  },
  {
   "cell_type": "code",
   "execution_count": null,
   "metadata": {},
   "outputs": [],
   "source": [
    "print(resultGraph.components()[1])\n",
    "    "
   ]
  },
  {
   "cell_type": "code",
   "execution_count": null,
   "metadata": {},
   "outputs": [],
   "source": [
    "result = [37]"
   ]
  },
  {
   "cell_type": "code",
   "execution_count": null,
   "metadata": {},
   "outputs": [],
   "source": [
    "def CONGARandom(g,n):\n",
    "    iteration=0\n",
    "    new_vertex_counter = g.vcount()\n",
    "    table = [-1]*100*g.vcount()\n",
    "    while(iteration<n and g.ecount() > 0):\n",
    "        print(' ')\n",
    "        print(iteration)\n",
    "        edge_betweenness = g.edge_betweenness(directed=False, cutoff=None, weights=None)\n",
    "        max_eb = max(edge_betweenness)\n",
    "        print(max_eb)\n",
    "        vertex_betweenness = g.betweenness(vertices=None, directed=False, cutoff=None, weights=None, nobigint=True)\n",
    "        max_vb = max(vertex_betweenness)\n",
    "        print(max_vb)\n",
    "        if(max_eb > max_vb):\n",
    "            edgesToDelete = [g.es[idx].tuple for idx, eb in enumerate(edge_betweenness) if (eb <= max_eb+0.1 and eb >= max_eb-0.1)]\n",
    "            #print(edgesToDelete)\n",
    "            g.delete_edges(edgesToDelete)\n",
    "        else:\n",
    "            vertexToCopy = vertex_betweenness.index(max_vb);\n",
    "            #print(vertexToCopy)\n",
    "            incident = g.incident(vertexToCopy, mode=ALL)\n",
    "            #print(len(incident))\n",
    "            g.add_vertices(str(new_vertex_counter))\n",
    "            table[vertexToCopy] = new_vertex_counter\n",
    "            delete_edge_iterator=0\n",
    "            length = len(incident)/2\n",
    "            #print(incident)\n",
    "            edges_to_delete = [];\n",
    "            while(delete_edge_iterator < length):\n",
    "                #g.delete_edges(incident[delete_edge_iterator])\n",
    "                source = g.es[incident[delete_edge_iterator]].source\n",
    "                target = g.es[incident[delete_edge_iterator]].target\n",
    "                #print([source, target])\n",
    "                if(target == vertexToCopy):\n",
    "                    #print([(source, new_vertex_counter)])\n",
    "                    g.add_edges([(source, new_vertex_counter)])\n",
    "                else:\n",
    "                    #print([(new_vertex_counter, target)])\n",
    "                    g.add_edges([(new_vertex_counter, target)])\n",
    "                edges_to_delete.append(incident[delete_edge_iterator])\n",
    "                delete_edge_iterator+=1\n",
    "            new_vertex_counter+=1\n",
    "            #print(edges_to_delete)\n",
    "            g.delete_edges(edges_to_delete)\n",
    "            incident2 = g.incident(vertexToCopy, mode=ALL)\n",
    "            #print(len(incident2))\n",
    "            #print(incident2)\n",
    "        iteration+=1\n",
    "        #print(table)\n",
    "        print(g.ecount())\n",
    "        #print(g.vcount())\n",
    "    return table"
   ]
  },
  {
   "cell_type": "code",
   "execution_count": null,
   "metadata": {},
   "outputs": [],
   "source": [
    "result = CONGARandom(g,100000)\n",
    "print(result)"
   ]
  },
  {
   "cell_type": "code",
   "execution_count": null,
   "metadata": {},
   "outputs": [],
   "source": [
    "def GetSubgraph(g, v, how_many):\n",
    "    result = [v]\n",
    "    counter = 0\n",
    "    while(counter < how_many):\n",
    "        edges = g.incident(v, mode=IN)\n",
    "        for edge in edges:\n",
    "            if(g.es[edge].source not in result):\n",
    "                result.append(g.es[edge].source)\n",
    "            if(g.es[edge].target not in result):\n",
    "                result.append(g.es[edge].target)\n",
    "            counter+=1\n",
    "    print(result)\n",
    "    return g.subgraph(result)"
   ]
  },
  {
   "cell_type": "code",
   "execution_count": null,
   "metadata": {},
   "outputs": [],
   "source": [
    "CurryGraph = GetSubgraph(g,921, 211)"
   ]
  },
  {
   "cell_type": "code",
   "execution_count": null,
   "metadata": {},
   "outputs": [],
   "source": [
    "print(CurryGraph.ecount())\n",
    "print(CurryGraph.vcount())\n",
    "#print(CurryGraph.es[5].tuple)"
   ]
  },
  {
   "cell_type": "code",
   "execution_count": null,
   "metadata": {},
   "outputs": [],
   "source": []
  }
 ],
 "metadata": {
  "kernelspec": {
   "display_name": "Python 3",
   "language": "python",
   "name": "python3"
  },
  "language_info": {
   "codemirror_mode": {
    "name": "ipython",
    "version": 3
   },
   "file_extension": ".py",
   "mimetype": "text/x-python",
   "name": "python",
   "nbconvert_exporter": "python",
   "pygments_lexer": "ipython3",
   "version": "3.7.6"
  }
 },
 "nbformat": 4,
 "nbformat_minor": 4
}
