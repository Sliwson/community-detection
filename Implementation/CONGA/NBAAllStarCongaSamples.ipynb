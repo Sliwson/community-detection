{
 "cells": [
  {
   "cell_type": "code",
   "execution_count": null,
   "metadata": {},
   "outputs": [],
   "source": [
    "%run ../visualisation.ipynb\n",
    "%run ../read_graph.ipynb\n",
    "%run ../common.ipynb\n",
    "%run GirvanNewmanAlgorithms.ipynb\n",
    "%run CONGAYearAlgorithm.ipynb\n",
    "%run PrintCONGA.ipynb\n",
    "        \n",
    "vertices_path = \"../../Data/Basketball/Players.csv\"\n",
    "edges_path = \"../../Data/Basketball/Edges.csv\"\n",
    "\n",
    "import numpy\n",
    "from scipy.signal import argrelextrema"
   ]
  },
  {
   "cell_type": "code",
   "execution_count": null,
   "metadata": {},
   "outputs": [],
   "source": [
    "def GraphSampleFunction(graph,friends_modification=True, with_preprocess=False, quantile_value=.1, quantile_result_value=.1, printEvery=False, gap=0):\n",
    "    print(gap)\n",
    "    toPrint = graph.copy()\n",
    "    Overlap = [-1 for i in range(0, 10*graph.vcount())]\n",
    "    result = []\n",
    "\n",
    "    if with_preprocess:\n",
    "        preprocess = CONGAYearAlgorithmPreprocessing(graph.copy(), friends_modification)\n",
    "        gap = numpy.quantile(preprocess, quantile_value)\n",
    "        print(gap)\n",
    "\n",
    "    modularityResult = CONGAYearAlgorithm(graph, result, Overlap,friends_modification, gap)\n",
    "\n",
    "    resultGraph = graph.copy()\n",
    "    while toPrint.ecount() > 0:\n",
    "        for edge in toPrint.es:\n",
    "            toPrint.delete_edges(edge)\n",
    "\n",
    "    resultIndex = GetResultIndex(modularityResult,quantile_result_value)\n",
    "\n",
    "    PrintGraph(resultGraph, toPrint, result, Overlap, resultIndex,0)"
   ]
  },
  {
   "cell_type": "code",
   "execution_count": null,
   "metadata": {},
   "outputs": [],
   "source": [
    "graph = read_all_star_sample(vertices_path,edges_path,2,True,True,True)\n",
    "GraphSampleFunction(graph)"
   ]
  },
  {
   "cell_type": "code",
   "execution_count": null,
   "metadata": {},
   "outputs": [],
   "source": [
    "graph = read_all_star_sample(vertices_path,edges_path,3,True,True,True)\n",
    "GraphSampleFunction(graph)"
   ]
  },
  {
   "cell_type": "code",
   "execution_count": null,
   "metadata": {},
   "outputs": [],
   "source": [
    "graph = read_all_star_sample(vertices_path,edges_path,4,True,True,True)\n",
    "GraphSampleFunction(graph)"
   ]
  },
  {
   "cell_type": "code",
   "execution_count": null,
   "metadata": {},
   "outputs": [],
   "source": [
    "graph = read_all_star_sample(vertices_path,edges_path,5,True,True,True)\n",
    "GraphSampleFunction(graph)"
   ]
  },
  {
   "cell_type": "code",
   "execution_count": null,
   "metadata": {},
   "outputs": [],
   "source": [
    "graph = read_all_star_sample(vertices_path,edges_path,6,True,True,True)\n",
    "GraphSampleFunction(graph)"
   ]
  },
  {
   "cell_type": "code",
   "execution_count": null,
   "metadata": {},
   "outputs": [],
   "source": [
    "graph = read_all_star_sample(vertices_path,edges_path,7,True,True,True)\n",
    "GraphSampleFunction(graph)"
   ]
  },
  {
   "cell_type": "code",
   "execution_count": null,
   "metadata": {},
   "outputs": [],
   "source": [
    "graph = read_all_star_sample(vertices_path,edges_path,8,True,True,True)\n",
    "GraphSampleFunction(graph)"
   ]
  },
  {
   "cell_type": "code",
   "execution_count": null,
   "metadata": {},
   "outputs": [],
   "source": [
    "graph = read_all_star_sample(vertices_path,edges_path,9,True,True,True)\n",
    "GraphSampleFunction(graph)"
   ]
  },
  {
   "cell_type": "code",
   "execution_count": null,
   "metadata": {},
   "outputs": [],
   "source": [
    "graph = read_all_star_sample(vertices_path,edges_path,10,True,True,True)\n",
    "GraphSampleFunction(graph)"
   ]
  },
  {
   "cell_type": "code",
   "execution_count": null,
   "metadata": {},
   "outputs": [],
   "source": [
    "graph = read_all_time_scorers(vertices_path,edges_path,50,True,True,True)\n",
    "GraphSampleFunction(graph)"
   ]
  },
  {
   "cell_type": "code",
   "execution_count": null,
   "metadata": {},
   "outputs": [],
   "source": [
    "graph = read_all_time_scorers(vertices_path,edges_path,100,True,True,True)\n",
    "GraphSampleFunction(graph)"
   ]
  },
  {
   "cell_type": "code",
   "execution_count": null,
   "metadata": {},
   "outputs": [],
   "source": [
    "graph = read_all_time_scorers(vertices_path,edges_path,200,True,True,True)\n",
    "GraphSampleFunction(graph)"
   ]
  },
  {
   "cell_type": "code",
   "execution_count": null,
   "metadata": {},
   "outputs": [],
   "source": [
    "graph = read_all_time_scorers(vertices_path,edges_path,300,True,True,True)\n",
    "GraphSampleFunction(graph)"
   ]
  },
  {
   "cell_type": "code",
   "execution_count": null,
   "metadata": {},
   "outputs": [],
   "source": [
    "graph = read_all_time_scorers(vertices_path,edges_path,400,True,True,True)\n",
    "GraphSampleFunction(graph)"
   ]
  },
  {
   "cell_type": "code",
   "execution_count": null,
   "metadata": {},
   "outputs": [],
   "source": [
    "graph = read_all_time_scorers(vertices_path,edges_path,500,True,True,True)\n",
    "GraphSampleFunction(graph)"
   ]
  }
 ],
 "metadata": {
  "kernelspec": {
   "display_name": "Python 3",
   "language": "python",
   "name": "python3"
  },
  "language_info": {
   "codemirror_mode": {
    "name": "ipython",
    "version": 3
   },
   "file_extension": ".py",
   "mimetype": "text/x-python",
   "name": "python",
   "nbconvert_exporter": "python",
   "pygments_lexer": "ipython3",
   "version": "3.7.6"
  }
 },
 "nbformat": 4,
 "nbformat_minor": 4
}
