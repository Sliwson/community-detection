{
 "cells": [
  {
   "cell_type": "code",
   "execution_count": 4,
   "metadata": {},
   "outputs": [
    {
     "name": "stdout",
     "output_type": "stream",
     "text": [
      "/home/irek/community-detection/Implementation\n",
      "/home/irek/community-detection/Implementation/CONGA\n"
     ]
    }
   ],
   "source": [
    "%run GirvanNewmanAlgorithms.ipynb\n",
    "%run PrintCONGA.ipynb\n",
    "%run CONGAYearAlgorithm.ipynb\n",
    "%run visualisation.ipynb\n",
    "%run read_graph.ipynb\n",
    "%run common.ipynb\n",
    "%cd ./CONGA\n",
    "      \n",
    "vertices_path = \"../../Data/Basketball/Players.csv\"\n",
    "edges_path = \"../../Data/Basketball/Edges.csv\"\n",
    "\n",
    "import numpy\n",
    "from scipy.signal import argrelextrema"
   ]
  },
  {
   "cell_type": "code",
   "execution_count": null,
   "metadata": {},
   "outputs": [],
   "source": [
    "%cd ./CONGA"
   ]
  },
  {
   "cell_type": "code",
   "execution_count": null,
   "metadata": {},
   "outputs": [],
   "source": [
    "graph = read_all_star_sample(vertices_path,edges_path,2,True,True,True)\n",
    "GraphSampleFunction(graph,friends_modification=True,quantile_result_value=1.0)"
   ]
  },
  {
   "cell_type": "code",
   "execution_count": null,
   "metadata": {},
   "outputs": [],
   "source": [
    "graph = read_all_star_sample(vertices_path,edges_path,3,True,True,True)\n",
    "GraphSampleFunction(graph,friends_modification=True,quantile_result_value=1.0)"
   ]
  },
  {
   "cell_type": "code",
   "execution_count": null,
   "metadata": {
    "scrolled": false
   },
   "outputs": [],
   "source": [
    "graph = read_all_star_sample(vertices_path,edges_path,4,True,True,True)\n",
    "GraphSampleFunction(graph,friends_modification=False,quantile_result_value=1.0)"
   ]
  },
  {
   "cell_type": "code",
   "execution_count": null,
   "metadata": {},
   "outputs": [],
   "source": [
    "graph = read_all_star_sample(vertices_path,edges_path,5,True,True,True)\n",
    "GraphSampleFunction(graph)"
   ]
  },
  {
   "cell_type": "code",
   "execution_count": null,
   "metadata": {},
   "outputs": [],
   "source": [
    "graph = read_all_star_sample(vertices_path,edges_path,6,True,True,True)\n",
    "GraphSampleFunction(graph,friends_modification=True,quantile_result_value=1.0)"
   ]
  },
  {
   "cell_type": "code",
   "execution_count": null,
   "metadata": {},
   "outputs": [],
   "source": [
    "graph = read_all_star_sample(vertices_path,edges_path,7,True,True,True)\n",
    "GraphSampleFunction(graph)"
   ]
  },
  {
   "cell_type": "code",
   "execution_count": null,
   "metadata": {},
   "outputs": [],
   "source": [
    "graph = read_all_star_sample(vertices_path,edges_path,8,True,True,True)\n",
    "GraphSampleFunction(graph)"
   ]
  },
  {
   "cell_type": "code",
   "execution_count": null,
   "metadata": {},
   "outputs": [],
   "source": [
    "graph = read_all_star_sample(vertices_path,edges_path,9,True,True,True)\n",
    "GraphSampleFunction(graph)"
   ]
  },
  {
   "cell_type": "code",
   "execution_count": null,
   "metadata": {},
   "outputs": [],
   "source": [
    "graph = read_all_star_sample(vertices_path,edges_path,10,True,True,True)\n",
    "GraphSampleFunction(graph,friends_modification=False,quantile_result_value=0.5)"
   ]
  },
  {
   "cell_type": "code",
   "execution_count": null,
   "metadata": {},
   "outputs": [],
   "source": [
    "graph = read_all_time_scorers(vertices_path,edges_path,50,True,True,True)\n",
    "GraphSampleFunction(graph)"
   ]
  },
  {
   "cell_type": "code",
   "execution_count": null,
   "metadata": {},
   "outputs": [],
   "source": [
    "graph = read_all_time_scorers(vertices_path,edges_path,100,True,True,True)\n",
    "GraphSampleFunction(graph,friends_modification=True,quantile_result_value=.5)"
   ]
  },
  {
   "cell_type": "code",
   "execution_count": null,
   "metadata": {},
   "outputs": [],
   "source": [
    "graph = read_all_time_scorers(vertices_path,edges_path,200,True,True,True)\n",
    "GraphSampleFunction(graph)"
   ]
  },
  {
   "cell_type": "code",
   "execution_count": null,
   "metadata": {},
   "outputs": [],
   "source": [
    "graph = read_all_time_scorers(vertices_path,edges_path,300,True,True,True)\n",
    "GraphSampleFunction(graph)"
   ]
  },
  {
   "cell_type": "code",
   "execution_count": null,
   "metadata": {},
   "outputs": [],
   "source": [
    "graph = read_all_time_scorers(vertices_path,edges_path,400,True,True,True)\n",
    "GraphSampleFunction(graph)"
   ]
  },
  {
   "cell_type": "code",
   "execution_count": null,
   "metadata": {},
   "outputs": [],
   "source": [
    "graph = read_all_time_scorers(vertices_path,edges_path,500,True,True,True)\n",
    "GraphSampleFunction(graph)"
   ]
  }
 ],
 "metadata": {
  "kernelspec": {
   "display_name": "Python 3",
   "language": "python",
   "name": "python3"
  },
  "language_info": {
   "codemirror_mode": {
    "name": "ipython",
    "version": 3
   },
   "file_extension": ".py",
   "mimetype": "text/x-python",
   "name": "python",
   "nbconvert_exporter": "python",
   "pygments_lexer": "ipython3",
   "version": "3.7.6"
  }
 },
 "nbformat": 4,
 "nbformat_minor": 4
}
