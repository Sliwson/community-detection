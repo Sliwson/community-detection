{
 "cells": [
  {
   "cell_type": "code",
   "execution_count": 26,
   "metadata": {},
   "outputs": [
    {
     "name": "stdout",
     "output_type": "stream",
     "text": [
      "/home/irek/community-detection/Implementation\n",
      "/home/irek/community-detection/Implementation/CONGA\n"
     ]
    }
   ],
   "source": [
    "%run GirvanNewmanAlgorithms.ipynb\n",
    "%run PrintCONGA.ipynb\n",
    "%run CONGAYearAlgorithm.ipynb\n",
    "%run visualisation.ipynb\n",
    "%run read_graph.ipynb\n",
    "%run common.ipynb\n",
    "%cd ./CONGA\n",
    "      \n",
    "vertices_path = \"../../Data/Basketball/Players.csv\"\n",
    "edges_path = \"../../Data/Basketball/Edges.csv\"\n",
    "\n",
    "import numpy\n",
    "from scipy.signal import argrelextrema"
   ]
  },
  {
   "cell_type": "code",
   "execution_count": 18,
   "metadata": {},
   "outputs": [
    {
     "name": "stdout",
     "output_type": "stream",
     "text": [
      "/home/irek/community-detection/Implementation/CONGA\n"
     ]
    }
   ],
   "source": [
    "%cd ./CONGA"
   ]
  },
  {
   "cell_type": "code",
   "execution_count": 27,
   "metadata": {},
   "outputs": [],
   "source": [
    "def GraphSampleFunction(graph,friends_modification=True, with_preprocess=False, quantile_value=.1, quantile_result_value=.1, printEvery=False, gap=0):\n",
    "    print(gap)\n",
    "    toPrint = graph.copy()\n",
    "    Overlap = [-1 for i in range(0, 10*graph.vcount())]\n",
    "    result = []\n",
    "\n",
    "    if with_preprocess:\n",
    "        preprocess = CONGAYearAlgorithmPreprocessing(graph.copy(), friends_modification)\n",
    "        gap = numpy.quantile(preprocess, quantile_value)\n",
    "        print(gap)\n",
    "\n",
    "    modularityResult = CONGAYearAlgorithm(graph, result, Overlap,friends_modification, gap)\n",
    "\n",
    "    resultGraph = graph.copy()\n",
    "    while toPrint.ecount() > 0:\n",
    "        for edge in toPrint.es:\n",
    "            toPrint.delete_edges(edge)\n",
    "\n",
    "    resultIndex = GetResultIndex(modularityResult,quantile_result_value)\n",
    "\n",
    "    PrintGraph(resultGraph, toPrint, result, Overlap, resultIndex,0)"
   ]
  },
  {
   "cell_type": "code",
   "execution_count": 56,
   "metadata": {},
   "outputs": [
    {
     "name": "stdout",
     "output_type": "stream",
     "text": [
      "Returned graph has 39 vertices & 38 edges\n",
      "0\n",
      "Whole algorithm use 15 iterations. Result chosen by local max is from 5 iteration\n",
      "Result graph communities:\n",
      "Clustering with 43 elements and 15 clusters\n",
      "[ 0] Bam Adebayo, Joel Embiid, Ben Simmons, Jimmy Butler\n",
      "[ 1] LaMarcus Aldridge, Kawhi Leonard, Damian Lillard, Kyle Lowry, Pascal\n",
      "     Siakam\n",
      "[ 2] Giannis Antetokounmpo, Khris Middleton\n",
      "[ 3] Bradley Beal\n",
      "[ 4] Devin Booker\n",
      "[ 5] Jimmy Butler, LeBron James, Karl-Anthony Towns, Dwyane Wade\n",
      "[ 6] Stephen Curry, Kevin Durant, Klay Thompson, Russell Westbrook\n",
      "[ 7] Anthony Davis, Brandon Ingram, D'Angelo Russell, LeBron James\n",
      "[ 8] Luka Doncic, Dirk Nowitzki\n",
      "[ 9] Paul George, Victor Oladipo, Domantas Sabonis, Nikola Vucevic, Russell\n",
      "     Westbrook\n",
      "[10] Rudy Gobert, Donovan Mitchell\n",
      "[11] Blake Griffin, James Harden, Chris Paul, Russell Westbrook\n",
      "[12] Kyrie Irving, Jayson Tatum, Kemba Walker\n",
      "[13] Nikola Jokic\n",
      "[14] Trae Young\n",
      "Plotting graph with 39 vertices and 32 edges, begin...\n",
      "Plotting sucessful\n"
     ]
    }
   ],
   "source": [
    "graph = read_all_star_sample(vertices_path,edges_path,2,True,True,True)\n",
    "GraphSampleFunction(graph,friends_modification=False,quantile_result_value=1.0)"
   ]
  },
  {
   "cell_type": "code",
   "execution_count": 46,
   "metadata": {},
   "outputs": [
    {
     "name": "stdout",
     "output_type": "stream",
     "text": [
      "Returned graph has 48 vertices & 66 edges\n",
      "0\n",
      "Whole algorithm use 32 iterations. Result chosen by local max is from 15 iteration\n",
      "Result graph communities:\n",
      "Clustering with 63 elements and 14 clusters\n",
      "[ 0] Bam Adebayo, Goran Dragic, Kyrie Irving, Dwyane Wade, Dwyane Wade, Kevin\n",
      "     Love, Jimmy Butler\n",
      "[ 1] LaMarcus Aldridge, DeMar DeRozan, Paul George, Kawhi Leonard, Damian\n",
      "     Lillard, Kyle Lowry, Victor Oladipo, Domantas Sabonis, Pascal Siakam,\n",
      "     Nikola Vucevic, Russell Westbrook\n",
      "[ 2] Giannis Antetokounmpo, Andre Drummond, Khris Middleton\n",
      "[ 3] Bradley Beal, John Wall\n",
      "[ 4] Devin Booker\n",
      "[ 5] Jimmy Butler, DeMarcus Cousins, Stephen Curry, Kevin Durant, Draymond\n",
      "     Green, James Harden, Klay Thompson, Karl-Anthony Towns, Russell\n",
      "     Westbrook, Dwyane Wade, D'Angelo Russell, Kevin Durant\n",
      "[ 6] Anthony Davis, Brandon Ingram, D'Angelo Russell, LeBron James\n",
      "[ 7] Luka Doncic, Dirk Nowitzki, Kristaps Porzingis\n",
      "[ 8] Joel Embiid, Al Horford, Ben Simmons, Jayson Tatum, Kemba Walker, Jimmy\n",
      "     Butler, Kyrie Irving, Al Horford\n",
      "[ 9] Rudy Gobert, Donovan Mitchell\n",
      "[10] Blake Griffin, Chris Paul, James Harden, Andre Drummond, Russell\n",
      "     Westbrook\n",
      "[11] LeBron James, Kevin Love, Dwyane Wade\n",
      "[12] Nikola Jokic\n",
      "[13] Trae Young\n",
      "Plotting graph with 48 vertices and 62 edges, begin...\n",
      "Plotting sucessful\n"
     ]
    }
   ],
   "source": [
    "graph = read_all_star_sample(vertices_path,edges_path,3,True,True,True)\n",
    "GraphSampleFunction(graph,friends_modification=True,quantile_result_value=1.0)"
   ]
  },
  {
   "cell_type": "code",
   "execution_count": 44,
   "metadata": {
    "scrolled": false
   },
   "outputs": [
    {
     "name": "stdout",
     "output_type": "stream",
     "text": [
      "Returned graph has 54 vertices & 98 edges\n",
      "0\n",
      "Whole algorithm use 51 iterations. Result chosen by local max is from 20 iteration\n",
      "Result graph communities:\n",
      "Clustering with 85 elements and 11 clusters\n",
      "[ 0] Bam Adebayo, Joel Embiid, Ben Simmons, Jayson Tatum, Kemba Walker, Kyrie\n",
      "     Irving, Goran Dragic, Al Horford, Gordon Hayward, Al Horford, Kyrie\n",
      "     Irving, Jimmy Butler, Jimmy Butler, Jayson Tatum\n",
      "[ 1] LaMarcus Aldridge, DeMar DeRozan, Goran Dragic, Marc Gasol, Kawhi\n",
      "     Leonard, Kyle Lowry, Pascal Siakam, Kawhi Leonard\n",
      "[ 2] Giannis Antetokounmpo, Andre Drummond, Khris Middleton\n",
      "[ 3] Carmelo Anthony, Luka Doncic, Paul George, Dirk Nowitzki, Victor Oladipo,\n",
      "     Kristaps Porzingis, Domantas Sabonis, Nikola Vucevic, DeAndre Jordan,\n",
      "     Russell Westbrook\n",
      "[ 4] Bradley Beal, Nikola Jokic, John Wall, Isaiah Thomas, Paul Millsap\n",
      "[ 5] Devin Booker\n",
      "[ 6] Jimmy Butler, DeMarcus Cousins, Stephen Curry, Anthony Davis, Draymond\n",
      "     Green, Brandon Ingram, D'Angelo Russell, Isaiah Thomas, Klay Thompson,\n",
      "     Karl-Anthony Towns, Dwyane Wade, Kevin Durant, Isaiah Thomas, LeBron\n",
      "     James, D'Angelo Russell, DeMarcus Cousins\n",
      "[ 7] Kevin Durant, James Harden, Damian Lillard, Russell Westbrook, Chris\n",
      "     Paul, Carmelo Anthony, Russell Westbrook, James Harden\n",
      "[ 8] Rudy Gobert, Gordon Hayward, Al Horford, Kyrie Irving, LeBron James,\n",
      "     Kevin Love, Paul Millsap, Donovan Mitchell, Dwyane Wade, Isaiah Thomas,\n",
      "     Goran Dragic, LeBron James\n",
      "[ 9] Blake Griffin, DeAndre Jordan, Chris Paul, Isaiah Thomas, Kevin Love,\n",
      "     Andre Drummond, Dwyane Wade\n",
      "[10] Trae Young\n",
      "Plotting graph with 54 vertices and 93 edges, begin...\n",
      "Plotting sucessful\n"
     ]
    }
   ],
   "source": [
    "graph = read_all_star_sample(vertices_path,edges_path,4,True,True,True)\n",
    "GraphSampleFunction(graph,friends_modification=False,quantile_result_value=1.0)"
   ]
  },
  {
   "cell_type": "code",
   "execution_count": null,
   "metadata": {},
   "outputs": [],
   "source": [
    "graph = read_all_star_sample(vertices_path,edges_path,5,True,True,True)\n",
    "GraphSampleFunction(graph)"
   ]
  },
  {
   "cell_type": "code",
   "execution_count": 54,
   "metadata": {},
   "outputs": [
    {
     "name": "stdout",
     "output_type": "stream",
     "text": [
      "Returned graph has 60 vertices & 133 edges\n",
      "0\n",
      "Whole algorithm use 76 iterations. Result chosen by local max is from 41 iteration\n",
      "Result graph communities:\n",
      "Clustering with 104 elements and 5 clusters\n",
      "[0] Bam Adebayo, Kobe Bryant, Goran Dragic, Joel Embiid, Pau Gasol, Brandon\n",
      "    Ingram, Kyrie Irving, Kyle Lowry, D'Angelo Russell, Ben Simmons, Jayson\n",
      "    Tatum, Kemba Walker, Isaiah Thomas, Kyle Korver, Kyrie Irving, Al Horford,\n",
      "    Gordon Hayward, Jimmy Butler, Kevin Love, Goran Dragic, Isaiah Thomas,\n",
      "    LeBron James, Dwyane Wade, Jimmy Butler, Al Horford, Chris Bosh, Dwyane\n",
      "    Wade, Jimmy Butler, Isaiah Thomas\n",
      "[1] LaMarcus Aldridge, Giannis Antetokounmpo, Chris Bosh, DeMar DeRozan, Andre\n",
      "    Drummond, Tim Duncan, Marc Gasol, Blake Griffin, LeBron James, DeAndre\n",
      "    Jordan, Kawhi Leonard, Damian Lillard, Kevin Love, Khris Middleton, Chris\n",
      "    Paul, Pascal Siakam, Dwyane Wade, Pau Gasol, Kyle Korver, Paul George,\n",
      "    Carmelo Anthony, Kyle Lowry, James Harden, Russell Westbrook, LaMarcus\n",
      "    Aldridge, Kawhi Leonard, DeMar DeRozan, Pau Gasol, Kawhi Leonard\n",
      "[2] Carmelo Anthony, DeMarcus Cousins, Stephen Curry, Anthony Davis, Luka\n",
      "    Doncic, Kevin Durant, Paul George, Draymond Green, James Harden, Dirk\n",
      "    Nowitzki, Victor Oladipo, Kristaps Porzingis, Domantas Sabonis, Isaiah\n",
      "    Thomas, Klay Thompson, Karl-Anthony Towns, Nikola Vucevic, Russell\n",
      "    Westbrook, Trae Young, Jeff Teague, Jimmy Butler, Russell Westbrook,\n",
      "    D'Angelo Russell, DeAndre Jordan, Jeff Teague, D'Angelo Russell, DeMarcus\n",
      "    Cousins, Kevin Durant\n",
      "[3] Bradley Beal, Jimmy Butler, Rudy Gobert, Gordon Hayward, Al Horford,\n",
      "    Nikola Jokic, Kyle Korver, Paul Millsap, Donovan Mitchell, Jeff Teague,\n",
      "    John Wall, Isaiah Thomas, Kyle Korver, Kevin Love, Andre Drummond, Paul\n",
      "    Millsap, Paul Millsap\n",
      "[4] Devin Booker\n",
      "Plotting graph with 60 vertices and 128 edges, begin...\n",
      "Plotting sucessful\n"
     ]
    }
   ],
   "source": [
    "graph = read_all_star_sample(vertices_path,edges_path,6,True,True,True)\n",
    "GraphSampleFunction(graph,friends_modification=True,quantile_result_value=1.0)"
   ]
  },
  {
   "cell_type": "code",
   "execution_count": null,
   "metadata": {},
   "outputs": [],
   "source": [
    "graph = read_all_star_sample(vertices_path,edges_path,7,True,True,True)\n",
    "GraphSampleFunction(graph)"
   ]
  },
  {
   "cell_type": "code",
   "execution_count": null,
   "metadata": {},
   "outputs": [],
   "source": [
    "graph = read_all_star_sample(vertices_path,edges_path,8,True,True,True)\n",
    "GraphSampleFunction(graph)"
   ]
  },
  {
   "cell_type": "code",
   "execution_count": null,
   "metadata": {},
   "outputs": [],
   "source": [
    "graph = read_all_star_sample(vertices_path,edges_path,9,True,True,True)\n",
    "GraphSampleFunction(graph)"
   ]
  },
  {
   "cell_type": "code",
   "execution_count": 52,
   "metadata": {},
   "outputs": [
    {
     "name": "stdout",
     "output_type": "stream",
     "text": [
      "Returned graph has 83 vertices & 315 edges\n",
      "0\n",
      "Whole algorithm use 217 iterations. Result chosen by local max is from 70 iteration\n",
      "Result graph communities:\n",
      "Clustering with 241 elements and 18 clusters\n",
      "[ 0] Bam Adebayo, Stephen Curry, Draymond Green, David Lee, Klay Thompson,\n",
      "     Andre Iguodala, DeMarcus Cousins, Goran Dragic, Jimmy Butler, Kevin\n",
      "     Durant, Andre Iguodala, Stephen Curry, D'Angelo Russell, Andre Iguodala,\n",
      "     Draymond Green, Klay Thompson\n",
      "[ 1] LaMarcus Aldridge, Jimmy Butler, Tyson Chandler, Luol Deng, Blake\n",
      "     Griffin, DeAndre Jordan, Damian Lillard, Joakim Noah, Chris Paul, Zach\n",
      "     Randolph, Derrick Rose, Kyle Korver, James Harden, Paul Pierce, Chris\n",
      "     Paul, DeAndre Jordan, Carmelo Anthony, Joe Johnson\n",
      "[ 2] Ray Allen*, Chris Bosh, DeMar DeRozan, Kevin Garnett, LeBron James, Paul\n",
      "     Pierce, Rajon Rondo, Dwyane Wade, Ray Allen*\n",
      "[ 3] Giannis Antetokounmpo, Andre Drummond, Khris Middleton, Pau Gasol, Brook\n",
      "     Lopez, Kyle Korver\n",
      "[ 4] Carmelo Anthony, Kristaps Porzingis, David Lee, Amar'e Stoudemire, Deron\n",
      "     Williams, Dirk Nowitzki, Rajon Rondo, Tyson Chandler, Derrick Rose,\n",
      "     Joakim Noah\n",
      "[ 5] Bradley Beal, Nikola Jokic, Kemba Walker, John Wall, Isaiah Thomas,\n",
      "     Dwight Howard, Bradley Beal, Paul Millsap, Dwight Howard, Paul Pierce,\n",
      "     Roy Hibbert\n",
      "[ 6] Devin Booker, Tyson Chandler, Jeff Teague, Carmelo Anthony, Paul George,\n",
      "     Rajon Rondo, LeBron James, Brandon Ingram, Russell Westbrook, Anthony\n",
      "     Davis, James Harden, Jrue Holiday, Dwight Howard, Tyson Chandler\n",
      "[ 7] Kobe Bryant, Andrew Bynum, Goran Dragic, Kevin Durant, Marc Gasol, Pau\n",
      "     Gasol, James Harden, Dwight Howard, Joe Johnson, Kyle Lowry, Yao Ming*,\n",
      "     Steve Nash*, Dirk Nowitzki, Victor Oladipo, Domantas Sabonis, Amar'e\n",
      "     Stoudemire, Russell Westbrook, Zach Randolph, Pau Gasol, Steve Nash*,\n",
      "     Steve Nash*, Kyle Lowry, Goran Dragic\n",
      "[ 8] DeMarcus Cousins, Anthony Davis, Gordon Hayward, Jrue Holiday, Andre\n",
      "     Iguodala, Kyle Korver, Paul Millsap, Isaiah Thomas, Nikola Vucevic, Deron\n",
      "     Williams, Rajon Rondo, Jrue Holiday, Rajon Rondo\n",
      "[ 9] Luka Doncic, Joel Embiid, Ben Simmons, Dirk Nowitzki, Jimmy Butler, Al\n",
      "     Horford, Gordon Hayward, Kemba Walker, DeAndre Jordan, Kyrie Irving,\n",
      "     Jayson Tatum\n",
      "[10] Tim Duncan, Manu Ginobili, Kawhi Leonard, Tony Parker, Pascal Siakam, Pau\n",
      "     Gasol, Kawhi Leonard, Paul George, LaMarcus Aldridge, Kemba Walker, DeMar\n",
      "     DeRozan, David Lee, Joakim Noah, Pau Gasol, Kyle Lowry, Marc Gasol,\n",
      "     Derrick Rose, Jimmy Butler, Pau Gasol, Kawhi Leonard, Tony Parker, Manu\n",
      "     Ginobili, LaMarcus Aldridge, David Lee, Tony Parker, Manu Ginobili, Tim\n",
      "     Duncan\n",
      "[11] Paul George, Roy Hibbert, Kyrie Irving, Luol Deng, Goran Dragic, Rajon\n",
      "     Rondo, Dwyane Wade, Luol Deng, Amar'e Stoudemire, Joe Johnson, Andrew\n",
      "     Bynum, Jimmy Butler, Isaiah Thomas, Chris Bosh, Dwyane Wade, Luol Deng,\n",
      "     Joe Johnson, Amar'e Stoudemire, Goran Dragic, Andrew Bynum\n",
      "[12] Rudy Gobert, Donovan Mitchell, Jayson Tatum, Joe Johnson, Kyrie Irving,\n",
      "     Al Horford, Kyle Korver, Gordon Hayward, Isaiah Thomas, Gordon Hayward,\n",
      "     Rudy Gobert\n",
      "[13] Al Horford, Brook Lopez, Kevin Love, Jeff Teague, Kyle Korver, Joe\n",
      "     Johnson, Dwight Howard, LeBron James, Paul Pierce, Kevin Garnett, Paul\n",
      "     Millsap, Joe Johnson, Kyrie Irving, Kyle Korver, Deron Williams, Deron\n",
      "     Williams, Joe Johnson\n",
      "[14] Brandon Ingram, D'Angelo Russell, Brook Lopez, Luol Deng, Kobe Bryant,\n",
      "     Isaiah Thomas, Roy Hibbert, Luol Deng, Isaiah Thomas, Brandon Ingram,\n",
      "     D'Angelo Russell\n",
      "[15] Karl-Anthony Towns, Isaiah Thomas, Derrick Rose, Jimmy Butler, Dwyane\n",
      "     Wade, Kevin Love, Jeff Teague, Isaiah Thomas, Isaiah Thomas, Kyle Korver,\n",
      "     Derrick Rose, LeBron James, Derrick Rose, Derrick Rose\n",
      "[16] Trae Young, D'Angelo Russell, Derrick Rose, Jeff Teague, Karl-Anthony\n",
      "     Towns, Luol Deng, Stephen Curry, Blake Griffin, Andre Drummond\n",
      "[17] Kevin Love\n",
      "Plotting graph with 83 vertices and 296 edges, begin...\n",
      "Plotting sucessful\n"
     ]
    }
   ],
   "source": [
    "graph = read_all_star_sample(vertices_path,edges_path,10,True,True,True)\n",
    "GraphSampleFunction(graph,friends_modification=False,quantile_result_value=0.5)"
   ]
  },
  {
   "cell_type": "code",
   "execution_count": null,
   "metadata": {},
   "outputs": [],
   "source": [
    "graph = read_all_time_scorers(vertices_path,edges_path,50,True,True,True)\n",
    "GraphSampleFunction(graph)"
   ]
  },
  {
   "cell_type": "code",
   "execution_count": 60,
   "metadata": {},
   "outputs": [
    {
     "name": "stdout",
     "output_type": "stream",
     "text": [
      "Returned graph has 100 vertices & 313 edges\n",
      "0\n",
      "Whole algorithm use 204 iterations. Result chosen by local max is from 97 iteration\n",
      "Result graph communities:\n",
      "Clustering with 247 elements and 10 clusters\n",
      "[ 0] Kareem Abdul-Jabbar*, Elgin Baylor*, Walt Bellamy*, Dave Bing*, Wilt\n",
      "     Chamberlain*, Bob Cousy*, Gail Goodrich*, Hal Greer*, John Havlicek*,\n",
      "     Bailey Howell*, Lou Hudson, Bob Pettit*, Oscar Robertson*, Dolph\n",
      "     Schayes*, Chet Walker*, Jerry West*, Lenny Wilkens*, Bailey Howell*, Wilt\n",
      "     Chamberlain*\n",
      "[ 1] Mark Aguirre, Rolando Blackman, Tom Chambers, Terry Cummings, Dale Ellis,\n",
      "     Gary Payton*, David Robinson*, Jack Sikma*, Charles Barkley*, Tom\n",
      "     Chambers, Terry Cummings, Dale Ellis, Dale Ellis, Terry Cummings, Jeff\n",
      "     Malone, Moses Malone*, Dale Ellis, Eddie Johnson, Adrian Dantley*, Jack\n",
      "     Sikma*\n",
      "[ 2] LaMarcus Aldridge, Ray Allen*, Carmelo Anthony, Chris Bosh, Elton Brand,\n",
      "     Vince Carter, Jamal Crawford, Kevin Durant, Kevin Garnett, Pau Gasol,\n",
      "     James Harden, Dwight Howard, LeBron James, Tracy McGrady*, Chris Paul,\n",
      "     Paul Pierce, Zach Randolph, Dwyane Wade, Russell Westbrook, Kevin Willis,\n",
      "     Gary Payton*, Glen Rice, Vince Carter, Antawn Jamison, Steve Nash*,\n",
      "     Shaquille O'Neal*, Kobe Bryant, Allen Iverson*, Gary Payton*, Grant\n",
      "     Hill*, Grant Hill*, Patrick Ewing*, Latrell Sprewell, Scottie Pippen*,\n",
      "     Joe Johnson, Jason Terry, Shawn Marion, Jamal Crawford, Vince Carter,\n",
      "     Michael Finley, Dwight Howard, LeBron James, Joe Johnson, Ray Allen*,\n",
      "     Dirk Nowitzki, Jason Kidd*, Shawn Marion, Jason Terry, Tim Duncan, Tony\n",
      "     Parker, Kevin Garnett, Paul Pierce, Shaquille O'Neal*, Antawn Jamison,\n",
      "     Elton Brand, Dwight Howard, Zach Randolph, Vince Carter, Zach Randolph,\n",
      "     Chris Paul, Ray Allen*, Dwyane Wade, Jamal Crawford, Joe Johnson, Jason\n",
      "     Terry, Chris Bosh, Dwyane Wade, Tracy McGrady*, Paul Pierce, Shawn\n",
      "     Marion, Paul Pierce, Allen Iverson*, Elton Brand, Carmelo Anthony, Glen\n",
      "     Rice, Shaquille O'Neal*, James Harden, Steve Nash*, Grant Hill*, Pau\n",
      "     Gasol, Joe Johnson, Antawn Jamison\n",
      "[ 3] Tiny Archibald*, Charles Barkley*, Rick Barry*, Larry Bird*, Adrian\n",
      "     Dantley*, Elvin Hayes*, Magic Johnson*, Bob Lanier*, Moses Malone*, Bob\n",
      "     McAdoo*, Kevin McHale*, Earl Monroe*, Calvin Murphy*, Hakeem Olajuwon*,\n",
      "     Robert Parish*, Bob McAdoo*, Robert Parish*, World B. Free, Julius\n",
      "     Erving*, Kareem Abdul-Jabbar*, Dave Bing*, John Havlicek*, Lou Hudson,\n",
      "     Moses Malone*, Bob McAdoo*, Elvin Hayes*, Tiny Archibald*, Tiny\n",
      "     Archibald*, Kareem Abdul-Jabbar*, Moses Malone*, Bob McAdoo*\n",
      "[ 4] Kobe Bryant, Grant Hill*, Allen Iverson*, Michael Jordan*, Shaquille\n",
      "     O'Neal*, Scottie Pippen*, Glen Rice, Robert Parish*, Patrick Ewing*, Karl\n",
      "     Malone*, Tom Chambers, Terry Cummings, Otis Thorpe, Gary Payton*, Mitch\n",
      "     Richmond*, Glen Rice\n",
      "[ 5] Walter Davis, Alex English*, Patrick Ewing*, Eddie Johnson, Jeff Malone,\n",
      "     Karl Malone*, John Stockton*, Reggie Theus, Isiah Thomas*, Otis Thorpe,\n",
      "     Dominique Wilkins*, Kevin Willis, Adrian Dantley*, Moses Malone*, Tom\n",
      "     Chambers, Buck Williams, Adrian Dantley*, Rolando Blackman, Dominique\n",
      "     Wilkins*, Mark Aguirre, Bernard King*, Bernard King*, Rolando Blackman,\n",
      "     Moses Malone*, Reggie Theus, Mark Aguirre\n",
      "[ 6] Clyde Drexler*, Clifford Robinson, Buck Williams, Otis Thorpe, Buck\n",
      "     Williams, Clyde Drexler*, Walter Davis\n",
      "[ 7] Tim Duncan, Michael Finley, Joe Johnson, Jason Kidd*, Shawn Marion, Steve\n",
      "     Nash*, Dirk Nowitzki, Tony Parker, Jason Terry, David Robinson*, Clifford\n",
      "     Robinson, Clifford Robinson, Michael Finley, Antawn Jamison, Kevin\n",
      "     Willis, Kevin Willis, Vince Carter, Steve Nash*, Antawn Jamison, Steve\n",
      "     Nash*, Michael Finley, Dirk Nowitzki\n",
      "[ 8] Julius Erving*, World B. Free, George Gervin*, Bernard King*\n",
      "[ 9] Antawn Jamison, Reggie Miller*, Chris Mullin*, Mitch Richmond*, Latrell\n",
      "     Sprewell, Chris Webber, Charles Barkley*, Hakeem Olajuwon*, Eddie\n",
      "     Johnson, Kevin Willis, Terry Cummings, Kevin Willis, Clyde Drexler*,\n",
      "     Scottie Pippen*, Chris Mullin*, Allen Iverson*, Eddie Johnson, Hakeem\n",
      "     Olajuwon*, Charles Barkley*, Chris Mullin*\n",
      "Plotting graph with 100 vertices and 300 edges, begin...\n",
      "Plotting sucessful\n"
     ]
    }
   ],
   "source": [
    "graph = read_all_time_scorers(vertices_path,edges_path,100,True,True,True)\n",
    "GraphSampleFunction(graph,friends_modification=True,quantile_result_value=.5)"
   ]
  },
  {
   "cell_type": "code",
   "execution_count": null,
   "metadata": {},
   "outputs": [],
   "source": [
    "graph = read_all_time_scorers(vertices_path,edges_path,200,True,True,True)\n",
    "GraphSampleFunction(graph)"
   ]
  },
  {
   "cell_type": "code",
   "execution_count": 24,
   "metadata": {},
   "outputs": [
    {
     "name": "stdout",
     "output_type": "stream",
     "text": [
      "Returned graph has 300 vertices & 2701 edges\n",
      "0\n"
     ]
    },
    {
     "ename": "KeyboardInterrupt",
     "evalue": "",
     "output_type": "error",
     "traceback": [
      "\u001b[0;31m---------------------------------------------------------------------------\u001b[0m",
      "\u001b[0;31mKeyboardInterrupt\u001b[0m                         Traceback (most recent call last)",
      "\u001b[0;32m<ipython-input-24-cb63ce265270>\u001b[0m in \u001b[0;36m<module>\u001b[0;34m\u001b[0m\n\u001b[1;32m      1\u001b[0m \u001b[0mgraph\u001b[0m \u001b[0;34m=\u001b[0m \u001b[0mread_all_time_scorers\u001b[0m\u001b[0;34m(\u001b[0m\u001b[0mvertices_path\u001b[0m\u001b[0;34m,\u001b[0m\u001b[0medges_path\u001b[0m\u001b[0;34m,\u001b[0m\u001b[0;36m300\u001b[0m\u001b[0;34m,\u001b[0m\u001b[0;32mTrue\u001b[0m\u001b[0;34m,\u001b[0m\u001b[0;32mTrue\u001b[0m\u001b[0;34m,\u001b[0m\u001b[0;32mTrue\u001b[0m\u001b[0;34m)\u001b[0m\u001b[0;34m\u001b[0m\u001b[0;34m\u001b[0m\u001b[0m\n\u001b[0;32m----> 2\u001b[0;31m \u001b[0mGraphSampleFunction\u001b[0m\u001b[0;34m(\u001b[0m\u001b[0mgraph\u001b[0m\u001b[0;34m)\u001b[0m\u001b[0;34m\u001b[0m\u001b[0;34m\u001b[0m\u001b[0m\n\u001b[0m",
      "\u001b[0;32m<ipython-input-20-fe5d532d1552>\u001b[0m in \u001b[0;36mGraphSampleFunction\u001b[0;34m(graph, friends_modification, with_preprocess, quantile_value, quantile_result_value, printEvery, gap)\u001b[0m\n\u001b[1;32m     10\u001b[0m         \u001b[0mprint\u001b[0m\u001b[0;34m(\u001b[0m\u001b[0mgap\u001b[0m\u001b[0;34m)\u001b[0m\u001b[0;34m\u001b[0m\u001b[0;34m\u001b[0m\u001b[0m\n\u001b[1;32m     11\u001b[0m \u001b[0;34m\u001b[0m\u001b[0m\n\u001b[0;32m---> 12\u001b[0;31m     \u001b[0mmodularityResult\u001b[0m \u001b[0;34m=\u001b[0m \u001b[0mCONGAYearAlgorithm\u001b[0m\u001b[0;34m(\u001b[0m\u001b[0mgraph\u001b[0m\u001b[0;34m,\u001b[0m \u001b[0mresult\u001b[0m\u001b[0;34m,\u001b[0m \u001b[0mOverlap\u001b[0m\u001b[0;34m,\u001b[0m\u001b[0mfriends_modification\u001b[0m\u001b[0;34m,\u001b[0m \u001b[0mgap\u001b[0m\u001b[0;34m)\u001b[0m\u001b[0;34m\u001b[0m\u001b[0;34m\u001b[0m\u001b[0m\n\u001b[0m\u001b[1;32m     13\u001b[0m \u001b[0;34m\u001b[0m\u001b[0m\n\u001b[1;32m     14\u001b[0m     \u001b[0mresultGraph\u001b[0m \u001b[0;34m=\u001b[0m \u001b[0mgraph\u001b[0m\u001b[0;34m.\u001b[0m\u001b[0mcopy\u001b[0m\u001b[0;34m(\u001b[0m\u001b[0;34m)\u001b[0m\u001b[0;34m\u001b[0m\u001b[0;34m\u001b[0m\u001b[0m\n",
      "\u001b[0;32m<ipython-input-19-b2008db9e11c>\u001b[0m in \u001b[0;36mCONGAYearAlgorithm\u001b[0;34m(graph, result, Overlap, mutual_friends, difference_gap)\u001b[0m\n\u001b[1;32m     93\u001b[0m \u001b[0;34m\u001b[0m\u001b[0m\n\u001b[1;32m     94\u001b[0m         \u001b[0;31m#count modularity from OCDLCE\u001b[0m\u001b[0;34m\u001b[0m\u001b[0;34m\u001b[0m\u001b[0;34m\u001b[0m\u001b[0m\n\u001b[0;32m---> 95\u001b[0;31m         \u001b[0mtmp\u001b[0m \u001b[0;34m=\u001b[0m \u001b[0mcountModularity\u001b[0m\u001b[0;34m(\u001b[0m\u001b[0mstartedGraph\u001b[0m\u001b[0;34m,\u001b[0m\u001b[0mgraph\u001b[0m\u001b[0;34m,\u001b[0m\u001b[0mOverlap\u001b[0m\u001b[0;34m)\u001b[0m\u001b[0;34m\u001b[0m\u001b[0;34m\u001b[0m\u001b[0m\n\u001b[0m\u001b[1;32m     96\u001b[0m         \u001b[0mmodularityResult\u001b[0m\u001b[0;34m.\u001b[0m\u001b[0mappend\u001b[0m\u001b[0;34m(\u001b[0m\u001b[0mtmp\u001b[0m\u001b[0;34m)\u001b[0m\u001b[0;34m\u001b[0m\u001b[0;34m\u001b[0m\u001b[0m\n\u001b[1;32m     97\u001b[0m \u001b[0;34m\u001b[0m\u001b[0m\n",
      "\u001b[0;32m<ipython-input-19-fe7acd0983c7>\u001b[0m in \u001b[0;36mcountModularity\u001b[0;34m(startedGraph, graph, Overlap)\u001b[0m\n\u001b[1;32m      3\u001b[0m     \u001b[0;32mwhile\u001b[0m \u001b[0mmodularityGraph\u001b[0m\u001b[0;34m.\u001b[0m\u001b[0mecount\u001b[0m\u001b[0;34m(\u001b[0m\u001b[0;34m)\u001b[0m \u001b[0;34m>\u001b[0m \u001b[0;36m0\u001b[0m\u001b[0;34m:\u001b[0m\u001b[0;34m\u001b[0m\u001b[0;34m\u001b[0m\u001b[0m\n\u001b[1;32m      4\u001b[0m         \u001b[0;32mfor\u001b[0m \u001b[0medge\u001b[0m \u001b[0;32min\u001b[0m \u001b[0mmodularityGraph\u001b[0m\u001b[0;34m.\u001b[0m\u001b[0mes\u001b[0m\u001b[0;34m:\u001b[0m\u001b[0;34m\u001b[0m\u001b[0;34m\u001b[0m\u001b[0m\n\u001b[0;32m----> 5\u001b[0;31m             \u001b[0mmodularityGraph\u001b[0m\u001b[0;34m.\u001b[0m\u001b[0mdelete_edges\u001b[0m\u001b[0;34m(\u001b[0m\u001b[0medge\u001b[0m\u001b[0;34m)\u001b[0m\u001b[0;34m\u001b[0m\u001b[0;34m\u001b[0m\u001b[0m\n\u001b[0m\u001b[1;32m      6\u001b[0m \u001b[0;34m\u001b[0m\u001b[0m\n\u001b[1;32m      7\u001b[0m     \u001b[0medges_to_add\u001b[0m \u001b[0;34m=\u001b[0m \u001b[0;34m[\u001b[0m\u001b[0;34m]\u001b[0m\u001b[0;34m\u001b[0m\u001b[0;34m\u001b[0m\u001b[0m\n",
      "\u001b[0;32m~/anaconda3/lib/python3.7/site-packages/igraph/__init__.py\u001b[0m in \u001b[0;36mdelete_edges\u001b[0;34m(self, *args, **kwds)\u001b[0m\n\u001b[1;32m    359\u001b[0m         \u001b[0;32melse\u001b[0m\u001b[0;34m:\u001b[0m\u001b[0;34m\u001b[0m\u001b[0;34m\u001b[0m\u001b[0m\n\u001b[1;32m    360\u001b[0m             \u001b[0medge_seq\u001b[0m \u001b[0;34m=\u001b[0m \u001b[0margs\u001b[0m\u001b[0;34m[\u001b[0m\u001b[0;36m0\u001b[0m\u001b[0;34m]\u001b[0m\u001b[0;34m\u001b[0m\u001b[0;34m\u001b[0m\u001b[0m\n\u001b[0;32m--> 361\u001b[0;31m         \u001b[0;32mreturn\u001b[0m \u001b[0mGraphBase\u001b[0m\u001b[0;34m.\u001b[0m\u001b[0mdelete_edges\u001b[0m\u001b[0;34m(\u001b[0m\u001b[0mself\u001b[0m\u001b[0;34m,\u001b[0m \u001b[0medge_seq\u001b[0m\u001b[0;34m)\u001b[0m\u001b[0;34m\u001b[0m\u001b[0;34m\u001b[0m\u001b[0m\n\u001b[0m\u001b[1;32m    362\u001b[0m \u001b[0;34m\u001b[0m\u001b[0m\n\u001b[1;32m    363\u001b[0m \u001b[0;34m\u001b[0m\u001b[0m\n",
      "\u001b[0;31mKeyboardInterrupt\u001b[0m: "
     ]
    }
   ],
   "source": [
    "graph = read_all_time_scorers(vertices_path,edges_path,300,True,True,True)\n",
    "GraphSampleFunction(graph)"
   ]
  },
  {
   "cell_type": "code",
   "execution_count": null,
   "metadata": {},
   "outputs": [],
   "source": [
    "graph = read_all_time_scorers(vertices_path,edges_path,400,True,True,True)\n",
    "GraphSampleFunction(graph)"
   ]
  },
  {
   "cell_type": "code",
   "execution_count": null,
   "metadata": {},
   "outputs": [],
   "source": [
    "graph = read_all_time_scorers(vertices_path,edges_path,500,True,True,True)\n",
    "GraphSampleFunction(graph)"
   ]
  }
 ],
 "metadata": {
  "kernelspec": {
   "display_name": "Python 3",
   "language": "python",
   "name": "python3"
  },
  "language_info": {
   "codemirror_mode": {
    "name": "ipython",
    "version": 3
   },
   "file_extension": ".py",
   "mimetype": "text/x-python",
   "name": "python",
   "nbconvert_exporter": "python",
   "pygments_lexer": "ipython3",
   "version": "3.7.6"
  }
 },
 "nbformat": 4,
 "nbformat_minor": 4
}
