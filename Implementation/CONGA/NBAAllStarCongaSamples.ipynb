{
 "cells": [
  {
   "cell_type": "code",
   "execution_count": 21,
   "metadata": {},
   "outputs": [
    {
     "name": "stdout",
     "output_type": "stream",
     "text": [
      "[Errno 2] No such file or directory: './CONGA'\n",
      "/home/irek/community-detection/Implementation/CONGA\n",
      "/home/irek/community-detection/Implementation\n",
      "/home/irek/community-detection/Implementation/CONGA\n"
     ]
    }
   ],
   "source": [
    "%run GirvanNewmanAlgorithms.ipynb\n",
    "%run PrintCONGA.ipynb\n",
    "%run CONGAYearAlgorithm.ipynb\n",
    "%run visualisation.ipynb\n",
    "%run read_graph.ipynb\n",
    "%run common.ipynb\n",
    "%cd ./CONGA\n",
    "      \n",
    "vertices_path = \"../../Data/Basketball/Players.csv\"\n",
    "edges_path = \"../../Data/Basketball/Edges.csv\"\n",
    "\n",
    "import numpy\n",
    "from scipy.signal import argrelextrema"
   ]
  },
  {
   "cell_type": "code",
   "execution_count": 18,
   "metadata": {},
   "outputs": [
    {
     "name": "stdout",
     "output_type": "stream",
     "text": [
      "/home/irek/community-detection/Implementation/CONGA\n"
     ]
    }
   ],
   "source": [
    "%cd ./CONGA"
   ]
  },
  {
   "cell_type": "code",
   "execution_count": 22,
   "metadata": {},
   "outputs": [],
   "source": [
    "def GraphSampleFunction(graph,friends_modification=True, with_preprocess=False, quantile_value=.1, quantile_result_value=.1, printEvery=False, gap=0):\n",
    "    print(gap)\n",
    "    toPrint = graph.copy()\n",
    "    Overlap = [-1 for i in range(0, 10*graph.vcount())]\n",
    "    result = []\n",
    "\n",
    "    if with_preprocess:\n",
    "        preprocess = CONGAYearAlgorithmPreprocessing(graph.copy(), friends_modification)\n",
    "        gap = numpy.quantile(preprocess, quantile_value)\n",
    "        print(gap)\n",
    "\n",
    "    modularityResult = CONGAYearAlgorithm(graph, result, Overlap,friends_modification, gap)\n",
    "\n",
    "    resultGraph = graph.copy()\n",
    "    while toPrint.ecount() > 0:\n",
    "        for edge in toPrint.es:\n",
    "            toPrint.delete_edges(edge)\n",
    "\n",
    "    resultIndex = GetResultIndex(modularityResult,quantile_result_value)\n",
    "\n",
    "    PrintGraph(resultGraph, toPrint, result, Overlap, resultIndex,0)"
   ]
  },
  {
   "cell_type": "code",
   "execution_count": null,
   "metadata": {},
   "outputs": [],
   "source": [
    "graph = read_all_star_sample(vertices_path,edges_path,2,True,True,True)\n",
    "GraphSampleFunction(graph)"
   ]
  },
  {
   "cell_type": "code",
   "execution_count": null,
   "metadata": {},
   "outputs": [],
   "source": [
    "graph = read_all_star_sample(vertices_path,edges_path,3,True,True,True)\n",
    "GraphSampleFunction(graph)"
   ]
  },
  {
   "cell_type": "code",
   "execution_count": 29,
   "metadata": {
    "scrolled": true
   },
   "outputs": [
    {
     "name": "stdout",
     "output_type": "stream",
     "text": [
      "Returned graph has 54 vertices & 98 edges\n",
      "0\n",
      "Whole algorithm use 51 iterations. Result chosen by local max is from 15 iteration\n",
      "Result graph communities:\n",
      "Clustering with 54 elements and 3 clusters\n",
      "[0] Bam Adebayo, LaMarcus Aldridge, Giannis Antetokounmpo, Carmelo Anthony,\n",
      "    Bradley Beal, Jimmy Butler, DeMarcus Cousins, Stephen Curry, Anthony\n",
      "    Davis, DeMar DeRozan, Luka Doncic, Goran Dragic, Andre Drummond, Kevin\n",
      "    Durant, Joel Embiid, Marc Gasol, Paul George, Rudy Gobert, Draymond Green,\n",
      "    Blake Griffin, James Harden, Gordon Hayward, Al Horford, Brandon Ingram,\n",
      "    Kyrie Irving, LeBron James, Nikola Jokic, DeAndre Jordan, Kawhi Leonard,\n",
      "    Damian Lillard, Kevin Love, Kyle Lowry, Khris Middleton, Paul Millsap,\n",
      "    Donovan Mitchell, Dirk Nowitzki, Victor Oladipo, Chris Paul, Kristaps\n",
      "    Porzingis, D'Angelo Russell, Domantas Sabonis, Pascal Siakam, Ben Simmons,\n",
      "    Jayson Tatum, Isaiah Thomas, Klay Thompson, Karl-Anthony Towns, Nikola\n",
      "    Vucevic, Dwyane Wade, Kemba Walker, John Wall, Russell Westbrook\n",
      "[1] Devin Booker\n",
      "[2] Trae Young\n",
      "Plotting graph with 54 vertices and 89 edges, begin...\n",
      "Plotting sucessful\n"
     ]
    }
   ],
   "source": [
    "graph = read_all_star_sample(vertices_path,edges_path,4,True,True,True)\n",
    "GraphSampleFunction(graph,friends_modification=False,quantile_result_value=.0)"
   ]
  },
  {
   "cell_type": "code",
   "execution_count": null,
   "metadata": {},
   "outputs": [],
   "source": [
    "graph = read_all_star_sample(vertices_path,edges_path,5,True,True,True)\n",
    "GraphSampleFunction(graph)"
   ]
  },
  {
   "cell_type": "code",
   "execution_count": null,
   "metadata": {},
   "outputs": [],
   "source": [
    "graph = read_all_star_sample(vertices_path,edges_path,6,True,True,True)\n",
    "GraphSampleFunction(graph)"
   ]
  },
  {
   "cell_type": "code",
   "execution_count": null,
   "metadata": {},
   "outputs": [],
   "source": [
    "graph = read_all_star_sample(vertices_path,edges_path,7,True,True,True)\n",
    "GraphSampleFunction(graph)"
   ]
  },
  {
   "cell_type": "code",
   "execution_count": null,
   "metadata": {},
   "outputs": [],
   "source": [
    "graph = read_all_star_sample(vertices_path,edges_path,8,True,True,True)\n",
    "GraphSampleFunction(graph)"
   ]
  },
  {
   "cell_type": "code",
   "execution_count": null,
   "metadata": {},
   "outputs": [],
   "source": [
    "graph = read_all_star_sample(vertices_path,edges_path,9,True,True,True)\n",
    "GraphSampleFunction(graph)"
   ]
  },
  {
   "cell_type": "code",
   "execution_count": null,
   "metadata": {},
   "outputs": [],
   "source": [
    "graph = read_all_star_sample(vertices_path,edges_path,10,True,True,True)\n",
    "GraphSampleFunction(graph)"
   ]
  },
  {
   "cell_type": "code",
   "execution_count": null,
   "metadata": {},
   "outputs": [],
   "source": [
    "graph = read_all_time_scorers(vertices_path,edges_path,50,True,True,True)\n",
    "GraphSampleFunction(graph)"
   ]
  },
  {
   "cell_type": "code",
   "execution_count": null,
   "metadata": {},
   "outputs": [],
   "source": [
    "graph = read_all_time_scorers(vertices_path,edges_path,100,True,True,True)\n",
    "GraphSampleFunction(graph)"
   ]
  },
  {
   "cell_type": "code",
   "execution_count": null,
   "metadata": {},
   "outputs": [],
   "source": [
    "graph = read_all_time_scorers(vertices_path,edges_path,200,True,True,True)\n",
    "GraphSampleFunction(graph)"
   ]
  },
  {
   "cell_type": "code",
   "execution_count": null,
   "metadata": {},
   "outputs": [],
   "source": [
    "graph = read_all_time_scorers(vertices_path,edges_path,300,True,True,True)\n",
    "GraphSampleFunction(graph)"
   ]
  },
  {
   "cell_type": "code",
   "execution_count": null,
   "metadata": {},
   "outputs": [],
   "source": [
    "graph = read_all_time_scorers(vertices_path,edges_path,400,True,True,True)\n",
    "GraphSampleFunction(graph)"
   ]
  },
  {
   "cell_type": "code",
   "execution_count": null,
   "metadata": {},
   "outputs": [],
   "source": [
    "graph = read_all_time_scorers(vertices_path,edges_path,500,True,True,True)\n",
    "GraphSampleFunction(graph)"
   ]
  }
 ],
 "metadata": {
  "kernelspec": {
   "display_name": "Python 3",
   "language": "python",
   "name": "python3"
  },
  "language_info": {
   "codemirror_mode": {
    "name": "ipython",
    "version": 3
   },
   "file_extension": ".py",
   "mimetype": "text/x-python",
   "name": "python",
   "nbconvert_exporter": "python",
   "pygments_lexer": "ipython3",
   "version": "3.7.6"
  }
 },
 "nbformat": 4,
 "nbformat_minor": 4
}
