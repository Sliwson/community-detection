{
 "cells": [
  {
   "cell_type": "code",
   "execution_count": null,
   "metadata": {},
   "outputs": [],
   "source": [
    "%run ../visualisation.ipynb\n",
    "%run ../read_graph.ipynb\n",
    "%run GirvanNewmanAlgorithms.ipynb\n",
    "%run CONGAYearAlgorithm.ipynb\n",
    "%run PrintCONGA.ipynb\n",
    "g = read_nba_full(\"../..//Scrapers/BasketballReferenceScraper/data/Players.csv\",\n",
    "                  \"../../Scrapers/BasketballReferenceScraper/data/Edges.csv\",\n",
    "                  True, True)"
   ]
  },
  {
   "cell_type": "code",
   "execution_count": null,
   "metadata": {},
   "outputs": [],
   "source": [
    "AllStars1920 = [4524, 4418, 4778, 112, 3876, 1223, 2591, 3892, 614, 2889, 25, 4147, 3726, 1717, 1085, 2065, 2513, 955, 3311, 2542, 2938, 2004, 2177, 1517, 401, 2009, 3201, 266, 1620, 4393, 4396, 3719, 921, 1149, 1475, 4227, 44, 4278, 3159]\n",
    "Overlap = [-1 for i in range(0, 10*len(AllStars1920))]\n",
    "result = []\n",
    "AllStars1920Graph = g.subgraph(AllStars1920)\n",
    "print(AllStars1920Graph.ecount())\n",
    "print(AllStars1920Graph.vcount())"
   ]
  },
  {
   "cell_type": "code",
   "execution_count": null,
   "metadata": {},
   "outputs": [],
   "source": [
    "CONGAYearAlgorithm(AllStars1920Graph, result, Overlap)\n",
    "#print(result)\n",
    "#print(Overlap)"
   ]
  },
  {
   "cell_type": "code",
   "execution_count": null,
   "metadata": {},
   "outputs": [],
   "source": [
    "GirvanNewman(AllStars1920Graph, result)\n",
    "#print(result)\n",
    "#print(Overlap)"
   ]
  },
  {
   "cell_type": "code",
   "execution_count": null,
   "metadata": {},
   "outputs": [],
   "source": [
    "resultGraph = AllStars1920Graph.copy()\n",
    "#print(resultGraph.ecount())\n",
    "#print(resultGraph.vcount())\n",
    "toPrint = g.subgraph(AllStars1920)\n",
    "while toPrint.ecount() > 0:\n",
    "    for edge in toPrint.es:\n",
    "        toPrint.delete_edges(edge)\n",
    "#print(toPrint.ecount())\n",
    "#print(toPrint.vcount())\n",
    "\n",
    "test = PrintGraph(resultGraph, toPrint, result, Overlap, len(result),1)"
   ]
  },
  {
   "cell_type": "code",
   "execution_count": null,
   "metadata": {},
   "outputs": [],
   "source": [
    "AllStars18_20 = [4524, 4418, 4778, 112, 3876, 1223, 2591, 3892, 614, 2889, 25, 4147, 3726, 1717, 1085, 2065, 2513, 955, 3311, 2542, 2938, 2004, 2177, 1517, 401, 2009, 3201, 266, 1620, 4393, 4396, 3719, 921, 1149, 1475, 4227, 44, 4278, 3159, 1038, 1113, 1929, 3429, 4432, 1125, 863, 1588, 2586]\n",
    "Overlap = [-1 for i in range(0, 10*len(AllStars18_20))]\n",
    "result = []\n",
    "AllStars18_20Graph = g.subgraph(AllStars18_20)\n",
    "print(AllStars18_20Graph.ecount())\n",
    "print(AllStars18_20Graph.vcount())"
   ]
  },
  {
   "cell_type": "code",
   "execution_count": null,
   "metadata": {},
   "outputs": [],
   "source": [
    "CONGAYearAlgorithm(AllStars18_20Graph, result, Overlap)\n",
    "#print(result)\n",
    "#print(Overlap)"
   ]
  },
  {
   "cell_type": "code",
   "execution_count": null,
   "metadata": {},
   "outputs": [],
   "source": [
    "GirvanNewman(AllStars18_20Graph, result)\n",
    "#print(result)\n",
    "#print(Overlap)"
   ]
  },
  {
   "cell_type": "code",
   "execution_count": null,
   "metadata": {},
   "outputs": [],
   "source": [
    "resultGraph = AllStars18_20Graph.copy()\n",
    "#print(resultGraph.ecount())\n",
    "#print(resultGraph.vcount())\n",
    "toPrint = g.subgraph(AllStars18_20)\n",
    "while toPrint.ecount() > 0:\n",
    "    for edge in toPrint.es:\n",
    "        toPrint.delete_edges(edge)\n",
    "#print(toPrint.ecount())\n",
    "#print(toPrint.vcount())\n",
    "\n",
    "test = PrintGraph(resultGraph, toPrint, result, Overlap, len(result),1)"
   ]
  },
  {
   "cell_type": "code",
   "execution_count": null,
   "metadata": {},
   "outputs": [],
   "source": [
    "AllStars17_20 = [4524, 4418, 4778, 112, 3876, 1223, 2591, 3892, 614, 2889, 25, 4147, 3726, 1717, 1085, 2065, 2513, 955, 3311, 2542, 2938, 2004, 2177, 1517, 401, 2009, 3201, 266, 1620, 4393, 4396, 3719, 921, 1149, 1475, 4227, 44, 4278, 3159, 1038, 1113, 1929, 3429, 4432, 1125, 863, 1588, 2586,4198,115,2925,1459,2235,1794]\n",
    "Overlap = [-1 for i in range(0, 10*len(AllStars17_20))]\n",
    "result = []\n",
    "AllStars17_20Graph = g.subgraph(AllStars17_20)\n",
    "print(AllStars17_20Graph.ecount())\n",
    "print(AllStars17_20Graph.vcount())"
   ]
  },
  {
   "cell_type": "code",
   "execution_count": null,
   "metadata": {},
   "outputs": [],
   "source": [
    "CONGAYearAlgorithm(AllStars17_20Graph, result, Overlap)\n",
    "#print(result)\n",
    "#print(Overlap)"
   ]
  },
  {
   "cell_type": "code",
   "execution_count": null,
   "metadata": {},
   "outputs": [],
   "source": [
    "GirvanNewman(AllStars17_20Graph, result)\n",
    "#print(result)\n",
    "#print(Overlap)"
   ]
  },
  {
   "cell_type": "code",
   "execution_count": null,
   "metadata": {},
   "outputs": [],
   "source": [
    "resultGraph = AllStars17_20Graph.copy()\n",
    "#print(resultGraph.ecount())\n",
    "#print(resultGraph.vcount())\n",
    "toPrint = g.subgraph(AllStars17_20)\n",
    "while toPrint.ecount() > 0:\n",
    "    for edge in toPrint.es:\n",
    "        toPrint.delete_edges(edge)\n",
    "#print(toPrint.ecount())\n",
    "#print(toPrint.vcount())\n",
    "\n",
    "test = PrintGraph(resultGraph, toPrint, result, Overlap, len(result),1)"
   ]
  },
  {
   "cell_type": "code",
   "execution_count": null,
   "metadata": {},
   "outputs": [],
   "source": [
    "AllStars16_20 = [4524, 4418, 4778, 112, 3876, 1223, 2591, 3892, 614, 2889, 25, 4147, 3726, 1717, 1085, 2065, 2513, 955, 3311, 2542, 2938, 2004, 2177, 1517, 401, 2009, 3201, 266, 1620, 4393, 4396, 3719, 921, 1149, 1475, 4227, 44, 4278, 3159, 1038, 1113, 1929, 3429, 4432, 1125, 863, 1588, 2586,4198,115,2925,1459,2235,1794,415,1460,564]\n",
    "Overlap = [-1 for i in range(0, 10*len(AllStars16_20))]\n",
    "result = []\n",
    "AllStars16_20Graph = g.subgraph(AllStars16_20)\n",
    "print(AllStars16_20Graph.ecount())\n",
    "print(AllStars16_20Graph.vcount())"
   ]
  },
  {
   "cell_type": "code",
   "execution_count": null,
   "metadata": {},
   "outputs": [],
   "source": [
    "CONGAYearAlgorithm(AllStars16_20Graph, result, Overlap)\n",
    "#print(result)\n",
    "#print(Overlap)"
   ]
  },
  {
   "cell_type": "code",
   "execution_count": null,
   "metadata": {},
   "outputs": [],
   "source": [
    "GirvanNewman(AllStars16_20Graph, result)\n",
    "#print(result)\n",
    "#print(Overlap)"
   ]
  },
  {
   "cell_type": "code",
   "execution_count": null,
   "metadata": {},
   "outputs": [],
   "source": [
    "resultGraph = AllStars16_20Graph.copy()\n",
    "#print(resultGraph.ecount())\n",
    "#print(resultGraph.vcount())\n",
    "toPrint = g.subgraph(AllStars16_20)\n",
    "while toPrint.ecount() > 0:\n",
    "    for edge in toPrint.es:\n",
    "        toPrint.delete_edges(edge)\n",
    "#print(toPrint.ecount())\n",
    "#print(toPrint.vcount())\n",
    "\n",
    "test = PrintGraph(resultGraph, toPrint, result, Overlap, len(result),1)"
   ]
  },
  {
   "cell_type": "code",
   "execution_count": null,
   "metadata": {},
   "outputs": [],
   "source": [
    "AllStars15_20 = [4524, 4418, 4778, 112, 3876, 1223, 2591, 3892, 614, 2889, 25, 4147, 3726, 1717, 1085, 2065, 2513, 955, 3311, 2542, 2938, 2004, 2177, 1517, 401, 2009, 3201, 266, 1620, 4393, 4396, 3719, 921, 1149, 1475, 4227, 44, 4278, 3159, 1038, 1113, 1929, 3429, 4432, 1125, 863, 1588, 2586,4198,115,2925,1459,2235,1794,415,1460,564,4168,2384,1142,]\n",
    "Overlap = [-1 for i in range(0, 10*len(AllStars15_20))]\n",
    "result = []\n",
    "AllStars15_20Graph = g.subgraph(AllStars15_20)\n",
    "print(AllStars15_20Graph.ecount())\n",
    "print(AllStars15_20Graph.vcount())"
   ]
  },
  {
   "cell_type": "code",
   "execution_count": null,
   "metadata": {},
   "outputs": [],
   "source": [
    "CONGAYearAlgorithm(AllStars15_20Graph, result, Overlap)\n",
    "#print(result)\n",
    "#print(Overlap)"
   ]
  },
  {
   "cell_type": "code",
   "execution_count": null,
   "metadata": {},
   "outputs": [],
   "source": [
    "GirvanNewman(AllStars15_20Graph, result)\n",
    "#print(result)\n",
    "#print(Overlap)"
   ]
  },
  {
   "cell_type": "code",
   "execution_count": null,
   "metadata": {},
   "outputs": [],
   "source": [
    "resultGraph = AllStars15_20Graph.copy()\n",
    "#print(resultGraph.ecount())\n",
    "#print(resultGraph.vcount())\n",
    "toPrint = g.subgraph(AllStars15_20)\n",
    "while toPrint.ecount() > 0:\n",
    "    for edge in toPrint.es:\n",
    "        toPrint.delete_edges(edge)\n",
    "#print(toPrint.ecount())\n",
    "#print(toPrint.vcount())\n",
    "\n",
    "test = PrintGraph(resultGraph, toPrint, result, Overlap, len(result),1)"
   ]
  },
  {
   "cell_type": "code",
   "execution_count": null,
   "metadata": {},
   "outputs": [],
   "source": [
    "AllStars14_20 = [4524, 4418, 4778, 112, 3876, 1223, 2591, 3892, 614, 2889, 25, 4147, 3726, 1717, 1085, 2065, 2513, 955, 3311, 2542, 2938, 2004, 2177, 1517, 401, 2009, 3201, 266, 1620, 4393, 4396, 3719, 921, 1149, 1475, 4227, 44, 4278, 3159, 1038, 1113, 1929, 3429, 4432, 1125, 863, 1588, 2586,4198,115,2925,1459,2235,1794,415,1460,564,4168,2384,1142,3134,1849,2145,1945,3283]\n",
    "Overlap = [-1 for i in range(0, 10*len(AllStars14_20))]\n",
    "result = []\n",
    "AllStars14_20Graph = g.subgraph(AllStars14_20)\n",
    "print(AllStars14_20Graph.ecount())\n",
    "print(AllStars14_20Graph.vcount())"
   ]
  },
  {
   "cell_type": "code",
   "execution_count": null,
   "metadata": {},
   "outputs": [],
   "source": [
    "CONGAYearAlgorithm(AllStars14_20Graph, result, Overlap)\n",
    "#print(result)\n",
    "#print(Overlap)"
   ]
  },
  {
   "cell_type": "code",
   "execution_count": null,
   "metadata": {},
   "outputs": [],
   "source": [
    "GirvanNewman(AllStars14_20Graph, result)\n",
    "#print(result)\n",
    "#print(Overlap)"
   ]
  },
  {
   "cell_type": "code",
   "execution_count": null,
   "metadata": {},
   "outputs": [],
   "source": [
    "resultGraph = AllStars14_20Graph.copy()\n",
    "#print(resultGraph.ecount())\n",
    "#print(resultGraph.vcount())\n",
    "toPrint = g.subgraph(AllStars14_20)\n",
    "while toPrint.ecount() > 0:\n",
    "    for edge in toPrint.es:\n",
    "        toPrint.delete_edges(edge)\n",
    "#print(toPrint.ecount())\n",
    "#print(toPrint.vcount())\n",
    "\n",
    "test = PrintGraph(resultGraph, toPrint, result, Overlap, len(result),1)"
   ]
  },
  {
   "cell_type": "code",
   "execution_count": null,
   "metadata": {},
   "outputs": [],
   "source": [
    "AllStars13_20 = [4524, 4418, 4778, 112, 3876, 1223, 2591, 3892, 614, 2889, 25, 4147, 3726, 1717, 1085, 2065, 2513, 955, 3311, 2542, 2938, 2004, 2177, 1517, 401, 2009, 3201, 266, 1620, 4393, 4396, 3719, 921, 1149, 1475, 4227, 44, 4278, 3159, 1038, 1113, 1929, 3429, 4432, 1125, 863, 1588, 2586,4198,115,2925,1459,2235,1794,415,1460,564,4168,2384,1142,3134,1849,2145,1945,3283,3669,1446,718,1031,1898,2577,2492,3502]\n",
    "Overlap = [-1 for i in range(0, 10*len(AllStars13_20))]\n",
    "result = []\n",
    "AllStars13_20Graph = g.subgraph(AllStars13_20)\n",
    "print(AllStars13_20Graph.ecount())\n",
    "print(AllStars13_20Graph.vcount())"
   ]
  },
  {
   "cell_type": "code",
   "execution_count": null,
   "metadata": {},
   "outputs": [],
   "source": [
    "CONGAYearAlgorithm(AllStars13_20Graph, result, Overlap)\n",
    "#print(result)\n",
    "#print(Overlap)"
   ]
  },
  {
   "cell_type": "code",
   "execution_count": null,
   "metadata": {},
   "outputs": [],
   "source": [
    "GirvanNewman(AllStars13_20Graph, result)\n",
    "#print(result)\n",
    "#print(Overlap)"
   ]
  },
  {
   "cell_type": "code",
   "execution_count": null,
   "metadata": {},
   "outputs": [],
   "source": [
    "resultGraph = AllStars13_20Graph.copy()\n",
    "#print(resultGraph.ecount())\n",
    "#print(resultGraph.vcount())\n",
    "toPrint = g.subgraph(AllStars13_20)\n",
    "while toPrint.ecount() > 0:\n",
    "    for edge in toPrint.es:\n",
    "        toPrint.delete_edges(edge)\n",
    "#print(toPrint.ecount())\n",
    "#print(toPrint.vcount())\n",
    "\n",
    "test = PrintGraph(resultGraph, toPrint, result, Overlap, len(result),1)"
   ]
  },
  {
   "cell_type": "code",
   "execution_count": null,
   "metadata": {},
   "outputs": [],
   "source": [
    "AllStars12_20 = [4524, 4418, 4778, 112, 3876, 1223, 2591, 3892, 614, 2889, 25, 4147, 3726, 1717, 1085, 2065, 2513, 955, 3311, 2542, 2938, 2004, 2177, 1517, 401, 2009, 3201, 266, 1620, 4393, 4396, 3719, 921, 1149, 1475, 4227, 44, 4278, 3159, 1038, 1113, 1929, 3429, 4432, 1125, 863, 1588, 2586,4198,115,2925,1459,2235,1794,415,1460,564,4168,2384,1142,3134,1849,2145,1945,3283,3669,1446,718,1031,1898,2577,2492,3502,620,3079,3672,1995,3383,4609]\n",
    "Overlap = [-1 for i in range(0, 10*len(AllStars12_20))]\n",
    "result = []\n",
    "AllStars12_20Graph = g.subgraph(AllStars12_20)\n",
    "AllStars12_20Graph.simplify(multiple=False, loops=True, combine_edges=None)\n",
    "print(AllStars12_20Graph.ecount())\n",
    "print(AllStars12_20Graph.vcount())"
   ]
  },
  {
   "cell_type": "code",
   "execution_count": null,
   "metadata": {},
   "outputs": [],
   "source": [
    "CONGAYearAlgorithm(AllStars12_20Graph, result, Overlap)\n",
    "#print(result)\n",
    "#print(Overlap)"
   ]
  },
  {
   "cell_type": "code",
   "execution_count": null,
   "metadata": {},
   "outputs": [],
   "source": [
    "GirvanNewman(AllStars12_20Graph, result)\n",
    "#print(result)\n",
    "#print(Overlap)"
   ]
  },
  {
   "cell_type": "code",
   "execution_count": null,
   "metadata": {},
   "outputs": [],
   "source": [
    "resultGraph = AllStars12_20Graph.copy()\n",
    "#print(resultGraph.ecount())\n",
    "#print(resultGraph.vcount())\n",
    "toPrint = g.subgraph(AllStars12_20)\n",
    "while toPrint.ecount() > 0:\n",
    "    for edge in toPrint.es:\n",
    "        toPrint.delete_edges(edge)\n",
    "#print(toPrint.ecount())\n",
    "#print(toPrint.vcount())\n",
    "\n",
    "test = PrintGraph(resultGraph, toPrint, result, Overlap, len(result),1)"
   ]
  },
  {
   "cell_type": "code",
   "execution_count": null,
   "metadata": {},
   "outputs": [],
   "source": [
    "AllStars11_20 = [4524, 4418, 4778, 112, 3876, 1223, 2591, 3892, 614, 2889, 25, 4147, 3726, 1717, 1085, 2065, 2513, 955, 3311, 2542, 2938, 2004, 2177, 1517, 401, 2009, 3201, 266, 1620, 4393, 4396, 3719, 921, 1149, 1475, 4227, 44, 4278, 3159, 1038, 1113, 1929, 3429, 4432, 1125, 863, 1588, 2586,4198,115,2925,1459,2235,1794,415,1460,564,4168,2384,1142,3134,1849,2145,1945,3283,3669,1446,718,1031,1898,2577,2492,3502,620,3079,3672,1995,3383,4609,4090,65,2930,1504]\n",
    "Overlap = [-1 for i in range(0, 10*len(AllStars11_20))]\n",
    "result = []\n",
    "AllStars11_20Graph = g.subgraph(AllStars11_20)\n",
    "print(AllStars11_20Graph.ecount())\n",
    "print(AllStars11_20Graph.vcount())"
   ]
  },
  {
   "cell_type": "code",
   "execution_count": null,
   "metadata": {},
   "outputs": [],
   "source": [
    "CONGAYearAlgorithm(AllStars11_20Graph, result, Overlap)\n",
    "#print(result)\n",
    "#print(Overlap)"
   ]
  },
  {
   "cell_type": "code",
   "execution_count": null,
   "metadata": {},
   "outputs": [],
   "source": [
    "GirvanNewman(AllStars11_20Graph, result)\n",
    "#print(result)\n",
    "#print(Overlap)"
   ]
  },
  {
   "cell_type": "code",
   "execution_count": null,
   "metadata": {},
   "outputs": [],
   "source": [
    "resultGraph = AllStars11_20Graph.copy()\n",
    "#print(resultGraph.ecount())\n",
    "#print(resultGraph.vcount())\n",
    "toPrint = g.subgraph(AllStars11_20)\n",
    "while toPrint.ecount() > 0:\n",
    "    for edge in toPrint.es:\n",
    "        toPrint.delete_edges(edge)\n",
    "#print(toPrint.ecount())\n",
    "#print(toPrint.vcount())\n",
    "\n",
    "test = PrintGraph(resultGraph, toPrint, result, Overlap, len(result),1)"
   ]
  },
  {
   "cell_type": "code",
   "execution_count": null,
   "metadata": {},
   "outputs": [],
   "source": []
  }
 ],
 "metadata": {
  "kernelspec": {
   "display_name": "Python 3",
   "language": "python",
   "name": "python3"
  },
  "language_info": {
   "codemirror_mode": {
    "name": "ipython",
    "version": 3
   },
   "file_extension": ".py",
   "mimetype": "text/x-python",
   "name": "python",
   "nbconvert_exporter": "python",
   "pygments_lexer": "ipython3",
   "version": "3.7.6"
  }
 },
 "nbformat": 4,
 "nbformat_minor": 4
}
