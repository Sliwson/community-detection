{
 "cells": [
  {
   "cell_type": "code",
   "execution_count": 2,
   "metadata": {},
   "outputs": [],
   "source": [
    "%run ../visualisation.ipynb\n",
    "%run ../read_graph.ipynb\n",
    "%run GirvanNewmanAlgorithms.ipynb\n",
    "%run CONGAYearAlgorithm.ipynb"
   ]
  },
  {
   "cell_type": "code",
   "execution_count": 3,
   "metadata": {},
   "outputs": [
    {
     "name": "stdout",
     "output_type": "stream",
     "text": [
      "Reading full NBA graph, begin...\n",
      "Reading file ../../Data/Basketball/Players.csv, begin...\n",
      "Data lines read: 4800\n",
      "Reading file ../../Data/Basketball/Edges.csv, begin...\n",
      "Data lines read: 146369\n",
      "Reading NBA vertices, begin...\n",
      "Vertices read: 4800\n",
      "Reading NBA edges, begin...\n",
      "Weights loaded correctly\n",
      "Edges read: 146369\n",
      "Loading succesfull\n"
     ]
    }
   ],
   "source": [
    "g = read_nba_full(\"../../Data/Basketball/Players.csv\",\n",
    "                  \"../../Data/Basketball/Edges.csv\",\n",
    "                  True, True, True)"
   ]
  },
  {
   "cell_type": "code",
   "execution_count": 4,
   "metadata": {},
   "outputs": [
    {
     "name": "stdout",
     "output_type": "stream",
     "text": [
      "38\n",
      "39\n"
     ]
    }
   ],
   "source": [
    "AllStars1920 = [4524, 4418, 4778, 112, 3876, 1223, 2591, 3892, 614, 2889, 25, 4147, 3726, 1717, 1085, 2065, 2513, 955, 3311, 2542, 2938, 2004, 2177, 1517, 401, 2009, 3201, 266, 1620, 4393, 4396, 3719, 921, 1149, 1475, 4227, 44, 4278, 3159]\n",
    "Overlap = [-1 for i in range(0, 10*len(AllStars1920))]\n",
    "result = []\n",
    "AllStars1920Graph = g.subgraph(AllStars1920)\n",
    "print(AllStars1920Graph.ecount())\n",
    "print(AllStars1920Graph.vcount())"
   ]
  },
  {
   "cell_type": "code",
   "execution_count": 6,
   "metadata": {},
   "outputs": [
    {
     "name": "stdout",
     "output_type": "stream",
     "text": [
      "[[(6, 27)], [(37, 37), (11, 37), (14, 37), (25, 37), (28, 37)], [(39, 39), (14, 39)], [(17, 17), (7, 17), (15, 17), (16, 17)], [(27, 33)], [(11, 19)], [(9, 14)], [(16, 41)], [(5, 5), (0, 5), (5, 10), (5, 30)], [(0, 35)], [(1, 19)], [(5, 35), (14, 26), (25, 34), (11, 39), (25, 39), (15, 41)], [(9, 37), (0, 42)], [(16, 31), (25, 28), (31, 36), (28, 39)], [(1, 20), (2, 22), (5, 33), (6, 9), (6, 32), (8, 24), (9, 32), (10, 30), (12, 23), (13, 26), (15, 27), (17, 35), (19, 21), (19, 29), (21, 29), (14, 40), (7, 41), (10, 42), (30, 42)]]\n",
      "[-1, -1, -1, -1, -1, -1, -1, -1, -1, -1, -1, -1, -1, -1, -1, -1, -1, -1, -1, -1, -1, -1, -1, -1, -1, -1, -1, -1, -1, -1, -1, -1, -1, -1, -1, -1, -1, -1, -1, 37, 39, 17, 5, -1, -1, -1, -1, -1, -1, -1, -1, -1, -1, -1, -1, -1, -1, -1, -1, -1, -1, -1, -1, -1, -1, -1, -1, -1, -1, -1, -1, -1, -1, -1, -1, -1, -1, -1, -1, -1, -1, -1, -1, -1, -1, -1, -1, -1, -1, -1, -1, -1, -1, -1, -1, -1, -1, -1, -1, -1, -1, -1, -1, -1, -1, -1, -1, -1, -1, -1, -1, -1, -1, -1, -1, -1, -1, -1, -1, -1, -1, -1, -1, -1, -1, -1, -1, -1, -1, -1, -1, -1, -1, -1, -1, -1, -1, -1, -1, -1, -1, -1, -1, -1, -1, -1, -1, -1, -1, -1, -1, -1, -1, -1, -1, -1, -1, -1, -1, -1, -1, -1, -1, -1, -1, -1, -1, -1, -1, -1, -1, -1, -1, -1, -1, -1, -1, -1, -1, -1, -1, -1, -1, -1, -1, -1, -1, -1, -1, -1, -1, -1, -1, -1, -1, -1, -1, -1, -1, -1, -1, -1, -1, -1, -1, -1, -1, -1, -1, -1, -1, -1, -1, -1, -1, -1, -1, -1, -1, -1, -1, -1, -1, -1, -1, -1, -1, -1, -1, -1, -1, -1, -1, -1, -1, -1, -1, -1, -1, -1, -1, -1, -1, -1, -1, -1, -1, -1, -1, -1, -1, -1, -1, -1, -1, -1, -1, -1, -1, -1, -1, -1, -1, -1, -1, -1, -1, -1, -1, -1, -1, -1, -1, -1, -1, -1, -1, -1, -1, -1, -1, -1, -1, -1, -1, -1, -1, -1, -1, -1, -1, -1, -1, -1, -1, -1, -1, -1, -1, -1, -1, -1, -1, -1, -1, -1, -1, -1, -1, -1, -1, -1, -1, -1, -1, -1, -1, -1, -1, -1, -1, -1, -1, -1, -1, -1, -1, -1, -1, -1, -1, -1, -1, -1, -1, -1, -1, -1, -1, -1, -1, -1, -1, -1, -1, -1, -1, -1, -1, -1, -1, -1, -1, -1, -1, -1, -1, -1, -1, -1, -1, -1, -1, -1, -1, -1, -1, -1, -1, -1, -1, -1, -1, -1, -1, -1, -1, -1, -1, -1, -1, -1, -1, -1, -1, -1, -1, -1, -1, -1]\n"
     ]
    }
   ],
   "source": [
    "CONGAYearAlgorithm(AllStars1920Graph, result, Overlap,True)\n",
    "print(result)\n",
    "print(Overlap)"
   ]
  },
  {
   "cell_type": "code",
   "execution_count": 7,
   "metadata": {},
   "outputs": [
    {
     "name": "stdout",
     "output_type": "stream",
     "text": [
      "0\n",
      "43\n",
      "0\n",
      "39\n"
     ]
    }
   ],
   "source": [
    "resultGraph = AllStars1920Graph.copy()\n",
    "print(resultGraph.ecount())\n",
    "print(resultGraph.vcount())\n",
    "toPrint = g.subgraph(AllStars1920)\n",
    "while toPrint.ecount() > 0:\n",
    "    for edge in toPrint.es:\n",
    "        toPrint.delete_edges(edge)\n",
    "print(toPrint.ecount())\n",
    "print(toPrint.vcount())"
   ]
  },
  {
   "cell_type": "code",
   "execution_count": 8,
   "metadata": {},
   "outputs": [],
   "source": [
    "index = 15"
   ]
  },
  {
   "cell_type": "code",
   "execution_count": 9,
   "metadata": {},
   "outputs": [
    {
     "name": "stdout",
     "output_type": "stream",
     "text": [
      "[(6, 27)]\n"
     ]
    }
   ],
   "source": [
    "x = result[len(result)-index]\n",
    "print(x)"
   ]
  },
  {
   "cell_type": "code",
   "execution_count": null,
   "metadata": {},
   "outputs": [],
   "source": [
    "print(resultGraph.vcount())\n",
    "print(resultGraph.ecount())\n",
    "resultGraph.delete_vertices(resultGraph.vcount()-1)\n",
    "#for edge in resultGraph.es:\n",
    "    #print(edge.source, edge.target)\n",
    "print(resultGraph.ecount())"
   ]
  },
  {
   "cell_type": "code",
   "execution_count": null,
   "metadata": {},
   "outputs": [],
   "source": [
    "for edge in x:\n",
    "    if(edge[0]==edge[1]):\n",
    "        continue\n",
    "    print(edge)\n",
    "    resultGraph.add_edges([edge])"
   ]
  },
  {
   "cell_type": "code",
   "execution_count": null,
   "metadata": {},
   "outputs": [],
   "source": [
    "#resultGraph.delete_vertices(resultGraph.vcount()-1)\n",
    "print(resultGraph.vcount())\n",
    "for edge in resultGraph.es:\n",
    "    print(edge.source, edge.target)"
   ]
  },
  {
   "cell_type": "code",
   "execution_count": null,
   "metadata": {},
   "outputs": [],
   "source": [
    "comp = [[] for i in range(0, len(resultGraph.components()))]\n",
    "counter = 0\n",
    "for component in resultGraph.components():\n",
    "    if(len(component)==1 and component[0] >= 39):\n",
    "        print(component[0])\n",
    "        continue\n",
    "    toAdd = []\n",
    "    for vertex in component:\n",
    "        if(vertex<39): #Change\n",
    "            toAdd.append(vertex)\n",
    "        else:\n",
    "            while(Overlap[vertex]!=-1):\n",
    "                vertex=Overlap[vertex]\n",
    "            toAdd.append(vertex)\n",
    "    comp[counter] = toAdd\n",
    "    counter+=1\n",
    "print(comp)"
   ]
  },
  {
   "cell_type": "code",
   "execution_count": null,
   "metadata": {},
   "outputs": [],
   "source": [
    "for edge in x:\n",
    "    source = edge[0]\n",
    "    target = edge[1]\n",
    "    if(source == target):\n",
    "        continue\n",
    "    if(source>=39): #Change\n",
    "        while(Overlap[source]!=-1):\n",
    "            source=Overlap[source]\n",
    "    if(target>=39):\n",
    "        while(Overlap[target]!=-1):\n",
    "            target=Overlap[target]\n",
    "    toPrint.add_edges([(source,target)])\n",
    "print(toPrint.vcount())\n",
    "print(toPrint.ecount())"
   ]
  },
  {
   "cell_type": "code",
   "execution_count": null,
   "metadata": {},
   "outputs": [],
   "source": [
    "counter = 0\n",
    "for vertex in toPrint.vs:\n",
    "    vertex[\"communities\"] = []\n",
    "for c in comp:\n",
    "    for vertex in c:\n",
    "        toPrint.vs[vertex][\"communities\"].append(counter)\n",
    "        print(toPrint.vs[vertex][\"communities\"])\n",
    "    counter+=1\n",
    "print(toPrint.vcount())\n",
    "plot_full(toPrint, \"Test.svg\")"
   ]
  },
  {
   "cell_type": "code",
   "execution_count": null,
   "metadata": {},
   "outputs": [],
   "source": [
    "%run PrintCONGA.ipynb"
   ]
  },
  {
   "cell_type": "code",
   "execution_count": null,
   "metadata": {},
   "outputs": [],
   "source": [
    "AllStars1920 = [4524, 4418, 4778, 112, 3876, 1223, 2591, 3892, 614, 2889, 25, 4147, 3726, 1717, 1085, 2065, 2513, 955, 3311, 2542, 2938, 2004, 2177, 1517, 401, 2009, 3201, 266, 1620, 4393, 4396, 3719, 921, 1149, 1475, 4227, 44, 4278, 3159]\n",
    "Overlap = [-1 for i in range(0, 10*len(AllStars1920))]\n",
    "result = []\n",
    "AllStars1920Graph = g.subgraph(AllStars1920)\n",
    "print(AllStars1920Graph.ecount())\n",
    "print(AllStars1920Graph.vcount())"
   ]
  },
  {
   "cell_type": "code",
   "execution_count": null,
   "metadata": {},
   "outputs": [],
   "source": [
    "CONGAYearAlgorithm(AllStars1920Graph, result, Overlap)\n",
    "print(result)\n",
    "print(Overlap)"
   ]
  },
  {
   "cell_type": "code",
   "execution_count": null,
   "metadata": {},
   "outputs": [],
   "source": [
    "resultGraph = AllStars1920Graph.copy()\n",
    "print(resultGraph.ecount())\n",
    "print(resultGraph.vcount())\n",
    "toPrint = g.subgraph(AllStars1920)\n",
    "while toPrint.ecount() > 0:\n",
    "    for edge in toPrint.es:\n",
    "        toPrint.delete_edges(edge)\n",
    "print(toPrint.ecount())\n",
    "print(toPrint.vcount())"
   ]
  },
  {
   "cell_type": "code",
   "execution_count": null,
   "metadata": {},
   "outputs": [],
   "source": [
    "test = PrintGraph(resultGraph, toPrint, result, Overlap, len(result),1)"
   ]
  },
  {
   "cell_type": "code",
   "execution_count": null,
   "metadata": {},
   "outputs": [],
   "source": [
    "print(test.ecount())\n",
    "print(test.vcount())"
   ]
  },
  {
   "cell_type": "code",
   "execution_count": null,
   "metadata": {},
   "outputs": [],
   "source": [
    "plot_full(toPrint, \"Test.svg\")"
   ]
  },
  {
   "cell_type": "code",
   "execution_count": null,
   "metadata": {},
   "outputs": [],
   "source": [
    "AllStars181920 = [4524, 4418, 4778, 112, 3876, 1223, 2591, 3892, 614, 2889, 25, 4147, 3726, 1717, 1085, 2065, 2513, 955, 3311, 2542, 2938, 2004, 2177, 1517, 401, 2009, 3201, 266, 1620, 4393, 4396, 3719, 921, 1149, 1475, 4227, 44, 4278, 3159, 1038, 1113, 1929, 3429, 4432, 1125, 863, 1588, 2586]\n",
    "Overlap = [-1 for i in range(0, 10*len(AllStars181920))]\n",
    "result = []\n",
    "AllStars181920Graph = g.subgraph(AllStars181920)\n",
    "print(AllStars181920Graph.ecount())\n",
    "print(AllStars181920Graph.vcount())\n",
    "CONGAYearAlgorithm(AllStars181920Graph, result, Overlap)\n",
    "print(result)\n",
    "print(Overlap)"
   ]
  },
  {
   "cell_type": "code",
   "execution_count": null,
   "metadata": {},
   "outputs": [],
   "source": [
    "resultGraph = AllStars181920Graph.copy()\n",
    "print(resultGraph.ecount())\n",
    "print(resultGraph.vcount())\n",
    "toPrint = g.subgraph(AllStars181920)\n",
    "while toPrint.ecount() > 0:\n",
    "    for edge in toPrint.es:\n",
    "        toPrint.delete_edges(edge)\n",
    "print(toPrint.ecount())\n",
    "print(toPrint.vcount())\n",
    "\n",
    "test = PrintGraph(resultGraph, toPrint, result, Overlap, len(result),1)"
   ]
  },
  {
   "cell_type": "code",
   "execution_count": null,
   "metadata": {},
   "outputs": [],
   "source": []
  }
 ],
 "metadata": {
  "kernelspec": {
   "display_name": "Python 3",
   "language": "python",
   "name": "python3"
  },
  "language_info": {
   "codemirror_mode": {
    "name": "ipython",
    "version": 3
   },
   "file_extension": ".py",
   "mimetype": "text/x-python",
   "name": "python",
   "nbconvert_exporter": "python",
   "pygments_lexer": "ipython3",
   "version": "3.7.6"
  }
 },
 "nbformat": 4,
 "nbformat_minor": 4
}
