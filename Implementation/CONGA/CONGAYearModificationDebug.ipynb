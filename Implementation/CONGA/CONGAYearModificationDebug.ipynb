{
 "cells": [
  {
   "cell_type": "code",
   "execution_count": null,
   "metadata": {},
   "outputs": [],
   "source": [
    "%run visualisation.ipynb\n",
    "%run read_NBAPlayers_graph.ipynb\n",
    "%run GirvanNewmanAlgorithms.ipynb"
   ]
  },
  {
   "cell_type": "code",
   "execution_count": null,
   "metadata": {},
   "outputs": [],
   "source": [
    "g = igraph.Graph()\n",
    "readVertices(\"/home/irek/community-detection/Scrapers/BasketballReferenceScraper/data/Players.csv\",g,True)\n",
    "readEdges(\"/home/irek/community-detection/Scrapers/BasketballReferenceScraper/data/Edges.csv\",g, True)"
   ]
  },
  {
   "cell_type": "code",
   "execution_count": null,
   "metadata": {},
   "outputs": [],
   "source": [
    "AllStars1920 = [4524, 4418, 4778, 112, 3876, 1223, 2591, 3892, 614, 2889, 25, 4147, 3726, 1717, 1085, 2065, 2513, 955, 3311, 2542, 2938, 2004, 2177, 1517, 401, 2009, 3201, 266, 1620, 4393, 4396, 3719, 921, 1149, 1475, 4227, 44, 4278, 3159]\n",
    "Overlap = [-1 for i in range(0, 10*len(AllStars1920))]"
   ]
  },
  {
   "cell_type": "code",
   "execution_count": null,
   "metadata": {},
   "outputs": [],
   "source": [
    "AllStars181920 = [4524, 4418, 4778, 112, 3876, 1223, 2591, 3892, 614, 2889, 25, 4147, 3726, 1717, 1085, 2065, 2513, 955, 3311, 2542, 2938, 2004, 2177, 1517, 401, 2009, 3201, 266, 1620, 4393, 4396, 3719, 921, 1149, 1475, 4227, 44, 4278, 3159, 1038, 1113, 1929, 3429, 4432, 1125, 863, 1588]"
   ]
  },
  {
   "cell_type": "code",
   "execution_count": null,
   "metadata": {},
   "outputs": [],
   "source": [
    "for player in AllStars1920:\n",
    "    print(g.vs[player].attributes())"
   ]
  },
  {
   "cell_type": "code",
   "execution_count": null,
   "metadata": {},
   "outputs": [],
   "source": [
    "AllStars1920Graph = g.subgraph(AllStars181920)\n",
    "print(AllStars1920Graph.ecount())\n",
    "print(AllStars1920Graph.vcount())\n",
    "for vertex in AllStars1920Graph.vs:\n",
    "    vertex[\"communities\"] = [0]\n",
    "plot(AllStars1920Graph, \"AllStars1920.svg\")\n",
    "result = []"
   ]
  },
  {
   "cell_type": "code",
   "execution_count": null,
   "metadata": {},
   "outputs": [],
   "source": [
    "for player in AllStars1920Graph.vs:\n",
    "    print(player)\n",
    "for edge in AllStars1920Graph.es:\n",
    "    print(edge.tuple)\n",
    "    print(edge.attributes())\n",
    "    print(' ')"
   ]
  },
  {
   "cell_type": "code",
   "execution_count": null,
   "metadata": {},
   "outputs": [],
   "source": [
    "edge_betweenness = AllStars1920Graph.edge_betweenness(directed=False, cutoff=None, weights=None)\n",
    "max_eb = max(edge_betweenness)\n",
    "print(max_eb)\n",
    "vertex_betweenness = AllStars1920Graph.betweenness(vertices=None, directed=False, cutoff=None, weights=None, nobigint=True)\n",
    "max_vb = max(vertex_betweenness)\n",
    "print(max_vb)"
   ]
  },
  {
   "cell_type": "code",
   "execution_count": null,
   "metadata": {},
   "outputs": [],
   "source": [
    "edgesToDelete = [AllStars1920Graph.es[idx].tuple for idx, eb in enumerate(edge_betweenness) if (eb == max_eb and eb == max_eb)]\n",
    "print(edgesToDelete)\n",
    "result.append(edgesToDelete)\n",
    "print(result)\n",
    "AllStars1920Graph.delete_edges(edgesToDelete)"
   ]
  },
  {
   "cell_type": "code",
   "execution_count": null,
   "metadata": {},
   "outputs": [],
   "source": [
    "vertexToCopy = vertex_betweenness.index(max_vb);\n",
    "print(vertexToCopy)\n",
    "incident = AllStars1920Graph.incident(vertexToCopy, mode=ALL)\n",
    "print(incident)\n",
    "AllStars1920Graph.add_vertices(1)\n",
    "AllStars1920Graph.vs[AllStars1920Graph.vcount()-1]['name'] = AllStars1920Graph.vs[vertexToCopy]['name']\n",
    "Overlap[AllStars1920Graph.vcount()-1] = vertexToCopy\n",
    "print(Overlap)"
   ]
  },
  {
   "cell_type": "code",
   "execution_count": null,
   "metadata": {},
   "outputs": [],
   "source": [
    "sum = 0\n",
    "for edge in incident:\n",
    "    print(AllStars1920Graph.es[edge]['weight'])\n",
    "    sum += AllStars1920Graph.es[edge]['weight']\n",
    "\n",
    "average = sum/len(incident)\n",
    "print(sum)\n",
    "print(average)\n",
    "edges_to_delete = []\n",
    "new_vertex_counter = AllStars1920Graph.vcount()-1\n",
    "allSameWeight = 1\n",
    "popWeight = -1\n",
    "for edge in incident:\n",
    "    weight = AllStars1920Graph.es[edge]['weight']\n",
    "    if popWeight != weight and edge != incident[0]:\n",
    "        allSameWeight = 0\n",
    "    if(weight<average):\n",
    "        edges_to_delete.append(edge)\n",
    "        source = AllStars1920Graph.es[edge].source\n",
    "        target = AllStars1920Graph.es[edge].target\n",
    "        print([source, target])\n",
    "        if(target == vertexToCopy):\n",
    "            print([(source, new_vertex_counter)])\n",
    "            AllStars1920Graph.add_edges([(source, new_vertex_counter)])\n",
    "            AllStars1920Graph.es[AllStars1920Graph.ecount()-1][\"weight\"]=weight\n",
    "        else:\n",
    "            print([(new_vertex_counter, target)])\n",
    "            AllStars1920Graph.add_edges([(new_vertex_counter, target)])\n",
    "            AllStars1920Graph.es[AllStars1920Graph.ecount()-1][\"weight\"]=weight\n",
    "    popWeight = weight\n",
    "if allSameWeight == 1:\n",
    "    print('All same weight!')\n",
    "    edges_to_delete.append(edge)\n",
    "    AllStars1920Graph.add_edges([(AllStars1920Graph.es[incident[0]].source, new_vertex_counter)])\n",
    "    AllStars1920Graph.es[AllStars1920Graph.ecount()-1][\"weight\"]=weight"
   ]
  },
  {
   "cell_type": "code",
   "execution_count": null,
   "metadata": {},
   "outputs": [],
   "source": [
    "AllStars1920Graph.delete_edges(edges_to_delete)\n",
    "toAdd = [(vertexToCopy, vertexToCopy)]\n",
    "for edge in edges_to_delete:\n",
    "    toAdd.append([(AllStars1920Graph.es[edge].source,AllStars1920Graph.es[edge].target)])\n",
    "result.append(toAdd)\n",
    "incident2 = AllStars1920Graph.incident(vertexToCopy, mode=ALL)\n",
    "print(incident2)\n",
    "print(result)"
   ]
  },
  {
   "cell_type": "code",
   "execution_count": null,
   "metadata": {},
   "outputs": [],
   "source": [
    "#resultGraph = AllStars1920Graph.copy()\n",
    "#resultGraph.delete_edges(resultGraph.es)\n",
    "print(resultGraph.ecount())\n",
    "print(resultGraph.vcount())"
   ]
  },
  {
   "cell_type": "code",
   "execution_count": null,
   "metadata": {},
   "outputs": [],
   "source": [
    "#print(AllStars1920Graph.components())\n",
    "print(resultGraph.components())\n",
    "    "
   ]
  },
  {
   "cell_type": "code",
   "execution_count": null,
   "metadata": {},
   "outputs": [],
   "source": [
    "print(result)"
   ]
  },
  {
   "cell_type": "code",
   "execution_count": null,
   "metadata": {},
   "outputs": [],
   "source": [
    "resultGraph = AllStars1920Graph.copy()"
   ]
  },
  {
   "cell_type": "code",
   "execution_count": null,
   "metadata": {},
   "outputs": [],
   "source": [
    "#print(result)\n",
    "x = result[len(result)-2]\n",
    "length = len(x)\n",
    "print(length)\n",
    "for edge in x:\n",
    "    print(edge)\n",
    "    resultGraph.add_edges([edge])"
   ]
  },
  {
   "cell_type": "code",
   "execution_count": null,
   "metadata": {},
   "outputs": [],
   "source": [
    "comp = [[] for i in range(0, len(resultGraph.components()))]\n",
    "counter = 0\n",
    "for component in resultGraph.components():\n",
    "    toAdd = []\n",
    "    for vertex in component:\n",
    "        if(vertex<39): #Change\n",
    "            toAdd.append(vertex)\n",
    "        else:\n",
    "            while(Overlap[vertex]!=-1):\n",
    "                vertex=Overlap[vertex]\n",
    "            toAdd.append(vertex)\n",
    "    comp[counter] = toAdd\n",
    "    counter+=1\n",
    "print(comp)"
   ]
  },
  {
   "cell_type": "code",
   "execution_count": null,
   "metadata": {},
   "outputs": [],
   "source": [
    "resultToDraw = resultGraph.copy()"
   ]
  },
  {
   "cell_type": "code",
   "execution_count": null,
   "metadata": {},
   "outputs": [],
   "source": [
    "counter = 0\n",
    "for vertex in resultToDraw.vs:\n",
    "    vertex[\"communities\"] = []\n",
    "for c in comp:\n",
    "    for vertex in c:\n",
    "        resultToDraw.vs[vertex][\"communities\"].append(counter)\n",
    "        print(resultToDraw.vs[vertex][\"communities\"])\n",
    "    counter+=1\n",
    "print(resultToDraw.vcount())\n",
    "plot_full(resultToDraw, \"AllStars1920.svg\")"
   ]
  },
  {
   "cell_type": "code",
   "execution_count": null,
   "metadata": {},
   "outputs": [],
   "source": [
    "%run CONGAYearAlgorithm.ipynb"
   ]
  },
  {
   "cell_type": "code",
   "execution_count": null,
   "metadata": {},
   "outputs": [],
   "source": [
    "AllStars1920 = [4524, 4418, 4778, 112, 3876, 1223, 2591, 3892, 614, 2889, 25, 4147, 3726, 1717, 1085, 2065, 2513, 955, 3311, 2542, 2938, 2004, 2177, 1517, 401, 2009, 3201, 266, 1620, 4393, 4396, 3719, 921, 1149, 1475, 4227, 44, 4278, 3159]\n",
    "Overlap = [-1 for i in range(0, 10*len(AllStars1920))]\n",
    "result = []\n",
    "AllStars1920Graph = g.subgraph(AllStars1920)\n",
    "print(AllStars1920Graph.ecount())\n",
    "print(AllStars1920Graph.vcount())"
   ]
  },
  {
   "cell_type": "code",
   "execution_count": null,
   "metadata": {},
   "outputs": [],
   "source": [
    "CONGAYearAlgorithm(AllStars1920Graph.copy(), result, Overlap)\n",
    "print(result)\n",
    "print(Overlap)"
   ]
  },
  {
   "cell_type": "code",
   "execution_count": null,
   "metadata": {},
   "outputs": [],
   "source": [
    "AllStars181920 = [4524, 4418, 4778, 112, 3876, 1223, 2591, 3892, 614, 2889, 25, 4147, 3726, 1717, 1085, 2065, 2513, 955, 3311, 2542, 2938, 2004, 2177, 1517, 401, 2009, 3201, 266, 1620, 4393, 4396, 3719, 921, 1149, 1475, 4227, 44, 4278, 3159, 1038, 1113, 1929, 3429, 4432, 1125, 863, 1588]\n",
    "Overlap = [-1 for i in range(0, 10*len(AllStars181920))]\n",
    "result = []\n",
    "AllStars181920Graph = g.subgraph(AllStars181920)\n",
    "print(AllStars181920Graph.ecount())\n",
    "print(AllStars181920Graph.vcount())"
   ]
  },
  {
   "cell_type": "code",
   "execution_count": null,
   "metadata": {},
   "outputs": [],
   "source": [
    "CONGAYearAlgorithm(AllStars181920Graph.copy(), result, Overlap)\n",
    "print(result)\n",
    "print(Overlap)"
   ]
  },
  {
   "cell_type": "code",
   "execution_count": null,
   "metadata": {},
   "outputs": [],
   "source": []
  }
 ],
 "metadata": {
  "kernelspec": {
   "display_name": "Python 3",
   "language": "python",
   "name": "python3"
  },
  "language_info": {
   "codemirror_mode": {
    "name": "ipython",
    "version": 3
   },
   "file_extension": ".py",
   "mimetype": "text/x-python",
   "name": "python",
   "nbconvert_exporter": "python",
   "pygments_lexer": "ipython3",
   "version": "3.7.6"
  }
 },
 "nbformat": 4,
 "nbformat_minor": 4
}
