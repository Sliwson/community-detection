{
 "cells": [
  {
   "cell_type": "code",
   "execution_count": null,
   "metadata": {},
   "outputs": [],
   "source": [
    "import igraph \n",
    "import csv\n",
    "import unicodedata"
   ]
  },
  {
   "cell_type": "code",
   "execution_count": null,
   "metadata": {},
   "outputs": [],
   "source": [
    "def GirvanNewman(g,n):\n",
    "    iteration=0\n",
    "    while(iteration<n):\n",
    "        edge_betweenness = g.edge_betweenness(directed=False, cutoff=None, weights=None)\n",
    "        max_eb = max(edge_betweenness)\n",
    "        print(max_eb)\n",
    "        edgesToDelete = [g.es[idx].tuple for idx, eb in enumerate(edge_betweenness) if (eb <= max_eb+10 and eb >= max_eb-10)]\n",
    "        print(edgesToDelete)\n",
    "        g.delete_edges(edgesToDelete)\n",
    "        iteration+=1"
   ]
  },
  {
   "cell_type": "code",
   "execution_count": null,
   "metadata": {},
   "outputs": [],
   "source": [
    "def CONGARandom(g,n):\n",
    "    iteration=0\n",
    "    new_vertex_counter = g.vcount()\n",
    "    table = [[-1]]*100*g.vcount()\n",
    "    while(iteration<n and g.ecount() > 0):\n",
    "        print(' ')\n",
    "        print(iteration)\n",
    "        edge_betweenness = g.edge_betweenness(directed=False, cutoff=None, weights=None)\n",
    "        max_eb = max(edge_betweenness)\n",
    "        print(max_eb)\n",
    "        vertex_betweenness = g.betweenness(vertices=None, directed=False, cutoff=None, weights=None, nobigint=True)\n",
    "        max_vb = max(vertex_betweenness)\n",
    "        print(max_vb)\n",
    "        if(max_eb > max_vb):\n",
    "            edgesToDelete = [g.es[idx].tuple for idx, eb in enumerate(edge_betweenness) if (eb <= max_eb+0.1 and eb >= max_eb-0.1)]\n",
    "            #print(edgesToDelete)\n",
    "            g.delete_edges(edgesToDelete)\n",
    "        else:\n",
    "            vertexToCopy = vertex_betweenness.index(max_vb);\n",
    "            #print(vertexToCopy)\n",
    "            incident = g.incident(vertexToCopy, mode=ALL)\n",
    "            #print(len(incident))\n",
    "            g.add_vertices(str(new_vertex_counter))\n",
    "            table[vertexToCopy].append(new_vertex_counter)\n",
    "            delete_edge_iterator=0\n",
    "            length = len(incident)/2\n",
    "            #print(incident)\n",
    "            edges_to_delete = [];\n",
    "            while(delete_edge_iterator < length):\n",
    "                #g.delete_edges(incident[delete_edge_iterator])\n",
    "                source = g.es[incident[delete_edge_iterator]].source\n",
    "                target = g.es[incident[delete_edge_iterator]].target\n",
    "                #print([source, target])\n",
    "                if(target == vertexToCopy):\n",
    "                    #print([(source, new_vertex_counter)])\n",
    "                    g.add_edges([(source, new_vertex_counter)])\n",
    "                else:\n",
    "                    #print([(new_vertex_counter, target)])\n",
    "                    g.add_edges([(new_vertex_counter, target)])\n",
    "                edges_to_delete.append(incident[delete_edge_iterator])\n",
    "                delete_edge_iterator+=1\n",
    "            new_vertex_counter+=1\n",
    "            #print(edges_to_delete)\n",
    "            g.delete_edges(edges_to_delete)\n",
    "            incident2 = g.incident(vertexToCopy, mode=ALL)\n",
    "            #print(len(incident2))\n",
    "            #print(incident2)\n",
    "        iteration+=1\n",
    "        #print(table)\n",
    "        print(g.ecount())\n",
    "        #print(g.vcount())\n",
    "    return table"
   ]
  }
 ],
 "metadata": {
  "kernelspec": {
   "display_name": "Python 3",
   "language": "python",
   "name": "python3"
  },
  "language_info": {
   "codemirror_mode": {
    "name": "ipython",
    "version": 3
   },
   "file_extension": ".py",
   "mimetype": "text/x-python",
   "name": "python",
   "nbconvert_exporter": "python",
   "pygments_lexer": "ipython3",
   "version": "3.7.6"
  }
 },
 "nbformat": 4,
 "nbformat_minor": 4
}
