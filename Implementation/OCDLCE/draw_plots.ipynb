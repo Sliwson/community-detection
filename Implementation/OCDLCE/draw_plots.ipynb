{
 "cells": [
  {
   "cell_type": "code",
   "execution_count": null,
   "metadata": {},
   "outputs": [],
   "source": [
    "%run ocdlce_algorithm.ipynb\n",
    "\n",
    "g = read_nba_full(\"../Data/Basketball/Players.csv\",\n",
    "                  \"../Data/Basketball/Edges.csv\",\n",
    "                  False, True)\n",
    "\n",
    "all11_20 = [4524, 4418, 4778, 112, 3876, 1223, 2591, 3892, 614, 2889, 25, 4147, 3726, 1717, 1085, 2065, 2513, 955, 3311, 2542, 2938, 2004, 2177, 1517, 401, 2009, 3201, 266, 1620, 4393, 4396, 3719, 921, 1149, 1475, 4227, 44, 4278, 3159, 1038, 1113, 1929, 3429, 4432, 1125, 863, 1588, 2586,4198,115,2925,1459,2235,1794,415,1460,564,4168,2384,1142,3134,1849,2145,1945,3283,3669,1446,718,1031,1898,2577,2492,3502,620,3079,3672,1995,3383,4609,4090,65,2930,1504]\n",
    "nba11_20 = g.subgraph(all11_20)\n",
    "\n",
    "github = read_github_full(\"../Data/Github/nodes_wzab.csv\",\n",
    "                  \"../Data/Github/edges_wzab.csv\", True)\n",
    "\n",
    "\n",
    "github_huge = read_github_full(\"../Data/Github/nodes_gagolews.csv\",\n",
    "                  \"../Data/Github/edges_gagolews.csv\")\n",
    "\n",
    "DoncicGraph = get_bfs(g,1085,3)\n"
   ]
  },
  {
   "cell_type": "code",
   "execution_count": null,
   "metadata": {},
   "outputs": [],
   "source": [
    "def draw_basic_ocdlce(graph,output, alfa, beta):\n",
    "    g, com = step1(graph, False)\n",
    "    print(\"Communities after step1: \" + str(len(com)))\n",
    "    g, com = step2(g, com, alfa, beta)\n",
    "    print(\"Communities after step2: \" + str(len(com)))\n",
    "    g = step3(g, com, False)\n",
    "    plot_bfs(g, 0, 5, output, 2)"
   ]
  },
  {
   "cell_type": "code",
   "execution_count": null,
   "metadata": {},
   "outputs": [],
   "source": [
    "def draw_basic_ocdlce_with_modularity_f(graph,output, alfa, beta):\n",
    "    g, com = step1(graph, True)\n",
    "    print(\"Communities after step1: \" + str(len(com)))\n",
    "    g, com = step2(g, com, alfa, beta)\n",
    "    print(\"Communities after step2: \" + str(len(com)))\n",
    "    g = step3(g, com, True)\n",
    "    plot_bfs(g, 0, 5, output, 2)"
   ]
  },
  {
   "cell_type": "code",
   "execution_count": null,
   "metadata": {},
   "outputs": [],
   "source": [
    "def draw_modified_ocdlce(graph,output, alfa, beta):\n",
    "    g, com = step1_modified(graph, False)\n",
    "    print(\"Communities after step1: \" + str(len(com)))\n",
    "    g, com = step2(g, com, alfa, beta)\n",
    "    print(\"Communities after step2: \" + str(len(com)))\n",
    "    g = step3(g, com, False)\n",
    "    plot_bfs(g, 0, 5, output, 2)"
   ]
  },
  {
   "cell_type": "code",
   "execution_count": null,
   "metadata": {},
   "outputs": [],
   "source": [
    "def draw_modified_ocdlce_with_modularity_f(graph,output, alfa, beta):\n",
    "    g, com = step1_modified(graph, True)\n",
    "    print(\"Communities after step1: \" + str(len(com)))\n",
    "    g, com = step2(g, com, alfa, beta)\n",
    "    print(\"Communities after step2: \" + str(len(com)))\n",
    "    g = step3(g, com, True)\n",
    "    plot_bfs(g, 0, 5, output, 2)"
   ]
  },
  {
   "cell_type": "code",
   "execution_count": null,
   "metadata": {},
   "outputs": [],
   "source": [
    "#nba1\n",
    "draw_basic_ocdlce(DoncicGraph, \"doncic_basic_ocdlce.svg\", 0.5, 0.5)\n",
    "draw_basic_ocdlce_with_modularity_f(DoncicGraph, \"doncic_basic_ocdlce_with_modularity_f.svg\", 0.5, 0.5)\n",
    "draw_modified_ocdlce(DoncicGraph, \"doncic_modified_ocdlce.svg\", 0.5, 0.5)\n",
    "draw_modified_ocdlce_with_modularity_f(DoncicGraph, \"doncic_modified_ocdlce_with_modularity_f.svg\", 0.5, 0.5)\n",
    "\n",
    "\n",
    "#nba\n",
    "draw_basic_ocdlce(nba11_20, \"nba_basic_ocdlce.svg\", 0.5, 0.5)\n",
    "draw_basic_ocdlce_with_modularity_f(nba11_20, \"nba_basic_ocdlce_with_modularity_f.svg\", 0.5, 0.5)\n",
    "draw_modified_ocdlce(nba11_20, \"nba_modified_ocdlce.svg\", 0.5, 0.5)\n",
    "draw_modified_ocdlce_with_modularity_f(nba11_20, \"nba_modified_ocdlce_with_modularity_f.svg\", 0.5, 0.5)\n",
    "\n",
    "#github\n",
    "draw_basic_ocdlce(github, \"github_basic_ocdlce.svg\", 0.5, 0.5)\n",
    "draw_basic_ocdlce_with_modularity_f(github, \"github_basic_ocdlce_with_modularity_f.svg\", 0.5, 0.5)\n",
    "draw_modified_ocdlce(github, \"github_modified_ocdlce.svg\", 0.5, 0.5)\n",
    "draw_modified_ocdlce_with_modularity_f(github, \"github_modified_ocdlce_with_modularity_f.svg\", 0.5, 0.5)\n",
    "\n",
    "#github_huge\n",
    "draw_basic_ocdlce(github_huge, \"github_huge_basic_ocdlce.svg\", 0.5, 0.5)\n",
    "draw_basic_ocdlce_with_modularity_f(github_huge, \"github_huge_basic_ocdlce_with_modularity_f.svg\", 0.5, 0.5)\n",
    "draw_modified_ocdlce(github_huge, \"github_huge_modified_ocdlce.svg\", 0.5, 0.5)\n",
    "draw_modified_ocdlce_with_modularity_f(github_huge, \"github_huge_modified_ocdlce_with_modularity_f.svg\", 0.5, 0.5)\n",
    "\n",
    "#filmweb"
   ]
  },
  {
   "cell_type": "code",
   "execution_count": null,
   "metadata": {},
   "outputs": [],
   "source": [
    "\n"
   ]
  },
  {
   "cell_type": "code",
   "execution_count": null,
   "metadata": {},
   "outputs": [],
   "source": []
  },
  {
   "cell_type": "code",
   "execution_count": null,
   "metadata": {},
   "outputs": [],
   "source": []
  }
 ],
 "metadata": {
  "kernelspec": {
   "display_name": "Python 3",
   "language": "python",
   "name": "python3"
  },
  "language_info": {
   "codemirror_mode": {
    "name": "ipython",
    "version": 3
   },
   "file_extension": ".py",
   "mimetype": "text/x-python",
   "name": "python",
   "nbconvert_exporter": "python",
   "pygments_lexer": "ipython3",
   "version": "3.6.9"
  }
 },
 "nbformat": 4,
 "nbformat_minor": 4
}
