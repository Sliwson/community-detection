{
 "cells": [
  {
   "cell_type": "code",
   "execution_count": 58,
   "metadata": {},
   "outputs": [
    {
     "name": "stdout",
     "output_type": "stream",
     "text": [
      "/home/bartek/Pulpit/community-detection/Implementation/OCDLCE\n"
     ]
    }
   ],
   "source": [
    "%cd /home/bartek/Pulpit/community-detection/Implementation/OCDLCE"
   ]
  },
  {
   "cell_type": "code",
   "execution_count": 59,
   "metadata": {},
   "outputs": [
    {
     "name": "stdout",
     "output_type": "stream",
     "text": [
      "/home/bartek/Pulpit/community-detection/Implementation/OCDLCE\n",
      "/home/bartek/Pulpit/community-detection/Implementation\n",
      "Reading full NBA graph, begin...\n",
      "Reading file ../Data/Basketball/Players.csv, begin...\n",
      "Data lines read: 4800\n",
      "Reading file ../Data/Basketball/Edges.csv, begin...\n",
      "Data lines read: 146369\n",
      "Reading NBA vertices, begin...\n",
      "Vertices read: 4800\n",
      "Reading NBA edges, begin...\n",
      "Weights loaded correctly\n",
      "Edges read: 146369\n",
      "Loading succesfull\n",
      "Reading full Github graph, begin...\n",
      "Reading file ../Data/Github/nodes_wzab.csv, begin...\n",
      "Data lines read: 356\n",
      "Reading file ../Data/Github/edges_wzab.csv, begin...\n",
      "Data lines read: 5054\n",
      "Reading Github vertices, begin...\n",
      "Vertices read: 356\n",
      "Reading Github edges, begin...\n",
      "Edges read: 5054\n",
      "Reading full Github graph, begin...\n",
      "Reading file ../Data/Github/nodes_gagolews.csv, begin...\n",
      "Data lines read: 1391\n",
      "Reading file ../Data/Github/edges_gagolews.csv, begin...\n",
      "Data lines read: 21695\n",
      "Reading Github vertices, begin...\n",
      "Vertices read: 1391\n",
      "Reading Github edges, begin...\n",
      "Edges read: 21695\n"
     ]
    }
   ],
   "source": [
    "%run ocdlce_algorithm.ipynb\n",
    "\n",
    "g = read_nba_full(\"../Data/Basketball/Players.csv\",\n",
    "                  \"../Data/Basketball/Edges.csv\",\n",
    "                  False, True)\n",
    "\n",
    "all11_20 = [4524, 4418, 4778, 112, 3876, 1223, 2591, 3892, 614, 2889, 25, 4147, 3726, 1717, 1085, 2065, 2513, 955, 3311, 2542, 2938, 2004, 2177, 1517, 401, 2009, 3201, 266, 1620, 4393, 4396, 3719, 921, 1149, 1475, 4227, 44, 4278, 3159, 1038, 1113, 1929, 3429, 4432, 1125, 863, 1588, 2586,4198,115,2925,1459,2235,1794,415,1460,564,4168,2384,1142,3134,1849,2145,1945,3283,3669,1446,718,1031,1898,2577,2492,3502,620,3079,3672,1995,3383,4609,4090,65,2930,1504]\n",
    "nba11_20 = g.subgraph(all11_20)\n",
    "\n",
    "github = read_github_full(\"../Data/Github/nodes_wzab.csv\",\n",
    "                  \"../Data/Github/edges_wzab.csv\")\n",
    "\n",
    "\n",
    "github_huge = read_github_full(\"../Data/Github/nodes_gagolews.csv\",\n",
    "                  \"../Data/Github/edges_gagolews.csv\")"
   ]
  },
  {
   "cell_type": "code",
   "execution_count": 60,
   "metadata": {},
   "outputs": [],
   "source": [
    "def draw_basic_ocdlce(graph,output, alfa, beta):\n",
    "    g, com = step1(graph, False)\n",
    "    print(\"Communities after step1: \" + str(len(com)))\n",
    "    g, com = step2(g, com, alfa, beta)\n",
    "    print(\"Communities after step2: \" + str(len(com)))\n",
    "    g = step3(g, com, False)\n",
    "    plot_bfs(g, 0, 5, output, 2)"
   ]
  },
  {
   "cell_type": "code",
   "execution_count": 61,
   "metadata": {},
   "outputs": [],
   "source": [
    "def draw_basic_ocdlce_with_modularity_f(graph,output, alfa, beta):\n",
    "    g, com = step1(graph, True)\n",
    "    print(\"Communities after step1: \" + str(len(com)))\n",
    "    g, com = step2(g, com, alfa, beta)\n",
    "    print(\"Communities after step2: \" + str(len(com)))\n",
    "    g = step3(g, com, True)\n",
    "    plot_bfs(g, 0, 5, output, 2)"
   ]
  },
  {
   "cell_type": "code",
   "execution_count": 62,
   "metadata": {},
   "outputs": [],
   "source": [
    "def draw_modified_ocdlce(graph,output, alfa, beta):\n",
    "    g, com = step1_modified(graph, False)\n",
    "    print(\"Communities after step1: \" + str(len(com)))\n",
    "    g, com = step2(g, com, alfa, beta)\n",
    "    print(\"Communities after step2: \" + str(len(com)))\n",
    "    g = step3(g, com, False)\n",
    "    plot_bfs(g, 0, 5, output, 2)"
   ]
  },
  {
   "cell_type": "code",
   "execution_count": 63,
   "metadata": {},
   "outputs": [],
   "source": [
    "def draw_modified_ocdlce_with_modularity_f(graph,output, alfa, beta):\n",
    "    g, com = step1_modified(graph, True)\n",
    "    print(\"Communities after step1: \" + str(len(com)))\n",
    "    g, com = step2(g, com, alfa, beta)\n",
    "    print(\"Communities after step2: \" + str(len(com)))\n",
    "    g = step3(g, com, True)\n",
    "    plot_bfs(g, 0, 5, output, 2)"
   ]
  },
  {
   "cell_type": "code",
   "execution_count": null,
   "metadata": {},
   "outputs": [
    {
     "name": "stdout",
     "output_type": "stream",
     "text": [
      "basic ocdlce begin ...\n",
      "Communities after step1: 26\n",
      "Communities after step2: 24\n",
      "Running bfs with 5 depth, 83 vertices and 315 edges, begin...\n",
      "Created bfs clone with 50 vertices and 166 edges\n",
      "Plotting graph with 50 vertices and 166 edges, begin...\n",
      "Plotting sucessful\n",
      "basic ocdlce begin ...\n",
      "Communities after step1: 27\n",
      "Communities after step2: 24\n",
      "Running bfs with 5 depth, 83 vertices and 315 edges, begin...\n",
      "Created bfs clone with 50 vertices and 166 edges\n",
      "Plotting graph with 50 vertices and 166 edges, begin...\n",
      "Plotting sucessful\n",
      "modified ocdlce begin ...\n",
      "Communities after step1: 8\n",
      "Communities after step2: 7\n",
      "Running bfs with 5 depth, 83 vertices and 315 edges, begin...\n",
      "Created bfs clone with 50 vertices and 166 edges\n",
      "Plotting graph with 50 vertices and 166 edges, begin...\n",
      "Plotting sucessful\n",
      "modified ocdlce begin ...\n",
      "Communities after step1: 8\n",
      "Communities after step2: 7\n",
      "Running bfs with 5 depth, 83 vertices and 315 edges, begin...\n",
      "Created bfs clone with 50 vertices and 166 edges\n",
      "Plotting graph with 50 vertices and 166 edges, begin...\n",
      "Plotting sucessful\n",
      "basic ocdlce begin ...\n",
      "Communities after step1: 19\n",
      "Communities after step2: 17\n",
      "Running bfs with 5 depth, 356 vertices and 5054 edges, begin...\n",
      "Created bfs clone with 148 vertices and 2149 edges\n",
      "Plotting graph with 148 vertices and 2149 edges, begin...\n",
      "Plotting sucessful\n",
      "basic ocdlce begin ...\n",
      "Communities after step1: 18\n",
      "Communities after step2: 17\n",
      "Running bfs with 5 depth, 356 vertices and 5054 edges, begin...\n",
      "Created bfs clone with 148 vertices and 2149 edges\n",
      "Plotting graph with 148 vertices and 2149 edges, begin...\n",
      "Plotting sucessful\n",
      "modified ocdlce begin ...\n",
      "Communities after step1: 19\n",
      "Communities after step2: 17\n",
      "Running bfs with 5 depth, 356 vertices and 5054 edges, begin...\n",
      "Created bfs clone with 148 vertices and 2149 edges\n",
      "Plotting graph with 148 vertices and 2149 edges, begin...\n",
      "Plotting sucessful\n",
      "modified ocdlce begin ...\n",
      "Communities after step1: 18\n",
      "Communities after step2: 17\n",
      "Running bfs with 5 depth, 356 vertices and 5054 edges, begin...\n",
      "Created bfs clone with 148 vertices and 2149 edges\n",
      "Plotting graph with 148 vertices and 2149 edges, begin...\n",
      "Plotting sucessful\n",
      "basic ocdlce begin ...\n",
      "Communities after step1: 104\n",
      "Communities after step2: 85\n",
      "Running bfs with 5 depth, 1391 vertices and 21695 edges, begin...\n",
      "Created bfs clone with 892 vertices and 15553 edges\n",
      "Plotting graph with 892 vertices and 15553 edges, begin...\n",
      "Plotting sucessful\n",
      "basic ocdlce begin ...\n",
      "Communities after step1: 90\n",
      "Communities after step2: 84\n",
      "Running bfs with 5 depth, 1391 vertices and 21695 edges, begin...\n",
      "Created bfs clone with 892 vertices and 15553 edges\n",
      "Plotting graph with 892 vertices and 15553 edges, begin...\n",
      "Plotting sucessful\n",
      "modified ocdlce begin ...\n",
      "Communities after step1: 311\n",
      "Communities after step2: 92\n",
      "Running bfs with 5 depth, 1391 vertices and 21695 edges, begin...\n"
     ]
    }
   ],
   "source": [
    "#nba\n",
    "draw_basic_ocdlce(nba11_20, \"nba_basic_ocdlce.svg\", 0.5, 0.5)\n",
    "draw_basic_ocdlce_with_modularity_f(nba11_20, \"nba_basic_ocdlce_with_modularity_f.svg\", 0.5, 0.5)\n",
    "draw_modified_ocdlce(nba11_20, \"nba_modified_ocdlce.svg\", 0.5, 0.5)\n",
    "draw_modified_ocdlce_with_modularity_f(nba11_20, \"nba_modified_ocdlce_with_modularity_f.svg\", 0.5, 0.5)\n",
    "\n",
    "#github\n",
    "draw_basic_ocdlce(github, \"github_basic_ocdlce.svg\", 0.5, 0.5)\n",
    "draw_basic_ocdlce_with_modularity_f(github, \"github_basic_ocdlce_with_modularity_f.svg\", 0.5, 0.5)\n",
    "draw_modified_ocdlce(github, \"github_modified_ocdlce.svg\", 0.5, 0.5)\n",
    "draw_modified_ocdlce_with_modularity_f(github, \"github_modified_ocdlce_with_modularity_f.svg\", 0.5, 0.5)\n",
    "\n",
    "#github_huge\n",
    "draw_basic_ocdlce(github_huge, \"github_huge_basic_ocdlce.svg\", 0.5, 0.5)\n",
    "draw_basic_ocdlce_with_modularity_f(github_huge, \"github_huge_basic_ocdlce_with_modularity_f.svg\", 0.5, 0.5)\n",
    "draw_modified_ocdlce(github_huge, \"github_huge_modified_ocdlce.svg\", 0.5, 0.5)\n",
    "draw_modified_ocdlce_with_modularity_f(github_huge, \"github_huge_modified_ocdlce_with_modularity_f.svg\", 0.5, 0.5)\n"
   ]
  },
  {
   "cell_type": "code",
   "execution_count": null,
   "metadata": {},
   "outputs": [],
   "source": [
    "\n"
   ]
  }
 ],
 "metadata": {
  "kernelspec": {
   "display_name": "Python 3",
   "language": "python",
   "name": "python3"
  },
  "language_info": {
   "codemirror_mode": {
    "name": "ipython",
    "version": 3
   },
   "file_extension": ".py",
   "mimetype": "text/x-python",
   "name": "python",
   "nbconvert_exporter": "python",
   "pygments_lexer": "ipython3",
   "version": "3.6.9"
  }
 },
 "nbformat": 4,
 "nbformat_minor": 4
}
