{
 "cells": [
  {
   "cell_type": "code",
   "execution_count": null,
   "metadata": {},
   "outputs": [],
   "source": [
    "import numpy"
   ]
  },
  {
   "cell_type": "code",
   "execution_count": null,
   "metadata": {},
   "outputs": [],
   "source": [
    "%cd ..\n",
    "%run visualisation.ipynb\n",
    "%run common.ipynb\n",
    "\n",
    "#g = read_nba_full(\"../Data/Basketball/Players.csv\",\n",
    "#                  \"../Data/Basketball/Edges.csv\",\n",
    "#                  False, True)\n",
    "\n",
    "all11_20 = [4524, 4418, 4778, 112, 3876, 1223, 2591, 3892, 614, 2889, 25, 4147, 3726, 1717, 1085, 2065, 2513, 955, 3311, 2542, 2938, 2004, 2177, 1517, 401, 2009, 3201, 266, 1620, 4393, 4396, 3719, 921, 1149, 1475, 4227, 44, 4278, 3159, 1038, 1113, 1929, 3429, 4432, 1125, 863, 1588, 2586,4198,115,2925,1459,2235,1794,415,1460,564,4168,2384,1142,3134,1849,2145,1945,3283,3669,1446,718,1031,1898,2577,2492,3502,620,3079,3672,1995,3383,4609,4090,65,2930,1504]\n",
    "#nba11_20 = g.subgraph(all11_20)\n",
    "\n",
    "all15_20 = [4524, 4418, 4778, 112, 3876, 1223, 2591, 3892, 614, 2889, 25, 4147, 3726, 1717, 1085, 2065, 2513, 955, 3311, 2542, 2938, 2004, 2177, 1517, 401, 2009, 3201, 266, 1620, 4393, 4396, 3719, 921, 1149, 1475, 4227, 44, 4278, 3159, 1038, 1113, 1929, 3429, 4432, 1125, 863, 1588, 2586,4198,115,2925,1459,2235,1794,415,1460,564,4168,2384,1142]\n",
    "#nba15_20 = g.subgraph(all15_20)\n",
    "\n",
    "all19_20 = [4524, 4418, 4778, 112, 3876, 1223, 2591, 3892, 614, 2889, 25, 4147, 3726, 1717, 1085, 2065, 2513, 955, 3311, 2542, 2938, 2004, 2177, 1517, 401, 2009, 3201, 266, 1620, 4393, 4396, 3719, 921, 1149, 1475, 4227, 44, 4278, 3159]\n",
    "#nba19_20 = g.subgraph(all19_20)\n",
    "\n",
    "#github = read_github_full(\"../Data/Github/nodes_wzab.csv\",\n",
    "#                  \"../Data/Github/edges_wzab.csv\")"
   ]
  },
  {
   "cell_type": "code",
   "execution_count": null,
   "metadata": {},
   "outputs": [],
   "source": [
    "def mod(graph, community):\n",
    "    M_in = 0\n",
    "    M_out = 0\n",
    "    for node in community:\n",
    "        for edge_ind in graph.incident(node):\n",
    "            edge = graph.es[edge_ind]\n",
    "            if node == edge.target_vertex and node == edge.source_vertex:\n",
    "                continue\n",
    "            elif node == edge.target_vertex:\n",
    "                if edge.source_vertex in community:\n",
    "                    M_in+=1\n",
    "                else:\n",
    "                    M_out+=1\n",
    "            elif node  == edge.source_vertex:\n",
    "                if edge.target_vertex in community:\n",
    "                    M_in+=1\n",
    "                else:\n",
    "                    M_out+=1\n",
    "    if M_out == 0:\n",
    "        return len(graph.vs) + 1\n",
    "    return M_in / 2 / M_out"
   ]
  },
  {
   "cell_type": "code",
   "execution_count": null,
   "metadata": {},
   "outputs": [],
   "source": [
    "def mod_f(graph, community, alpha):\n",
    "    M_in = 0\n",
    "    M_out = 0\n",
    "    for node in community:\n",
    "        edges = graph.incident(node)\n",
    "        for e in edges:\n",
    "            edge = graph.es[e]\n",
    "            if node == edge.target_vertex and node == edge.source_vertex:\n",
    "                print(\"Warn - out vertex equals current vertex\")\n",
    "            elif node == edge.target_vertex:\n",
    "                if edge.source_vertex in community:\n",
    "                    M_in+=1\n",
    "                else:\n",
    "                    M_out+=1\n",
    "            elif node == edge.source_vertex:\n",
    "                if edge.target_vertex in community:\n",
    "                    M_in+=1\n",
    "                else:\n",
    "                    M_out+=1\n",
    "    if M_in == 0 and M_out == 0:\n",
    "        return 0\n",
    "    \n",
    "    return M_in / pow(M_in + M_out, alpha)"
   ]
  },
  {
   "cell_type": "code",
   "execution_count": null,
   "metadata": {
    "pixiedust": {
     "displayParams": {}
    }
   },
   "outputs": [],
   "source": [
    "def step1(graph, other_modularity):\n",
    "    print(\"basic ocdlce begin ...\")\n",
    "    communities = []\n",
    "    for v in graph.vs:\n",
    "        v[\"communities\"] = []\n",
    "    for u in graph.vs:\n",
    "        for v in graph.neighbors(u):\n",
    "            v = graph.vs[v]\n",
    "            if len(set(u[\"communities\"]).intersection(v[\"communities\"])) == 0:\n",
    "                tmp_comm = [u,v]\n",
    "                NC = list(set(graph.vs[graph.neighbors(v)]).intersection(graph.vs[graph.neighbors(u)]))\n",
    "                if len(NC) > 2:\n",
    "                    for node in NC:\n",
    "                        if other_modularity:\n",
    "                            if  mod_f(graph, tmp_comm + [node], 0.5) > mod_f(graph, tmp_comm, 0.5):\n",
    "                                tmp_comm = tmp_comm + [node]\n",
    "                        else:                            \n",
    "                            if mod(graph, tmp_comm + [node]) > mod(graph, tmp_comm):\n",
    "                                tmp_comm = tmp_comm + [node]\n",
    "                if len(tmp_comm) > 4:\n",
    "                    id = len(communities)+1\n",
    "                    communities.append({\"nodes\": tmp_comm, \"id\": id })\n",
    "                    for node in tmp_comm:\n",
    "                        node[\"communities\"].append(id)\n",
    "\n",
    "    return graph, communities\n"
   ]
  },
  {
   "cell_type": "code",
   "execution_count": null,
   "metadata": {},
   "outputs": [],
   "source": [
    "def step1_modified(graph, other_modularity):\n",
    "    print(\"modified ocdlce begin ...\")\n",
    "    communities = []\n",
    "    for v in graph.vs:\n",
    "        v[\"communities\"] = []\n",
    "    i=0\n",
    "    for u in graph.vs:\n",
    "        for v in graph.neighbors(u):\n",
    "            v = graph.vs[v]\n",
    "            if len(set(u[\"communities\"]).intersection(v[\"communities\"])) == 0:\n",
    "                for w in graph.neighbors(u):\n",
    "                    w = graph.vs[w]\n",
    "                    if w!=v and len(set(w[\"communities\"]).intersection(v[\"communities\"])) == 0 and len(set(w[\"communities\"]).intersection(u[\"communities\"])) == 0:\n",
    "                        tmp_comm = [u,v,w]\n",
    "                        NC = list(set(graph.vs[graph.neighbors(v)]).intersection(graph.vs[graph.neighbors(u)]))\n",
    "                        NC = list(set(NC).intersection(graph.vs[graph.neighbors(w)]))\n",
    "                        if len(NC) > 2:\n",
    "                            for node in NC:\n",
    "                                if other_modularity:\n",
    "                                    if mod_f(graph, tmp_comm + [node], 0.5) > mod_f(graph, tmp_comm,0.5):\n",
    "                                        tmp_comm = tmp_comm + [node]\n",
    "                                else:                            \n",
    "                                    if mod(graph, tmp_comm + [node]) > mod(graph, tmp_comm):\n",
    "                                        tmp_comm = tmp_comm + [node]\n",
    "                        if len(tmp_comm) > 4:\n",
    "                            id = len(communities)+1\n",
    "                            communities.append({\"nodes\": tmp_comm, \"id\": id })\n",
    "                            for node in tmp_comm:\n",
    "                                node[\"communities\"].append(id)\n",
    "                            continue\n",
    "\n",
    "\n",
    "    return graph, communities"
   ]
  },
  {
   "cell_type": "code",
   "execution_count": null,
   "metadata": {},
   "outputs": [],
   "source": [
    "def E_in(graph, nodes):\n",
    "    edges = []\n",
    "    for node in nodes:\n",
    "        inc_edges = graph.incident(node)\n",
    "        for e in inc_edges:\n",
    "            edge = graph.es[e]\n",
    "            if node == edge.target_vertex and node == edge.source_vertex:\n",
    "                print(\"Warn - out vertex equals current vertex\")\n",
    "            elif node == edge.target_vertex:\n",
    "                if edge.source_vertex in nodes:\n",
    "                    edges.append(edge)\n",
    "            elif node == edge.source_vertex:\n",
    "                if edge.target_vertex in nodes:\n",
    "                    edges.append(edge)\n",
    "    return edges"
   ]
  },
  {
   "cell_type": "code",
   "execution_count": null,
   "metadata": {},
   "outputs": [],
   "source": [
    "def WOS(graph, com1, com2, alfa, beta):\n",
    "    v = len(set(com1[\"nodes\"]).intersection(com2[\"nodes\"]))\n",
    "    min_v = min(len(com1[\"nodes\"]),len(com2[\"nodes\"]))\n",
    "    e1 = E_in(graph, com1[\"nodes\"])\n",
    "    e2 = E_in(graph, com2[\"nodes\"])\n",
    "    e = len(set(e1).intersection(e2))\n",
    "    min_e = min(len(e1),len(e2))\n",
    "    res = alfa * v / min_v + (1-alfa)*e/min_e >= beta\n",
    "    return res"
   ]
  },
  {
   "cell_type": "code",
   "execution_count": null,
   "metadata": {},
   "outputs": [],
   "source": [
    "def Union(graph, all_coms, com, alfa, beta):\n",
    "    res = []\n",
    "    for c in all_coms:\n",
    "        if c[\"id\"] != com[\"id\"]:\n",
    "            if WOS(graph, c, com, alfa, beta):\n",
    "                res.append(c)\n",
    "    return res"
   ]
  },
  {
   "cell_type": "code",
   "execution_count": null,
   "metadata": {},
   "outputs": [],
   "source": [
    "def step2(graph, local_communities, alfa, beta):\n",
    "    C = local_communities\n",
    "    for com in C:\n",
    "        res = Union(graph, C, com, alfa, beta)\n",
    "        for c in res:\n",
    "            for node in c[\"nodes\"]:\n",
    "                node[\"communities\"].remove(c[\"id\"])\n",
    "                if com[\"id\"] not in node[\"communities\"]:\n",
    "                    node[\"communities\"].append(com[\"id\"])\n",
    "            C.remove(c)\n",
    "    return graph, C"
   ]
  },
  {
   "cell_type": "code",
   "execution_count": null,
   "metadata": {},
   "outputs": [],
   "source": [
    "def step3(graph, local_communities,  other_modularity):\n",
    "    for v in graph.vs:\n",
    "        if len(v[\"communities\"]) == 0:\n",
    "            coms = []\n",
    "            for u in graph.neighbors(v):\n",
    "                node = graph.vs[u]\n",
    "                coms =  list(set(coms).union(node[\"communities\"]))\n",
    "            for com in coms:\n",
    "                c = next(item for item in local_communities if item[\"id\"] == com)\n",
    "                if other_modularity:\n",
    "                    if mod_f(graph, c[\"nodes\"] + [v], 0.5) > mod_f(graph, c[\"nodes\"], 0.5):\n",
    "                        v[\"communities\"].append(c[\"id\"])\n",
    "                        c[\"nodes\"] = c[\"nodes\"] + [v]\n",
    "                else:                            \n",
    "                    if mod(graph, c[\"nodes\"] + [v]) > mod(graph, c[\"nodes\"]):\n",
    "                        v[\"communities\"].append(c[\"id\"])\n",
    "                        c[\"nodes\"] = c[\"nodes\"] + [v]\n",
    "\n",
    "    return graph\n"
   ]
  },
  {
   "cell_type": "markdown",
   "metadata": {},
   "source": [
    "## Benchmarks"
   ]
  },
  {
   "cell_type": "code",
   "execution_count": null,
   "metadata": {},
   "outputs": [],
   "source": [
    "def my_basic_ocdlce(graph):\n",
    "    g, com = step1(graph, False)\n",
    "    g, com = step2(g, com, 0.5, 0.5)\n",
    "    g = step3(g,com, False)"
   ]
  },
  {
   "cell_type": "code",
   "execution_count": null,
   "metadata": {},
   "outputs": [],
   "source": [
    "def my_modified_basic_ocdlce(graph):\n",
    "    g, com = step1_modified(graph, False)\n",
    "    g, com = step2(g, com, 0.5, 0.5)\n",
    "    g = step3(g,com, False)"
   ]
  },
  {
   "cell_type": "code",
   "execution_count": null,
   "metadata": {},
   "outputs": [],
   "source": [
    "def my_basic_ocdlce_with_modularity_f(graph):\n",
    "    g, com = step1(graph, True)\n",
    "    g, com = step2(g, com, 0.5, 0.5)\n",
    "    g = step3(g,com,True)"
   ]
  },
  {
   "cell_type": "code",
   "execution_count": null,
   "metadata": {},
   "outputs": [],
   "source": [
    "def my_modified_ocdlce_with_modularity_f(graph):\n",
    "    g, com = step1_modified(graph, True)\n",
    "    g, com = step2(g, com, 0.5, 0.5)\n",
    "    g = step3(g,com,True)"
   ]
  },
  {
   "cell_type": "code",
   "execution_count": null,
   "metadata": {},
   "outputs": [],
   "source": [
    "def perform_full_benchmark_ocdlce(max_vertices):\n",
    "    perform_default_benchmark(my_basic_ocdlce, 'my-basic-ocdlce-benchmark.txt', max_vertices)\n",
    "    perform_default_benchmark(my_basic_ocdlce, 'my-modified-ocdlce-benchmark.txt', max_vertices)\n",
    "    perform_default_benchmark(my_basic_ocdlce, 'my-basic-ocdlce-with-modularity-f-benchmark.txt', max_vertices)\n",
    "    perform_default_benchmark(my_basic_ocdlce, 'my-modified-ocdlce-with-modularity-f-benchmark.txt', max_vertices)\n"
   ]
  },
  {
   "cell_type": "code",
   "execution_count": null,
   "metadata": {},
   "outputs": [],
   "source": []
  }
 ],
 "metadata": {
  "kernelspec": {
   "display_name": "Python 3",
   "language": "python",
   "name": "python3"
  },
  "language_info": {
   "codemirror_mode": {
    "name": "ipython",
    "version": 3
   },
   "file_extension": ".py",
   "mimetype": "text/x-python",
   "name": "python",
   "nbconvert_exporter": "python",
   "pygments_lexer": "ipython3",
   "version": "3.6.9"
  }
 },
 "nbformat": 4,
 "nbformat_minor": 4
}
