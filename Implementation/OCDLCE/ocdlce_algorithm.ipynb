{
 "cells": [
  {
   "cell_type": "code",
   "execution_count": 33,
   "metadata": {},
   "outputs": [],
   "source": [
    "#import pixiedust\n",
    "import numpy"
   ]
  },
  {
   "cell_type": "code",
   "execution_count": 34,
   "metadata": {},
   "outputs": [
    {
     "name": "stdout",
     "output_type": "stream",
     "text": [
      "/home/bartek/Pulpit/community-detection/Implementation\n",
      "Reading full NBA graph, begin...\n",
      "Reading file ../Data/Basketball/Players.csv, begin...\n",
      "Data lines read: 4800\n",
      "Reading file ../Data/Basketball/Edges.csv, begin...\n",
      "Data lines read: 146369\n",
      "Reading NBA vertices, begin...\n",
      "Vertices read: 4800\n",
      "Reading NBA edges, begin...\n",
      "Weights loaded correctly\n",
      "Edges read: 146369\n",
      "Loading succesfull\n",
      "Reading full Filmweb graph, begin...\n",
      "Reading file ../Data/Filmweb/allActors.csv, begin...\n",
      "Data lines read: 10000\n",
      "Reading file ../Data/Filmweb/allActorsRelation.csv, begin...\n",
      "Data lines read: 190031\n",
      "Reading Filmweb vertices, begin...\n",
      "Vertices read: 10000\n",
      "Reading Filmweb edges, begin...\n",
      "Edges read: 190031\n",
      "Loading succesfull\n"
     ]
    }
   ],
   "source": [
    "%cd .\n",
    "%run visualisation.ipynb\n",
    "%run read_graph.ipynb\n",
    "\n",
    "g = read_nba_full(\"../Data/Basketball/Players.csv\",\n",
    "                  \"../Data/Basketball/Edges.csv\",\n",
    "                  False, True)\n",
    "\n",
    "all11_20 = [4524, 4418, 4778, 112, 3876, 1223, 2591, 3892, 614, 2889, 25, 4147, 3726, 1717, 1085, 2065, 2513, 955, 3311, 2542, 2938, 2004, 2177, 1517, 401, 2009, 3201, 266, 1620, 4393, 4396, 3719, 921, 1149, 1475, 4227, 44, 4278, 3159, 1038, 1113, 1929, 3429, 4432, 1125, 863, 1588, 2586,4198,115,2925,1459,2235,1794,415,1460,564,4168,2384,1142,3134,1849,2145,1945,3283,3669,1446,718,1031,1898,2577,2492,3502,620,3079,3672,1995,3383,4609,4090,65,2930,1504]\n",
    "nba11_20 = g.subgraph(all11_20)\n",
    "\n",
    "all15_20 = [4524, 4418, 4778, 112, 3876, 1223, 2591, 3892, 614, 2889, 25, 4147, 3726, 1717, 1085, 2065, 2513, 955, 3311, 2542, 2938, 2004, 2177, 1517, 401, 2009, 3201, 266, 1620, 4393, 4396, 3719, 921, 1149, 1475, 4227, 44, 4278, 3159, 1038, 1113, 1929, 3429, 4432, 1125, 863, 1588, 2586,4198,115,2925,1459,2235,1794,415,1460,564,4168,2384,1142]\n",
    "nba15_20 = g.subgraph(all15_20)\n",
    "\n",
    "all19_20 = [4524, 4418, 4778, 112, 3876, 1223, 2591, 3892, 614, 2889, 25, 4147, 3726, 1717, 1085, 2065, 2513, 955, 3311, 2542, 2938, 2004, 2177, 1517, 401, 2009, 3201, 266, 1620, 4393, 4396, 3719, 921, 1149, 1475, 4227, 44, 4278, 3159]\n",
    "nba19_20 = g.subgraph(all19_20)\n",
    "\n",
    "filmweb = read_filmweb_full(\"../Data/Filmweb/allActors.csv\",\n",
    "                  \"../Data/Filmweb/allActorsRelation.csv\",\n",
    "                  False, False, False, False)"
   ]
  },
  {
   "cell_type": "code",
   "execution_count": 42,
   "metadata": {},
   "outputs": [],
   "source": [
    "def modularity(graph, community):\n",
    "    M_in = 0\n",
    "    M_out = 0\n",
    "    for node in community:\n",
    "        edges = graph.incident(node)\n",
    "        for e in edges:\n",
    "            edge = graph.es[e]\n",
    "            if node == edge.target_vertex and node == edge.source_vertex:\n",
    "                print(\"Warn - out vertex equals current vertex\")\n",
    "            elif node == edge.target_vertex:\n",
    "                if edge.source_vertex in community:\n",
    "                    M_in+=1\n",
    "                else:\n",
    "                    M_out+=1\n",
    "            elif node == edge.source_vertex:\n",
    "                if edge.target_vertex in community:\n",
    "                    M_in+=1\n",
    "                else:\n",
    "                    M_out+=1\n",
    "    if M_out == 0:\n",
    "        return -1\n",
    "    return M_in / 2 / M_out\n"
   ]
  },
  {
   "cell_type": "code",
   "execution_count": 43,
   "metadata": {
    "pixiedust": {
     "displayParams": {}
    }
   },
   "outputs": [],
   "source": [
    "def step1(graph):\n",
    "    print(\"basic ocdlce begin ...\")\n",
    "    communities = []\n",
    "    for v in graph.vs:\n",
    "        v[\"communities\"] = []\n",
    "    for u in graph.vs:\n",
    "        for v in graph.vs:\n",
    "            if len(set(u[\"communities\"]).intersection(v[\"communities\"])) == 0 and u!=v:\n",
    "                tmp_comm = [u,v]\n",
    "                NC = list(set(graph.vs[graph.neighbors(v)]).union(graph.vs[graph.neighbors(u)]))\n",
    "                if len(NC) > 2:\n",
    "                    for node in NC:\n",
    "                        if modularity(graph, tmp_comm + [node]) > modularity(graph, tmp_comm):\n",
    "                            tmp_comm = tmp_comm + [node]\n",
    "                if len(tmp_comm) > 4:\n",
    "                    id = len(communities)+1\n",
    "                    communities.append({\"nodes\": tmp_comm, \"id\": id })\n",
    "                    for node in tmp_comm:\n",
    "                        node[\"communities\"].append(id)\n",
    "    return graph, communities\n"
   ]
  },
  {
   "cell_type": "code",
   "execution_count": 44,
   "metadata": {},
   "outputs": [],
   "source": [
    "def draw_basic_ocdlce(graph,output):\n",
    "    g, com = step1(graph)\n",
    "    plot_full(g, output, 20)"
   ]
  },
  {
   "cell_type": "code",
   "execution_count": 45,
   "metadata": {
    "pixiedust": {
     "displayParams": {}
    }
   },
   "outputs": [],
   "source": [
    "draw_basic_ocdlce(nba11_20, \"ocdlce.svg\")"
   ]
  },
  {
   "cell_type": "code",
   "execution_count": 46,
   "metadata": {},
   "outputs": [],
   "source": [
    "def E_in(nodes):\n",
    "    edges = []\n",
    "    for node in nodes:\n",
    "        for edge in node.all_edges():\n",
    "            if node == edge.target_vertex and node == edge.source_vertex:\n",
    "                print(\"Warn - out vertex equals current vertex\")\n",
    "            elif node == edge.target_vertex:\n",
    "                if edge.source_vertex in nodes:\n",
    "                    edges.append(edge)\n",
    "            elif node == edge.source_vertex:\n",
    "                if edge.target_vertex in nodes:\n",
    "                    edges.append(edge)\n",
    "    return edges"
   ]
  },
  {
   "cell_type": "code",
   "execution_count": 47,
   "metadata": {},
   "outputs": [],
   "source": [
    "def WOS(graph, com1, com2, alfa, beta):\n",
    "    v = len(set(com1[\"nodes\"]).intersection(com2[\"nodes\"]))\n",
    "    min_v = min(len(com1[\"nodes\"]),len(com2[\"nodes\"]))\n",
    "    e1 = E_in(com1[\"nodes\"])\n",
    "    e2 = E_in(com2[\"nodes\"])\n",
    "    e = len(set(e1).intersection(e2))\n",
    "    min_e = min(len(e1),len(e2))\n",
    "    res = alfa * v / min_v + (1-alfa)*e/min_e >= beta\n",
    "    return res"
   ]
  },
  {
   "cell_type": "code",
   "execution_count": 48,
   "metadata": {},
   "outputs": [],
   "source": [
    "def Union(graph, all_coms, com, alfa, beta):\n",
    "    res = []\n",
    "    for c in all_coms:\n",
    "        if c[\"id\"] != com[\"id\"]:\n",
    "            if WOS(graph, c, com, alfa, beta):\n",
    "                res.append(c)\n",
    "    return res"
   ]
  },
  {
   "cell_type": "code",
   "execution_count": 49,
   "metadata": {},
   "outputs": [],
   "source": [
    "def step2(graph, local_communities, alfa, beta):\n",
    "    C = local_communities\n",
    "    for com in C:\n",
    "        res = Union(graph, C, com, alfa, beta)\n",
    "        for c in res:\n",
    "            for node in c[\"nodes\"]:\n",
    "                node[\"communities\"].remove(c[\"id\"])\n",
    "                if com[\"id\"] not in node[\"communities\"]:\n",
    "                    node[\"communities\"].append(com[\"id\"])\n",
    "            C.remove(c)\n",
    "    return graph, C"
   ]
  },
  {
   "cell_type": "code",
   "execution_count": 50,
   "metadata": {},
   "outputs": [],
   "source": [
    "def draw_merged_ocdlce(graph,output, alfa, beta):\n",
    "    g, com = step1(graph)\n",
    "    print(\"Communities after step1: \" + str(len(com)))\n",
    "    g, com = step2(g, com, alfa, beta)\n",
    "    print(\"Communities after step2: \" + str(len(com)))\n",
    "    plot_full(g, output, 20)"
   ]
  },
  {
   "cell_type": "code",
   "execution_count": 51,
   "metadata": {},
   "outputs": [],
   "source": [
    "def step3(graph):\n",
    "    for v in graph.vs:\n",
    "        if len(v[\"communities\"]) == 0:\n",
    "            print(\"ok\")\n",
    "            coms = {}\n",
    "            for u in graph.neighbors(v):\n",
    "                coms = coms.union(graph.vs[graph.neighbors(u)][\"communities\"])\n",
    "            for com in coms:\n",
    "                if modularity(graph, com + [v]) > modularity(graph, com):\n",
    "                    v[\"communities\"].append(com[\"id\"])\n",
    "    return graph\n"
   ]
  },
  {
   "cell_type": "code",
   "execution_count": 52,
   "metadata": {},
   "outputs": [
    {
     "name": "stdout",
     "output_type": "stream",
     "text": [
      "basic ocdlce begin ...\n",
      "Communities after step1: 239\n",
      "Communities after step2: 64\n",
      "Plotting graph with 83 vertices and 315 edges, begin...\n",
      "Plotting sucessful\n"
     ]
    }
   ],
   "source": [
    "draw_merged_ocdlce(nba11_20, \"ocdlce2.svg\", 0.5, 0.5)"
   ]
  },
  {
   "cell_type": "code",
   "execution_count": null,
   "metadata": {},
   "outputs": [],
   "source": [
    "def draw_full_ocdlce(graph,output, alfa, beta):\n",
    "    g, com = step1(graph)\n",
    "    print(\"Communities after step1: \" + str(len(com)))\n",
    "    g, com = step2(g, com, alfa, beta)\n",
    "    print(\"Communities after step2: \" + str(len(com)))\n",
    "    g = step3(g)\n",
    "    plot_full(g, output, 20)"
   ]
  },
  {
   "cell_type": "code",
   "execution_count": null,
   "metadata": {},
   "outputs": [],
   "source": [
    "draw_full_ocdlce(filmweb, \"filmweb.svg\", 0.5, 0.5)"
   ]
  },
  {
   "cell_type": "code",
   "execution_count": null,
   "metadata": {},
   "outputs": [],
   "source": []
  }
 ],
 "metadata": {
  "kernelspec": {
   "display_name": "Python 3",
   "language": "python",
   "name": "python3"
  },
  "language_info": {
   "codemirror_mode": {
    "name": "ipython",
    "version": 3
   },
   "file_extension": ".py",
   "mimetype": "text/x-python",
   "name": "python",
   "nbconvert_exporter": "python",
   "pygments_lexer": "ipython3",
   "version": "3.6.9"
  }
 },
 "nbformat": 4,
 "nbformat_minor": 4
}
