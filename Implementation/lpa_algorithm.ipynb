{
 "cells": [
  {
   "cell_type": "code",
   "execution_count": null,
   "metadata": {},
   "outputs": [],
   "source": [
    "%run visualisation.ipynb\n",
    "%run read_graph.ipynb\n",
    "\n",
    "g = read_nba_full(\"../Scrapers/BasketballReferenceScraper/data/Players.csv\",\n",
    "                  \"../Scrapers/BasketballReferenceScraper/data/Edges.csv\",\n",
    "                  False, True)\n",
    "\n",
    "all181920 = [4524, 4418, 4778, 112, 3876, 1223, 2591, 3892, 614, 2889, 25, 4147, 3726, 1717, 1085, 2065, 2513, 955, 3311, 2542, 2938, 2004, 2177, 1517, 401, 2009, 3201, 266, 1620, 4393, 4396, 3719, 921, 1149, 1475, 4227, 44, 4278, 3159, 1038, 1113, 1929, 3429, 4432, 1125, 863, 1588]\n",
    "nba = g.subgraph(all181920)"
   ]
  },
  {
   "cell_type": "code",
   "execution_count": null,
   "metadata": {},
   "outputs": [],
   "source": [
    "result = nba.community_label_propagation()\n",
    "resultArray = result.membership\n",
    "i = 0\n",
    "for v in nba.vs:\n",
    "    v[\"communities\"] = [resultArray[i]]\n",
    "    i += 1\n",
    "\n",
    "plot_full(nba, \"lpa_allstars_181920.svg\", 1)"
   ]
  },
  {
   "cell_type": "code",
   "execution_count": null,
   "metadata": {},
   "outputs": [],
   "source": []
  }
 ],
 "metadata": {
  "kernelspec": {
   "display_name": "Python 3",
   "language": "python",
   "name": "python3"
  },
  "language_info": {
   "codemirror_mode": {
    "name": "ipython",
    "version": 3
   },
   "file_extension": ".py",
   "mimetype": "text/x-python",
   "name": "python",
   "nbconvert_exporter": "python",
   "pygments_lexer": "ipython3",
   "version": "3.7.6"
  }
 },
 "nbformat": 4,
 "nbformat_minor": 4
}
