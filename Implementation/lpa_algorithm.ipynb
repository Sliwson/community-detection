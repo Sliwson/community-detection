{
 "cells": [
  {
   "cell_type": "code",
   "execution_count": 1,
   "metadata": {},
   "outputs": [
    {
     "name": "stdout",
     "output_type": "stream",
     "text": [
      "Pixiedust database opened successfully\n"
     ]
    },
    {
     "data": {
      "text/html": [
       "\n",
       "        <div style=\"margin:10px\">\n",
       "            <a href=\"https://github.com/ibm-watson-data-lab/pixiedust\" target=\"_new\">\n",
       "                <img src=\"https://github.com/ibm-watson-data-lab/pixiedust/raw/master/docs/_static/pd_icon32.png\" style=\"float:left;margin-right:10px\"/>\n",
       "            </a>\n",
       "            <span>Pixiedust version 1.1.18</span>\n",
       "        </div>\n",
       "        "
      ],
      "text/plain": [
       "<IPython.core.display.HTML object>"
      ]
     },
     "metadata": {},
     "output_type": "display_data"
    },
    {
     "name": "stdout",
     "output_type": "stream",
     "text": [
      "Reading full NBA graph, begin...\n",
      "Reading file ../Scrapers/BasketballReferenceScraper/data/Players.csv, begin...\n",
      "Data lines read: 4800\n",
      "Reading file ../Scrapers/BasketballReferenceScraper/data/Edges.csv, begin...\n",
      "Data lines read: 146369\n",
      "Reading NBA vertices, begin...\n",
      "Vertices read: 4800\n",
      "Reading NBA edges, begin...\n",
      "Weights loaded correctly\n",
      "Edges read: 146369\n",
      "Loading succesfull\n"
     ]
    }
   ],
   "source": [
    "%run visualisation.ipynb\n",
    "%run read_graph.ipynb\n",
    "\n",
    "import pixiedust\n",
    "\n",
    "g = read_nba_full(\"../Scrapers/BasketballReferenceScraper/data/Players.csv\",\n",
    "                  \"../Scrapers/BasketballReferenceScraper/data/Edges.csv\",\n",
    "                  True, True)\n",
    "\n",
    "all11_20 = [4524, 4418, 4778, 112, 3876, 1223, 2591, 3892, 614, 2889, 25, 4147, 3726, 1717, 1085, 2065, 2513, 955, 3311, 2542, 2938, 2004, 2177, 1517, 401, 2009, 3201, 266, 1620, 4393, 4396, 3719, 921, 1149, 1475, 4227, 44, 4278, 3159, 1038, 1113, 1929, 3429, 4432, 1125, 863, 1588, 2586,4198,115,2925,1459,2235,1794,415,1460,564,4168,2384,1142,3134,1849,2145,1945,3283,3669,1446,718,1031,1898,2577,2492,3502,620,3079,3672,1995,3383,4609,4090,65,2930,1504]\n",
    "nba11_20 = g.subgraph(all11_20)\n",
    "\n",
    "all15_20 = [4524, 4418, 4778, 112, 3876, 1223, 2591, 3892, 614, 2889, 25, 4147, 3726, 1717, 1085, 2065, 2513, 955, 3311, 2542, 2938, 2004, 2177, 1517, 401, 2009, 3201, 266, 1620, 4393, 4396, 3719, 921, 1149, 1475, 4227, 44, 4278, 3159, 1038, 1113, 1929, 3429, 4432, 1125, 863, 1588, 2586,4198,115,2925,1459,2235,1794,415,1460,564,4168,2384,1142]\n",
    "nba15_20 = g.subgraph(all15_20)\n",
    "\n",
    "all19_20 = [4524, 4418, 4778, 112, 3876, 1223, 2591, 3892, 614, 2889, 25, 4147, 3726, 1717, 1085, 2065, 2513, 955, 3311, 2542, 2938, 2004, 2177, 1517, 401, 2009, 3201, 266, 1620, 4393, 4396, 3719, 921, 1149, 1475, 4227, 44, 4278, 3159]\n",
    "nba19_20 = g.subgraph(all19_20)"
   ]
  },
  {
   "cell_type": "code",
   "execution_count": 2,
   "metadata": {},
   "outputs": [],
   "source": [
    "def build_lpa(graph, output):\n",
    "    result = graph.community_label_propagation()\n",
    "    resultArray = result.membership\n",
    "    i = 0\n",
    "    for v in graph.vs:\n",
    "        v[\"communities\"] = [resultArray[i]]\n",
    "        i += 1\n",
    "\n",
    "    plot_full(graph, output, 1)"
   ]
  },
  {
   "cell_type": "code",
   "execution_count": 3,
   "metadata": {},
   "outputs": [
    {
     "name": "stdout",
     "output_type": "stream",
     "text": [
      "Plotting graph with 83 vertices and 315 edges, begin...\n",
      "Plotting sucessful\n",
      "Plotting graph with 60 vertices and 133 edges, begin...\n",
      "Plotting sucessful\n",
      "Plotting graph with 39 vertices and 38 edges, begin...\n",
      "Plotting sucessful\n"
     ]
    }
   ],
   "source": [
    "build_lpa(nba11_20, \"all_stars_1120.svg\")\n",
    "build_lpa(nba15_20, \"all_stars_1520.svg\")\n",
    "build_lpa(nba19_20, \"all_stars_1920.svg\")"
   ]
  },
  {
   "cell_type": "code",
   "execution_count": 60,
   "metadata": {
    "pixiedust": {
     "displayParams": {}
    }
   },
   "outputs": [],
   "source": [
    "def my_basic_lpa(graph, output):\n",
    "    counters = []\n",
    "    vertices_count = len(graph.vs)\n",
    "    \n",
    "    i = 0\n",
    "    for v in graph.vs:\n",
    "        v[\"communities\"] = [i]\n",
    "        i += 1\n",
    "        counters.append(0)\n",
    "    \n",
    "    convergence = False\n",
    "    iteration = 0\n",
    "    while convergence == False and iteration < 20:\n",
    "        iteration += 1\n",
    "        convergence = True\n",
    "        \n",
    "        for idx in range(vertices_count):\n",
    "            counters[idx] = 0\n",
    "            \n",
    "        for v in graph.vs:\n",
    "            com = v[\"communities\"][0]\n",
    "            counters[com] += 1\n",
    "            \n",
    "        unique = sum(1 if counter > 0 else 0 for counter in counters)\n",
    "        print(\"Iteration \" + str(iteration) + \",communities \" + str(unique))\n",
    "\n",
    "        for v in graph.vs:\n",
    "            current_community = v[\"communities\"][0]   \n",
    "            \n",
    "            #clear counters\n",
    "            for idx in range(vertices_count):\n",
    "                counters[idx] = 0\n",
    "            \n",
    "            for e in v.all_edges():     \n",
    "                if v == e.target_vertex and v == e.source_vertex:\n",
    "                    print(\"Warn - out vertex equals current vertex\")\n",
    "                elif v != e.target_vertex:\n",
    "                    com = e.target_vertex[\"communities\"][0]\n",
    "                    counters[com] += 1\n",
    "                elif v != e.source_vertex:\n",
    "                    com = e.source_vertex[\"communities\"][0]\n",
    "                    counters[com] += 1\n",
    "                    \n",
    "            if sum(counters) != v.degree():\n",
    "                print(\"Warn: sum = \" + str(sum(counters)) + \" degree = \" + str(v.degree()))\n",
    "                \n",
    "            max_value = max(counters)\n",
    "            max_indices = []\n",
    "            \n",
    "            for k in range(vertices_count):\n",
    "                if (counters[k] == max_value):\n",
    "                    max_indices.append(k)\n",
    "            \n",
    "            winner_idx = max_indices[random.randrange(len(max_indices))]\n",
    "        \n",
    "            if current_community in max_indices:\n",
    "                winner_idx = current_community\n",
    "                \n",
    "            if winner_idx != current_community:\n",
    "                convergence = False\n",
    "                \n",
    "            v[\"communities\"] = [winner_idx]\n",
    "            \n",
    "    plot_full(graph, output, 1.5)"
   ]
  },
  {
   "cell_type": "code",
   "execution_count": 61,
   "metadata": {
    "pixiedust": {
     "displayParams": {}
    }
   },
   "outputs": [
    {
     "name": "stdout",
     "output_type": "stream",
     "text": [
      "Iteration 1,communities 83\n",
      "Iteration 2,communities 22\n",
      "Iteration 3,communities 16\n",
      "Iteration 4,communities 11\n",
      "Iteration 5,communities 7\n",
      "Iteration 6,communities 4\n",
      "Plotting graph with 83 vertices and 315 edges, begin...\n",
      "Plotting sucessful\n",
      "Iteration 1,communities 60\n",
      "Iteration 2,communities 18\n",
      "Iteration 3,communities 13\n",
      "Iteration 4,communities 12\n",
      "Plotting graph with 60 vertices and 133 edges, begin...\n",
      "Plotting sucessful\n",
      "Iteration 1,communities 39\n",
      "Iteration 2,communities 16\n",
      "Iteration 3,communities 16\n",
      "Plotting graph with 39 vertices and 38 edges, begin...\n",
      "Plotting sucessful\n"
     ]
    }
   ],
   "source": [
    "my_basic_lpa(nba11_20, \"all_stars_my_1120.svg\")\n",
    "my_basic_lpa(nba15_20, \"all_stars_my_1520.svg\")\n",
    "my_basic_lpa(nba19_20, \"all_stars_my_1920.svg\")"
   ]
  },
  {
   "cell_type": "code",
   "execution_count": null,
   "metadata": {},
   "outputs": [],
   "source": []
  },
  {
   "cell_type": "code",
   "execution_count": null,
   "metadata": {},
   "outputs": [],
   "source": []
  }
 ],
 "metadata": {
  "kernelspec": {
   "display_name": "Python 3",
   "language": "python",
   "name": "python3"
  },
  "language_info": {
   "codemirror_mode": {
    "name": "ipython",
    "version": 3
   },
   "file_extension": ".py",
   "mimetype": "text/x-python",
   "name": "python",
   "nbconvert_exporter": "python",
   "pygments_lexer": "ipython3",
   "version": "3.7.6"
  }
 },
 "nbformat": 4,
 "nbformat_minor": 4
}
