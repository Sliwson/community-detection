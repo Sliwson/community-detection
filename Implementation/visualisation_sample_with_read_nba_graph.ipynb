{
 "cells": [
  {
   "cell_type": "code",
   "execution_count": null,
   "metadata": {},
   "outputs": [],
   "source": [
    "%run visualisation.ipynb\n",
    "%run read_graph.ipynb"
   ]
  },
  {
   "cell_type": "code",
   "execution_count": null,
   "metadata": {},
   "outputs": [],
   "source": [
    "verticesNBA=readCSVToIterableCollection(\"Players.csv\")\n",
    "edgesNBA=readCSVToIterableCollection(\"Edges.csv\")"
   ]
  },
  {
   "cell_type": "code",
   "execution_count": null,
   "metadata": {},
   "outputs": [],
   "source": [
    "g = igraph.Graph()\n",
    "\n",
    "readVertices_NBA(verticesNBA,g,True)\n",
    "readEdges_NBA(edgesNBA,g,True)\n",
    "\n",
    "communitiesCount = 10\n",
    "\n",
    "for v in g.vs:\n",
    "    count = random.randint(1, 4)\n",
    "    v[\"communities\"] = []\n",
    "    for i in range(count):\n",
    "        v[\"communities\"].append(random.randint(0, communitiesCount))\n",
    "    \n",
    "plot_full(g, \"full.svg\")"
   ]
  },
  {
   "cell_type": "code",
   "execution_count": null,
   "metadata": {},
   "outputs": [],
   "source": [
    "g.vs[\"name\"]"
   ]
  },
  {
   "cell_type": "code",
   "execution_count": null,
   "metadata": {},
   "outputs": [],
   "source": []
  }
 ],
 "metadata": {
  "kernelspec": {
   "display_name": "Python 3",
   "language": "python",
   "name": "python3"
  },
  "language_info": {
   "codemirror_mode": {
    "name": "ipython",
    "version": 3
   },
   "file_extension": ".py",
   "mimetype": "text/x-python",
   "name": "python",
   "nbconvert_exporter": "python",
   "pygments_lexer": "ipython3",
   "version": "3.7.6"
  }
 },
 "nbformat": 4,
 "nbformat_minor": 2
}
