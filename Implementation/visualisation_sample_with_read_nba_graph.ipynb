{
 "cells": [
  {
   "cell_type": "code",
   "execution_count": 6,
   "metadata": {},
   "outputs": [],
   "source": [
    "%run visualisation.ipynb\n",
    "%run read_graph.ipynb"
   ]
  },
  {
   "cell_type": "code",
   "execution_count": 7,
   "metadata": {},
   "outputs": [
    {
     "name": "stdout",
     "output_type": "stream",
     "text": [
      "Reading file ../Scrapers/BasketballReferenceScraper/data/Players.csv, begin...\n",
      "Data lines read: 4800\n",
      "Reading file ../Scrapers/BasketballReferenceScraper/data/Edges.csv, begin...\n",
      "Data lines read: 186607\n"
     ]
    }
   ],
   "source": [
    "verticesNBA = readCSVToIterableCollection(\"../Scrapers/BasketballReferenceScraper/data/Players.csv\")\n",
    "edgesNBA = readCSVToIterableCollection(\"../Scrapers/BasketballReferenceScraper/data/Edges.csv\")"
   ]
  },
  {
   "cell_type": "code",
   "execution_count": 8,
   "metadata": {},
   "outputs": [
    {
     "name": "stdout",
     "output_type": "stream",
     "text": [
      "Reading NBA vertices, begin...\n",
      "Vertices read: 4800\n",
      "Reading NBA edges, begin...\n",
      "Edges read: 186607\n"
     ]
    }
   ],
   "source": [
    "g = igraph.Graph()\n",
    "\n",
    "readVertices_NBA(verticesNBA, g, True)\n",
    "readEdges_NBA(edgesNBA, g, True)\n",
    "\n",
    "communitiesCount = 10\n",
    "\n",
    "for v in g.vs:\n",
    "    count = random.randint(1, 4)\n",
    "    v[\"communities\"] = []\n",
    "    for i in range(count):\n",
    "        v[\"communities\"].append(random.randint(0, communitiesCount))\n",
    "    \n",
    "plot_bfs(g, 0, 3, \"nba3.svg\")"
   ]
  },
  {
   "cell_type": "code",
   "execution_count": null,
   "metadata": {},
   "outputs": [],
   "source": []
  }
 ],
 "metadata": {
  "kernelspec": {
   "display_name": "Python 3",
   "language": "python",
   "name": "python3"
  },
  "language_info": {
   "codemirror_mode": {
    "name": "ipython",
    "version": 3
   },
   "file_extension": ".py",
   "mimetype": "text/x-python",
   "name": "python",
   "nbconvert_exporter": "python",
   "pygments_lexer": "ipython3",
   "version": "3.7.6"
  }
 },
 "nbformat": 4,
 "nbformat_minor": 2
}
