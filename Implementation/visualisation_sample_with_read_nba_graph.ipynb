{
 "cells": [
  {
   "cell_type": "code",
   "execution_count": 20,
   "metadata": {},
   "outputs": [
    {
     "name": "stdout",
     "output_type": "stream",
     "text": [
      "Reading full NBA graph, begin...\n",
      "Reading file ../Scrapers/BasketballReferenceScraper/data/Players.csv, begin...\n",
      "Data lines read: 4800\n",
      "Reading file ../Scrapers/BasketballReferenceScraper/data/Edges.csv, begin...\n",
      "Data lines read: 186607\n",
      "Reading NBA vertices, begin...\n",
      "Vertices read: 4800\n",
      "Reading NBA edges, begin...\n",
      "Weights loaded correctly\n",
      "Edges read: 186607\n",
      "Loading succesfull\n",
      "Plotting graph with 1399 vertices and 57953 edges, begin..\n",
      "Plotting sucessful\n"
     ]
    }
   ],
   "source": [
    "%run visualisation.ipynb\n",
    "%run read_graph.ipynb\n",
    "\n",
    "g = read_nba_full(\"../Scrapers/BasketballReferenceScraper/data/Players.csv\",\n",
    "                  \"../Scrapers/BasketballReferenceScraper/data/Edges.csv\",\n",
    "                  True, True)\n",
    "\n",
    "communitiesCount = 10\n",
    "for v in g.vs:\n",
    "    count = random.randint(1, 4)\n",
    "    v[\"communities\"] = []\n",
    "    for i in range(count):\n",
    "        v[\"communities\"].append(random.randint(0, communitiesCount))\n",
    "    \n",
    "plot_bfs(g, 0, 3, \"nba3.svg\")"
   ]
  },
  {
   "cell_type": "code",
   "execution_count": null,
   "metadata": {},
   "outputs": [],
   "source": []
  }
 ],
 "metadata": {
  "kernelspec": {
   "display_name": "Python 3",
   "language": "python",
   "name": "python3"
  },
  "language_info": {
   "codemirror_mode": {
    "name": "ipython",
    "version": 3
   },
   "file_extension": ".py",
   "mimetype": "text/x-python",
   "name": "python",
   "nbconvert_exporter": "python",
   "pygments_lexer": "ipython3",
   "version": "3.7.6"
  }
 },
 "nbformat": 4,
 "nbformat_minor": 2
}
