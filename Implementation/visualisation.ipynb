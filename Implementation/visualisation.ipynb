{
 "cells": [
  {
   "cell_type": "code",
   "execution_count": null,
   "metadata": {},
   "outputs": [],
   "source": [
    "from igraph import *\n",
    "from collections import deque\n",
    "import random\n",
    "import math"
   ]
  },
  {
   "cell_type": "code",
   "execution_count": null,
   "metadata": {},
   "outputs": [],
   "source": [
    "#returns maximum community label\n",
    "def get_max_label(g):\n",
    "    maxVertex = max(g.vs, key = lambda v: max(v[\"communities\"]) if len(v[\"communities\"]) > 0 else 0)\n",
    "    maxLabel = max(maxVertex[\"communities\"])\n",
    "    return maxLabel"
   ]
  },
  {
   "cell_type": "code",
   "execution_count": null,
   "metadata": {},
   "outputs": [],
   "source": [
    "#removes unused spaces between community labels\n",
    "def normalize_labels(g):\n",
    "    maxLabel = get_max_label(g)\n",
    "    currentLabel = 0\n",
    "    for i in range(maxLabel):\n",
    "        vertices = g.vs.select(lambda v: i in v[\"communities\"])\n",
    "        if len(vertices) > 0 and i != currentLabel:\n",
    "            #remap vertices\n",
    "            for v in g.vs:\n",
    "                for idx in v[\"communities\"]:\n",
    "                    if (idx == i):\n",
    "                        idx = currentLabel\n",
    "            \n",
    "            currentLabel += 1    "
   ]
  },
  {
   "cell_type": "code",
   "execution_count": null,
   "metadata": {},
   "outputs": [],
   "source": [
    "#plots full graph\n",
    "def plot_full(g, filename=\"output.svg\", spread = 1):\n",
    "    print(\"Plotting graph with \" + str(len(g.vs)) + \" vertices and \" + str(len(g.es)) + \" edges, begin...\")\n",
    "    normalize_labels(g)\n",
    "    \n",
    "    #get max community label\n",
    "    maxLabel = get_max_label(g)\n",
    "    \n",
    "    #define palette\n",
    "    palette = RainbowPalette(maxLabel + 1)\n",
    "                   \n",
    "    #map communities to colors\n",
    "    for v in g.vs:\n",
    "        if (len(v[\"communities\"]) == 0):\n",
    "            v[\"color\"] = (1.0, 1.0, 1.0, 1.0)\n",
    "        else:            \n",
    "            v[\"color\"] = palette.get(v[\"communities\"][0])\n",
    "        \n",
    "        label = \"\"\n",
    "        for i in v[\"communities\"]:\n",
    "            label += str(i) + \" \"\n",
    "            \n",
    "        if len(label) > 0:\n",
    "            label = label[:-1]\n",
    "            \n",
    "        if \"name\" in v.attributes():\n",
    "            v[\"label\"] = v[\"name\"]\n",
    "            if len(label) > 0:\n",
    "                v[\"label\"] +=  \"\\n(\" + label + \")\"\n",
    "                \n",
    "            v[\"size\"] = len(v[\"name\"]) * 8\n",
    "        else:\n",
    "            v[\"label\"] = label\n",
    "            v[\"size\"] = (len(v[\"communities\"]) + 1) * 12 + 5\n",
    "                   \n",
    "    #plot\n",
    "    visual_style = {}\n",
    "    verticesCount = len(g.vs)\n",
    "    if (verticesCount > 100):\n",
    "        layout = g.layout(\"lgl\")\n",
    "        visual_style[\"layout\"] = layout\n",
    "        \n",
    "    if (any(\"name\" in v.attributes() for v in g.vs)):\n",
    "        spread *= 2.7\n",
    "        \n",
    "    scaleMultiplier = math.sqrt(verticesCount) * spread * 6\n",
    "    visual_style[\"bbox\"] = (16 * (scaleMultiplier + 20), 9 * (scaleMultiplier + 20))\n",
    "    visual_style[\"margin\"] = 20\n",
    "    plot(g, filename, **visual_style)\n",
    "    print(\"Plotting sucessful\")"
   ]
  },
  {
   "cell_type": "code",
   "execution_count": null,
   "metadata": {},
   "outputs": [],
   "source": [
    "#plots all vertices with distance from start_idx lower than depth\n",
    "def plot_bfs(g, start_idx = 0, depth = 10, filename=\"output.svg\", spread = 1):\n",
    "    print(\"Running bfs with \" + str(depth) + \" depth, \" + str(len(g.vs)) + \" vertices and \" + str(len(g.es)) + \" edges, begin...\")\n",
    "    all_vertices = []\n",
    "    vertices = deque()\n",
    "    vertices.append(g.vs[start_idx])\n",
    "    \n",
    "    for v in g.vs:\n",
    "        v[\"processed\"] = False\n",
    "        v[\"distance\"] = len(g.vs)\n",
    "        \n",
    "    g.vs[start_idx][\"distance\"] = 0\n",
    "    \n",
    "    while (len(vertices) > 0):\n",
    "        current = vertices.popleft()\n",
    "        current[\"processed\"] = True\n",
    "        if current[\"distance\"] == depth:\n",
    "            break\n",
    "            \n",
    "        all_vertices.append(current)\n",
    "        edges = current.all_edges()\n",
    "        for e in edges:\n",
    "            if (e.target_vertex[\"processed\"] == False):\n",
    "                e.target_vertex[\"distance\"] = min(e.target_vertex[\"distance\"], current[\"distance\"] + 1)\n",
    "                vertices.append(e.target_vertex)\n",
    "            \n",
    "    subgraph = g.subgraph(all_vertices)\n",
    "    print(\"Bfs sucessful\")\n",
    "    plot_full(subgraph, filename, spread)"
   ]
  },
  {
   "cell_type": "code",
   "execution_count": null,
   "metadata": {},
   "outputs": [],
   "source": []
  }
 ],
 "metadata": {
  "kernelspec": {
   "display_name": "Python 3",
   "language": "python",
   "name": "python3"
  },
  "language_info": {
   "codemirror_mode": {
    "name": "ipython",
    "version": 3
   },
   "file_extension": ".py",
   "mimetype": "text/x-python",
   "name": "python",
   "nbconvert_exporter": "python",
   "pygments_lexer": "ipython3",
   "version": "3.7.6"
  }
 },
 "nbformat": 4,
 "nbformat_minor": 4
}
