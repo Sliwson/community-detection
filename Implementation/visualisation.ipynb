{
 "cells": [
  {
   "cell_type": "code",
   "execution_count": 9,
   "metadata": {},
   "outputs": [],
   "source": [
    "from igraph import *\n",
    "import random"
   ]
  },
  {
   "cell_type": "code",
   "execution_count": 63,
   "metadata": {},
   "outputs": [],
   "source": [
    "def plot_full(g, filename=\"output.svg\"):\n",
    "    #get max community label\n",
    "    maxVertex = max(g.vs, key = lambda v: max(v[\"communities\"]))\n",
    "    maxLabel = max(maxVertex[\"communities\"])\n",
    "    \n",
    "    #define palette\n",
    "    palette = RainbowPalette(maxLabel + 1)\n",
    "                   \n",
    "    #map communities to colors\n",
    "    for v in g.vs:\n",
    "        v[\"color\"] = palette.get(v[\"communities\"][0])\n",
    "        label = \"\"\n",
    "        for i in v[\"communities\"]:\n",
    "            label += str(i) + \" \"\n",
    "\n",
    "        v[\"label\"] = label\n",
    "        v[\"size\"] = len(v[\"communities\"]) * 12 + 5\n",
    "                   \n",
    "    #plot\n",
    "    layout = g.layout(\"lgl\")\n",
    "    visual_style = {}\n",
    "    visual_style[\"layout\"] = layout\n",
    "    verticesCount = len(g.vs)\n",
    "    visual_style[\"bbox\"] = (16 * verticesCount , 9 * verticesCount)\n",
    "    visual_style[\"margin\"] = 20\n",
    "    plot(g, filename, **visual_style)"
   ]
  },
  {
   "cell_type": "code",
   "execution_count": 66,
   "metadata": {},
   "outputs": [],
   "source": [
    "g = Graph.GRG(100, 0.2)\n",
    "\n",
    "communitiesCount = 10\n",
    "\n",
    "for v in g.vs:\n",
    "    count = random.randint(1, 4)\n",
    "    v[\"communities\"] = []\n",
    "    for i in range(count):\n",
    "        v[\"communities\"].append(random.randint(0, communitiesCount))\n",
    "    \n",
    "plot_full(g)"
   ]
  },
  {
   "cell_type": "code",
   "execution_count": null,
   "metadata": {},
   "outputs": [],
   "source": []
  }
 ],
 "metadata": {
  "kernelspec": {
   "display_name": "Python 3",
   "language": "python",
   "name": "python3"
  },
  "language_info": {
   "codemirror_mode": {
    "name": "ipython",
    "version": 3
   },
   "file_extension": ".py",
   "mimetype": "text/x-python",
   "name": "python",
   "nbconvert_exporter": "python",
   "pygments_lexer": "ipython3",
   "version": "3.7.6"
  }
 },
 "nbformat": 4,
 "nbformat_minor": 4
}
